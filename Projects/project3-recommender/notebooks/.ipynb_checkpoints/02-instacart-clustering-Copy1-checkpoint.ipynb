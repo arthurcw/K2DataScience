{
 "cells": [
  {
   "cell_type": "markdown",
   "metadata": {},
   "source": [
    "## Instacart - Clustering\n",
    "In this notebook I will try creating customer segmentation for Instacart customers according to the purchases made.  Instacart has access to thousands of products, categorized into aisles and departments.  With the large number of features, we will look at using Principal Component Analysis to find new dimensions to make clustering easier.  "
   ]
  },
  {
   "cell_type": "code",
   "execution_count": 1,
   "metadata": {},
   "outputs": [
    {
     "name": "stdout",
     "output_type": "stream",
     "text": [
      "The nltk version is 3.2.5.\n",
      "The scikit-learn version is 0.19.1.\n"
     ]
    }
   ],
   "source": [
    "import nltk\n",
    "import sklearn\n",
    "\n",
    "print('The nltk version is {}.'.format(nltk.__version__))\n",
    "print('The scikit-learn version is {}.'.format(sklearn.__version__))"
   ]
  },
  {
   "cell_type": "code",
   "execution_count": 2,
   "metadata": {},
   "outputs": [],
   "source": [
    "import pandas as pd\n",
    "import numpy as np\n",
    "\n",
    "import matplotlib.pyplot as plt\n",
    "import matplotlib.ticker as ticker\n",
    "\n",
    "import seaborn as sns\n",
    "sns.set(style='whitegrid')\n",
    "\n",
    "from sklearn.decomposition import PCA\n",
    "from sklearn.decomposition import IncrementalPCA\n",
    "from sklearn.preprocessing import StandardScaler\n",
    "\n",
    "import random"
   ]
  },
  {
   "cell_type": "code",
   "execution_count": 3,
   "metadata": {},
   "outputs": [],
   "source": [
    "orders = pd.read_csv('../data/raw/orders.csv')\n",
    "products = pd.read_csv('../data/raw/products.csv')\n",
    "order_details_prior = pd.read_csv('../data/raw/order_products__prior.csv')\n",
    "#order_details_train = pd.read_csv('../data/raw/order_products__train.csv')\n"
   ]
  },
  {
   "cell_type": "markdown",
   "metadata": {},
   "source": [
    "The amount of data required for processing is too large for my laptop to crunch.  We will need to reduce the number of users in our analysis.  How many users do we have?"
   ]
  },
  {
   "cell_type": "code",
   "execution_count": 4,
   "metadata": {},
   "outputs": [
    {
     "data": {
      "text/plain": [
       "206209"
      ]
     },
     "execution_count": 4,
     "metadata": {},
     "output_type": "execute_result"
    }
   ],
   "source": [
    "len(orders.user_id.unique())"
   ]
  },
  {
   "cell_type": "markdown",
   "metadata": {},
   "source": [
    "There are over 200,000 unique users.  I will reduce this number to 20,000. "
   ]
  },
  {
   "cell_type": "code",
   "execution_count": 5,
   "metadata": {},
   "outputs": [],
   "source": [
    "# create a set of users\n",
    "unique_users = set(orders.user_id.unique())\n",
    "\n",
    "# randomly sample 20,000 users\n",
    "selected_users = random.sample(unique_users, 20000)"
   ]
  },
  {
   "cell_type": "code",
   "execution_count": 6,
   "metadata": {},
   "outputs": [],
   "source": [
    "# select orders related to our selected users\n",
    "orders_subset = orders[orders.user_id.isin(selected_users)]"
   ]
  },
  {
   "cell_type": "markdown",
   "metadata": {},
   "source": [
    "Next, we find the purchase history for each user - simply put, an entry for each time a user has purchased a product throughout the order history.  It is possible to for a user to purchase a product more than once. "
   ]
  },
  {
   "cell_type": "code",
   "execution_count": 7,
   "metadata": {},
   "outputs": [],
   "source": [
    "# we simplify the purchase history to only include user_id & product_id\n",
    "purchase_history = pd.merge(orders_subset, \n",
    "                            order_details_prior, \n",
    "                            on=['order_id'])[['user_id', 'product_id']]"
   ]
  },
  {
   "cell_type": "code",
   "execution_count": 8,
   "metadata": {},
   "outputs": [
    {
     "data": {
      "text/plain": [
       "40937"
      ]
     },
     "execution_count": 8,
     "metadata": {},
     "output_type": "execute_result"
    }
   ],
   "source": [
    "# how many unique products do we have listed in this purchase history? \n",
    "len(purchase_history.product_id.unique())"
   ]
  },
  {
   "cell_type": "code",
   "execution_count": 9,
   "metadata": {
    "scrolled": true
   },
   "outputs": [
    {
     "data": {
      "text/plain": [
       "49688"
      ]
     },
     "execution_count": 9,
     "metadata": {},
     "output_type": "execute_result"
    }
   ],
   "source": [
    "# how many unique products are available for purchase?\n",
    "len(products)"
   ]
  },
  {
   "cell_type": "markdown",
   "metadata": {},
   "source": [
    "There are about 50,000 unique products in the Instacart dataset.  For our reduced user dataset, the number of unique products has been brought down to ~41,200.  \n",
    "\n",
    "I want to create a purchase history matrix that contains user_ids on the left, and each product as a column.  The center cells will display how many times a user has purchased a product.  We will accomplish creating this matrix using the pandas crosstab feature. "
   ]
  },
  {
   "cell_type": "code",
   "execution_count": 10,
   "metadata": {},
   "outputs": [],
   "source": [
    "crosstab = pd.crosstab(index=purchase_history.user_id, columns=purchase_history.product_id)"
   ]
  },
  {
   "cell_type": "code",
   "execution_count": 11,
   "metadata": {},
   "outputs": [
    {
     "data": {
      "text/plain": [
       "(20000, 40937)"
      ]
     },
     "execution_count": 11,
     "metadata": {},
     "output_type": "execute_result"
    }
   ],
   "source": [
    "crosstab.shape"
   ]
  },
  {
   "cell_type": "markdown",
   "metadata": {},
   "source": [
    "The crosstab now contains a summarized purchase history for our selected users.  At the moment, this data represents a 20000 X 41256 matrix. \n",
    "\n",
    "We do not want to perform a cluster analysis on this data as is - what would be helpful is a dimensionality reduction prior to processing.  Prior to moving onto dimensionality reduction, I am going to scale our dataset. "
   ]
  },
  {
   "cell_type": "code",
   "execution_count": 12,
   "metadata": {},
   "outputs": [],
   "source": [
    "# create scaler\n",
    "#sc = StandardScaler()\n",
    "\n",
    "# scale crosstab data\n",
    "#crosstab_scaled = sc.fit_transform(crosstab)"
   ]
  },
  {
   "cell_type": "code",
   "execution_count": 13,
   "metadata": {},
   "outputs": [],
   "source": [
    "#crosstab_scaled.shape"
   ]
  },
  {
   "cell_type": "markdown",
   "metadata": {},
   "source": [
    "# Dimensionality Reduction\n",
    "Dimensionality reduction will be completed using Principal Component Analysis (PCA).  The aim here is to reduce the number of features while retaining the greatest explained varaince as possible. "
   ]
  },
  {
   "cell_type": "code",
   "execution_count": 12,
   "metadata": {},
   "outputs": [
    {
     "data": {
      "text/plain": [
       "PCA(copy=True, iterated_power='auto', n_components=None, random_state=None,\n",
       "  svd_solver='auto', tol=0.0, whiten=False)"
      ]
     },
     "execution_count": 12,
     "metadata": {},
     "output_type": "execute_result"
    }
   ],
   "source": [
    "# create PCA\n",
    "pca_full = PCA()\n",
    "\n",
    "# fit oru data\n",
    "pca_full.fit(crosstab) ## note: This takes 1:20 minutes to complete 20,000 records"
   ]
  },
  {
   "cell_type": "markdown",
   "metadata": {},
   "source": [
    "With the PCA fitted, we can now look to see the amount of variance that is explained with respect to the number of components used."
   ]
  },
  {
   "cell_type": "code",
   "execution_count": 13,
   "metadata": {},
   "outputs": [
    {
     "name": "stdout",
     "output_type": "stream",
     "text": [
      "0.50: 206\n",
      "0.55: 274\n",
      "0.60: 359\n",
      "0.65: 468\n",
      "0.70: 609\n",
      "0.75: 796\n",
      "0.80: 1052\n",
      "0.85: 1426\n",
      "0.90: 2034\n",
      "0.91: 2208\n",
      "0.92: 2409\n",
      "0.93: 2645\n",
      "0.94: 2928\n",
      "0.95: 3278\n",
      "0.96: 3725\n",
      "0.97: 4330\n",
      "0.98: 5228\n",
      "0.99: 6858\n",
      "1.00: 20000\n"
     ]
    }
   ],
   "source": [
    "# find cumulative sum of explained variance\n",
    "ev_cumsum = pca_full.explained_variance_ratio_.cumsum()\n",
    "\n",
    "# find out how many components we need to expain different levels of variance\n",
    "for i in np.arange(0.5, 0.9, 0.05):\n",
    "    print('{0:.2f}: {1:}'.format(i, np.sum(ev_cumsum <= i)))\n",
    "    \n",
    "for i in np.arange(0.9, 1.01, 0.01):\n",
    "    print('{0:.2f}: {1:}'.format(i, np.sum(ev_cumsum <= i)))"
   ]
  },
  {
   "cell_type": "markdown",
   "metadata": {},
   "source": [
    "Let's graph these results to gain perspective on the results."
   ]
  },
  {
   "cell_type": "code",
   "execution_count": 15,
   "metadata": {},
   "outputs": [
    {
     "data": {
      "image/png": "[encoded data removed]",
      "text/plain": [
       "<matplotlib.figure.Figure at 0x111eb5898>"
      ]
     },
     "metadata": {},
     "output_type": "display_data"
    }
   ],
   "source": [
    "# Create a plot to find out how our components explain our data\n",
    "y = pca_full.explained_variance_ratio_.cumsum()\n",
    "x = np.arange(len(y))\n",
    "\n",
    "# create plot\n",
    "fig, ax = plt.subplots(figsize=(10, 6))\n",
    "\n",
    "# plot\n",
    "plt.bar(x, y)\n",
    "\n",
    "# set labels\n",
    "plt.xlabel('No of. Components')\n",
    "plt.ylabel('Cumulative Explained Variance')\n",
    "plt.title('PCA Explained Variance for Instacart Purchase History')\n",
    "plt.yticks(np.arange(0, 1, 0.1))\n",
    "\n",
    "#plt.savefig()\n",
    "plt.show()"
   ]
  },
  {
   "cell_type": "markdown",
   "metadata": {},
   "source": [
    "Reviewing the above data, I believe we recieve diminishing returns after the 98% threshold.  We can achieve 98% explained variance using 5228 componets.  Gaining an extra percentage of explained variance to achieve 98% requires an additional 1,630 components. \n",
    "\n",
    "To push forward, we create a new PCA using our desired componets of 5228."
   ]
  },
  {
   "cell_type": "code",
   "execution_count": 14,
   "metadata": {},
   "outputs": [
    {
     "data": {
      "text/plain": [
       "PCA(copy=True, iterated_power='auto', n_components=6858, random_state=None,\n",
       "  svd_solver='auto', tol=0.0, whiten=False)"
      ]
     },
     "execution_count": 14,
     "metadata": {},
     "output_type": "execute_result"
    }
   ],
   "source": [
    "# create pca to explain 99% of data\n",
    "pca = PCA(n_components=6858)\n",
    "\n",
    "# fit our scaled data\n",
    "pca.fit(crosstab)"
   ]
  },
  {
   "cell_type": "code",
   "execution_count": 15,
   "metadata": {},
   "outputs": [],
   "source": [
    "# transform the data\n",
    "crosstab_transformed = pca.transform(crosstab)"
   ]
  },
  {
   "cell_type": "code",
   "execution_count": 3,
   "metadata": {},
   "outputs": [],
   "source": [
    "#crosstab_transformed = np.loadtxt('../models/crosstab_transformed.txt')"
   ]
  },
  {
   "cell_type": "code",
   "execution_count": 16,
   "metadata": {},
   "outputs": [
    {
     "data": {
      "text/plain": [
       "['../models/pca_20kinput_6858comp.pkl']"
      ]
     },
     "execution_count": 16,
     "metadata": {},
     "output_type": "execute_result"
    }
   ],
   "source": [
    "from sklearn.externals import joblib\n",
    "\n",
    "# save our pca classifier\n",
    "joblib.dump(pca, '../models/pca_20kinput_6858comp.pkl')"
   ]
  },
  {
   "cell_type": "markdown",
   "metadata": {},
   "source": [
    "# Cluster Algoritms\n",
    "With our PCA components identified, we begin clustering algorithms.  We will look at:\n",
    "* KMeans\n",
    "* DBScan\n",
    "* Hierarchiacal Cluster"
   ]
  },
  {
   "cell_type": "markdown",
   "metadata": {},
   "source": [
    "## KMeans\n",
    "\n",
    "KMeans is fairly straight forward - however we need to determine the appropriate amount of clusters to be used for our algorithm.  \n",
    "\n",
    "We will determine 'k' using the output of 3 methods\n",
    "1. Elbow Method\n",
    "2. Silhouette Coefficient\n",
    "3. Calinski-Harabaz Index\n",
    "\n",
    "### Elbow Method\n",
    "For the Elbow Method, we compute K-Means partitions for many values of **k** and plot the inertia as it relates to the number of clusters.  The ideal value of **k** is one that corresponds to an elbow in the curve, after which adding more clusters is considered to offer diminishing returns.  \n",
    "\n",
    "Inertia will always decrease to zero for **k = n**, where n is the number of observations.  \n",
    "\n",
    "### Silhouette Coefficient\n",
    "The silhouette coefficient measures how close each point in one cluster is to points in the neighboring clusters.  This score varies from -1 to 1.   measure has a range of [-1, 1].  \n",
    "\n",
    "Scores near 1 show that the samples are far away from the neighboring clusters.  scores of 0 indicate that samples overlap or are very close to the decision boundary between enighbouring clusters.  Negative values indicate that samples might have been assigned to the wrong cluster. \n",
    "\n",
    "### Calinski-Harabaz Index\n",
    "Calinski-Harabaz compares between-cluster dispersion to the within-cluster dispersion.  The higher the score, the more dense and well separated our clusters appear to be. \n"
   ]
  },
  {
   "cell_type": "code",
   "execution_count": 18,
   "metadata": {},
   "outputs": [],
   "source": [
    "from sklearn.cluster import KMeans\n",
    "from sklearn.metrics import silhouette_score, calinski_harabaz_score"
   ]
  },
  {
   "cell_type": "markdown",
   "metadata": {},
   "source": [
    "In order to calculate each of the above metric for various values of K, I've created the below function: kmeans_performance_metrics.\n",
    "\n",
    "It simply takes a dataset and an upper limit of k to use for clustering.  We calculate kmeans at each value of k, along with each metric, returning the results. "
   ]
  },
  {
   "cell_type": "code",
   "execution_count": 21,
   "metadata": {},
   "outputs": [],
   "source": [
    "def kmeans_performance_metrics(data, nCluster):\n",
    "    '''\n",
    "        Compute K-Means partitions for values of K, ranging from \n",
    "        2 to nCluster+1.  The inertia for each partition is recorded\n",
    "        and returned as an array\n",
    "        \n",
    "        Params\n",
    "        ------\n",
    "        data: The dataset to perform KMeans clustering\n",
    "        \n",
    "        nCluster: The number of partitions to create\n",
    "    '''\n",
    "    \n",
    "    # create an array to hold our results\n",
    "    inertias = []\n",
    "    silhouette_scores = []\n",
    "    calinski_score = []\n",
    "    \n",
    "    # Process each range\n",
    "    for i in range(2, nCluster+1):\n",
    "        print('processing k={}'.format(i))\n",
    "        \n",
    "        # build model\n",
    "        model = KMeans(n_clusters=i, init='k-means++',random_state=42).fit(data)\n",
    "        \n",
    "        # determine scores\n",
    "        inertias.append(model.inertia_)\n",
    "        silhouette_scores.append(silhouette_score(data, model.labels_))\n",
    "        calinski_score.append(calinski_harabaz_score(data, model.labels_))\n",
    "    \n",
    "    return inertias, silhouette_scores, calinski_score"
   ]
  },
  {
   "cell_type": "markdown",
   "metadata": {},
   "source": [
    "We will loop through k=2 to 15"
   ]
  },
  {
   "cell_type": "code",
   "execution_count": 22,
   "metadata": {},
   "outputs": [
    {
     "name": "stdout",
     "output_type": "stream",
     "text": [
      "processing k=2\n",
      "processing k=3\n",
      "processing k=4\n",
      "processing k=5\n",
      "processing k=6\n",
      "processing k=7\n",
      "processing k=8\n",
      "processing k=9\n",
      "processing k=10\n",
      "processing k=11\n",
      "processing k=12\n",
      "processing k=13\n",
      "processing k=14\n",
      "processing k=15\n"
     ]
    }
   ],
   "source": [
    "# define how many clusters we want to test\n",
    "kRange=15\n",
    "\n",
    "# find the inertias related to each cluster size\n",
    "inertias, silhouette_scores, calinski_score = kmeans_performance_metrics(crosstab_transformed, kRange)"
   ]
  },
  {
   "cell_type": "markdown",
   "metadata": {},
   "source": [
    "### Inertia Results\n",
    "Plotting the results for intertia, we find that we do not have a smooth sloping graph that one would hope for.  Based on the results, we see a large dip at k=3 - This seems odd, but I'll remember this when evaluating other metrics.  If I were to look for the elbow in this graph, I'd most likely select k=14.  \n",
    "\n",
    "I'm not certain on what value of k to be selected at this point, so lets move onto the other metrics to verify. "
   ]
  },
  {
   "cell_type": "code",
   "execution_count": 23,
   "metadata": {},
   "outputs": [
    {
     "data": {
      "image/png": "[encoded data removed]",
      "text/plain": [
       "<matplotlib.figure.Figure at 0x10b09a7b8>"
      ]
     },
     "metadata": {},
     "output_type": "display_data"
    }
   ],
   "source": [
    "# Plot our results\n",
    "fig, ax = plt.subplots(figsize=(10,8))\n",
    "\n",
    "# plot results\n",
    "plt.plot(np.arange(2, kRange+1), inertias, 'o-', color='blue', linewidth=3)\n",
    "\n",
    "# set labels\n",
    "plt.xlabel('k [# of clusters]')\n",
    "plt.ylabel('Inertia')\n",
    "plt.title('Inertia vs KMean Parameter')\n",
    "\n",
    "plt.savefig('../reports/figures/kmeans_inertia.png')\n",
    "\n",
    "plt.show()"
   ]
  },
  {
   "cell_type": "markdown",
   "metadata": {},
   "source": [
    "### Silhouette Results\n",
    "We are looking for a k size that maximizes our silhouette coefficient.  When looking at the graph, it's apparent that k=3 is the leaders.  We have additional spikes at k=6, 8, 10. \n",
    "\n",
    "Comparing this to the inertia results, k=3 is starting to look like the leading choice.  Let's move on to the final metric."
   ]
  },
  {
   "cell_type": "code",
   "execution_count": 24,
   "metadata": {},
   "outputs": [
    {
     "data": {
      "image/png": "[encoded data removed]",
      "text/plain": [
       "<matplotlib.figure.Figure at 0x10b329eb8>"
      ]
     },
     "metadata": {},
     "output_type": "display_data"
    }
   ],
   "source": [
    "fig, ax = plt.subplots(figsize=(10,8))\n",
    "\n",
    "# plot silhouette_scores\n",
    "plt.plot(np.arange(2, kRange+1), silhouette_scores)\n",
    "\n",
    "# set label\n",
    "plt.ylabel('Silhouette Coefficient')\n",
    "plt.xlabel('k[# of clusters')\n",
    "plt.title('Silhouette Coefficient vs KMean Parameter')\n",
    "\n",
    "# save\n",
    "plt.savefig('../reports/figures/silhouette_coefficient.png')\n",
    "\n",
    "plt.show()"
   ]
  },
  {
   "cell_type": "markdown",
   "metadata": {},
   "source": [
    "### Calinski-Harabaz Score Results\n",
    "We are looking for cluster size that maximizes the Calinski-Harabaz score.  Looking at the graph, it is clear that k=3 is the winner.  This is aligned with our results from our prior metrics as well.  Let's proceed forward with k=3."
   ]
  },
  {
   "cell_type": "code",
   "execution_count": 25,
   "metadata": {},
   "outputs": [
    {
     "data": {
      "image/png": "[encoded data removed]",
      "text/plain": [
       "<matplotlib.figure.Figure at 0x10d49e588>"
      ]
     },
     "metadata": {},
     "output_type": "display_data"
    }
   ],
   "source": [
    "fig, ax = plt.subplots(figsize=(10,8))\n",
    "\n",
    "# plot calinski_score\n",
    "plt.plot(np.arange(2, kRange+1), calinski_score)\n",
    "\n",
    "# set label\n",
    "plt.ylabel('Calinski-Harabaz Score')\n",
    "plt.xlabel('k[# of clusters]')\n",
    "plt.title('Calinski-Harabaz Score vs KMean Parameter')\n",
    "\n",
    "# save\n",
    "plt.savefig('../reports/figures/calinski_harabaz_score.png')\n",
    "\n",
    "plt.show()"
   ]
  },
  {
   "cell_type": "markdown",
   "metadata": {},
   "source": [
    "## Exploring Customer Segments\n",
    "We found that the optimal cluster size is 3 for our data.  Based on these clusters, what can be said about the products purchased for each cluster?"
   ]
  },
  {
   "cell_type": "code",
   "execution_count": 26,
   "metadata": {},
   "outputs": [],
   "source": [
    "# create our kmeans model & predict clusters\n",
    "kmeans_model = KMeans(n_clusters=4, init='k-means++', random_state=42).fit(crosstab_transformed)\n",
    "c_pred = kmeans_model.predict(crosstab_transformed)"
   ]
  },
  {
   "cell_type": "code",
   "execution_count": 27,
   "metadata": {},
   "outputs": [
    {
     "name": "stdout",
     "output_type": "stream",
     "text": [
      "0: 2689\n",
      "1: 492\n",
      "2: 16270\n",
      "3: 549\n"
     ]
    }
   ],
   "source": [
    "for c in np.unique(c_pred):\n",
    "    print('{}: {}'.format(c, np.sum(c_pred==c)))"
   ]
  },
  {
   "cell_type": "code",
   "execution_count": 39,
   "metadata": {},
   "outputs": [],
   "source": [
    "# assign the cluster predictions to our customers\n",
    "cust_clust = crosstab.copy()\n",
    "cust_clust['cluster'] = c_pred\n",
    "\n",
    "#cust_clust.head()"
   ]
  },
  {
   "cell_type": "markdown",
   "metadata": {},
   "source": [
    "Something is wrong with our clusters - we shouldn't have such unevenly structured clusters"
   ]
  },
  {
   "cell_type": "markdown",
   "metadata": {},
   "source": [
    "## Hierarchical Clustering\n",
    "We will take a look at hierarchical clustering next.  We will again attempt to review silhouette and Calinski-Harabaz Score results to best find a clustering metric. \n"
   ]
  },
  {
   "cell_type": "code",
   "execution_count": 28,
   "metadata": {},
   "outputs": [],
   "source": [
    "from sklearn.cluster import AgglomerativeClustering"
   ]
  },
  {
   "cell_type": "code",
   "execution_count": 5,
   "metadata": {},
   "outputs": [],
   "source": [
    "def hierarchical_performance_metrics(data, nCluster):\n",
    "    '''\n",
    "        Compute Agglomerative Clustering for various cluster sizes, \n",
    "        ranging from 2 to nCluster+1.  The silhouette & calinski harabaz scores\n",
    "        are calculated for each and returned. \n",
    "        \n",
    "        Params\n",
    "        ------\n",
    "        data: The dataset to perform clustering\n",
    "        \n",
    "        nCluster: The number of partitions to create\n",
    "    '''\n",
    "    \n",
    "    # create an array to hold our results\n",
    "    silhouette_scores = []\n",
    "    calinski_score = []\n",
    "    \n",
    "    # Process each range\n",
    "    for i in range(2, nCluster+1):\n",
    "        print('processing clusters={}'.format(i))\n",
    "        \n",
    "        # build model\n",
    "        model = AgglomerativeClustering(linkage='ward', n_clusters=i).fit(data)\n",
    "        \n",
    "        # determine scores\n",
    "        silhouette_scores.append(silhouette_score(data, model.labels_))\n",
    "        calinski_score.append(calinski_harabaz_score(data, model.labels_))\n",
    "    \n",
    "    return silhouette_scores, calinski_score"
   ]
  },
  {
   "cell_type": "code",
   "execution_count": null,
   "metadata": {},
   "outputs": [
    {
     "name": "stdout",
     "output_type": "stream",
     "text": [
      "processing clusters=2\n"
     ]
    }
   ],
   "source": [
    "# define how many clusters we want to test\n",
    "nClusters=15\n",
    "\n",
    "# find the inertias related to each cluster size\n",
    "silhouette_scores, calinski_score = hierarchical_performance_metrics(crosstab_transformed, nClusters)"
   ]
  },
  {
   "cell_type": "code",
   "execution_count": null,
   "metadata": {},
   "outputs": [],
   "source": [
    "res=AgglomerativeClustering(linkage='ward', n_clusters=3).fit(crosstab_transformed)"
   ]
  },
  {
   "cell_type": "markdown",
   "metadata": {},
   "source": [
    "### Silhouette Results\n",
    "We are looking for a k size that maximizes our silhouette coefficient.  When looking at the graph, it's apparent that k=3 is the leaders.  We have additional spikes at k=6, 8, 10. \n",
    "\n",
    "Comparing this to the inertia results, k=3 is starting to look like the leading choice.  Let's move on to the final metric."
   ]
  },
  {
   "cell_type": "code",
   "execution_count": null,
   "metadata": {},
   "outputs": [],
   "source": [
    "fig, ax = plt.subplots(figsize=(10,8))\n",
    "\n",
    "# plot silhouette_scores\n",
    "plt.plot(np.arange(2, kRange+1), silhouette_scores)\n",
    "\n",
    "# set label\n",
    "plt.ylabel('Silhouette Coefficient')\n",
    "plt.xlabel('Cluster Size')\n",
    "plt.title('Silhouette Coefficient Using Agglomerative Clustering')\n",
    "\n",
    "# save\n",
    "plt.savefig('../reports/figures/hc_silhouette_coefficient.png')\n",
    "\n",
    "plt.show()"
   ]
  },
  {
   "cell_type": "markdown",
   "metadata": {},
   "source": [
    "### Calinski-Harabaz Score Results\n",
    "We are looking for cluster size that maximizes the Calinski-Harabaz score.  Looking at the graph, it is clear that k=3 is the winner.  This is aligned with our results from our prior metrics as well.  Let's proceed forward with k=3."
   ]
  },
  {
   "cell_type": "code",
   "execution_count": null,
   "metadata": {},
   "outputs": [],
   "source": [
    "fig, ax = plt.subplots(figsize=(10,8))\n",
    "\n",
    "# plot calinski_score\n",
    "plt.plot(np.arange(2, kRange+1), calinski_score)\n",
    "\n",
    "# set label\n",
    "plt.ylabel('Calinski-Harabaz Score')\n",
    "plt.xlabel('Cluster Size')\n",
    "plt.title('Calinski-Harabaz Score Using Agglomerative Clustering')\n",
    "\n",
    "# save\n",
    "plt.savefig('../reports/figures/hc_calinski_harabaz_score.png')\n",
    "\n",
    "plt.show()"
   ]
  },
  {
   "cell_type": "code",
   "execution_count": null,
   "metadata": {},
   "outputs": [],
   "source": []
  },
  {
   "cell_type": "markdown",
   "metadata": {},
   "source": [
    "## DBSCAN\n",
    "TBD"
   ]
  },
  {
   "cell_type": "code",
   "execution_count": null,
   "metadata": {},
   "outputs": [],
   "source": []
  },
  {
   "cell_type": "code",
   "execution_count": null,
   "metadata": {},
   "outputs": [],
   "source": []
  },
  {
   "cell_type": "code",
   "execution_count": null,
   "metadata": {},
   "outputs": [],
   "source": []
  }
 ],
 "metadata": {
  "kernelspec": {
   "display_name": "Python 3",
   "language": "python",
   "name": "python3"
  },
  "language_info": {
   "codemirror_mode": {
    "name": "ipython",
    "version": 3
   },
   "file_extension": ".py",
   "mimetype": "text/x-python",
   "name": "python",
   "nbconvert_exporter": "python",
   "pygments_lexer": "ipython3",
   "version": "3.6.4"
  }
 },
 "nbformat": 4,
 "nbformat_minor": 2
}
