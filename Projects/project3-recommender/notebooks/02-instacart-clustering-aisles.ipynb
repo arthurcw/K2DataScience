{
 "cells": [
  {
   "cell_type": "markdown",
   "metadata": {},
   "source": [
    "## Instacart - Clustering\n",
    "In this notebook I will try creating customer segmentation for Instacart customers according to the purchases made.  Instacart has access to thousands of products, categorized into aisles and departments.  With the large number of features, we will look at using Principal Component Analysis to find new dimensions to make clustering easier.  "
   ]
  },
  {
   "cell_type": "code",
   "execution_count": 462,
   "metadata": {},
   "outputs": [],
   "source": [
    "import pandas as pd\n",
    "import numpy as np\n",
    "\n",
    "import matplotlib.pyplot as plt\n",
    "import matplotlib.ticker as ticker\n",
    "\n",
    "import seaborn as sns\n",
    "sns.set(style='whitegrid')\n",
    "\n",
    "import random"
   ]
  },
  {
   "cell_type": "code",
   "execution_count": 463,
   "metadata": {},
   "outputs": [],
   "source": [
    "aisles = pd.read_csv('../data/raw/aisles.csv')\n",
    "orders = pd.read_csv('../data/raw/orders.csv')\n",
    "products = pd.read_csv('../data/raw/products.csv')\n",
    "order_details_prior = pd.read_csv('../data/raw/order_products__prior.csv')\n",
    "#order_details_train = pd.read_csv('../data/raw/order_products__train.csv')"
   ]
  },
  {
   "cell_type": "code",
   "execution_count": 464,
   "metadata": {},
   "outputs": [
    {
     "data": {
      "text/plain": [
       "206209"
      ]
     },
     "execution_count": 464,
     "metadata": {},
     "output_type": "execute_result"
    }
   ],
   "source": [
    "len(orders.user_id.unique())"
   ]
  },
  {
   "cell_type": "markdown",
   "metadata": {},
   "source": [
    "We have over 200,000 users in our order history.  This is just too much data for my laptop to crunch.  We will subset this to 15,005 users - 15,000 users will be used to train our model, with 5 users withheld to used for testing purposes.  The decrease in data will allow us to efficiently process data in a timely fashion. "
   ]
  },
  {
   "cell_type": "code",
   "execution_count": 465,
   "metadata": {},
   "outputs": [],
   "source": [
    "# create a set of users\n",
    "unique_users = set(orders.user_id.unique())\n",
    "\n",
    "# randomly sample 15,005 users\n",
    "selected_users = random.sample(unique_users, 15005)\n",
    "\n",
    "# reduce the orders dataset to only include data from our selected users\n",
    "orders_sub = orders[orders.user_id.isin(selected_users)]"
   ]
  },
  {
   "cell_type": "markdown",
   "metadata": {},
   "source": [
    "We want to join several datasets in order to achieve an overall picture of products purchased.  \n",
    "\n",
    "We will join orders, order_details_prior, products and aisles to create our master dataset."
   ]
  },
  {
   "cell_type": "code",
   "execution_count": 555,
   "metadata": {},
   "outputs": [],
   "source": [
    "# expand products table\n",
    "products_temp = pd.merge(products, aisles, on=['aisle_id'])\n",
    "\n",
    "# expand order details table\n",
    "order_details_temp = pd.merge(order_details_prior, products_temp, on=['product_id'])"
   ]
  },
  {
   "cell_type": "code",
   "execution_count": 556,
   "metadata": {},
   "outputs": [],
   "source": [
    "# create full purchase history\n",
    "purchase_history = pd.merge(orders_sub, order_details_temp, on=['order_id'])[['user_id', 'product_id', 'product_name', 'aisle_id', 'aisle']]"
   ]
  },
  {
   "cell_type": "code",
   "execution_count": 557,
   "metadata": {},
   "outputs": [
    {
     "data": {
      "text/plain": [
       "134"
      ]
     },
     "execution_count": 557,
     "metadata": {},
     "output_type": "execute_result"
    }
   ],
   "source": [
    "# how many unique aisles do we have? \n",
    "len(purchase_history.aisle.unique())"
   ]
  },
  {
   "cell_type": "code",
   "execution_count": 558,
   "metadata": {},
   "outputs": [
    {
     "data": {
      "text/plain": [
       "38751"
      ]
     },
     "execution_count": 558,
     "metadata": {},
     "output_type": "execute_result"
    }
   ],
   "source": [
    "# how many unique products do we have?\n",
    "len(purchase_history.product_id.unique())"
   ]
  },
  {
   "cell_type": "markdown",
   "metadata": {},
   "source": [
    "We want to create a frequency table to identify how many products each customer has purchased.  If we to break this table down by product, we would create a 15,000 x 38,751.  The dimensions of this matrix are just too massive to be able to crunch on my laptop.  \n",
    "\n",
    "Another way we can analyze this data is by aggregating it by aisle.  Doing so will us a 15,000 x 134 matrix - a much more managable dataset.  In order to create this frequency table we will used the pandas crosstab function. "
   ]
  },
  {
   "cell_type": "code",
   "execution_count": 560,
   "metadata": {},
   "outputs": [],
   "source": [
    "ph_crosstab_full = pd.crosstab(index=purchase_history.user_id, columns=purchase_history.aisle)"
   ]
  },
  {
   "cell_type": "code",
   "execution_count": 561,
   "metadata": {},
   "outputs": [],
   "source": [
    "# split our dataset\n",
    "ph_crosstab_test = ph_crosstab_full[-5:]\n",
    "ph_crosstab = ph_crosstab_full[:-5]"
   ]
  },
  {
   "cell_type": "code",
   "execution_count": 562,
   "metadata": {},
   "outputs": [
    {
     "data": {
      "text/plain": [
       "(15000, 134)"
      ]
     },
     "execution_count": 562,
     "metadata": {},
     "output_type": "execute_result"
    }
   ],
   "source": [
    "ph_crosstab.shape"
   ]
  },
  {
   "cell_type": "code",
   "execution_count": 563,
   "metadata": {},
   "outputs": [
    {
     "data": {
      "text/plain": [
       "(5, 134)"
      ]
     },
     "execution_count": 563,
     "metadata": {},
     "output_type": "execute_result"
    }
   ],
   "source": [
    "ph_crosstab_test.shape"
   ]
  },
  {
   "cell_type": "markdown",
   "metadata": {},
   "source": [
    "We now have a summarized purchase history crosstab for our selected users.  Prior to performing a cluster analysis, we want to run a dimensionality reduction on the data to reduce our features from 134."
   ]
  },
  {
   "cell_type": "markdown",
   "metadata": {},
   "source": [
    "# Dimensionality Reduction\n",
    "Dimensionality reduction will be completed using Principal Component Analysis (PCA).  The aim here is to reduce the number of features while retaining the greatest explained varaince as possible. "
   ]
  },
  {
   "cell_type": "code",
   "execution_count": 103,
   "metadata": {},
   "outputs": [],
   "source": [
    "from sklearn.decomposition import PCA\n",
    "from sklearn.preprocessing import RobustScaler"
   ]
  },
  {
   "cell_type": "markdown",
   "metadata": {},
   "source": [
    "We first create a PCA against all components.  This will allow us to review the explained variance and select an appropriate number of components to reduce overall dimensions.  We will also scale the data using RobustScaler.  The reason we selected RobustScaler is because our features are not normally distributed and contain many outliers.  StandardScaler is optimal for when features are normally distributed, and MinMaxScaler perfrom best without outliers.  Thus - RobustScaler. "
   ]
  },
  {
   "cell_type": "code",
   "execution_count": 474,
   "metadata": {},
   "outputs": [],
   "source": [
    "rs = RobustScaler()\n",
    "\n",
    "ph_crosstab_scaled = rs.fit_transform(ph_crosstab)"
   ]
  },
  {
   "cell_type": "code",
   "execution_count": 475,
   "metadata": {},
   "outputs": [
    {
     "data": {
      "text/plain": [
       "PCA(copy=True, iterated_power='auto', n_components=None, random_state=None,\n",
       "  svd_solver='auto', tol=0.0, whiten=False)"
      ]
     },
     "execution_count": 475,
     "metadata": {},
     "output_type": "execute_result"
    }
   ],
   "source": [
    "# create a pca\n",
    "pca_full = PCA()\n",
    "\n",
    "# fit the data\n",
    "pca_full.fit(ph_crosstab_scaled)"
   ]
  },
  {
   "cell_type": "markdown",
   "metadata": {},
   "source": [
    "With the PCA fit complete, we can investigate the results"
   ]
  },
  {
   "cell_type": "code",
   "execution_count": 511,
   "metadata": {},
   "outputs": [
    {
     "data": {
      "image/png": "[encoded data removed]",
      "text/plain": [
       "<matplotlib.figure.Figure at 0x1a0ca12400>"
      ]
     },
     "metadata": {},
     "output_type": "display_data"
    }
   ],
   "source": [
    "# Create a plot to display explained variance\n",
    "y = pca_full.explained_variance_ratio_.cumsum()\n",
    "x = np.arange(len(y))\n",
    "\n",
    "# create plot\n",
    "fig, ax = plt.subplots(figsize=(10, 6))\n",
    "\n",
    "# plot\n",
    "plt.bar(x, y)\n",
    "\n",
    "# set labels\n",
    "plt.xlabel('No of. Components')\n",
    "plt.ylabel('Cumulative Explained Variance')\n",
    "plt.title('PCA Explained Variance for Instacart Purchase History')\n",
    "plt.yticks(np.arange(0, 1, 0.1))\n",
    "\n",
    "fig.savefig('../reports/figures/pca_explained_variance.png')\n",
    "\n",
    "plt.show()"
   ]
  },
  {
   "cell_type": "code",
   "execution_count": 477,
   "metadata": {},
   "outputs": [
    {
     "name": "stdout",
     "output_type": "stream",
     "text": [
      "0.50: 6\n",
      "0.55: 9\n",
      "0.60: 11\n",
      "0.65: 15\n",
      "0.70: 19\n",
      "0.75: 25\n",
      "0.80: 32\n",
      "0.85: 41\n",
      "0.90: 54\n",
      "0.91: 57\n",
      "0.92: 60\n",
      "0.93: 64\n",
      "0.94: 68\n",
      "0.95: 72\n",
      "0.96: 77\n",
      "0.97: 84\n",
      "0.98: 92\n",
      "0.99: 102\n",
      "1.00: 134\n"
     ]
    }
   ],
   "source": [
    "# find cumulative sum of explained variance\n",
    "ev_cumsum = pca_full.explained_variance_ratio_.cumsum()\n",
    "\n",
    "# find out how many components we need to expain different levels of variance\n",
    "for i in np.arange(0.5, 0.9, 0.05):\n",
    "    print('{0:.2f}: {1:}'.format(i, np.sum(ev_cumsum <= i)))\n",
    "    \n",
    "for i in np.arange(0.9, 1.01, 0.01):\n",
    "    print('{0:.2f}: {1:}'.format(i, np.sum(ev_cumsum <= i)))"
   ]
  },
  {
   "cell_type": "markdown",
   "metadata": {},
   "source": [
    "Examining the components, we find that we can explain 99% of the data using 102 components.  We will recreate our PCA specifying 102 components before transforming our original dataset."
   ]
  },
  {
   "cell_type": "code",
   "execution_count": 478,
   "metadata": {},
   "outputs": [],
   "source": [
    "# create a pca\n",
    "pca = PCA(n_components = 102)\n",
    "\n",
    "# fit & transform the data\n",
    "ph_crosstab_t = pca.fit_transform(ph_crosstab_scaled)"
   ]
  },
  {
   "cell_type": "code",
   "execution_count": 479,
   "metadata": {},
   "outputs": [],
   "source": [
    "## Saving our data\n",
    "from sklearn.externals import joblib\n",
    "\n",
    "# save our pca classifier\n",
    "joblib.dump(pca, '../models/pca_aisles.pkl')\n",
    "\n",
    "# save our crosstab_transformed\n",
    "np.save('../models/ph_crosstab_t.pkl', ph_crosstab_t)"
   ]
  },
  {
   "cell_type": "code",
   "execution_count": 4,
   "metadata": {},
   "outputs": [],
   "source": [
    "## Loading our Data\n",
    "#from sklearn.externals import joblib\n",
    "\n",
    "# load our pca classifier\n",
    "#pca = joblib.load('../models/pca_aisles.pkl')\n",
    "\n",
    "# load our crosstab_transformed\n",
    "#ph_crosstab_t = np.load('../models/ph_crosstab_t.pkl.npy')"
   ]
  },
  {
   "cell_type": "markdown",
   "metadata": {},
   "source": [
    "# Cluster Algoritms\n",
    "With our PCA components identified, we begin clustering algorithms.  We will look at:\n",
    "1. KMeans\n",
    "2. DBScan\n",
    "3. Hierarchiacal Cluster\n",
    "\n",
    "Performance metrics for clustering algorithm will be analyzed in order to decide the appropriate number of clusters.  In particular, we will look at:\n",
    "\n",
    "### Silhouette Coefficient\n",
    "The silhouette coefficient measures how close each point in one cluster is to points in the neighboring clusters.  This score varies from -1 to 1.   measure has a range of [-1, 1].  \n",
    "\n",
    "Scores near 1 show that the samples are far away from the neighboring clusters.  scores of 0 indicate that samples overlap or are very close to the decision boundary between enighbouring clusters.  Negative values indicate that samples might have been assigned to the wrong cluster. \n",
    "\n",
    "### Calinski-Harabaz Index\n",
    "Calinski-Harabaz compares between-cluster dispersion to the within-cluster dispersion.  The higher the score, the more dense and well separated our clusters appear to be. \n",
    "\n",
    "Once an appropriate number of clusters are identified, we then will examine the top products purchased by customers in each cluster. "
   ]
  },
  {
   "cell_type": "code",
   "execution_count": 480,
   "metadata": {},
   "outputs": [],
   "source": [
    "from sklearn.cluster import KMeans, DBSCAN, AgglomerativeClustering\n",
    "from sklearn.metrics import silhouette_score, calinski_harabaz_score"
   ]
  },
  {
   "cell_type": "markdown",
   "metadata": {},
   "source": [
    "## 1. KMeans Clustering\n",
    "\n",
    "KMeans is fairly straight forward - however we need to determine the appropriate amount of clusters to be used for our algorithm.  \n",
    "\n",
    "The below function (kmeans_performance_metrics) was created for measuring kmeans performance metrics such as inertia, silhouette score and calinski-harabaz score.  It simply takes a dataset and an upper limit of k to use for clustering.  The metrics are calculated and returned."
   ]
  },
  {
   "cell_type": "code",
   "execution_count": 481,
   "metadata": {},
   "outputs": [],
   "source": [
    "def kmeans_performance_metrics(data, k):\n",
    "    '''\n",
    "        Compute K-Means partitions for various values of K, ranging from \n",
    "        2 to k+1.  Caclucate the inertia, silhouette score, and calinkski-harabaz\n",
    "        score for each value of k, returning the results.\n",
    "        \n",
    "        Params\n",
    "        ------\n",
    "        data: The dataset to perform KMeans clustering\n",
    "        \n",
    "        k: The number of partitions to create\n",
    "    '''\n",
    "    \n",
    "    # create an array to hold our results\n",
    "    inertias = []\n",
    "    silhouette_scores = []\n",
    "    calinski_score = []\n",
    "    \n",
    "    # Process each range\n",
    "    for i in range(2, k+1):\n",
    "        print('processing k={}'.format(i))\n",
    "        \n",
    "        # build model\n",
    "        model = KMeans(n_clusters=i, init='k-means++',random_state=42).fit(data)\n",
    "        \n",
    "        # determine scores\n",
    "        inertias.append(model.inertia_)\n",
    "        silhouette_scores.append(silhouette_score(data, model.labels_))\n",
    "        calinski_score.append(calinski_harabaz_score(data, model.labels_))\n",
    "    \n",
    "    return inertias, silhouette_scores, calinski_score"
   ]
  },
  {
   "cell_type": "code",
   "execution_count": 482,
   "metadata": {},
   "outputs": [
    {
     "name": "stdout",
     "output_type": "stream",
     "text": [
      "processing k=2\n",
      "processing k=3\n",
      "processing k=4\n",
      "processing k=5\n",
      "processing k=6\n",
      "processing k=7\n",
      "processing k=8\n",
      "processing k=9\n",
      "processing k=10\n",
      "processing k=11\n",
      "processing k=12\n",
      "processing k=13\n",
      "processing k=14\n",
      "processing k=15\n"
     ]
    }
   ],
   "source": [
    "# define how many clusters we want to test\n",
    "clusters=15\n",
    "\n",
    "# find the inertias related to each cluster size\n",
    "inertias, silhouette_scores, calinski_score = kmeans_performance_metrics(ph_crosstab_t, clusters)"
   ]
  },
  {
   "cell_type": "markdown",
   "metadata": {},
   "source": [
    "### Inertia Results"
   ]
  },
  {
   "cell_type": "code",
   "execution_count": 483,
   "metadata": {},
   "outputs": [
    {
     "data": {
      "image/png": "[encoded data removed]",
      "text/plain": [
       "<matplotlib.figure.Figure at 0x1a0ca639e8>"
      ]
     },
     "metadata": {},
     "output_type": "display_data"
    }
   ],
   "source": [
    "# Plot our results for inertia vs cluster size\n",
    "fig, ax = plt.subplots(figsize=(10,6))\n",
    "\n",
    "# plot results\n",
    "plt.plot(np.arange(2, clusters+1), inertias, 'o-', color='blue', linewidth=3)\n",
    "\n",
    "# set labels\n",
    "plt.xlabel('k [# of clusters]')\n",
    "plt.ylabel('Inertia')\n",
    "plt.title('Inertia vs KMean Parameter')\n",
    "\n",
    "plt.savefig('../reports/figures/kmeans_inertia.png')\n",
    "\n",
    "plt.show()"
   ]
  },
  {
   "cell_type": "markdown",
   "metadata": {},
   "source": [
    "We are trying to find a balance between K and inertia - minimizing inertia within our clusters as much as possible.  \n",
    "\n",
    "We see a distinct elbow at k=3, however dimishing returns could be argued to occur after k=8 or k=9.  My initial thoughts are that 9 clusters seems very high for the data, though I have no prior experience with the dataset. \n",
    "\n",
    "If we were to simply select based on a value that minimizes k, I'd want to select k = 8.  Based on this graph alone, we cannot make a decision.  Let's move onto our other performance metrics for further analysis. "
   ]
  },
  {
   "cell_type": "markdown",
   "metadata": {},
   "source": [
    "### Silhouette Results"
   ]
  },
  {
   "cell_type": "code",
   "execution_count": 512,
   "metadata": {},
   "outputs": [
    {
     "data": {
      "image/png": "[encoded data removed]",
      "text/plain": [
       "<matplotlib.figure.Figure at 0x1a422bf710>"
      ]
     },
     "metadata": {},
     "output_type": "display_data"
    }
   ],
   "source": [
    "# plot silhouette vs cluster size \n",
    "fig, ax = plt.subplots(figsize=(10,6))\n",
    "\n",
    "# plot silhouette_scores\n",
    "plt.plot(np.arange(2, clusters+1), silhouette_scores)\n",
    "\n",
    "# set label\n",
    "plt.ylabel('Silhouette Coefficient')\n",
    "plt.xlabel('k[# of clusters]')\n",
    "plt.title('Silhouette Coefficient vs KMean Parameter')\n",
    "\n",
    "# save\n",
    "plt.savefig('../reports/figures/kmeans_silhouette_coefficient.png')\n",
    "\n",
    "plt.show()"
   ]
  },
  {
   "cell_type": "markdown",
   "metadata": {},
   "source": [
    "Silhouette scores near 1 show that smaples are far away from neighboring clusters.  Inspecting the plot above, we are looking for values of k that maximize the Silhouette Coefficient.  \n",
    "\n",
    "Silhouette scores appear to decrease signifcantly once k > 4.  It's clear that smaller values of k produce a higher silhouette coefficient. "
   ]
  },
  {
   "cell_type": "markdown",
   "metadata": {},
   "source": [
    "### Calinski-Harabaz Score Results"
   ]
  },
  {
   "cell_type": "code",
   "execution_count": 513,
   "metadata": {},
   "outputs": [
    {
     "data": {
      "image/png": "[encoded data removed]",
      "text/plain": [
       "<matplotlib.figure.Figure at 0x1a46435ba8>"
      ]
     },
     "metadata": {},
     "output_type": "display_data"
    }
   ],
   "source": [
    "# plot calinski score vs cluster size\n",
    "fig, ax = plt.subplots(figsize=(10,6))\n",
    "\n",
    "# plot calinski_score\n",
    "plt.plot(np.arange(2, clusters+1), calinski_score)\n",
    "\n",
    "# set label\n",
    "plt.ylabel('Calinski-Harabaz Score')\n",
    "plt.xlabel('k[# of clusters]')\n",
    "plt.title('Calinski-Harabaz Score vs KMean Parameter')\n",
    "\n",
    "# save\n",
    "plt.savefig('../reports/figures/kmeans_calinski_harabaz_score.png')\n",
    "\n",
    "plt.show()"
   ]
  },
  {
   "cell_type": "markdown",
   "metadata": {},
   "source": [
    "A high Calinski-Harabaz score represents dense, well separated clusters.  Based on the above graph, we are likely to select k = 2, 3, or even 4.  \n",
    "\n",
    "Combining all performance metrics together, we are likely to select a value of k = 2 or k = 3.  Our best fit appears to be k = 3 as our clusters have a lower inertia than k=2; meaning our clusters are more compact and exhibit less variability in k=3."
   ]
  },
  {
   "cell_type": "markdown",
   "metadata": {},
   "source": [
    "### KMeans Clustering Results\n",
    "We will build a final model where k=3 and see what our clusters can tell us about product data."
   ]
  },
  {
   "cell_type": "code",
   "execution_count": 486,
   "metadata": {},
   "outputs": [
    {
     "name": "stdout",
     "output_type": "stream",
     "text": [
      "cluster 0: 13430\n",
      "cluster 1: 134\n",
      "cluster 2: 1436\n"
     ]
    }
   ],
   "source": [
    "kmeans_model = KMeans(n_clusters=3, init='k-means++', random_state=42).fit(ph_crosstab_t)\n",
    "c_pred = kmeans_model.predict(ph_crosstab_t)\n",
    "\n",
    "# print our the number of observations per cluster\n",
    "for c in np.unique(c_pred):\n",
    "        print('cluster {}: {}'.format(c, np.sum(c_pred==c)))"
   ]
  },
  {
   "cell_type": "code",
   "execution_count": 536,
   "metadata": {},
   "outputs": [],
   "source": [
    "# add the predicticed cluster to our original dataframe\n",
    "kmeans_cust = ph_crosstab.copy()\n",
    "kmeans_cust['cluster'] = c_pred"
   ]
  },
  {
   "cell_type": "markdown",
   "metadata": {},
   "source": [
    "With the predictions attached to our original dataframe, gather the top 12 aisles for each cluster."
   ]
  },
  {
   "cell_type": "code",
   "execution_count": 537,
   "metadata": {},
   "outputs": [],
   "source": [
    "top_aisles = set()\n",
    "\n",
    "# get top 12 aisles for each cluster & add aisle name to top_aisles\n",
    "for c in np.unique(c_pred):\n",
    "    for a in kmeans_cust[kmeans_cust.cluster==c].mean().sort_values(ascending=False)[:12].index.values:\n",
    "        top_aisles.add(a)\n",
    "\n",
    "\n",
    "cols = list(top_aisles)\n",
    "aisle_summary = pd.DataFrame(columns=top_aisles)\n",
    "\n",
    "# create a new dataframe with the top aisles\n",
    "for c in np.unique(c_pred):\n",
    "    \n",
    "    # get the mean value for each aisle across all customers\n",
    "    cluster_values = dict(list(zip(cols, kmeans_cust[kmeans_cust.cluster==c][cols].mean().values)))\n",
    "\n",
    "    temp=pd.DataFrame(cluster_values, index=[c])\n",
    "\n",
    "    # add the cluster values to our dataframe\n",
    "    aisle_summary = pd.concat([aisle_summary, temp], axis=0)\n",
    "    "
   ]
  },
  {
   "cell_type": "code",
   "execution_count": 538,
   "metadata": {},
   "outputs": [
    {
     "data": {
      "text/html": [
       "<div>\n",
       "<style scoped>\n",
       "    .dataframe tbody tr th:only-of-type {\n",
       "        vertical-align: middle;\n",
       "    }\n",
       "\n",
       "    .dataframe tbody tr th {\n",
       "        vertical-align: top;\n",
       "    }\n",
       "\n",
       "    .dataframe thead th {\n",
       "        text-align: right;\n",
       "    }\n",
       "</style>\n",
       "<table border=\"1\" class=\"dataframe\">\n",
       "  <thead>\n",
       "    <tr style=\"text-align: right;\">\n",
       "      <th></th>\n",
       "      <th>baby food formula</th>\n",
       "      <th>bread</th>\n",
       "      <th>chips pretzels</th>\n",
       "      <th>energy granola bars</th>\n",
       "      <th>fresh fruits</th>\n",
       "      <th>fresh vegetables</th>\n",
       "      <th>frozen produce</th>\n",
       "      <th>milk</th>\n",
       "      <th>packaged cheese</th>\n",
       "      <th>packaged vegetables fruits</th>\n",
       "      <th>refrigerated</th>\n",
       "      <th>soy lactosefree</th>\n",
       "      <th>water seltzer sparkling water</th>\n",
       "      <th>yogurt</th>\n",
       "    </tr>\n",
       "  </thead>\n",
       "  <tbody>\n",
       "    <tr>\n",
       "      <th>0</th>\n",
       "      <td>0.742740</td>\n",
       "      <td>1.827774</td>\n",
       "      <td>2.177364</td>\n",
       "      <td>1.081832</td>\n",
       "      <td>11.839613</td>\n",
       "      <td>11.850410</td>\n",
       "      <td>1.753537</td>\n",
       "      <td>2.737156</td>\n",
       "      <td>3.090544</td>\n",
       "      <td>5.881534</td>\n",
       "      <td>1.795309</td>\n",
       "      <td>2.050856</td>\n",
       "      <td>2.84341</td>\n",
       "      <td>4.395309</td>\n",
       "    </tr>\n",
       "    <tr>\n",
       "      <th>1</th>\n",
       "      <td>99.052239</td>\n",
       "      <td>13.791045</td>\n",
       "      <td>12.992537</td>\n",
       "      <td>10.917910</td>\n",
       "      <td>83.843284</td>\n",
       "      <td>63.402985</td>\n",
       "      <td>11.492537</td>\n",
       "      <td>22.037313</td>\n",
       "      <td>24.111940</td>\n",
       "      <td>36.089552</td>\n",
       "      <td>9.544776</td>\n",
       "      <td>13.813433</td>\n",
       "      <td>13.41791</td>\n",
       "      <td>31.768657</td>\n",
       "    </tr>\n",
       "    <tr>\n",
       "      <th>2</th>\n",
       "      <td>3.831476</td>\n",
       "      <td>11.237465</td>\n",
       "      <td>15.514624</td>\n",
       "      <td>12.737465</td>\n",
       "      <td>67.603064</td>\n",
       "      <td>58.347493</td>\n",
       "      <td>8.787604</td>\n",
       "      <td>17.296657</td>\n",
       "      <td>18.999304</td>\n",
       "      <td>31.282033</td>\n",
       "      <td>11.258357</td>\n",
       "      <td>12.258357</td>\n",
       "      <td>14.94429</td>\n",
       "      <td>29.483287</td>\n",
       "    </tr>\n",
       "  </tbody>\n",
       "</table>\n",
       "</div>"
      ],
      "text/plain": [
       "   baby food formula      bread  chips pretzels  energy granola bars  \\\n",
       "0           0.742740   1.827774        2.177364             1.081832   \n",
       "1          99.052239  13.791045       12.992537            10.917910   \n",
       "2           3.831476  11.237465       15.514624            12.737465   \n",
       "\n",
       "   fresh fruits  fresh vegetables  frozen produce       milk  packaged cheese  \\\n",
       "0     11.839613         11.850410        1.753537   2.737156         3.090544   \n",
       "1     83.843284         63.402985       11.492537  22.037313        24.111940   \n",
       "2     67.603064         58.347493        8.787604  17.296657        18.999304   \n",
       "\n",
       "   packaged vegetables fruits  refrigerated  soy lactosefree  \\\n",
       "0                    5.881534      1.795309         2.050856   \n",
       "1                   36.089552      9.544776        13.813433   \n",
       "2                   31.282033     11.258357        12.258357   \n",
       "\n",
       "   water seltzer sparkling water     yogurt  \n",
       "0                        2.84341   4.395309  \n",
       "1                       13.41791  31.768657  \n",
       "2                       14.94429  29.483287  "
      ]
     },
     "execution_count": 538,
     "metadata": {},
     "output_type": "execute_result"
    }
   ],
   "source": [
    "aisle_summary"
   ]
  },
  {
   "cell_type": "markdown",
   "metadata": {},
   "source": [
    "#### Cluster 0"
   ]
  },
  {
   "cell_type": "code",
   "execution_count": 490,
   "metadata": {},
   "outputs": [
    {
     "data": {
      "text/plain": [
       "fresh vegetables                 11.850410\n",
       "fresh fruits                     11.839613\n",
       "packaged vegetables fruits        5.881534\n",
       "yogurt                            4.395309\n",
       "packaged cheese                   3.090544\n",
       "water seltzer sparkling water     2.843410\n",
       "milk                              2.737156\n",
       "chips pretzels                    2.177364\n",
       "soy lactosefree                   2.050856\n",
       "bread                             1.827774\n",
       "refrigerated                      1.795309\n",
       "frozen produce                    1.753537\n",
       "energy granola bars               1.081832\n",
       "baby food formula                 0.742740\n",
       "Name: 0, dtype: float64"
      ]
     },
     "execution_count": 490,
     "metadata": {},
     "output_type": "execute_result"
    }
   ],
   "source": [
    "aisle_summary.iloc[0].sort_values(ascending=False)"
   ]
  },
  {
   "cell_type": "markdown",
   "metadata": {},
   "source": [
    "Cluster 0 is characterized by customer who purchase less frequently than customers in cluster 1&2.  The entire cluster has a much lower purchase mean in each aisle, however still focus on fresh fruits & vegetables.  They are also more likely to purcahse prodcuts from the bread, frozen produce & refrigerated aisle than cluster 0. \n"
   ]
  },
  {
   "cell_type": "markdown",
   "metadata": {},
   "source": [
    "#### Cluster 1"
   ]
  },
  {
   "cell_type": "code",
   "execution_count": 493,
   "metadata": {},
   "outputs": [
    {
     "data": {
      "text/plain": [
       "baby food formula                99.052239\n",
       "fresh fruits                     83.843284\n",
       "fresh vegetables                 63.402985\n",
       "packaged vegetables fruits       36.089552\n",
       "yogurt                           31.768657\n",
       "packaged cheese                  24.111940\n",
       "milk                             22.037313\n",
       "soy lactosefree                  13.813433\n",
       "bread                            13.791045\n",
       "water seltzer sparkling water    13.417910\n",
       "chips pretzels                   12.992537\n",
       "frozen produce                   11.492537\n",
       "energy granola bars              10.917910\n",
       "refrigerated                      9.544776\n",
       "Name: 1, dtype: float64"
      ]
     },
     "execution_count": 493,
     "metadata": {},
     "output_type": "execute_result"
    }
   ],
   "source": [
    "aisle_summary.iloc[1].sort_values(ascending=False)"
   ]
  },
  {
   "cell_type": "markdown",
   "metadata": {},
   "source": [
    "Cluster 1 is characterized by customers purchasing baby food formula, fresh fruits, and fresh vegetables.  They are more frequent shoppers like those found in cluster 0. "
   ]
  },
  {
   "cell_type": "markdown",
   "metadata": {},
   "source": [
    "#### Cluster 2"
   ]
  },
  {
   "cell_type": "code",
   "execution_count": 494,
   "metadata": {},
   "outputs": [
    {
     "data": {
      "text/plain": [
       "fresh fruits                     67.603064\n",
       "fresh vegetables                 58.347493\n",
       "packaged vegetables fruits       31.282033\n",
       "yogurt                           29.483287\n",
       "packaged cheese                  18.999304\n",
       "milk                             17.296657\n",
       "chips pretzels                   15.514624\n",
       "water seltzer sparkling water    14.944290\n",
       "energy granola bars              12.737465\n",
       "soy lactosefree                  12.258357\n",
       "refrigerated                     11.258357\n",
       "bread                            11.237465\n",
       "frozen produce                    8.787604\n",
       "baby food formula                 3.831476\n",
       "Name: 2, dtype: float64"
      ]
     },
     "execution_count": 494,
     "metadata": {},
     "output_type": "execute_result"
    }
   ],
   "source": [
    "aisle_summary.iloc[2].sort_values(ascending=False)"
   ]
  },
  {
   "cell_type": "markdown",
   "metadata": {},
   "source": [
    "Cluster 2 is characterized by frequent customers that purchase from the fresh fruits and vegetables aisles, followed then by products from packaged vegetables/fruits and yogurt aisles. "
   ]
  },
  {
   "cell_type": "markdown",
   "metadata": {},
   "source": [
    "### KMeans Clustering Predictions\n",
    "Taking our holdout dataset, where do our new customers fall into the predicted clusters? "
   ]
  },
  {
   "cell_type": "code",
   "execution_count": 564,
   "metadata": {},
   "outputs": [],
   "source": [
    "# scale the dataset\n",
    "ph_crosstab_test_scaled = rs.transform(ph_crosstab_test)\n",
    "\n",
    "# transform our dataset into the PCA space\n",
    "ph_crosstab_test_t = pca.transform(ph_crosstab_test_scaled)"
   ]
  },
  {
   "cell_type": "code",
   "execution_count": 565,
   "metadata": {},
   "outputs": [],
   "source": [
    "# Predict the clusters\n",
    "kmeans_cust_test = ph_crosstab_test.copy()\n",
    "kmeans_cust_test['cluster'] = kmeans_model.predict(ph_crosstab_test_t)"
   ]
  },
  {
   "cell_type": "code",
   "execution_count": 566,
   "metadata": {
    "scrolled": true
   },
   "outputs": [
    {
     "data": {
      "text/html": [
       "<div>\n",
       "<style scoped>\n",
       "    .dataframe tbody tr th:only-of-type {\n",
       "        vertical-align: middle;\n",
       "    }\n",
       "\n",
       "    .dataframe tbody tr th {\n",
       "        vertical-align: top;\n",
       "    }\n",
       "\n",
       "    .dataframe thead th {\n",
       "        text-align: right;\n",
       "    }\n",
       "</style>\n",
       "<table border=\"1\" class=\"dataframe\">\n",
       "  <thead>\n",
       "    <tr style=\"text-align: right;\">\n",
       "      <th>aisle</th>\n",
       "      <th>fresh fruits</th>\n",
       "      <th>water seltzer sparkling water</th>\n",
       "      <th>fresh vegetables</th>\n",
       "      <th>soy lactosefree</th>\n",
       "      <th>refrigerated</th>\n",
       "      <th>packaged cheese</th>\n",
       "      <th>packaged vegetables fruits</th>\n",
       "      <th>yogurt</th>\n",
       "      <th>energy granola bars</th>\n",
       "      <th>chips pretzels</th>\n",
       "      <th>bread</th>\n",
       "      <th>baby food formula</th>\n",
       "      <th>frozen produce</th>\n",
       "      <th>milk</th>\n",
       "      <th>cluster</th>\n",
       "    </tr>\n",
       "    <tr>\n",
       "      <th>user_id</th>\n",
       "      <th></th>\n",
       "      <th></th>\n",
       "      <th></th>\n",
       "      <th></th>\n",
       "      <th></th>\n",
       "      <th></th>\n",
       "      <th></th>\n",
       "      <th></th>\n",
       "      <th></th>\n",
       "      <th></th>\n",
       "      <th></th>\n",
       "      <th></th>\n",
       "      <th></th>\n",
       "      <th></th>\n",
       "      <th></th>\n",
       "    </tr>\n",
       "  </thead>\n",
       "  <tbody>\n",
       "    <tr>\n",
       "      <th>206138</th>\n",
       "      <td>33</td>\n",
       "      <td>0</td>\n",
       "      <td>2</td>\n",
       "      <td>0</td>\n",
       "      <td>0</td>\n",
       "      <td>2</td>\n",
       "      <td>2</td>\n",
       "      <td>0</td>\n",
       "      <td>0</td>\n",
       "      <td>1</td>\n",
       "      <td>1</td>\n",
       "      <td>0</td>\n",
       "      <td>11</td>\n",
       "      <td>12</td>\n",
       "      <td>0</td>\n",
       "    </tr>\n",
       "    <tr>\n",
       "      <th>206171</th>\n",
       "      <td>0</td>\n",
       "      <td>6</td>\n",
       "      <td>0</td>\n",
       "      <td>1</td>\n",
       "      <td>0</td>\n",
       "      <td>4</td>\n",
       "      <td>0</td>\n",
       "      <td>0</td>\n",
       "      <td>0</td>\n",
       "      <td>0</td>\n",
       "      <td>0</td>\n",
       "      <td>0</td>\n",
       "      <td>0</td>\n",
       "      <td>0</td>\n",
       "      <td>0</td>\n",
       "    </tr>\n",
       "    <tr>\n",
       "      <th>206195</th>\n",
       "      <td>6</td>\n",
       "      <td>0</td>\n",
       "      <td>3</td>\n",
       "      <td>0</td>\n",
       "      <td>0</td>\n",
       "      <td>3</td>\n",
       "      <td>4</td>\n",
       "      <td>1</td>\n",
       "      <td>0</td>\n",
       "      <td>0</td>\n",
       "      <td>0</td>\n",
       "      <td>0</td>\n",
       "      <td>1</td>\n",
       "      <td>3</td>\n",
       "      <td>0</td>\n",
       "    </tr>\n",
       "    <tr>\n",
       "      <th>206199</th>\n",
       "      <td>10</td>\n",
       "      <td>5</td>\n",
       "      <td>14</td>\n",
       "      <td>0</td>\n",
       "      <td>6</td>\n",
       "      <td>13</td>\n",
       "      <td>3</td>\n",
       "      <td>48</td>\n",
       "      <td>4</td>\n",
       "      <td>18</td>\n",
       "      <td>6</td>\n",
       "      <td>3</td>\n",
       "      <td>0</td>\n",
       "      <td>5</td>\n",
       "      <td>2</td>\n",
       "    </tr>\n",
       "    <tr>\n",
       "      <th>206204</th>\n",
       "      <td>3</td>\n",
       "      <td>0</td>\n",
       "      <td>6</td>\n",
       "      <td>2</td>\n",
       "      <td>0</td>\n",
       "      <td>1</td>\n",
       "      <td>4</td>\n",
       "      <td>2</td>\n",
       "      <td>0</td>\n",
       "      <td>0</td>\n",
       "      <td>0</td>\n",
       "      <td>0</td>\n",
       "      <td>1</td>\n",
       "      <td>1</td>\n",
       "      <td>0</td>\n",
       "    </tr>\n",
       "  </tbody>\n",
       "</table>\n",
       "</div>"
      ],
      "text/plain": [
       "aisle    fresh fruits  water seltzer sparkling water  fresh vegetables  \\\n",
       "user_id                                                                  \n",
       "206138             33                              0                 2   \n",
       "206171              0                              6                 0   \n",
       "206195              6                              0                 3   \n",
       "206199             10                              5                14   \n",
       "206204              3                              0                 6   \n",
       "\n",
       "aisle    soy lactosefree  refrigerated  packaged cheese  \\\n",
       "user_id                                                   \n",
       "206138                 0             0                2   \n",
       "206171                 1             0                4   \n",
       "206195                 0             0                3   \n",
       "206199                 0             6               13   \n",
       "206204                 2             0                1   \n",
       "\n",
       "aisle    packaged vegetables fruits  yogurt  energy granola bars  \\\n",
       "user_id                                                            \n",
       "206138                            2       0                    0   \n",
       "206171                            0       0                    0   \n",
       "206195                            4       1                    0   \n",
       "206199                            3      48                    4   \n",
       "206204                            4       2                    0   \n",
       "\n",
       "aisle    chips pretzels  bread  baby food formula  frozen produce  milk  \\\n",
       "user_id                                                                   \n",
       "206138                1      1                  0              11    12   \n",
       "206171                0      0                  0               0     0   \n",
       "206195                0      0                  0               1     3   \n",
       "206199               18      6                  3               0     5   \n",
       "206204                0      0                  0               1     1   \n",
       "\n",
       "aisle    cluster  \n",
       "user_id           \n",
       "206138         0  \n",
       "206171         0  \n",
       "206195         0  \n",
       "206199         2  \n",
       "206204         0  "
      ]
     },
     "execution_count": 566,
     "metadata": {},
     "output_type": "execute_result"
    }
   ],
   "source": [
    "top_aisle_cols = list(top_aisles)\n",
    "top_aisle_cols.append('cluster')\n",
    "\n",
    "kmeans_cust_test[top_aisle_cols]"
   ]
  },
  {
   "cell_type": "markdown",
   "metadata": {},
   "source": [
    "As we can see by the aisle summary above, users placed into cluster 0 are characterized by small purchase smounts in the fresh fruits & fresh vegetable aisles.  The user placed into cluser 2  is characterized by larger purchases within fresh fruits & fresh vegetables aisles.  None of the users purchase primarily baby food formula, which is why none are placed into cluster 1."
   ]
  },
  {
   "cell_type": "markdown",
   "metadata": {},
   "source": [
    "## DBSCAN Clustering\n",
    "Our next clustering algorithm uses DBSCAN.  Before we begin, we need to predict two DBSCAN parameters: eps and min_smaples.  These parameters can be selected by looking at the distance to the i-th nearest neighbor, as discussed in the original DBSCAN paper by Martin Ester https://www.aaai.org/Papers/KDD/1996/KDD96-037.pdf"
   ]
  },
  {
   "cell_type": "code",
   "execution_count": 118,
   "metadata": {},
   "outputs": [],
   "source": [
    "from scipy.spatial.distance import pdist, cdist, squareform"
   ]
  },
  {
   "cell_type": "code",
   "execution_count": 515,
   "metadata": {},
   "outputs": [],
   "source": [
    "def kDist(data, k):\n",
    "    '''\n",
    "        Returns the distance between a point and it's k-th negihbors\n",
    "        \n",
    "        Parameters\n",
    "        ----------\n",
    "        data: the data used for predictions\n",
    "        \n",
    "        k: The number of points to find distance \n",
    "    '''\n",
    "    nData = data.shape[0]\n",
    "    pDistMat = squareform(pdist(data))\n",
    "    kDistArray = [ sorted(pDistMat[i,:])[k-1] for i in range(nData)]\n",
    "\n",
    "    return sorted(kDistArray, reverse=True)"
   ]
  },
  {
   "cell_type": "markdown",
   "metadata": {},
   "source": [
    "We are going to calculate the distance along various values of 'k'.  Plotting the result to determine the appropriate eps value.  Ester states that k=4 provided decent results in the majority of cases.  We will plot k=4 with value above and below for good measure."
   ]
  },
  {
   "cell_type": "code",
   "execution_count": null,
   "metadata": {},
   "outputs": [],
   "source": [
    "# calculate kdist for various values\n",
    "kDistArray_2 = kDist(ph_crosstab_t, 2)\n",
    "kDistArray_3 = kDist(ph_crosstab_t, 3)\n",
    "kDistArray_4 = kDist(ph_crosstab_t, 4)\n",
    "kDistArray_6 = kDist(ph_crosstab_t, 6)\n",
    "kDistArray_8 = kDist(ph_crosstab_t, 8)\n",
    "kDistArray_10 = kDist(ph_crosstab_t, 10)"
   ]
  },
  {
   "cell_type": "code",
   "execution_count": 525,
   "metadata": {},
   "outputs": [
    {
     "data": {
      "image/png": "[encoded data removed]",
      "text/plain": [
       "<matplotlib.figure.Figure at 0x1a42cc6dd8>"
      ]
     },
     "metadata": {},
     "output_type": "display_data"
    }
   ],
   "source": [
    "fig = plt.figure(figsize=(10,6))\n",
    "\n",
    "# plot various values of k\n",
    "plt.plot(range(ph_crosstab_t.shape[0]), kDistArray_4, color='seagreen', label='4th-Dist.')\n",
    "#plt.plot(range(ph_crosstab_t.shape[0]), kDistArray_6, color='lightblue', label='6th-Dist.')\n",
    "#plt.plot(range(ph_crosstab_t.shape[0]), kDistArray_8, color='lightblue', label='8th-Dist.')\n",
    "#plt.plot(range(ph_crosstab_t.shape[0]), kDistArray_10, color='lightblue', label='10th-Dist.')\n",
    "\n",
    "plt.xlabel('sorted data point index', size=14)\n",
    "plt.ylabel('distance', size=14)\n",
    "plt.title('Distance to the i-th nearest neighbor', size=14)\n",
    "plt.legend()\n",
    "\n",
    "fig.savefig('../reports/figures/dbscan_eps_estimator.png')\n",
    "\n",
    "plt.show()"
   ]
  },
  {
   "cell_type": "markdown",
   "metadata": {},
   "source": [
    "At such a zoomed out scale, it is hard to accurately select a value of eps.  We can zoom into the first segement of the graph to identify the first area that the plot begins to bend.  This allows us to select an appropriate value for further testing. "
   ]
  },
  {
   "cell_type": "code",
   "execution_count": 526,
   "metadata": {},
   "outputs": [
    {
     "data": {
      "image/png": "[encoded data removed]",
      "text/plain": [
       "<matplotlib.figure.Figure at 0x10262f0b8>"
      ]
     },
     "metadata": {},
     "output_type": "display_data"
    }
   ],
   "source": [
    "fig = plt.figure(figsize=(10,6))\n",
    "\n",
    "# plot various values of k\n",
    "plt.plot(range(ph_crosstab_t.shape[0]), kDistArray_4, color='seagreen', label='4th-Dist.')\n",
    "plt.plot(range(ph_crosstab_t.shape[0]), kDistArray_10, color='orange', label='10th-Dist.')\n",
    "\n",
    "plt.xlim([0,250])\n",
    "plt.xlabel('sorted data point index', size=14)\n",
    "plt.ylabel('distance', size=14)\n",
    "plt.title('Distance to the i-th nearest neighbor', size=14)\n",
    "plt.legend()\n",
    "\n",
    "kDistLim = 120\n",
    "plt.axhline(kDistLim, linestyle='--', c='dimgray')\n",
    "\n",
    "fig.savefig('../reports/figures/dbscan_eps_estimator_zoom.png')\n",
    "\n",
    "plt.show()"
   ]
  },
  {
   "cell_type": "markdown",
   "metadata": {},
   "source": [
    "We find an elbow value at about 120 that we decide to use for our value of EPS.  Since the value is based on the 4th-nearest neighbor, we will use 4 as our starting min_samples.\n",
    "\n",
    "With the initial values selected, we can perform some fine tuning of the algorithm.  We want to minimize the number of noise points and aim for a cluster size of 3 (as we found using Kmeans).  "
   ]
  },
  {
   "cell_type": "code",
   "execution_count": null,
   "metadata": {},
   "outputs": [],
   "source": [
    "# create a dataframe for holding our results\n",
    "dbscan_results = pd.DataFrame(columns=['eps', 'min_samples', 'clusters', 'noise_pts'])\n",
    "\n",
    "# create values for testing eps & min samples\n",
    "eps_ = [60, 70, 71, 72, 73, 74, 75, 76, 77, 78, 79, \n",
    "        80, 90, 91, 92, 93, 94, 95, 96, 97, 98, 99 100, \n",
    "        105, 110, 115, 120, 125, 126, 127, 128, 129, 130]\n",
    "min_samples_ = [2, 3, 4, 5, 10]\n",
    "\n",
    "for e in eps_:\n",
    "    for m in min_samples_:\n",
    "        db = DBSCAN(eps=e, min_samples=m).fit(ph_crosstab_t)\n",
    "\n",
    "        print('eps: {}, min_samples: {}, clusters: {}, noise: {}'.format(e, m, len([i for i in np.unique(db.labels_) if i != -1]), np.sum(db.labels_ < 0)))\n",
    "        \n",
    "        labels = db.labels_\n",
    "        n_clusters = len(set(labels)) - (1 if -1 in labels else 0)\n",
    "        noise_pts = len([1 for i in labels if i == -1])\n",
    "\n",
    "        df_pt = pd.DataFrame({'eps':[e],\n",
    "                             'min_samples':[m],\n",
    "                             'clusters':[n_clusters],\n",
    "                             'noise_pts': [noise_pts]})\n",
    "\n",
    "        dbscan_results = pd.concat([dbscan_results, df_pt],axis=0)        "
   ]
  },
  {
   "cell_type": "markdown",
   "metadata": {},
   "source": [
    "Let's take a look at the results -  We want to find an eps value that minimizes noise points for these cluster sizes.  Based on the results in the above window we see that the algorithm works best where min_samples =2."
   ]
  },
  {
   "cell_type": "code",
   "execution_count": 549,
   "metadata": {},
   "outputs": [
    {
     "data": {
      "image/png": "[encoded data removed]",
      "text/plain": [
       "<matplotlib.figure.Figure at 0x1a12fa0b70>"
      ]
     },
     "metadata": {},
     "output_type": "display_data"
    }
   ],
   "source": [
    "# create plot\n",
    "fig, ax = plt.subplots(figsize=(10, 6))\n",
    "\n",
    "# plot value for cluster size = 1\n",
    "x = dbscan_results[(dbscan_results.clusters==1) & (dbscan_results.min_samples==2)].sort_values('eps').eps.values\n",
    "y = dbscan_results[(dbscan_results.clusters==1) & (dbscan_results.min_samples==2)].sort_values('eps').noise_pts.values\n",
    "plt.plot(x, y, label='cluster size = 1')\n",
    "\n",
    "# plot value for cluster size = 2\n",
    "x = dbscan_results[(dbscan_results.clusters==2)].sort_values('eps').eps.values\n",
    "y = dbscan_results[(dbscan_results.clusters==2)].sort_values('eps').noise_pts.values\n",
    "plt.plot(x, y, label='cluster size = 2')\n",
    "\n",
    "# plot value for cluster size = 3\n",
    "x = dbscan_results[(dbscan_results.clusters==3)].sort_values('eps').eps.values\n",
    "y = dbscan_results[(dbscan_results.clusters==3)].sort_values('eps').noise_pts.values\n",
    "plt.plot(x, y, label='cluster size = 3')\n",
    "\n",
    "# set labels\n",
    "plt.title('DBSCAN Results (min_samples=2)')\n",
    "plt.xlabel('Eps')\n",
    "plt.ylabel('Noise Pts')\n",
    "plt.legend()\n",
    "\n",
    "fig.savefig('../reports/figures/dbscan_eps_tuning.png')\n",
    "\n",
    "plt.show()"
   ]
  },
  {
   "cell_type": "markdown",
   "metadata": {},
   "source": [
    "It appears that cluster sizes 1 & 2 perform similarly with regards to noise points.  If we aim to select a same cluster size as Kmeans has produced, we will select a cluster size = 3.  We can find these parameters by selecting the row where clusters = 3 with the least noise"
   ]
  },
  {
   "cell_type": "code",
   "execution_count": 534,
   "metadata": {},
   "outputs": [
    {
     "data": {
      "text/html": [
       "<div>\n",
       "<style scoped>\n",
       "    .dataframe tbody tr th:only-of-type {\n",
       "        vertical-align: middle;\n",
       "    }\n",
       "\n",
       "    .dataframe tbody tr th {\n",
       "        vertical-align: top;\n",
       "    }\n",
       "\n",
       "    .dataframe thead th {\n",
       "        text-align: right;\n",
       "    }\n",
       "</style>\n",
       "<table border=\"1\" class=\"dataframe\">\n",
       "  <thead>\n",
       "    <tr style=\"text-align: right;\">\n",
       "      <th></th>\n",
       "      <th>clusters</th>\n",
       "      <th>eps</th>\n",
       "      <th>min_samples</th>\n",
       "      <th>noise_pts</th>\n",
       "    </tr>\n",
       "  </thead>\n",
       "  <tbody>\n",
       "    <tr>\n",
       "      <th>0</th>\n",
       "      <td>3</td>\n",
       "      <td>99</td>\n",
       "      <td>2</td>\n",
       "      <td>71</td>\n",
       "    </tr>\n",
       "  </tbody>\n",
       "</table>\n",
       "</div>"
      ],
      "text/plain": [
       "  clusters eps min_samples noise_pts\n",
       "0        3  99           2        71"
      ]
     },
     "execution_count": 534,
     "metadata": {},
     "output_type": "execute_result"
    }
   ],
   "source": [
    "# Find results for clusters == 3\n",
    "min_noise_pts = dbscan_results[(dbscan_results.clusters==3)].noise_pts.min()\n",
    "dbscan_results[(dbscan_results.clusters==3) & (dbscan_results.noise_pts == min_noise_pts)]"
   ]
  },
  {
   "cell_type": "markdown",
   "metadata": {},
   "source": [
    "With the parameters identified, we can create our final model and begin to examine cluster results. "
   ]
  },
  {
   "cell_type": "markdown",
   "metadata": {},
   "source": [
    "### DBSCAN Clustering Results\n",
    "We create a DBSCAN model where eps=99 & min_samples=2."
   ]
  },
  {
   "cell_type": "code",
   "execution_count": 588,
   "metadata": {},
   "outputs": [],
   "source": [
    "db_model = DBSCAN(eps=99, min_samples=2).fit(ph_crosstab_t)"
   ]
  },
  {
   "cell_type": "code",
   "execution_count": 568,
   "metadata": {},
   "outputs": [],
   "source": [
    "dbscan_cust = ph_crosstab.copy()\n",
    "dbscan_cust['cluster'] = db_model.labels_"
   ]
  },
  {
   "cell_type": "markdown",
   "metadata": {},
   "source": [
    "With the clusters predicted, let's examine the purchasing habits of our 3 clusters.  We will mimic the process performed for Kmean - identifying the top 12 aisle for each cluster, before creating a new data frame with the mean values for each cluster."
   ]
  },
  {
   "cell_type": "code",
   "execution_count": 618,
   "metadata": {},
   "outputs": [],
   "source": [
    "top_aisles = set()\n",
    "\n",
    "# get top 12 aisles for each cluster & add aisle name to top_aisles\n",
    "for c in np.unique(db_model.labels_):\n",
    "    for a in dbscan_cust[dbscan_cust.cluster==c].mean().sort_values(ascending=False)[:12].index.values:\n",
    "        top_aisles.add(a)\n",
    "\n",
    "\n",
    "cols = list(top_aisles)\n",
    "aisle_summary = pd.DataFrame(columns=top_aisles)\n",
    "\n",
    "# create a new dataframe with the top aisles\n",
    "for c in np.unique(db_model.labels_):\n",
    "    \n",
    "    # get the mean value for each aisle across all customers\n",
    "    cluster_values = dict(list(zip(cols, dbscan_cust[dbscan_cust.cluster==c][cols].mean().values)))\n",
    "\n",
    "    temp=pd.DataFrame(cluster_values, index=[c])\n",
    "\n",
    "    # add the cluster values to our dataframe\n",
    "    aisle_summary = pd.concat([aisle_summary, temp], axis=0)\n",
    "    "
   ]
  },
  {
   "cell_type": "code",
   "execution_count": 620,
   "metadata": {},
   "outputs": [
    {
     "data": {
      "text/html": [
       "<div>\n",
       "<style scoped>\n",
       "    .dataframe tbody tr th:only-of-type {\n",
       "        vertical-align: middle;\n",
       "    }\n",
       "\n",
       "    .dataframe tbody tr th {\n",
       "        vertical-align: top;\n",
       "    }\n",
       "\n",
       "    .dataframe thead th {\n",
       "        text-align: right;\n",
       "    }\n",
       "</style>\n",
       "<table border=\"1\" class=\"dataframe\">\n",
       "  <thead>\n",
       "    <tr style=\"text-align: right;\">\n",
       "      <th></th>\n",
       "      <th>baby food formula</th>\n",
       "      <th>bread</th>\n",
       "      <th>canned jarred vegetables</th>\n",
       "      <th>cat food care</th>\n",
       "      <th>cereal</th>\n",
       "      <th>chips pretzels</th>\n",
       "      <th>crackers</th>\n",
       "      <th>energy granola bars</th>\n",
       "      <th>fresh fruits</th>\n",
       "      <th>fresh vegetables</th>\n",
       "      <th>frozen produce</th>\n",
       "      <th>juice nectars</th>\n",
       "      <th>milk</th>\n",
       "      <th>packaged cheese</th>\n",
       "      <th>packaged vegetables fruits</th>\n",
       "      <th>refrigerated</th>\n",
       "      <th>soft drinks</th>\n",
       "      <th>soy lactosefree</th>\n",
       "      <th>water seltzer sparkling water</th>\n",
       "      <th>yogurt</th>\n",
       "    </tr>\n",
       "  </thead>\n",
       "  <tbody>\n",
       "    <tr>\n",
       "      <th>0</th>\n",
       "      <td>1.791131</td>\n",
       "      <td>2.737272</td>\n",
       "      <td>1.456123</td>\n",
       "      <td>0.245311</td>\n",
       "      <td>1.734258</td>\n",
       "      <td>3.400188</td>\n",
       "      <td>2.131498</td>\n",
       "      <td>2.049705</td>\n",
       "      <td>17.272441</td>\n",
       "      <td>16.466707</td>\n",
       "      <td>2.441184</td>\n",
       "      <td>1.575831</td>\n",
       "      <td>4.171557</td>\n",
       "      <td>4.649317</td>\n",
       "      <td>8.357248</td>\n",
       "      <td>2.645364</td>\n",
       "      <td>1.700697</td>\n",
       "      <td>3.026661</td>\n",
       "      <td>3.981310</td>\n",
       "      <td>6.685356</td>\n",
       "    </tr>\n",
       "    <tr>\n",
       "      <th>1</th>\n",
       "      <td>93.333333</td>\n",
       "      <td>49.000000</td>\n",
       "      <td>11.333333</td>\n",
       "      <td>18.666667</td>\n",
       "      <td>23.000000</td>\n",
       "      <td>17.666667</td>\n",
       "      <td>6.333333</td>\n",
       "      <td>86.333333</td>\n",
       "      <td>196.000000</td>\n",
       "      <td>109.000000</td>\n",
       "      <td>19.333333</td>\n",
       "      <td>8.333333</td>\n",
       "      <td>46.000000</td>\n",
       "      <td>26.000000</td>\n",
       "      <td>61.000000</td>\n",
       "      <td>17.333333</td>\n",
       "      <td>50.333333</td>\n",
       "      <td>6.333333</td>\n",
       "      <td>3.666667</td>\n",
       "      <td>18.000000</td>\n",
       "    </tr>\n",
       "    <tr>\n",
       "      <th>2</th>\n",
       "      <td>347.500000</td>\n",
       "      <td>11.000000</td>\n",
       "      <td>17.000000</td>\n",
       "      <td>0.000000</td>\n",
       "      <td>25.000000</td>\n",
       "      <td>1.500000</td>\n",
       "      <td>2.000000</td>\n",
       "      <td>0.000000</td>\n",
       "      <td>103.000000</td>\n",
       "      <td>84.500000</td>\n",
       "      <td>18.000000</td>\n",
       "      <td>16.000000</td>\n",
       "      <td>39.500000</td>\n",
       "      <td>38.500000</td>\n",
       "      <td>53.000000</td>\n",
       "      <td>3.500000</td>\n",
       "      <td>10.500000</td>\n",
       "      <td>3.500000</td>\n",
       "      <td>17.000000</td>\n",
       "      <td>35.500000</td>\n",
       "    </tr>\n",
       "  </tbody>\n",
       "</table>\n",
       "</div>"
      ],
      "text/plain": [
       "   baby food formula      bread  canned jarred vegetables  cat food care  \\\n",
       "0           1.791131   2.737272                  1.456123       0.245311   \n",
       "1          93.333333  49.000000                 11.333333      18.666667   \n",
       "2         347.500000  11.000000                 17.000000       0.000000   \n",
       "\n",
       "      cereal  chips pretzels  crackers  energy granola bars  fresh fruits  \\\n",
       "0   1.734258        3.400188  2.131498             2.049705     17.272441   \n",
       "1  23.000000       17.666667  6.333333            86.333333    196.000000   \n",
       "2  25.000000        1.500000  2.000000             0.000000    103.000000   \n",
       "\n",
       "   fresh vegetables  frozen produce  juice nectars       milk  \\\n",
       "0         16.466707        2.441184       1.575831   4.171557   \n",
       "1        109.000000       19.333333       8.333333  46.000000   \n",
       "2         84.500000       18.000000      16.000000  39.500000   \n",
       "\n",
       "   packaged cheese  packaged vegetables fruits  refrigerated  soft drinks  \\\n",
       "0         4.649317                    8.357248      2.645364     1.700697   \n",
       "1        26.000000                   61.000000     17.333333    50.333333   \n",
       "2        38.500000                   53.000000      3.500000    10.500000   \n",
       "\n",
       "   soy lactosefree  water seltzer sparkling water     yogurt  \n",
       "0         3.026661                       3.981310   6.685356  \n",
       "1         6.333333                       3.666667  18.000000  \n",
       "2         3.500000                      17.000000  35.500000  "
      ]
     },
     "execution_count": 620,
     "metadata": {},
     "output_type": "execute_result"
    }
   ],
   "source": [
    "aisle_summary[aisle_summary.index >= 0]"
   ]
  },
  {
   "cell_type": "markdown",
   "metadata": {},
   "source": [
    "#### Cluster 0"
   ]
  },
  {
   "cell_type": "code",
   "execution_count": 584,
   "metadata": {},
   "outputs": [
    {
     "data": {
      "text/plain": [
       "fresh fruits                     17.272441\n",
       "fresh vegetables                 16.466707\n",
       "packaged vegetables fruits        8.357248\n",
       "yogurt                            6.685356\n",
       "packaged cheese                   4.649317\n",
       "milk                              4.171557\n",
       "water seltzer sparkling water     3.981310\n",
       "chips pretzels                    3.400188\n",
       "soy lactosefree                   3.026661\n",
       "bread                             2.737272\n",
       "refrigerated                      2.645364\n",
       "frozen produce                    2.441184\n",
       "energy granola bars               2.049705\n",
       "baby food formula                 1.791131\n",
       "cereal                            1.734258\n",
       "soft drinks                       1.700697\n",
       "juice nectars                     1.575831\n",
       "canned jarred vegetables          1.456123\n",
       "cat food care                     0.245311\n",
       "Name: 0, dtype: float64"
      ]
     },
     "execution_count": 584,
     "metadata": {},
     "output_type": "execute_result"
    }
   ],
   "source": [
    "aisle_summary.iloc[0].sort_values(ascending=False)"
   ]
  },
  {
   "cell_type": "markdown",
   "metadata": {},
   "source": [
    "Cluster 0 is characterized by infrequent customers who primarily purchase fresh fruits & fresh vegetables.  They are also less likely to purchase baby food formula & cat food. "
   ]
  },
  {
   "cell_type": "markdown",
   "metadata": {},
   "source": [
    "#### Cluster 1"
   ]
  },
  {
   "cell_type": "code",
   "execution_count": 585,
   "metadata": {},
   "outputs": [
    {
     "data": {
      "text/plain": [
       "fresh fruits                     196.000000\n",
       "fresh vegetables                 109.000000\n",
       "baby food formula                 93.333333\n",
       "energy granola bars               86.333333\n",
       "packaged vegetables fruits        61.000000\n",
       "soft drinks                       50.333333\n",
       "bread                             49.000000\n",
       "milk                              46.000000\n",
       "packaged cheese                   26.000000\n",
       "cereal                            23.000000\n",
       "frozen produce                    19.333333\n",
       "cat food care                     18.666667\n",
       "yogurt                            18.000000\n",
       "chips pretzels                    17.666667\n",
       "refrigerated                      17.333333\n",
       "canned jarred vegetables          11.333333\n",
       "juice nectars                      8.333333\n",
       "soy lactosefree                    6.333333\n",
       "water seltzer sparkling water      3.666667\n",
       "Name: 1, dtype: float64"
      ]
     },
     "execution_count": 585,
     "metadata": {},
     "output_type": "execute_result"
    }
   ],
   "source": [
    "aisle_summary.iloc[1].sort_values(ascending=False)"
   ]
  },
  {
   "cell_type": "markdown",
   "metadata": {},
   "source": [
    "Cluster 1 appears to be frequent shoppers that primarily purchase fresh fruits & vegetables.  They are also likely to purchase baby food formula and energy granola bars.  \n",
    "\n",
    "They are also more likely to buy cat food than yogurt. "
   ]
  },
  {
   "cell_type": "markdown",
   "metadata": {},
   "source": [
    "#### Cluster 2"
   ]
  },
  {
   "cell_type": "code",
   "execution_count": 587,
   "metadata": {},
   "outputs": [
    {
     "data": {
      "text/plain": [
       "baby food formula                347.5\n",
       "fresh fruits                     103.0\n",
       "fresh vegetables                  84.5\n",
       "packaged vegetables fruits        53.0\n",
       "milk                              39.5\n",
       "packaged cheese                   38.5\n",
       "yogurt                            35.5\n",
       "cereal                            25.0\n",
       "frozen produce                    18.0\n",
       "water seltzer sparkling water     17.0\n",
       "canned jarred vegetables          17.0\n",
       "juice nectars                     16.0\n",
       "bread                             11.0\n",
       "soft drinks                       10.5\n",
       "refrigerated                       3.5\n",
       "soy lactosefree                    3.5\n",
       "chips pretzels                     1.5\n",
       "energy granola bars                0.0\n",
       "cat food care                      0.0\n",
       "Name: 2, dtype: float64"
      ]
     },
     "execution_count": 587,
     "metadata": {},
     "output_type": "execute_result"
    }
   ],
   "source": [
    "aisle_summary.iloc[2].sort_values(ascending=False)"
   ]
  },
  {
   "cell_type": "markdown",
   "metadata": {},
   "source": [
    "Cluster 2 is similar to a cluster we found in Kmeans - that is customers who purchase primarily Baby food formula, followed by fresh fruits & vegetables. "
   ]
  },
  {
   "cell_type": "markdown",
   "metadata": {},
   "source": [
    "### DBSCAN Clustering Predictions\n",
    "Taking our holdout dataset, where do our new customers fall into the predicted clusters? DBSCAN does not offer a predict method - rather, we will need to build a classifier based on our known values and predict the labels for the unclassified customers."
   ]
  },
  {
   "cell_type": "code",
   "execution_count": 600,
   "metadata": {},
   "outputs": [],
   "source": [
    "from sklearn.linear_model import LogisticRegression"
   ]
  },
  {
   "cell_type": "code",
   "execution_count": 601,
   "metadata": {},
   "outputs": [],
   "source": [
    "# create the classifier\n",
    "clf = LogisticRegression()\n",
    "\n",
    "# The x values will simply be the scaled & PCA transformed dataset.\n",
    "X = ph_crosstab_t\n",
    "\n",
    "# The y values will by the predicted labels\n",
    "y = db_model.labels_\n",
    "\n",
    "# We can scale & transform our test dataset using the previously declared scaler & pca\n",
    "X_test = pca.transform(rs.transform(ph_crosstab_test))\n",
    "\n",
    "# predict\n",
    "clf.fit(X, y)\n",
    "c_pred = clf.predict(X_test_t)\n"
   ]
  },
  {
   "cell_type": "code",
   "execution_count": 603,
   "metadata": {},
   "outputs": [],
   "source": [
    "# Predict the clusters\n",
    "dbscan_cust_test = ph_crosstab_test.copy()\n",
    "dbscan_cust_test['cluster'] = c_pred"
   ]
  },
  {
   "cell_type": "code",
   "execution_count": 604,
   "metadata": {},
   "outputs": [
    {
     "data": {
      "text/html": [
       "<div>\n",
       "<style scoped>\n",
       "    .dataframe tbody tr th:only-of-type {\n",
       "        vertical-align: middle;\n",
       "    }\n",
       "\n",
       "    .dataframe tbody tr th {\n",
       "        vertical-align: top;\n",
       "    }\n",
       "\n",
       "    .dataframe thead th {\n",
       "        text-align: right;\n",
       "    }\n",
       "</style>\n",
       "<table border=\"1\" class=\"dataframe\">\n",
       "  <thead>\n",
       "    <tr style=\"text-align: right;\">\n",
       "      <th>aisle</th>\n",
       "      <th>fresh fruits</th>\n",
       "      <th>canned jarred vegetables</th>\n",
       "      <th>water seltzer sparkling water</th>\n",
       "      <th>fresh vegetables</th>\n",
       "      <th>soy lactosefree</th>\n",
       "      <th>refrigerated</th>\n",
       "      <th>packaged cheese</th>\n",
       "      <th>juice nectars</th>\n",
       "      <th>cereal</th>\n",
       "      <th>packaged vegetables fruits</th>\n",
       "      <th>yogurt</th>\n",
       "      <th>energy granola bars</th>\n",
       "      <th>chips pretzels</th>\n",
       "      <th>cat food care</th>\n",
       "      <th>bread</th>\n",
       "      <th>baby food formula</th>\n",
       "      <th>frozen produce</th>\n",
       "      <th>soft drinks</th>\n",
       "      <th>milk</th>\n",
       "      <th>cluster</th>\n",
       "    </tr>\n",
       "    <tr>\n",
       "      <th>user_id</th>\n",
       "      <th></th>\n",
       "      <th></th>\n",
       "      <th></th>\n",
       "      <th></th>\n",
       "      <th></th>\n",
       "      <th></th>\n",
       "      <th></th>\n",
       "      <th></th>\n",
       "      <th></th>\n",
       "      <th></th>\n",
       "      <th></th>\n",
       "      <th></th>\n",
       "      <th></th>\n",
       "      <th></th>\n",
       "      <th></th>\n",
       "      <th></th>\n",
       "      <th></th>\n",
       "      <th></th>\n",
       "      <th></th>\n",
       "      <th></th>\n",
       "    </tr>\n",
       "  </thead>\n",
       "  <tbody>\n",
       "    <tr>\n",
       "      <th>206138</th>\n",
       "      <td>33</td>\n",
       "      <td>0</td>\n",
       "      <td>0</td>\n",
       "      <td>2</td>\n",
       "      <td>0</td>\n",
       "      <td>0</td>\n",
       "      <td>2</td>\n",
       "      <td>2</td>\n",
       "      <td>2</td>\n",
       "      <td>2</td>\n",
       "      <td>0</td>\n",
       "      <td>0</td>\n",
       "      <td>1</td>\n",
       "      <td>0</td>\n",
       "      <td>1</td>\n",
       "      <td>0</td>\n",
       "      <td>11</td>\n",
       "      <td>0</td>\n",
       "      <td>12</td>\n",
       "      <td>0</td>\n",
       "    </tr>\n",
       "    <tr>\n",
       "      <th>206171</th>\n",
       "      <td>0</td>\n",
       "      <td>0</td>\n",
       "      <td>6</td>\n",
       "      <td>0</td>\n",
       "      <td>1</td>\n",
       "      <td>0</td>\n",
       "      <td>4</td>\n",
       "      <td>0</td>\n",
       "      <td>0</td>\n",
       "      <td>0</td>\n",
       "      <td>0</td>\n",
       "      <td>0</td>\n",
       "      <td>0</td>\n",
       "      <td>0</td>\n",
       "      <td>0</td>\n",
       "      <td>0</td>\n",
       "      <td>0</td>\n",
       "      <td>1</td>\n",
       "      <td>0</td>\n",
       "      <td>0</td>\n",
       "    </tr>\n",
       "    <tr>\n",
       "      <th>206195</th>\n",
       "      <td>6</td>\n",
       "      <td>7</td>\n",
       "      <td>0</td>\n",
       "      <td>3</td>\n",
       "      <td>0</td>\n",
       "      <td>0</td>\n",
       "      <td>3</td>\n",
       "      <td>1</td>\n",
       "      <td>0</td>\n",
       "      <td>4</td>\n",
       "      <td>1</td>\n",
       "      <td>0</td>\n",
       "      <td>0</td>\n",
       "      <td>0</td>\n",
       "      <td>0</td>\n",
       "      <td>0</td>\n",
       "      <td>1</td>\n",
       "      <td>2</td>\n",
       "      <td>3</td>\n",
       "      <td>0</td>\n",
       "    </tr>\n",
       "    <tr>\n",
       "      <th>206199</th>\n",
       "      <td>10</td>\n",
       "      <td>0</td>\n",
       "      <td>5</td>\n",
       "      <td>14</td>\n",
       "      <td>0</td>\n",
       "      <td>6</td>\n",
       "      <td>13</td>\n",
       "      <td>3</td>\n",
       "      <td>12</td>\n",
       "      <td>3</td>\n",
       "      <td>48</td>\n",
       "      <td>4</td>\n",
       "      <td>18</td>\n",
       "      <td>0</td>\n",
       "      <td>6</td>\n",
       "      <td>3</td>\n",
       "      <td>0</td>\n",
       "      <td>12</td>\n",
       "      <td>5</td>\n",
       "      <td>0</td>\n",
       "    </tr>\n",
       "    <tr>\n",
       "      <th>206204</th>\n",
       "      <td>3</td>\n",
       "      <td>0</td>\n",
       "      <td>0</td>\n",
       "      <td>6</td>\n",
       "      <td>2</td>\n",
       "      <td>0</td>\n",
       "      <td>1</td>\n",
       "      <td>0</td>\n",
       "      <td>0</td>\n",
       "      <td>4</td>\n",
       "      <td>2</td>\n",
       "      <td>0</td>\n",
       "      <td>0</td>\n",
       "      <td>1</td>\n",
       "      <td>0</td>\n",
       "      <td>0</td>\n",
       "      <td>1</td>\n",
       "      <td>0</td>\n",
       "      <td>1</td>\n",
       "      <td>0</td>\n",
       "    </tr>\n",
       "  </tbody>\n",
       "</table>\n",
       "</div>"
      ],
      "text/plain": [
       "aisle    fresh fruits  canned jarred vegetables  \\\n",
       "user_id                                           \n",
       "206138             33                         0   \n",
       "206171              0                         0   \n",
       "206195              6                         7   \n",
       "206199             10                         0   \n",
       "206204              3                         0   \n",
       "\n",
       "aisle    water seltzer sparkling water  fresh vegetables  soy lactosefree  \\\n",
       "user_id                                                                     \n",
       "206138                               0                 2                0   \n",
       "206171                               6                 0                1   \n",
       "206195                               0                 3                0   \n",
       "206199                               5                14                0   \n",
       "206204                               0                 6                2   \n",
       "\n",
       "aisle    refrigerated  packaged cheese  juice nectars  cereal  \\\n",
       "user_id                                                         \n",
       "206138              0                2              2       2   \n",
       "206171              0                4              0       0   \n",
       "206195              0                3              1       0   \n",
       "206199              6               13              3      12   \n",
       "206204              0                1              0       0   \n",
       "\n",
       "aisle    packaged vegetables fruits  yogurt  energy granola bars  \\\n",
       "user_id                                                            \n",
       "206138                            2       0                    0   \n",
       "206171                            0       0                    0   \n",
       "206195                            4       1                    0   \n",
       "206199                            3      48                    4   \n",
       "206204                            4       2                    0   \n",
       "\n",
       "aisle    chips pretzels  cat food care  bread  baby food formula  \\\n",
       "user_id                                                            \n",
       "206138                1              0      1                  0   \n",
       "206171                0              0      0                  0   \n",
       "206195                0              0      0                  0   \n",
       "206199               18              0      6                  3   \n",
       "206204                0              1      0                  0   \n",
       "\n",
       "aisle    frozen produce  soft drinks  milk  cluster  \n",
       "user_id                                              \n",
       "206138               11            0    12        0  \n",
       "206171                0            1     0        0  \n",
       "206195                1            2     3        0  \n",
       "206199                0           12     5        0  \n",
       "206204                1            0     1        0  "
      ]
     },
     "execution_count": 604,
     "metadata": {},
     "output_type": "execute_result"
    }
   ],
   "source": [
    "# lets see the top aisles for our test dataset\n",
    "top_aisle_cols = list(top_aisles)\n",
    "top_aisle_cols.append('cluster')\n",
    "\n",
    "dbscan_cust_test[top_aisle_cols]"
   ]
  },
  {
   "cell_type": "markdown",
   "metadata": {},
   "source": [
    "I'm surprised that all customers were placed into cluster 0 - specifically user # 4.  Looking closer at the data we can justify these classifications based on how they do not belong in cluster 1 or 2.  That is:\n",
    "* Users do not buy baby food formula more frequently than fresh fruits, fresh vegetables, packaged vegetables/fruits or yogurt\n",
    "* Users do not primarily buy cat food\n"
   ]
  },
  {
   "cell_type": "markdown",
   "metadata": {},
   "source": [
    "## Hierarchical Clustering\n",
    "We will look at utilizing Agglomerative Clustering for our final algorithm.  Similarily to Kmeans, we will be selecting a cluster size based on silhouette and calinski-harabaz scores. I've created a function hierarchical_performance_metrics below that calculates these scores for a given dataset and cluster size. \n",
    "\n",
    "With Agglomerative Clustering, we also have the ability to look at different linkage & affinity variables.  Both are setup to be tested in the performance metric function."
   ]
  },
  {
   "cell_type": "code",
   "execution_count": 276,
   "metadata": {},
   "outputs": [],
   "source": [
    "def hierarchical_performance_metrics(data, clusters):\n",
    "    '''\n",
    "        Compute Agglomerative Clustering for various cluster values, ranging from \n",
    "        2 to k+1.  Caclucate the silhouette score and calinkski-harabaz\n",
    "        score for each value, returning the results.\n",
    "        \n",
    "        Params\n",
    "        ------\n",
    "        data: The dataset to perform clustering upon\n",
    "        \n",
    "        clusters: The number of cluster to create\n",
    "    '''\n",
    "    \n",
    "    # create a dataframe to hold our results\n",
    "    df_results = pd.DataFrame(columns=['n_clusters', 'linkage', 'affinity', 'score_type', 'score'])\n",
    "\n",
    "    # define parameters\n",
    "    linkage = ['complete', 'average']\n",
    "    affinity = ['euclidean', 'cosine']\n",
    "\n",
    "    # Process each range\n",
    "    for c in range(2, clusters+1):\n",
    "        print('processing n_clusters={}, linkage=ward, affinity=euclidean'.format(c))\n",
    "        \n",
    "        # build model using ward linkage\n",
    "        model = AgglomerativeClustering(n_clusters=c, linkage='ward').fit(data)\n",
    "\n",
    "        # add score\n",
    "        result = pd.DataFrame({'n_clusters':[c], 'linkage': ['ward'], 'affinity': ['euclidean'],'score_type': ['silhouette'], 'score': [silhouette_score(data, model.labels_)]})\n",
    "\n",
    "        df_results = pd.concat([df_results, result], axis=0)\n",
    "\n",
    "        # add score\n",
    "        result = pd.DataFrame({'n_clusters':[c],'linkage': ['ward'],'affinity': ['euclidean'],'score_type': ['calinski harabaz'],'score': [calinski_harabaz_score(data, model.labels_)]})\n",
    "\n",
    "        df_results = pd.concat([df_results, result], axis=0)\n",
    "\n",
    "        # process other linkages\n",
    "        for l in linkage:\n",
    "            for a in affinity:\n",
    "                print('processing n_clusters={}, linkage={}, affinity={}'.format(c, l, a))\n",
    "\n",
    "                # build model\n",
    "                model = AgglomerativeClustering(n_clusters=c, linkage=l, affinity=a).fit(data)\n",
    "\n",
    "                # add score\n",
    "                result = pd.DataFrame({'n_clusters':[c], 'linkage': [l], 'affinity': [a],'score_type': ['silhouette'], 'score': [silhouette_score(data, model.labels_)]})\n",
    "\n",
    "                df_results = pd.concat([df_results, result], axis=0)\n",
    "\n",
    "                # add score\n",
    "                result = pd.DataFrame({'n_clusters':[c],'linkage': [l],'affinity': [a],'score_type': ['calinski harabaz'],'score': [calinski_harabaz_score(data, model.labels_)]})\n",
    "\n",
    "                df_results = pd.concat([df_results, result], axis=0)\n",
    "\n",
    "    \n",
    "    return df_results"
   ]
  },
  {
   "cell_type": "markdown",
   "metadata": {},
   "source": [
    "Calculate metrics for our dataset using cluster size up to 15."
   ]
  },
  {
   "cell_type": "code",
   "execution_count": 277,
   "metadata": {},
   "outputs": [
    {
     "name": "stdout",
     "output_type": "stream",
     "text": [
      "processing n_clusters=2, linkage=ward, affinity=euclidean\n",
      "processing n_clusters=2, linkage=complete, affinity=euclidean\n",
      "processing n_clusters=2, linkage=complete, affinity=cosine\n",
      "processing n_clusters=2, linkage=average, affinity=euclidean\n",
      "processing n_clusters=2, linkage=average, affinity=cosine\n",
      "processing n_clusters=3, linkage=ward, affinity=euclidean\n",
      "processing n_clusters=3, linkage=complete, affinity=euclidean\n",
      "processing n_clusters=3, linkage=complete, affinity=cosine\n",
      "processing n_clusters=3, linkage=average, affinity=euclidean\n",
      "processing n_clusters=3, linkage=average, affinity=cosine\n",
      "processing n_clusters=4, linkage=ward, affinity=euclidean\n",
      "processing n_clusters=4, linkage=complete, affinity=euclidean\n",
      "processing n_clusters=4, linkage=complete, affinity=cosine\n",
      "processing n_clusters=4, linkage=average, affinity=euclidean\n",
      "processing n_clusters=4, linkage=average, affinity=cosine\n",
      "processing n_clusters=5, linkage=ward, affinity=euclidean\n",
      "processing n_clusters=5, linkage=complete, affinity=euclidean\n",
      "processing n_clusters=5, linkage=complete, affinity=cosine\n",
      "processing n_clusters=5, linkage=average, affinity=euclidean\n",
      "processing n_clusters=5, linkage=average, affinity=cosine\n",
      "processing n_clusters=6, linkage=ward, affinity=euclidean\n",
      "processing n_clusters=6, linkage=complete, affinity=euclidean\n",
      "processing n_clusters=6, linkage=complete, affinity=cosine\n",
      "processing n_clusters=6, linkage=average, affinity=euclidean\n",
      "processing n_clusters=6, linkage=average, affinity=cosine\n",
      "processing n_clusters=7, linkage=ward, affinity=euclidean\n",
      "processing n_clusters=7, linkage=complete, affinity=euclidean\n",
      "processing n_clusters=7, linkage=complete, affinity=cosine\n",
      "processing n_clusters=7, linkage=average, affinity=euclidean\n",
      "processing n_clusters=7, linkage=average, affinity=cosine\n",
      "processing n_clusters=8, linkage=ward, affinity=euclidean\n",
      "processing n_clusters=8, linkage=complete, affinity=euclidean\n",
      "processing n_clusters=8, linkage=complete, affinity=cosine\n",
      "processing n_clusters=8, linkage=average, affinity=euclidean\n",
      "processing n_clusters=8, linkage=average, affinity=cosine\n",
      "processing n_clusters=9, linkage=ward, affinity=euclidean\n",
      "processing n_clusters=9, linkage=complete, affinity=euclidean\n",
      "processing n_clusters=9, linkage=complete, affinity=cosine\n",
      "processing n_clusters=9, linkage=average, affinity=euclidean\n",
      "processing n_clusters=9, linkage=average, affinity=cosine\n",
      "processing n_clusters=10, linkage=ward, affinity=euclidean\n",
      "processing n_clusters=10, linkage=complete, affinity=euclidean\n",
      "processing n_clusters=10, linkage=complete, affinity=cosine\n",
      "processing n_clusters=10, linkage=average, affinity=euclidean\n",
      "processing n_clusters=10, linkage=average, affinity=cosine\n",
      "processing n_clusters=11, linkage=ward, affinity=euclidean\n",
      "processing n_clusters=11, linkage=complete, affinity=euclidean\n",
      "processing n_clusters=11, linkage=complete, affinity=cosine\n",
      "processing n_clusters=11, linkage=average, affinity=euclidean\n",
      "processing n_clusters=11, linkage=average, affinity=cosine\n",
      "processing n_clusters=12, linkage=ward, affinity=euclidean\n",
      "processing n_clusters=12, linkage=complete, affinity=euclidean\n",
      "processing n_clusters=12, linkage=complete, affinity=cosine\n",
      "processing n_clusters=12, linkage=average, affinity=euclidean\n",
      "processing n_clusters=12, linkage=average, affinity=cosine\n",
      "processing n_clusters=13, linkage=ward, affinity=euclidean\n",
      "processing n_clusters=13, linkage=complete, affinity=euclidean\n",
      "processing n_clusters=13, linkage=complete, affinity=cosine\n",
      "processing n_clusters=13, linkage=average, affinity=euclidean\n",
      "processing n_clusters=13, linkage=average, affinity=cosine\n",
      "processing n_clusters=14, linkage=ward, affinity=euclidean\n",
      "processing n_clusters=14, linkage=complete, affinity=euclidean\n",
      "processing n_clusters=14, linkage=complete, affinity=cosine\n",
      "processing n_clusters=14, linkage=average, affinity=euclidean\n",
      "processing n_clusters=14, linkage=average, affinity=cosine\n",
      "processing n_clusters=15, linkage=ward, affinity=euclidean\n",
      "processing n_clusters=15, linkage=complete, affinity=euclidean\n",
      "processing n_clusters=15, linkage=complete, affinity=cosine\n",
      "processing n_clusters=15, linkage=average, affinity=euclidean\n",
      "processing n_clusters=15, linkage=average, affinity=cosine\n"
     ]
    }
   ],
   "source": [
    "hpm = hierarchical_performance_metrics(ph_crosstab_t, 15)"
   ]
  },
  {
   "cell_type": "markdown",
   "metadata": {},
   "source": [
    "With the metrics calculated, let's graph them to visually inspect our results"
   ]
  },
  {
   "cell_type": "code",
   "execution_count": 606,
   "metadata": {},
   "outputs": [
    {
     "data": {
      "image/png": "[encoded data removed]",
      "text/plain": [
       "<matplotlib.figure.Figure at 0x1a42e81a58>"
      ]
     },
     "metadata": {},
     "output_type": "display_data"
    }
   ],
   "source": [
    "# define number of subplots & columns\n",
    "total_subplots = 6\n",
    "total_cols = 2\n",
    "\n",
    "# determine the number of rows required\n",
    "total_rows = total_subplots // total_cols\n",
    "total_rows += total_subplots % total_cols\n",
    "\n",
    "# setup subplot position\n",
    "pos = range(1, total_subplots+1)\n",
    "\n",
    "# create plot\n",
    "fig = plt.figure(figsize=(16,18))\n",
    "i=0\n",
    "\n",
    "# define linkage and affinity options\n",
    "linkage = ['ward', 'complete', 'average']\n",
    "affinity = ['euclidean', 'cosine']\n",
    "\n",
    "# loop through each linkage type\n",
    "for l in linkage:\n",
    "    \n",
    "    # loop through each score type\n",
    "    for s in np.unique(hpm[(hpm.linkage==l)].score_type):\n",
    "\n",
    "        ax = fig.add_subplot(total_rows, total_cols, pos[i])\n",
    "        ax.set_title('linkage: {}, score: {}'.format(l, s))\n",
    "        ax.set_xlabel('n_clusters')\n",
    "        ax.set_ylabel('{} score'.format(s))\n",
    "\n",
    "        # loop through each affinity type\n",
    "        for a in np.sort(np.unique(hpm[(hpm.linkage==l) & (hpm.score_type==s)].affinity))[::-1]:\n",
    "\n",
    "            # create plot\n",
    "            x = hpm[(hpm.linkage==l) & (hpm.score_type==s) & (hpm.affinity==a)].n_clusters\n",
    "            y = hpm[(hpm.linkage==l) & (hpm.score_type==s) & (hpm.affinity==a)].score\n",
    "            ax.plot(x, y, label=a)\n",
    "            \n",
    "        ax.legend(title='affinity type')\n",
    "        i+=1\n",
    "\n",
    "fig.savefig('../reports/figures/ac_tuning.png')\n",
    "    \n",
    "plt.show()"
   ]
  },
  {
   "cell_type": "markdown",
   "metadata": {},
   "source": [
    "We will look for a value that optimizes where k=3 so that we can be consistent with our other two clustering algorithms.  Using linkage = complete or average apperas to maximize our silhouette scores, where as linkage = ward maximizes the calinski harabaz score.\n",
    "\n",
    "For our purposes, It appears that the optimal parameters are:\n",
    "* linkage = complete\n",
    "* n_clusters = 3\n",
    "* affinity = euclidean\n",
    "\n",
    "These values appear to have the best overall calinski harabaz & silhouette scores.  It does appear that using linkage = average, n_clusters = 4, and affinity = euclidean provides very suitable results as well."
   ]
  },
  {
   "cell_type": "markdown",
   "metadata": {},
   "source": [
    "### Hierarchical Clustering Results\n",
    "We create a DBSCAN model where n_clusters=3, linkage=complete, affinity=euclidean"
   ]
  },
  {
   "cell_type": "code",
   "execution_count": 615,
   "metadata": {},
   "outputs": [],
   "source": [
    "# build the model\n",
    "ac_model = AgglomerativeClustering(n_clusters=3, linkage='complete', affinity='euclidean').fit(ph_crosstab_t)"
   ]
  },
  {
   "cell_type": "code",
   "execution_count": 611,
   "metadata": {},
   "outputs": [],
   "source": [
    "# build the model\n",
    "ac_model = AgglomerativeClustering(n_clusters=4, linkage='average', affinity='euclidean').fit(ph_crosstab_t)"
   ]
  },
  {
   "cell_type": "code",
   "execution_count": null,
   "metadata": {},
   "outputs": [],
   "source": [
    "# build the model\n",
    "ac_model = AgglomerativeClustering(n_clusters=3, linkage='ward').fit(ph_crosstab_t)"
   ]
  },
  {
   "cell_type": "code",
   "execution_count": 621,
   "metadata": {},
   "outputs": [],
   "source": [
    "ac_cust = ph_crosstab.copy()\n",
    "ac_cust['cluster'] = ac_model.labels_"
   ]
  },
  {
   "cell_type": "code",
   "execution_count": 622,
   "metadata": {},
   "outputs": [],
   "source": [
    "top_aisles = set()\n",
    "\n",
    "# get top 12 aisles for each cluster & add aisle name to top_aisles\n",
    "for c in np.unique(ac_model.labels_):\n",
    "    for a in ac_cust[ac_cust.cluster==c].mean().sort_values(ascending=False)[:12].index.values:\n",
    "        top_aisles.add(a)\n",
    "\n",
    "\n",
    "cols = list(top_aisles)\n",
    "aisle_summary = pd.DataFrame(columns=top_aisles)\n",
    "\n",
    "# create a new dataframe with the top aisles\n",
    "for c in np.unique(ac_model.labels_):\n",
    "    \n",
    "    # get the mean value for each aisle across all customers\n",
    "    cluster_values = dict(list(zip(cols, ac_cust[ac_cust.cluster==c][cols].mean().values)))\n",
    "\n",
    "    temp=pd.DataFrame(cluster_values, index=[c])\n",
    "\n",
    "    # add the cluster values to our dataframe\n",
    "    aisle_summary = pd.concat([aisle_summary, temp], axis=0)\n",
    "    "
   ]
  },
  {
   "cell_type": "code",
   "execution_count": 623,
   "metadata": {},
   "outputs": [
    {
     "data": {
      "text/html": [
       "<div>\n",
       "<style scoped>\n",
       "    .dataframe tbody tr th:only-of-type {\n",
       "        vertical-align: middle;\n",
       "    }\n",
       "\n",
       "    .dataframe tbody tr th {\n",
       "        vertical-align: top;\n",
       "    }\n",
       "\n",
       "    .dataframe thead th {\n",
       "        text-align: right;\n",
       "    }\n",
       "</style>\n",
       "<table border=\"1\" class=\"dataframe\">\n",
       "  <thead>\n",
       "    <tr style=\"text-align: right;\">\n",
       "      <th></th>\n",
       "      <th>baby food formula</th>\n",
       "      <th>bread</th>\n",
       "      <th>breakfast bars pastries</th>\n",
       "      <th>candy chocolate</th>\n",
       "      <th>cereal</th>\n",
       "      <th>chips pretzels</th>\n",
       "      <th>coffee</th>\n",
       "      <th>energy granola bars</th>\n",
       "      <th>fresh dips tapenades</th>\n",
       "      <th>fresh fruits</th>\n",
       "      <th>...</th>\n",
       "      <th>frozen produce</th>\n",
       "      <th>juice nectars</th>\n",
       "      <th>milk</th>\n",
       "      <th>packaged cheese</th>\n",
       "      <th>packaged vegetables fruits</th>\n",
       "      <th>poultry counter</th>\n",
       "      <th>refrigerated</th>\n",
       "      <th>soy lactosefree</th>\n",
       "      <th>water seltzer sparkling water</th>\n",
       "      <th>yogurt</th>\n",
       "    </tr>\n",
       "  </thead>\n",
       "  <tbody>\n",
       "    <tr>\n",
       "      <th>0</th>\n",
       "      <td>1.848683</td>\n",
       "      <td>2.82921</td>\n",
       "      <td>0.336579</td>\n",
       "      <td>1.492231</td>\n",
       "      <td>1.829276</td>\n",
       "      <td>3.545715</td>\n",
       "      <td>0.969990</td>\n",
       "      <td>2.235545</td>\n",
       "      <td>1.670824</td>\n",
       "      <td>17.786529</td>\n",
       "      <td>...</td>\n",
       "      <td>2.503701</td>\n",
       "      <td>1.645082</td>\n",
       "      <td>4.29023</td>\n",
       "      <td>4.792798</td>\n",
       "      <td>8.570257</td>\n",
       "      <td>0.635278</td>\n",
       "      <td>2.757586</td>\n",
       "      <td>3.128376</td>\n",
       "      <td>4.086629</td>\n",
       "      <td>7.032211</td>\n",
       "    </tr>\n",
       "    <tr>\n",
       "      <th>1</th>\n",
       "      <td>343.000000</td>\n",
       "      <td>36.00000</td>\n",
       "      <td>0.000000</td>\n",
       "      <td>5.333333</td>\n",
       "      <td>55.333333</td>\n",
       "      <td>13.666667</td>\n",
       "      <td>0.333333</td>\n",
       "      <td>0.000000</td>\n",
       "      <td>0.333333</td>\n",
       "      <td>136.666667</td>\n",
       "      <td>...</td>\n",
       "      <td>55.000000</td>\n",
       "      <td>10.666667</td>\n",
       "      <td>44.00000</td>\n",
       "      <td>43.666667</td>\n",
       "      <td>72.000000</td>\n",
       "      <td>37.333333</td>\n",
       "      <td>2.333333</td>\n",
       "      <td>23.000000</td>\n",
       "      <td>15.666667</td>\n",
       "      <td>24.000000</td>\n",
       "    </tr>\n",
       "    <tr>\n",
       "      <th>2</th>\n",
       "      <td>0.000000</td>\n",
       "      <td>0.00000</td>\n",
       "      <td>46.000000</td>\n",
       "      <td>27.500000</td>\n",
       "      <td>0.000000</td>\n",
       "      <td>26.500000</td>\n",
       "      <td>25.000000</td>\n",
       "      <td>380.500000</td>\n",
       "      <td>30.000000</td>\n",
       "      <td>100.000000</td>\n",
       "      <td>...</td>\n",
       "      <td>0.500000</td>\n",
       "      <td>31.500000</td>\n",
       "      <td>43.50000</td>\n",
       "      <td>10.500000</td>\n",
       "      <td>9.500000</td>\n",
       "      <td>0.000000</td>\n",
       "      <td>100.000000</td>\n",
       "      <td>9.000000</td>\n",
       "      <td>59.500000</td>\n",
       "      <td>52.000000</td>\n",
       "    </tr>\n",
       "  </tbody>\n",
       "</table>\n",
       "<p>3 rows × 22 columns</p>\n",
       "</div>"
      ],
      "text/plain": [
       "   baby food formula     bread  breakfast bars pastries  candy chocolate  \\\n",
       "0           1.848683   2.82921                 0.336579         1.492231   \n",
       "1         343.000000  36.00000                 0.000000         5.333333   \n",
       "2           0.000000   0.00000                46.000000        27.500000   \n",
       "\n",
       "      cereal  chips pretzels     coffee  energy granola bars  \\\n",
       "0   1.829276        3.545715   0.969990             2.235545   \n",
       "1  55.333333       13.666667   0.333333             0.000000   \n",
       "2   0.000000       26.500000  25.000000           380.500000   \n",
       "\n",
       "   fresh dips tapenades  fresh fruits    ...      frozen produce  \\\n",
       "0              1.670824     17.786529    ...            2.503701   \n",
       "1              0.333333    136.666667    ...           55.000000   \n",
       "2             30.000000    100.000000    ...            0.500000   \n",
       "\n",
       "   juice nectars      milk  packaged cheese  packaged vegetables fruits  \\\n",
       "0       1.645082   4.29023         4.792798                    8.570257   \n",
       "1      10.666667  44.00000        43.666667                   72.000000   \n",
       "2      31.500000  43.50000        10.500000                    9.500000   \n",
       "\n",
       "   poultry counter  refrigerated  soy lactosefree  \\\n",
       "0         0.635278      2.757586         3.128376   \n",
       "1        37.333333      2.333333        23.000000   \n",
       "2         0.000000    100.000000         9.000000   \n",
       "\n",
       "   water seltzer sparkling water     yogurt  \n",
       "0                       4.086629   7.032211  \n",
       "1                      15.666667  24.000000  \n",
       "2                      59.500000  52.000000  \n",
       "\n",
       "[3 rows x 22 columns]"
      ]
     },
     "execution_count": 623,
     "metadata": {},
     "output_type": "execute_result"
    }
   ],
   "source": [
    "aisle_summary"
   ]
  },
  {
   "cell_type": "markdown",
   "metadata": {},
   "source": [
    "#### Cluster 0"
   ]
  },
  {
   "cell_type": "code",
   "execution_count": 625,
   "metadata": {},
   "outputs": [
    {
     "data": {
      "text/plain": [
       "fresh fruits                     17.786529\n",
       "fresh vegetables                 16.747449\n",
       "packaged vegetables fruits        8.570257\n",
       "yogurt                            7.032211\n",
       "packaged cheese                   4.792798\n",
       "milk                              4.290230\n",
       "water seltzer sparkling water     4.086629\n",
       "chips pretzels                    3.545715\n",
       "soy lactosefree                   3.128376\n",
       "bread                             2.829210\n",
       "refrigerated                      2.757586\n",
       "frozen produce                    2.503701\n",
       "energy granola bars               2.235545\n",
       "baby food formula                 1.848683\n",
       "cereal                            1.829276\n",
       "fresh dips tapenades              1.670824\n",
       "juice nectars                     1.645082\n",
       "candy chocolate                   1.492231\n",
       "coffee                            0.969990\n",
       "poultry counter                   0.635278\n",
       "breakfast bars pastries           0.336579\n",
       "frozen breads doughs              0.197599\n",
       "Name: 0, dtype: float64"
      ]
     },
     "execution_count": 625,
     "metadata": {},
     "output_type": "execute_result"
    }
   ],
   "source": [
    "aisle_summary.iloc[0].sort_values(ascending=False)"
   ]
  },
  {
   "cell_type": "markdown",
   "metadata": {},
   "source": []
  },
  {
   "cell_type": "markdown",
   "metadata": {},
   "source": [
    "#### Cluster 1"
   ]
  },
  {
   "cell_type": "code",
   "execution_count": 626,
   "metadata": {},
   "outputs": [
    {
     "data": {
      "text/plain": [
       "baby food formula                343.000000\n",
       "fresh fruits                     136.666667\n",
       "fresh vegetables                 101.333333\n",
       "packaged vegetables fruits        72.000000\n",
       "cereal                            55.333333\n",
       "frozen produce                    55.000000\n",
       "milk                              44.000000\n",
       "packaged cheese                   43.666667\n",
       "poultry counter                   37.333333\n",
       "bread                             36.000000\n",
       "frozen breads doughs              25.000000\n",
       "yogurt                            24.000000\n",
       "soy lactosefree                   23.000000\n",
       "water seltzer sparkling water     15.666667\n",
       "chips pretzels                    13.666667\n",
       "juice nectars                     10.666667\n",
       "candy chocolate                    5.333333\n",
       "refrigerated                       2.333333\n",
       "fresh dips tapenades               0.333333\n",
       "coffee                             0.333333\n",
       "energy granola bars                0.000000\n",
       "breakfast bars pastries            0.000000\n",
       "Name: 1, dtype: float64"
      ]
     },
     "execution_count": 626,
     "metadata": {},
     "output_type": "execute_result"
    }
   ],
   "source": [
    "aisle_summary.iloc[1].sort_values(ascending=False)"
   ]
  },
  {
   "cell_type": "markdown",
   "metadata": {},
   "source": []
  },
  {
   "cell_type": "markdown",
   "metadata": {},
   "source": [
    "#### Cluster 2"
   ]
  },
  {
   "cell_type": "code",
   "execution_count": 627,
   "metadata": {},
   "outputs": [
    {
     "data": {
      "text/plain": [
       "energy granola bars              380.5\n",
       "refrigerated                     100.0\n",
       "fresh fruits                     100.0\n",
       "water seltzer sparkling water     59.5\n",
       "yogurt                            52.0\n",
       "breakfast bars pastries           46.0\n",
       "milk                              43.5\n",
       "juice nectars                     31.5\n",
       "fresh dips tapenades              30.0\n",
       "candy chocolate                   27.5\n",
       "chips pretzels                    26.5\n",
       "coffee                            25.0\n",
       "packaged cheese                   10.5\n",
       "packaged vegetables fruits         9.5\n",
       "soy lactosefree                    9.0\n",
       "fresh vegetables                   1.0\n",
       "frozen produce                     0.5\n",
       "frozen breads doughs               0.0\n",
       "cereal                             0.0\n",
       "poultry counter                    0.0\n",
       "bread                              0.0\n",
       "baby food formula                  0.0\n",
       "Name: 2, dtype: float64"
      ]
     },
     "execution_count": 627,
     "metadata": {},
     "output_type": "execute_result"
    }
   ],
   "source": [
    "aisle_summary.iloc[2].sort_values(ascending=False)"
   ]
  },
  {
   "cell_type": "code",
   "execution_count": null,
   "metadata": {},
   "outputs": [],
   "source": []
  },
  {
   "cell_type": "markdown",
   "metadata": {},
   "source": [
    "### DBSCAN Clustering Predictions\n"
   ]
  },
  {
   "cell_type": "code",
   "execution_count": null,
   "metadata": {},
   "outputs": [],
   "source": []
  }
 ],
 "metadata": {
  "kernelspec": {
   "display_name": "Python 3",
   "language": "python",
   "name": "python3"
  },
  "language_info": {
   "codemirror_mode": {
    "name": "ipython",
    "version": 3
   },
   "file_extension": ".py",
   "mimetype": "text/x-python",
   "name": "python",
   "nbconvert_exporter": "python",
   "pygments_lexer": "ipython3",
   "version": "3.6.4"
  }
 },
 "nbformat": 4,
 "nbformat_minor": 2
}
