{
 "cells": [
  {
   "cell_type": "code",
   "execution_count": 1,
   "metadata": {
    "collapsed": false
   },
   "outputs": [],
   "source": [
    "import pandas as pd\n",
    "import numpy as np\n",
    "import matplotlib.pyplot as plt\n",
    "\n",
    "# preprocessing\n",
    "from sklearn.model_selection import train_test_split\n",
    "from sklearn.feature_selection import SelectFromModel\n",
    "from sklearn.preprocessing import StandardScaler, MinMaxScaler\n",
    "from sklearn.pipeline import Pipeline\n",
    "\n",
    "# models\n",
    "from sklearn.linear_model import LogisticRegression\n",
    "from sklearn.ensemble import RandomForestClassifier, GradientBoostingClassifier\n",
    "from sklearn.model_selection import GridSearchCV\n",
    "from sklearn.decomposition import PCA\n",
    "\n",
    "# scores\n",
    "from sklearn.metrics import mean_squared_error\n",
    "from sklearn.metrics import precision_score\n",
    "from sklearn.metrics import recall_score\n",
    "from sklearn.metrics import f1_score\n",
    "from sklearn.metrics import roc_auc_score\n",
    "from sklearn.metrics import roc_curve\n",
    "from sklearn.metrics import accuracy_score\n",
    "from sklearn.model_selection import cross_val_score\n",
    "from sklearn.metrics import classification_report\n",
    "from sklearn.metrics import confusion_matrix\n",
    "\n"
   ]
  },
  {
   "cell_type": "code",
   "execution_count": 41,
   "metadata": {
    "collapsed": false
   },
   "outputs": [],
   "source": [
    "#define category columns\n",
    "cat_cols = ['grade', \n",
    "            'sub_grade',\n",
    "            'home_ownership',\n",
    "            'verification_status',\n",
    "            'loan_status',\n",
    "            'purpose',\n",
    "            'addr_state',\n",
    "            'initial_list_status',\n",
    "            'application_type',\n",
    "            'hardship_flag'\n",
    "           ]\n",
    "\n",
    "# import data\n",
    "df_raw = pd.read_csv('../data/processed/LCData_processed.csv', index_col=0)\n",
    "\n",
    "# convert category columns\n",
    "for c in cat_cols:\n",
    "    df_raw[c] = pd.Categorical(df_raw[c])"
   ]
  },
  {
   "cell_type": "code",
   "execution_count": 43,
   "metadata": {
    "collapsed": false
   },
   "outputs": [
    {
     "name": "stdout",
     "output_type": "stream",
     "text": [
      "<class 'pandas.core.frame.DataFrame'>\n",
      "Int64Index: 695420 entries, 0 to 65498\n",
      "Data columns (total 74 columns):\n",
      "loan_amnt                     695420 non-null float64\n",
      "funded_amnt                   695420 non-null float64\n",
      "funded_amnt_inv               695420 non-null float64\n",
      "term                          695420 non-null int64\n",
      "int_rate                      695420 non-null float64\n",
      "installment                   695420 non-null float64\n",
      "grade                         695420 non-null category\n",
      "sub_grade                     695420 non-null category\n",
      "emp_length                    695420 non-null int64\n",
      "home_ownership                695420 non-null category\n",
      "annual_inc                    695420 non-null float64\n",
      "verification_status           695420 non-null category\n",
      "loan_status                   695420 non-null category\n",
      "purpose                       695420 non-null category\n",
      "addr_state                    695420 non-null category\n",
      "dti                           695420 non-null float64\n",
      "delinq_2yrs                   695420 non-null float64\n",
      "open_acc                      695420 non-null float64\n",
      "revol_bal                     695420 non-null float64\n",
      "revol_util                    695420 non-null float64\n",
      "total_acc                     695420 non-null float64\n",
      "initial_list_status           695420 non-null category\n",
      "out_prncp                     695420 non-null float64\n",
      "out_prncp_inv                 695420 non-null float64\n",
      "total_pymnt                   695420 non-null float64\n",
      "total_pymnt_inv               695420 non-null float64\n",
      "total_rec_prncp               695420 non-null float64\n",
      "total_rec_int                 695420 non-null float64\n",
      "total_rec_late_fee            695420 non-null float64\n",
      "recoveries                    695420 non-null float64\n",
      "collection_recovery_fee       695420 non-null float64\n",
      "last_pymnt_amnt               695420 non-null float64\n",
      "collections_12_mths_ex_med    695420 non-null float64\n",
      "application_type              695420 non-null category\n",
      "acc_now_delinq                695420 non-null float64\n",
      "tot_coll_amt                  695420 non-null float64\n",
      "tot_cur_bal                   695420 non-null float64\n",
      "total_rev_hi_lim              695420 non-null float64\n",
      "acc_open_past_24mths          695420 non-null float64\n",
      "avg_cur_bal                   695420 non-null float64\n",
      "chargeoff_within_12_mths      695420 non-null float64\n",
      "delinq_amnt                   695420 non-null float64\n",
      "mo_sin_old_rev_tl_op          695420 non-null float64\n",
      "mo_sin_rcnt_rev_tl_op         695420 non-null float64\n",
      "mo_sin_rcnt_tl                695420 non-null float64\n",
      "mort_acc                      695420 non-null float64\n",
      "num_accts_ever_120_pd         695420 non-null float64\n",
      "num_actv_bc_tl                695420 non-null float64\n",
      "num_actv_rev_tl               695420 non-null float64\n",
      "num_bc_sats                   695420 non-null float64\n",
      "num_bc_tl                     695420 non-null float64\n",
      "num_il_tl                     695420 non-null float64\n",
      "num_op_rev_tl                 695420 non-null float64\n",
      "num_rev_accts                 695420 non-null float64\n",
      "num_rev_tl_bal_gt_0           695420 non-null float64\n",
      "num_sats                      695420 non-null float64\n",
      "num_tl_30dpd                  695420 non-null float64\n",
      "num_tl_90g_dpd_24m            695420 non-null float64\n",
      "num_tl_op_past_12m            695420 non-null float64\n",
      "pub_rec_bankruptcies          695420 non-null float64\n",
      "tax_liens                     695420 non-null float64\n",
      "tot_hi_cred_lim               695420 non-null float64\n",
      "total_bal_ex_mort             695420 non-null float64\n",
      "total_bc_limit                695420 non-null float64\n",
      "total_il_high_credit_limit    695420 non-null float64\n",
      "hardship_flag                 695420 non-null category\n",
      "low_deliquent_job             695420 non-null int64\n",
      "credit_line_length_mnths      695420 non-null float64\n",
      "is_bad                        695420 non-null int64\n",
      "inq_last_6mths_cat            695420 non-null int64\n",
      "pub_rec_cat                   695420 non-null int64\n",
      "fully_funded                  695420 non-null int64\n",
      "issue_d_month                 695420 non-null int64\n",
      "issue_d_year                  695420 non-null int64\n",
      "dtypes: category(10), float64(55), int64(9)\n",
      "memory usage: 351.5 MB\n"
     ]
    }
   ],
   "source": [
    "# see columns\n",
    "df_raw.info()"
   ]
  },
  {
   "cell_type": "code",
   "execution_count": 7,
   "metadata": {
    "collapsed": true
   },
   "outputs": [],
   "source": []
  },
  {
   "cell_type": "code",
   "execution_count": 8,
   "metadata": {
    "collapsed": true
   },
   "outputs": [],
   "source": [
    "df_raw = df_raw.drop(drop_cols, axis=1)"
   ]
  },
  {
   "cell_type": "markdown",
   "metadata": {},
   "source": [
    "## Question 1 (Classification)\n",
    "\n",
    "If you perform a simple multivariate logistic regression of “loan defaults” on all your engineered features how well does your model explain the data? \n",
    "\n",
    "* What is your R2, RSE, or other measure of model fit? \n",
    "* What about your validation or cross validation accuracy? \n",
    "* How does this accuracy compare to the benchmark of just predicting the majority class in the training set? \n",
    "* How does this accuracy compare to the benchmark of using lending club’s loan grade to predict defaults?"
   ]
  },
  {
   "cell_type": "code",
   "execution_count": 44,
   "metadata": {
    "collapsed": false
   },
   "outputs": [
    {
     "name": "stderr",
     "output_type": "stream",
     "text": [
      "//anaconda/lib/python3.6/site-packages/ipykernel/__main__.py:12: UserWarning: This pattern has match groups. To actually get the groups, use str.extract.\n"
     ]
    }
   ],
   "source": [
    "# For this question, we are trying to determine whether or not a loan will 'default'. Therefore, we only\n",
    "# want to look at loans which are completed (whether that be fully paid off or written off).  Let's define\n",
    "# which loan status' we want to utilize: \n",
    "completed_loan_status = ['Fully Paid', \n",
    "                         'Charged Off', \n",
    "                         'Default',\n",
    "                         'Late (16-30 days)',\n",
    "                         'Late (31-120 days)'\n",
    "                        ]\n",
    "\n",
    "# filter our loan data\n",
    "df = df_raw[df_raw.loan_status.str.contains('|'.join(completed_loan_status))]"
   ]
  },
  {
   "cell_type": "code",
   "execution_count": 11,
   "metadata": {
    "collapsed": true
   },
   "outputs": [],
   "source": [
    "# We will approach this by first creating a model using only the columns which we engineered \n",
    "# during our EDA.  The list of column names is as follows:\n",
    "feat_eng_cols = ['low_deliquent_job',\n",
    "                 'credit_line_length_mnths',\n",
    "                 'inq_last_6mths_cat',\n",
    "                 'pub_rec_cat',\n",
    "                 'fully_funded',\n",
    "                 'issue_d_month', \n",
    "                 'issue_d_year'\n",
    "                 ]"
   ]
  },
  {
   "cell_type": "markdown",
   "metadata": {},
   "source": [
    "### A) Let's begin by doing a simple Logistic Regression to see results"
   ]
  },
  {
   "cell_type": "code",
   "execution_count": 12,
   "metadata": {
    "collapsed": false
   },
   "outputs": [
    {
     "name": "stdout",
     "output_type": "stream",
     "text": [
      "R2: 0.8074194962474714\n",
      "RSE: 0.43883995232035167\n",
      "ROC AUC: 0.5659423551308429\n"
     ]
    }
   ],
   "source": [
    "# create our X and y datasets\n",
    "X = df[feat_eng_cols]\n",
    "y = df.is_bad\n",
    "\n",
    "# create the dummies for our category columns\n",
    "X = pd.get_dummies(X)\n",
    "\n",
    "# split our data.  Here we use the stratify option to ensure our split datasets contain the same distribution between\n",
    "# majority & minority class\n",
    "X_train, X_test, y_train, y_test = train_test_split(X, y, test_size=0.25, random_state=42, stratify=y)\n",
    "\n",
    "# scale the data\n",
    "sc = StandardScaler()\n",
    "X_train_scaled = sc.fit_transform(X_train)\n",
    "\n",
    "# fit the classifier\n",
    "clf = LogisticRegression()\n",
    "clf.fit(X_train_scaled, y_train)\n",
    "\n",
    "# predict using the training dataset\n",
    "y_pred = clf.predict(X_train_scaled)\n",
    "\n",
    "# find the prediction precentage for the 'default' class (which is the second column)\n",
    "y_score = clf.predict_proba(X_train_scaled)[:,1]\n",
    "\n",
    "# find the scores\n",
    "r2_score = clf.score(X_train_scaled, y_train)\n",
    "mse = mean_squared_error(y_train,y_pred)\n",
    "roc_auc = roc_auc_score(y_train, y_score)\n",
    "\n",
    "# print scores\n",
    "print('R2: {}'.format(r2_score))\n",
    "print('RSE: {}'.format(np.sqrt(mse)))\n",
    "print('ROC AUC: {}'.format(roc_auc))"
   ]
  },
  {
   "cell_type": "markdown",
   "metadata": {},
   "source": [
    "The accuracy score states that we are ~81% accurate.  One would assume this is great.  Looking at the ROC AUC score, we find out that the accuracy score is not good at all. Our ROC AUC is ~57%, meaning the model is slightly better than randomly guessing the outcome.  I believe we see this bad score due to unbalanced classes.  Let's take a look at the confusion matrix and classification report."
   ]
  },
  {
   "cell_type": "code",
   "execution_count": 13,
   "metadata": {
    "collapsed": false
   },
   "outputs": [
    {
     "data": {
      "text/plain": [
       "array([[152876,      0],\n",
       "       [ 36463,      0]])"
      ]
     },
     "execution_count": 13,
     "metadata": {},
     "output_type": "execute_result"
    }
   ],
   "source": [
    "# create confusion matrix\n",
    "confusion_matrix(y_train, y_pred)"
   ]
  },
  {
   "cell_type": "code",
   "execution_count": 14,
   "metadata": {
    "collapsed": false
   },
   "outputs": [
    {
     "name": "stdout",
     "output_type": "stream",
     "text": [
      "             precision    recall  f1-score   support\n",
      "\n",
      "          0       0.81      1.00      0.89    152876\n",
      "          1       0.00      0.00      0.00     36463\n",
      "\n",
      "avg / total       0.65      0.81      0.72    189339\n",
      "\n"
     ]
    },
    {
     "name": "stderr",
     "output_type": "stream",
     "text": [
      "//anaconda/lib/python3.6/site-packages/sklearn/metrics/classification.py:1135: UndefinedMetricWarning: Precision and F-score are ill-defined and being set to 0.0 in labels with no predicted samples.\n",
      "  'precision', 'predicted', average, warn_for)\n"
     ]
    }
   ],
   "source": [
    "# create target_names\n",
    "t_names = ['0', '1']\n",
    "\n",
    "print(classification_report(y_train, y_pred, target_names=t_names))"
   ]
  },
  {
   "cell_type": "code",
   "execution_count": 15,
   "metadata": {
    "collapsed": false
   },
   "outputs": [
    {
     "data": {
      "text/plain": [
       "0    203835\n",
       "1     48618\n",
       "Name: is_bad, dtype: int64"
      ]
     },
     "execution_count": 15,
     "metadata": {},
     "output_type": "execute_result"
    }
   ],
   "source": [
    "# have a look at the y class to see if there is a considerable unbalanced dataset. \n",
    "y.value_counts()"
   ]
  },
  {
   "cell_type": "markdown",
   "metadata": {
    "collapsed": false
   },
   "source": [
    "The results look even worse now.  We predict 'non-default' for everything.  We are not properly able to predict when a borrower will default. \n",
    "\n",
    "Let's try balancing our classes and re-running the model.  We will look at two ways of balancing \n",
    "1. Upsampling minority class\n",
    "2. Using SMOTE"
   ]
  },
  {
   "cell_type": "code",
   "execution_count": 16,
   "metadata": {
    "collapsed": false
   },
   "outputs": [
    {
     "data": {
      "text/plain": [
       "1    203835\n",
       "0    203835\n",
       "Name: is_bad, dtype: int64"
      ]
     },
     "execution_count": 16,
     "metadata": {},
     "output_type": "execute_result"
    }
   ],
   "source": [
    "#1. Upsampling Minority Class\n",
    "\n",
    "from sklearn.utils import resample\n",
    "\n",
    "# Break data into the majority and minority classes\n",
    "df_majority = df[df.is_bad == 0]\n",
    "df_minority = df[df.is_bad == 1]\n",
    "\n",
    "# upsample our minority class to have the same number of samples as the majority class\n",
    "df_minority_upsampled = resample(df_minority,\n",
    "                                replace = True,\n",
    "                                n_samples=len(df_majority),\n",
    "                                random_state=42)\n",
    "\n",
    "# combine majority & upsampled minority classes\n",
    "df_upsampled = pd.concat([df_majority, df_minority_upsampled])\n",
    "\n",
    "# show results\n",
    "df_upsampled.is_bad.value_counts()"
   ]
  },
  {
   "cell_type": "code",
   "execution_count": 17,
   "metadata": {
    "collapsed": false
   },
   "outputs": [
    {
     "name": "stdout",
     "output_type": "stream",
     "text": [
      "R2: 0.5522580391951647\n",
      "RSE: 0.6691352335700425\n",
      "ROC AUC: 0.5521501860547294\n"
     ]
    }
   ],
   "source": [
    "# We now have balanced classes - let's try performing another logistic regression using this balanced dataset\n",
    "\n",
    "# create our X and y datasets\n",
    "X = df_upsampled[feat_eng_cols]\n",
    "y = df_upsampled.is_bad\n",
    "\n",
    "# create the dummies for our category columns\n",
    "X = pd.get_dummies(X)\n",
    "\n",
    "# split our data\n",
    "X_train_bal, X_test_bal, y_train_bal, y_test_bal = train_test_split(X, y, test_size=0.25, random_state=42)\n",
    "\n",
    "# scale the data\n",
    "sc = StandardScaler()\n",
    "X_train_scaled_bal = sc.fit_transform(X_train_bal)\n",
    "X_test_scaled_bal = sc.transform(X_test_bal)\n",
    "\n",
    "# fit the classifier\n",
    "clf = LogisticRegression()\n",
    "clf.fit(X_train_scaled_bal, y_train_bal)\n",
    "\n",
    "# predict using the training dataset\n",
    "y_pred_bal = clf.predict(X_train_scaled_bal)\n",
    "\n",
    "# find the prediction precentage for the 'default' class (which is the second column)\n",
    "y_score_bal = clf.predict_proba(X_train_scaled_bal)[:,1]\n",
    "\n",
    "# find the scores\n",
    "r2_score_bal = clf.score(X_train_scaled_bal, y_train_bal)\n",
    "mse_bal = mean_squared_error(y_train_bal, y_pred_bal)\n",
    "roc_auc_bal = roc_auc_score(y_train_bal, y_pred_bal)\n",
    "\n",
    "# print scores\n",
    "print('R2: {}'.format(r2_score_bal))\n",
    "print('RSE: {}'.format(np.sqrt(mse_bal)))\n",
    "print('ROC AUC: {}'.format(roc_auc_bal))"
   ]
  },
  {
   "cell_type": "code",
   "execution_count": 18,
   "metadata": {
    "collapsed": false
   },
   "outputs": [
    {
     "data": {
      "text/plain": [
       "array([[73616, 79024],\n",
       "       [57874, 95238]])"
      ]
     },
     "execution_count": 18,
     "metadata": {},
     "output_type": "execute_result"
    }
   ],
   "source": [
    "# create confusion matrix\n",
    "confusion_matrix(y_train_bal, y_pred_bal)"
   ]
  },
  {
   "cell_type": "code",
   "execution_count": 19,
   "metadata": {
    "collapsed": false
   },
   "outputs": [
    {
     "name": "stdout",
     "output_type": "stream",
     "text": [
      "             precision    recall  f1-score   support\n",
      "\n",
      "          0       0.56      0.48      0.52    152640\n",
      "          1       0.55      0.62      0.58    153112\n",
      "\n",
      "avg / total       0.55      0.55      0.55    305752\n",
      "\n"
     ]
    }
   ],
   "source": [
    "# create target_names\n",
    "t_names = ['0', '1']\n",
    "\n",
    "print(classification_report(y_train_bal, y_pred_bal, target_names=t_names))"
   ]
  },
  {
   "cell_type": "markdown",
   "metadata": {},
   "source": [
    "Using our balanced dataset, we achieve nearly the same ROC AUC score, but our accuracy score appears to be ... accurate.  This is because we are now predicting the positive class."
   ]
  },
  {
   "cell_type": "code",
   "execution_count": 20,
   "metadata": {
    "collapsed": false
   },
   "outputs": [
    {
     "data": {
      "text/plain": [
       "array([ 0.55030907,  0.56716052,  0.42805632,  0.52384223,  0.46801413,\n",
       "        0.48587058,  0.42996615,  0.31514007,  0.47385076,  0.48145513])"
      ]
     },
     "execution_count": 20,
     "metadata": {},
     "output_type": "execute_result"
    }
   ],
   "source": [
    "# let's find the cross validation score\n",
    "scores = cross_val_score(clf, X, y, cv=10)\n",
    "scores"
   ]
  },
  {
   "cell_type": "code",
   "execution_count": 21,
   "metadata": {
    "collapsed": false
   },
   "outputs": [
    {
     "name": "stdout",
     "output_type": "stream",
     "text": [
      "Accuracy: 0.47 (+/- 0.13635)\n"
     ]
    }
   ],
   "source": [
    "print(\"Accuracy: {0:.2f} (+/- {1:.5f})\".format(scores.mean(), scores.std() * 2))"
   ]
  },
  {
   "cell_type": "markdown",
   "metadata": {},
   "source": [
    "Awful - we are predicting worse than randomly guessing the outcome.  Can we fine tune the model to see if we can achieve a better score with the data that we have? "
   ]
  },
  {
   "cell_type": "code",
   "execution_count": 22,
   "metadata": {
    "collapsed": false
   },
   "outputs": [
    {
     "name": "stdout",
     "output_type": "stream",
     "text": [
      "Best Score: 0.5521795442057615\n",
      "Best Param: {'C': 0.01}\n"
     ]
    }
   ],
   "source": [
    "# We will use Grid Search to fine tune the C parameter\n",
    "\n",
    "# define search paramters for C\n",
    "params = {'C': [0.00001,0.0001,0.001, 0.01,0.1,1,10,100]}\n",
    "\n",
    "# declare grid search\n",
    "clf = LogisticRegression()\n",
    "grid = GridSearchCV(clf, param_grid=params, cv=5)\n",
    "\n",
    "# fit the model (this is using our balanced dataset from the above cell)\n",
    "grid.fit(X_train_scaled_bal, y_train_bal)\n",
    "\n",
    "# print results\n",
    "print('Best Score: {}'.format(grid.best_score_))\n",
    "print('Best Param: {}'.format(grid.best_params_))\n",
    "\n",
    "# We can view all results using the below\n",
    "# pd.DataFrame(grid.cv_results_)"
   ]
  },
  {
   "cell_type": "code",
   "execution_count": 48,
   "metadata": {
    "collapsed": false
   },
   "outputs": [
    {
     "name": "stdout",
     "output_type": "stream",
     "text": [
      "Resampled dataset shape Counter({0: 203835, 1: 203835})\n"
     ]
    }
   ],
   "source": [
    "from imblearn.over_sampling import SMOTE\n",
    "from collections import Counter\n",
    "\n",
    "X = pd.get_dummies(df[feat_eng_cols])\n",
    "y = df.is_bad\n",
    "\n",
    "sm = SMOTE(random_state=42)\n",
    "X_res, y_res = sm.fit_sample(X, y)\n",
    "\n",
    "print('Resampled dataset shape {}'.format(Counter(y_res)))"
   ]
  },
  {
   "cell_type": "code",
   "execution_count": 49,
   "metadata": {
    "collapsed": false,
    "scrolled": true
   },
   "outputs": [
    {
     "name": "stdout",
     "output_type": "stream",
     "text": [
      "R2: 0.5504559250634501\n",
      "RSE: 0.6704804806529046\n",
      "ROC AUC: 0.5503691136973201\n"
     ]
    }
   ],
   "source": [
    "# We now have balanced classes - let's try performing another logistic regression using this balanced dataset\n",
    "\n",
    "# split our data\n",
    "X_train_bal, X_test_bal, y_train_bal, y_test_bal = train_test_split(X_res, y_res, test_size=0.25, random_state=42)\n",
    "\n",
    "# scale the data\n",
    "sc = StandardScaler()\n",
    "X_train_scaled_bal = sc.fit_transform(X_train_bal)\n",
    "X_test_scaled_bal = sc.transform(X_test_bal)\n",
    "\n",
    "# fit the classifier\n",
    "clf = LogisticRegression()\n",
    "clf.fit(X_train_scaled_bal, y_train_bal)\n",
    "\n",
    "# predict using the training dataset\n",
    "y_pred_bal = clf.predict(X_train_scaled_bal)\n",
    "\n",
    "# find the prediction precentage for the 'default' class (which is the second column)\n",
    "y_score_bal = clf.predict_proba(X_train_scaled_bal)[:,1]\n",
    "\n",
    "# find the scores\n",
    "r2_score_bal = clf.score(X_train_scaled_bal, y_train_bal)\n",
    "mse_bal = mean_squared_error(y_train_bal, y_pred_bal)\n",
    "roc_auc_bal = roc_auc_score(y_train_bal, y_pred_bal)\n",
    "\n",
    "# print scores\n",
    "print('R2: {}'.format(r2_score_bal))\n",
    "print('RSE: {}'.format(np.sqrt(mse_bal)))\n",
    "print('ROC AUC: {}'.format(roc_auc_bal))\n"
   ]
  },
  {
   "cell_type": "code",
   "execution_count": 30,
   "metadata": {
    "collapsed": false
   },
   "outputs": [
    {
     "data": {
      "text/plain": [
       "array([[ 64397,  88376],\n",
       "       [ 49073, 103906]])"
      ]
     },
     "execution_count": 30,
     "metadata": {},
     "output_type": "execute_result"
    }
   ],
   "source": [
    "# create confusion matrix\n",
    "confusion_matrix(y_train_bal, y_pred_bal)"
   ]
  },
  {
   "cell_type": "code",
   "execution_count": 31,
   "metadata": {
    "collapsed": false
   },
   "outputs": [
    {
     "name": "stdout",
     "output_type": "stream",
     "text": [
      "             precision    recall  f1-score   support\n",
      "\n",
      "          0       0.57      0.42      0.48    152773\n",
      "          1       0.54      0.68      0.60    152979\n",
      "\n",
      "avg / total       0.55      0.55      0.54    305752\n",
      "\n"
     ]
    }
   ],
   "source": [
    "# create target_names\n",
    "t_names = ['0', '1']\n",
    "\n",
    "print(classification_report(y_train_bal, y_pred_bal, target_names=t_names))"
   ]
  },
  {
   "cell_type": "code",
   "execution_count": 36,
   "metadata": {
    "collapsed": false
   },
   "outputs": [
    {
     "data": {
      "text/plain": [
       "array([ 0.53375196,  0.53077577,  0.53571429,  0.52932134,  0.52798038,\n",
       "        0.53085854,  0.5352085 ,  0.53036795,  0.53249387,  0.52904429])"
      ]
     },
     "execution_count": 36,
     "metadata": {},
     "output_type": "execute_result"
    }
   ],
   "source": [
    "# let's find the cross validation score\n",
    "scores = cross_val_score(clf, X_train_bal, y_train_bal, cv=10)\n",
    "scores"
   ]
  },
  {
   "cell_type": "code",
   "execution_count": 37,
   "metadata": {
    "collapsed": false
   },
   "outputs": [
    {
     "name": "stdout",
     "output_type": "stream",
     "text": [
      "Accuracy: 0.53 (+/- 0.00502)\n"
     ]
    }
   ],
   "source": [
    "print(\"Accuracy: {0:.2f} (+/- {1:.5f})\".format(scores.mean(), scores.std() * 2))"
   ]
  },
  {
   "cell_type": "code",
   "execution_count": null,
   "metadata": {
    "collapsed": true
   },
   "outputs": [],
   "source": []
  },
  {
   "cell_type": "markdown",
   "metadata": {},
   "source": [
    "There is not much difference in the tuned parameter - This could be due to the very few predictors used to build this model.  We will improve on this in question #2.  But for now - let's plot our ROC curve for the balanced & unbalanced models:"
   ]
  },
  {
   "cell_type": "code",
   "execution_count": 38,
   "metadata": {
    "collapsed": false
   },
   "outputs": [
    {
     "data": {
      "image/png": "[encoded data removed]",
      "text/plain": [
       "<matplotlib.figure.Figure at 0x10f6685f8>"
      ]
     },
     "metadata": {},
     "output_type": "display_data"
    }
   ],
   "source": [
    "# create plot\n",
    "plt.figure(figsize=(6,6))\n",
    "\n",
    "# calculate false positives & true positives\n",
    "fpr, tpr, thresholds = roc_curve(y_train, y_score)\n",
    "fpr_bal, tpr_bal, thresholds_bal = roc_curve(y_train_bal, y_score_bal)\n",
    "\n",
    "# plot ROC curve & 50% line\n",
    "plt.plot(fpr, tpr, label='Unbalanced')\n",
    "plt.plot(fpr_bal, tpr_bal, label='Balanced')\n",
    "plt.plot([0,1], [0,1], color='black')\n",
    "\n",
    "# set labels\n",
    "plt.xlabel('false positive rate')\n",
    "plt.ylabel('true positive rate')\n",
    "plt.title('ROC curve - Logistic Regression')\n",
    "plt.legend()\n",
    "\n",
    "plt.show()"
   ]
  },
  {
   "cell_type": "markdown",
   "metadata": {},
   "source": [
    "**How does this accuracy compare to the benchmark of just predicting the majority class in the training set?**"
   ]
  },
  {
   "cell_type": "code",
   "execution_count": 39,
   "metadata": {
    "collapsed": false
   },
   "outputs": [
    {
     "name": "stdout",
     "output_type": "stream",
     "text": [
      "Majority benchmark: 0.8074176183289563\n"
     ]
    }
   ],
   "source": [
    "# We are going to look at the unbalanced data to find a benchmark of just predicting\n",
    "# the majority class in a training set\n",
    "majority = len(df[df.is_bad == 0])\n",
    "minority = len(df[df.is_bad == 1])\n",
    "\n",
    "print('Majority benchmark: {}'.format(majority / (majority + minority)))"
   ]
  },
  {
   "cell_type": "markdown",
   "metadata": {},
   "source": [
    "If we were to always predict the majority class of 'not-default', we would be accurate about 81% of the time.  We have a long way to go to improve our current model to better this statistic. "
   ]
  },
  {
   "cell_type": "markdown",
   "metadata": {},
   "source": [
    "**How does this accuracy compare to the benchmark of using lending club’s loan grade to predict defaults?**"
   ]
  },
  {
   "cell_type": "code",
   "execution_count": 45,
   "metadata": {
    "collapsed": true
   },
   "outputs": [],
   "source": [
    "# At the moment we have several columns which are direclty correlated to whether or not a borrower will default.\n",
    "# In order to create a model that predicts default status based soley on a borrowers loan application, I \n",
    "# will remove heavily correlated columns.  Columns which will be removed will include:  \n",
    "# 1) columns which are directly related to the probability of a default status (e.g. grade, sub_grade, loan_status)\n",
    "# 2) columns which relate to the current status of a loan (e.g. payment amounts, interest collected, etc). \n",
    "#    Ideally, we want to predict the status purely based on the loan application. \n",
    "    \n",
    "drop_cols = ['total_pymnt',\n",
    "             'total_pymnt_inv',\n",
    "             'total_rec_int',\n",
    "             'total_rec_late_fee',\n",
    "             'total_rec_prncp',\n",
    "             'funded_amnt',\n",
    "             'funded_amnt_inv',\n",
    "             'out_prncp',\n",
    "             'out_prncp_inv',\n",
    "             'last_pymnt_amnt',\n",
    "             'grade',\n",
    "            'sub_grade']"
   ]
  },
  {
   "cell_type": "code",
   "execution_count": 46,
   "metadata": {
    "collapsed": false
   },
   "outputs": [
    {
     "name": "stdout",
     "output_type": "stream",
     "text": [
      "A: 0.062\n",
      "B: 0.128\n",
      "C: 0.210\n",
      "D: 0.289\n",
      "E: 0.360\n",
      "F: 0.411\n",
      "G: 0.438\n"
     ]
    }
   ],
   "source": [
    "# Lets calculate the default rates for loans based on lending club's grades\n",
    "for g in sorted(df.grade.unique()):\n",
    "    \n",
    "    #calculate default rate\n",
    "    default_rate = df[(df.is_bad ==1) & (df.grade==g)].loan_amnt.count() / df[df.grade==g].loan_amnt.count() \n",
    "\n",
    "    print('{0}: {1:.3f}'.format(g, default_rate))"
   ]
  },
  {
   "cell_type": "code",
   "execution_count": 47,
   "metadata": {
    "collapsed": false
   },
   "outputs": [
    {
     "name": "stdout",
     "output_type": "stream",
     "text": [
      "A: 0.061\n",
      "B: 0.128\n",
      "C: 0.209\n",
      "D: 0.290\n",
      "E: 0.360\n",
      "F: 0.413\n",
      "G: 0.453\n"
     ]
    }
   ],
   "source": [
    "# Lets calculate the expected default rates for loans by grade using our classifier \n",
    "\n",
    "# loop through each grade\n",
    "for g in sorted(df.grade.unique()):\n",
    "    df_grades = df[df.grade==g]\n",
    "\n",
    "    # create our X and y datasets\n",
    "    X = df_grades[feat_eng_cols]\n",
    "    y = df_grades.is_bad\n",
    "\n",
    "    # create the dummies for our category columns & scale\n",
    "    X = pd.get_dummies(X)\n",
    "    X = sc.fit_transform(X)\n",
    "\n",
    "    # split our data\n",
    "    X_train, X_test, y_train, y_test = train_test_split(X, y, test_size=0.25, random_state=42)\n",
    "\n",
    "    # fit the classifier\n",
    "    clf = LogisticRegression()\n",
    "    clf.fit(X_train, y_train)\n",
    "\n",
    "    # find the scores\n",
    "    print('{0}: {1:.3f}'.format(g, np.mean(clf.predict_proba(X_train)[:, 1])))"
   ]
  },
  {
   "cell_type": "markdown",
   "metadata": {},
   "source": [
    "Using the unbalanced data, we find that we have very similar predictive probabilities.  However, let's look at the balanced dataset to find out if we have the same values. "
   ]
  },
  {
   "cell_type": "code",
   "execution_count": 211,
   "metadata": {
    "collapsed": false
   },
   "outputs": [
    {
     "name": "stdout",
     "output_type": "stream",
     "text": [
      "A: 0.216\n",
      "B: 0.384\n",
      "C: 0.529\n",
      "D: 0.629\n",
      "E: 0.701\n",
      "F: 0.746\n",
      "G: 0.764\n"
     ]
    }
   ],
   "source": [
    "# Lets calculate the expected default rates for loans by grade using our classifier \n",
    "\n",
    "from imblearn.over_sampling import SMOTE\n",
    "from collections import Counter\n",
    "\n",
    "X = pd.get_dummies(df[feat_eng_cols])\n",
    "y = df.is_bad\n",
    "\n",
    "sm = SMOTE(random_state=42)\n",
    "X_res, y_res = sm.fit_sample(X, y)\n",
    "\n",
    "#print('Resampled dataset shape {}'.format(Counter(y_res)))\n",
    "\n",
    "\n",
    "grade_scores = {}\n",
    "\n",
    "# loop through each grade\n",
    "for g in sorted(df.grade.unique()):\n",
    "    df_grades = df_upsampled[df_upsampled.grade==g]\n",
    "\n",
    "    # create our X and y datasets\n",
    "    X = df_grades[feat_eng_cols]\n",
    "    y = df_grades.is_bad\n",
    "\n",
    "    # create the dummies for our category columns & scale\n",
    "    X = pd.get_dummies(X)\n",
    "    X = sc.fit_transform(X)\n",
    "\n",
    "    # split our data\n",
    "    X_train, X_test, y_train, y_test = train_test_split(X, y, test_size=0.25, random_state=42)\n",
    "\n",
    "    # fit the classifier\n",
    "    clf = LogisticRegression()\n",
    "    clf.fit(X_train, y_train)\n",
    "\n",
    "    # find the scores\n",
    "    print('{0}: {1:.3f}'.format(g, np.mean(clf.predict_proba(X_train)[:, 1])))"
   ]
  },
  {
   "cell_type": "markdown",
   "metadata": {},
   "source": [
    "We find that with the balanced dataset we have worse prediction scores.  This is most likely due to the fact that our model is actually predicting both classes, whereas the model using unbalanced data is only predicting the negative outcome. "
   ]
  },
  {
   "cell_type": "markdown",
   "metadata": {},
   "source": [
    "## Question 2 (Classification)\n",
    "\n",
    "In the last question you used all your engineered features in making your model.\n",
    "* Was this a good idea? \n",
    "* Are some of your features correlated and did you discover this during preprocessing? \n",
    "* Is your model suffering from the curse of dimensionality with many features, some of which don’t provide additional value potentially due to correlation? \n",
    "* Do feature selection by hand, through stepwise regression, or do dimension reduction. What is your R2, RSE, or other measure of your new model fit with feature selection? \n",
    "* Now, Pick another model type entirely such as knn, decision trees, or random forest. Consider that certain algorithms such as decision trees do feature selection for you while knn does not. Can you improve upon the performance compared to your previous models using this new model type?\n",
    "* Which algorithm performed best? How do you define best? \n",
    "* Why did this algorithm perform best? \n",
    "* Now compare all the different models you made on your test set. "
   ]
  },
  {
   "cell_type": "code",
   "execution_count": 249,
   "metadata": {
    "collapsed": false
   },
   "outputs": [
    {
     "name": "stdout",
     "output_type": "stream",
     "text": [
      "<class 'pandas.core.frame.DataFrame'>\n",
      "Int64Index: 252453 entries, 0 to 65441\n",
      "Data columns (total 74 columns):\n",
      "loan_amnt                     252453 non-null float64\n",
      "funded_amnt                   252453 non-null float64\n",
      "funded_amnt_inv               252453 non-null float64\n",
      "term                          252453 non-null int64\n",
      "int_rate                      252453 non-null float64\n",
      "installment                   252453 non-null float64\n",
      "grade                         252453 non-null category\n",
      "sub_grade                     252453 non-null category\n",
      "emp_length                    252453 non-null int64\n",
      "home_ownership                252453 non-null category\n",
      "annual_inc                    252453 non-null float64\n",
      "verification_status           252453 non-null category\n",
      "loan_status                   252453 non-null category\n",
      "purpose                       252453 non-null category\n",
      "addr_state                    252453 non-null category\n",
      "dti                           252453 non-null float64\n",
      "delinq_2yrs                   252453 non-null float64\n",
      "open_acc                      252453 non-null float64\n",
      "revol_bal                     252453 non-null float64\n",
      "revol_util                    252453 non-null float64\n",
      "total_acc                     252453 non-null float64\n",
      "initial_list_status           252453 non-null category\n",
      "out_prncp                     252453 non-null float64\n",
      "out_prncp_inv                 252453 non-null float64\n",
      "total_pymnt                   252453 non-null float64\n",
      "total_pymnt_inv               252453 non-null float64\n",
      "total_rec_prncp               252453 non-null float64\n",
      "total_rec_int                 252453 non-null float64\n",
      "total_rec_late_fee            252453 non-null float64\n",
      "recoveries                    252453 non-null float64\n",
      "collection_recovery_fee       252453 non-null float64\n",
      "last_pymnt_amnt               252453 non-null float64\n",
      "collections_12_mths_ex_med    252453 non-null float64\n",
      "application_type              252453 non-null category\n",
      "acc_now_delinq                252453 non-null float64\n",
      "tot_coll_amt                  252453 non-null float64\n",
      "tot_cur_bal                   252453 non-null float64\n",
      "total_rev_hi_lim              252453 non-null float64\n",
      "acc_open_past_24mths          252453 non-null float64\n",
      "avg_cur_bal                   252453 non-null float64\n",
      "chargeoff_within_12_mths      252453 non-null float64\n",
      "delinq_amnt                   252453 non-null float64\n",
      "mo_sin_old_rev_tl_op          252453 non-null float64\n",
      "mo_sin_rcnt_rev_tl_op         252453 non-null float64\n",
      "mo_sin_rcnt_tl                252453 non-null float64\n",
      "mort_acc                      252453 non-null float64\n",
      "num_accts_ever_120_pd         252453 non-null float64\n",
      "num_actv_bc_tl                252453 non-null float64\n",
      "num_actv_rev_tl               252453 non-null float64\n",
      "num_bc_sats                   252453 non-null float64\n",
      "num_bc_tl                     252453 non-null float64\n",
      "num_il_tl                     252453 non-null float64\n",
      "num_op_rev_tl                 252453 non-null float64\n",
      "num_rev_accts                 252453 non-null float64\n",
      "num_rev_tl_bal_gt_0           252453 non-null float64\n",
      "num_sats                      252453 non-null float64\n",
      "num_tl_30dpd                  252453 non-null float64\n",
      "num_tl_90g_dpd_24m            252453 non-null float64\n",
      "num_tl_op_past_12m            252453 non-null float64\n",
      "pub_rec_bankruptcies          252453 non-null float64\n",
      "tax_liens                     252453 non-null float64\n",
      "tot_hi_cred_lim               252453 non-null float64\n",
      "total_bal_ex_mort             252453 non-null float64\n",
      "total_bc_limit                252453 non-null float64\n",
      "total_il_high_credit_limit    252453 non-null float64\n",
      "hardship_flag                 252453 non-null category\n",
      "low_deliquent_job             252453 non-null int64\n",
      "credit_line_length_mnths      252453 non-null float64\n",
      "is_bad                        252453 non-null int64\n",
      "inq_last_6mths_cat            252453 non-null category\n",
      "pub_rec_cat                   252453 non-null category\n",
      "fully_funded                  252453 non-null category\n",
      "issue_d_month                 252453 non-null int64\n",
      "issue_d_year                  252453 non-null int64\n",
      "dtypes: category(13), float64(55), int64(6)\n",
      "memory usage: 122.5 MB\n"
     ]
    }
   ],
   "source": [
    "df.info()"
   ]
  },
  {
   "cell_type": "code",
   "execution_count": 91,
   "metadata": {
    "collapsed": true
   },
   "outputs": [],
   "source": [
    "# Using only the engineered features did not go very well - We had very low accuracy overall. \n",
    "# Additional features may help to improve model performance.  Let's consider using ALL features \n",
    "# for a model this time around.\n",
    "\n",
    "# At the moment we have several columns which are direclty correlated to whether or not a borrower will default.\n",
    "# In order to create a model that predicts default status based soley on a borrowers loan application, I \n",
    "# will remove heavily correlated columns.  Columns which will be removed will include:  \n",
    "# 1) columns which are directly related to the probability of a default status (e.g. grade, sub_grade, loan_status)\n",
    "# 2) columns which relate to the current status of a loan (e.g. payment amounts, interest collected, etc). \n",
    "#    Ideally, we want to predict the status purely based on the loan application. \n",
    "    \n",
    "drop_cols = ['total_pymnt',\n",
    "             'total_pymnt_inv',\n",
    "             'total_rec_int',\n",
    "             'total_rec_late_fee',\n",
    "             'total_rec_prncp',\n",
    "             'funded_amnt',\n",
    "             'funded_amnt_inv',\n",
    "             'out_prncp',\n",
    "             'out_prncp_inv',\n",
    "             'last_pymnt_amnt',\n",
    "             'grade',\n",
    "             'is_bad',\n",
    "            'sub_grade',\n",
    "            'loan_status']\n",
    "\n"
   ]
  },
  {
   "cell_type": "code",
   "execution_count": 92,
   "metadata": {
    "collapsed": false
   },
   "outputs": [
    {
     "data": {
      "text/plain": [
       "Index(['loan_amnt', 'term', 'int_rate', 'installment', 'emp_length',\n",
       "       'home_ownership', 'annual_inc', 'verification_status', 'purpose',\n",
       "       'addr_state', 'dti', 'delinq_2yrs', 'open_acc', 'revol_bal',\n",
       "       'revol_util', 'total_acc', 'initial_list_status', 'recoveries',\n",
       "       'collection_recovery_fee', 'collections_12_mths_ex_med',\n",
       "       'application_type', 'acc_now_delinq', 'tot_coll_amt', 'tot_cur_bal',\n",
       "       'total_rev_hi_lim', 'acc_open_past_24mths', 'avg_cur_bal',\n",
       "       'chargeoff_within_12_mths', 'delinq_amnt', 'mo_sin_old_rev_tl_op',\n",
       "       'mo_sin_rcnt_rev_tl_op', 'mo_sin_rcnt_tl', 'mort_acc',\n",
       "       'num_accts_ever_120_pd', 'num_actv_bc_tl', 'num_actv_rev_tl',\n",
       "       'num_bc_sats', 'num_bc_tl', 'num_il_tl', 'num_op_rev_tl',\n",
       "       'num_rev_accts', 'num_rev_tl_bal_gt_0', 'num_sats', 'num_tl_30dpd',\n",
       "       'num_tl_90g_dpd_24m', 'num_tl_op_past_12m', 'pub_rec_bankruptcies',\n",
       "       'tax_liens', 'tot_hi_cred_lim', 'total_bal_ex_mort', 'total_bc_limit',\n",
       "       'total_il_high_credit_limit', 'hardship_flag', 'low_deliquent_job',\n",
       "       'credit_line_length_mnths', 'inq_last_6mths_cat', 'pub_rec_cat',\n",
       "       'fully_funded', 'issue_d_month', 'issue_d_year'],\n",
       "      dtype='object')"
      ]
     },
     "execution_count": 92,
     "metadata": {},
     "output_type": "execute_result"
    }
   ],
   "source": [
    "df.drop(drop_cols, axis=1).columns"
   ]
  },
  {
   "cell_type": "code",
   "execution_count": 100,
   "metadata": {
    "collapsed": false
   },
   "outputs": [],
   "source": [
    "# create our X and y datasets\n",
    "X = pd.get_dummies(df.drop(drop_cols, axis=1))\n",
    "y = df.is_bad\n",
    "\n",
    "# split our data\n",
    "X_train, X_test, y_train, y_test = train_test_split(X, y, test_size=0.25, random_state=42)\n",
    "\n",
    "# balance our dataset\n",
    "sm = SMOTE(random_state=42)\n",
    "X_res, y_res = sm.fit_sample(X_train,y_train)\n",
    "X_test_res, y_test_res = sm.fit_sample(X_test,y_test)\n",
    "\n"
   ]
  },
  {
   "cell_type": "code",
   "execution_count": 98,
   "metadata": {
    "collapsed": false
   },
   "outputs": [
    {
     "data": {
      "text/plain": [
       "0    152880\n",
       "1     36459\n",
       "Name: is_bad, dtype: int64"
      ]
     },
     "execution_count": 98,
     "metadata": {},
     "output_type": "execute_result"
    }
   ],
   "source": [
    "y_train.value_counts()"
   ]
  },
  {
   "cell_type": "code",
   "execution_count": 101,
   "metadata": {
    "collapsed": false
   },
   "outputs": [
    {
     "name": "stdout",
     "output_type": "stream",
     "text": [
      "R2: 0.8503401360544217\n",
      "RSE: 0.3868589716493314\n",
      "ROC AUC: 0.9261062008529208\n"
     ]
    }
   ],
   "source": [
    "# let's try building a pipeline\n",
    "pipe = Pipeline([\n",
    "        ('scaler', StandardScaler()),\n",
    "        ('clf', LogisticRegression())\n",
    "    ])\n",
    "\n",
    "# fit the data\n",
    "pipe.fit(X_res, y_res)\n",
    "\n",
    "# predict X\n",
    "y_pred = pipe.predict(X_res)\n",
    "\n",
    "# find the assigned scores for the y predictions (which is the second column in predicitions)\n",
    "y_score = pipe.predict_proba(X_res)[:,1]\n",
    "\n",
    "# find the scores\n",
    "r2_score = pipe.score(X_res, y_res)\n",
    "mse = mean_squared_error(y_res,y_pred)\n",
    "roc_auc = roc_auc_score(y_res, y_score)\n",
    "\n",
    "# print scores\n",
    "print('R2: {}'.format(r2_score))\n",
    "print('RSE: {}'.format(np.sqrt(mse)))\n",
    "print('ROC AUC: {}'.format(roc_auc))"
   ]
  },
  {
   "cell_type": "code",
   "execution_count": 102,
   "metadata": {
    "collapsed": false
   },
   "outputs": [
    {
     "name": "stdout",
     "output_type": "stream",
     "text": [
      "R2: 0.8507604749288588\n",
      "RSE: 0.38631531819375375\n",
      "ROC AUC: 0.926151863358436\n"
     ]
    }
   ],
   "source": [
    "# predict X\n",
    "y_pred = pipe.predict(X_test_res)\n",
    "\n",
    "# find the assigned scores for the y predictions (which is the second column in predicitions)\n",
    "y_score = pipe.predict_proba(X_test_res)[:,1]\n",
    "\n",
    "# find the scores\n",
    "r2_score = pipe.score(X_test_res, y_test_res)\n",
    "mse = mean_squared_error(y_test_res,y_pred)\n",
    "roc_auc = roc_auc_score(y_test_res, y_score)\n",
    "\n",
    "# print scores\n",
    "print('R2: {}'.format(r2_score))\n",
    "print('RSE: {}'.format(np.sqrt(mse)))\n",
    "print('ROC AUC: {}'.format(roc_auc))"
   ]
  },
  {
   "cell_type": "code",
   "execution_count": 121,
   "metadata": {
    "collapsed": false
   },
   "outputs": [
    {
     "name": "stdout",
     "output_type": "stream",
     "text": [
      "R2: 0.8445643642072214\n",
      "RSE: 0.3942532635156983\n",
      "ROC AUC: 0.9207554572819346\n"
     ]
    }
   ],
   "source": [
    "from sklearn.pipeline import Pipeline\n",
    "from sklearn.svm import LinearSVC\n",
    "\n",
    "pipe = Pipeline([\n",
    "    ('scaler', StandardScaler()),\n",
    "    ('feature_selection', SelectFromModel(LinearSVC(C=0.1, penalty='l1', dual=False), threshold=0.05)),\n",
    "    ('clf', LogisticRegression())\n",
    "])\n",
    "\n",
    "# fit the data\n",
    "pipe.fit(X_res, y_res)\n",
    "\n",
    "# predict X\n",
    "y_pred = pipe.predict(X_res)\n",
    "\n",
    "# find the assigned scores for the y predictions (which is the second column in predicitions)\n",
    "y_score = pipe.predict_proba(X_res)[:,1]\n",
    "\n",
    "# find the scores\n",
    "r2_score = pipe.score(X_res, y_res)\n",
    "mse = mean_squared_error(y_res,y_pred)\n",
    "roc_auc = roc_auc_score(y_res, y_score)\n",
    "\n",
    "# print scores\n",
    "print('R2: {}'.format(r2_score))\n",
    "print('RSE: {}'.format(np.sqrt(mse)))\n",
    "print('ROC AUC: {}'.format(roc_auc))"
   ]
  },
  {
   "cell_type": "code",
   "execution_count": 140,
   "metadata": {
    "collapsed": false
   },
   "outputs": [
    {
     "name": "stdout",
     "output_type": "stream",
     "text": [
      "Processing LinearSVC using 1e-05\n",
      "Processing LinearSVC using 0.01\n",
      "Processing LinearSVC using 0.02\n",
      "Processing LinearSVC using 0.03\n",
      "Processing LinearSVC using 0.04\n",
      "Processing LinearSVC using 0.05\n",
      "Processing LinearSVC using 0.06\n",
      "Processing LinearSVC using 0.07\n",
      "Processing LinearSVC using 0.1\n",
      "Processing LinearSVC using mean\n",
      "Processing LassoCV using 1e-05\n",
      "Processing LassoCV using 0.01\n",
      "Processing LassoCV using 0.02\n",
      "Processing LassoCV using 0.03\n",
      "Processing LassoCV using 0.04\n",
      "Processing LassoCV using 0.05\n",
      "Processing LassoCV using 0.06\n",
      "Processing LassoCV using 0.07\n",
      "Processing LassoCV using 0.1\n",
      "Processing LassoCV using mean\n",
      "Processing ExtraTreesClassifier using 1e-05\n",
      "Processing ExtraTreesClassifier using 0.01\n",
      "Processing ExtraTreesClassifier using 0.02\n",
      "Processing ExtraTreesClassifier using 0.03\n",
      "Processing ExtraTreesClassifier using 0.04\n",
      "Processing ExtraTreesClassifier using 0.05\n",
      "Processing ExtraTreesClassifier using 0.06\n",
      "Processing ExtraTreesClassifier using 0.07\n",
      "Processing ExtraTreesClassifier using 0.1\n",
      "Processing ExtraTreesClassifier using mean\n"
     ]
    }
   ],
   "source": [
    "from sklearn.pipeline import Pipeline\n",
    "from sklearn.linear_model import LassoCV\n",
    "from sklearn.svm import LinearSVC\n",
    "\n",
    "clf_lsvc = LinearSVC(C=0.1, penalty='l1', dual=False)\n",
    "clf_lasso = LassoCV()\n",
    "clf_etc = ExtraTreesClassifier()\n",
    "\n",
    "feat_selectors = [clf_lsvc, clf_lasso, clf_etc]\n",
    "feat_selector_names = ['LinearSVC', 'LassoCV', 'ExtraTreesClassifier']\n",
    "thresholds = [0.00001, 0.01, 0.02, 0.03, 0.04, 0.05, 0.06, 0.07, 0.1, 'mean']\n",
    "\n",
    "results=[]\n",
    "column_names = ['feat_selector', 'threshold', 'accuracy', 'mse', 'roc_auc', 'features_selected']\n",
    "\n",
    "for i, fs in enumerate(feat_selectors):\n",
    "        \n",
    "    for j, t in enumerate(thresholds):\n",
    "        \n",
    "        print('Processing {} using {}'.format(feat_selector_names[i], thresholds[j]))\n",
    "        # create pipeline\n",
    "        pipe = Pipeline([\n",
    "            ('scaler', StandardScaler()),\n",
    "            ('feature_selection', SelectFromModel(fs, threshold=t)),\n",
    "            ('clf', LogisticRegression())\n",
    "        ])\n",
    "\n",
    "        # fit the data\n",
    "        pipe.fit(X_res, y_res)\n",
    "\n",
    "        # predict X\n",
    "        y_pred = pipe.predict(X_res)\n",
    "\n",
    "        # find the assigned scores for the y predictions (which is the second column in predicitions)\n",
    "        y_score = pipe.predict_proba(X_res)[:,1]\n",
    "\n",
    "        # find the scores\n",
    "        r2_score = pipe.score(X_res, y_res)\n",
    "        mse = mean_squared_error(y_res,y_pred)\n",
    "        roc_auc = roc_auc_score(y_res, y_score)\n",
    "        \n",
    "        result= (feat_selector_names[i], \n",
    "                 thresholds[j], \n",
    "                 r2_score, \n",
    "                 np.sqrt(mse), \n",
    "                 roc_auc, \n",
    "                 np.sum(pipe.named_steps['feature_selection'].get_support())\n",
    "                )\n",
    "        \n",
    "        results.append(result)\n",
    "\n",
    "        # print scores\n",
    "        #print('R2: {}'.format(r2_score))\n",
    "        #print('RSE: {}'.format(np.sqrt(mse)))\n",
    "        #print('ROC AUC: {}'.format(roc_auc))"
   ]
  },
  {
   "cell_type": "code",
   "execution_count": 141,
   "metadata": {
    "collapsed": false
   },
   "outputs": [
    {
     "data": {
      "text/html": [
       "<div>\n",
       "<style scoped>\n",
       "    .dataframe tbody tr th:only-of-type {\n",
       "        vertical-align: middle;\n",
       "    }\n",
       "\n",
       "    .dataframe tbody tr th {\n",
       "        vertical-align: top;\n",
       "    }\n",
       "\n",
       "    .dataframe thead th {\n",
       "        text-align: right;\n",
       "    }\n",
       "</style>\n",
       "<table border=\"1\" class=\"dataframe\">\n",
       "  <thead>\n",
       "    <tr style=\"text-align: right;\">\n",
       "      <th></th>\n",
       "      <th>feat_selector</th>\n",
       "      <th>threshold</th>\n",
       "      <th>accuracy</th>\n",
       "      <th>mse</th>\n",
       "      <th>roc_auc</th>\n",
       "      <th>features_selected</th>\n",
       "    </tr>\n",
       "  </thead>\n",
       "  <tbody>\n",
       "    <tr>\n",
       "      <th>0</th>\n",
       "      <td>LinearSVC</td>\n",
       "      <td>1e-05</td>\n",
       "      <td>0.850285</td>\n",
       "      <td>0.386931</td>\n",
       "      <td>0.926070</td>\n",
       "      <td>123</td>\n",
       "    </tr>\n",
       "    <tr>\n",
       "      <th>1</th>\n",
       "      <td>LinearSVC</td>\n",
       "      <td>0.01</td>\n",
       "      <td>0.850003</td>\n",
       "      <td>0.387294</td>\n",
       "      <td>0.925649</td>\n",
       "      <td>54</td>\n",
       "    </tr>\n",
       "    <tr>\n",
       "      <th>2</th>\n",
       "      <td>LinearSVC</td>\n",
       "      <td>0.02</td>\n",
       "      <td>0.849506</td>\n",
       "      <td>0.387935</td>\n",
       "      <td>0.924649</td>\n",
       "      <td>34</td>\n",
       "    </tr>\n",
       "    <tr>\n",
       "      <th>3</th>\n",
       "      <td>LinearSVC</td>\n",
       "      <td>0.03</td>\n",
       "      <td>0.847544</td>\n",
       "      <td>0.390456</td>\n",
       "      <td>0.923186</td>\n",
       "      <td>21</td>\n",
       "    </tr>\n",
       "    <tr>\n",
       "      <th>4</th>\n",
       "      <td>LinearSVC</td>\n",
       "      <td>0.04</td>\n",
       "      <td>0.846429</td>\n",
       "      <td>0.391882</td>\n",
       "      <td>0.921805</td>\n",
       "      <td>14</td>\n",
       "    </tr>\n",
       "    <tr>\n",
       "      <th>5</th>\n",
       "      <td>LinearSVC</td>\n",
       "      <td>0.05</td>\n",
       "      <td>0.844564</td>\n",
       "      <td>0.394253</td>\n",
       "      <td>0.920755</td>\n",
       "      <td>12</td>\n",
       "    </tr>\n",
       "    <tr>\n",
       "      <th>6</th>\n",
       "      <td>LinearSVC</td>\n",
       "      <td>0.06</td>\n",
       "      <td>0.843315</td>\n",
       "      <td>0.395835</td>\n",
       "      <td>0.918701</td>\n",
       "      <td>8</td>\n",
       "    </tr>\n",
       "    <tr>\n",
       "      <th>7</th>\n",
       "      <td>LinearSVC</td>\n",
       "      <td>0.07</td>\n",
       "      <td>0.843315</td>\n",
       "      <td>0.395835</td>\n",
       "      <td>0.918701</td>\n",
       "      <td>8</td>\n",
       "    </tr>\n",
       "    <tr>\n",
       "      <th>8</th>\n",
       "      <td>LinearSVC</td>\n",
       "      <td>0.1</td>\n",
       "      <td>0.842285</td>\n",
       "      <td>0.397134</td>\n",
       "      <td>0.907700</td>\n",
       "      <td>5</td>\n",
       "    </tr>\n",
       "    <tr>\n",
       "      <th>9</th>\n",
       "      <td>LinearSVC</td>\n",
       "      <td>mean</td>\n",
       "      <td>0.844597</td>\n",
       "      <td>0.394212</td>\n",
       "      <td>0.883353</td>\n",
       "      <td>2</td>\n",
       "    </tr>\n",
       "    <tr>\n",
       "      <th>10</th>\n",
       "      <td>LassoCV</td>\n",
       "      <td>1e-05</td>\n",
       "      <td>0.850291</td>\n",
       "      <td>0.386922</td>\n",
       "      <td>0.926064</td>\n",
       "      <td>113</td>\n",
       "    </tr>\n",
       "    <tr>\n",
       "      <th>11</th>\n",
       "      <td>LassoCV</td>\n",
       "      <td>0.01</td>\n",
       "      <td>0.848764</td>\n",
       "      <td>0.388891</td>\n",
       "      <td>0.923865</td>\n",
       "      <td>29</td>\n",
       "    </tr>\n",
       "    <tr>\n",
       "      <th>12</th>\n",
       "      <td>LassoCV</td>\n",
       "      <td>0.02</td>\n",
       "      <td>0.846736</td>\n",
       "      <td>0.391489</td>\n",
       "      <td>0.917153</td>\n",
       "      <td>14</td>\n",
       "    </tr>\n",
       "    <tr>\n",
       "      <th>13</th>\n",
       "      <td>LassoCV</td>\n",
       "      <td>0.03</td>\n",
       "      <td>0.844456</td>\n",
       "      <td>0.394390</td>\n",
       "      <td>0.914499</td>\n",
       "      <td>8</td>\n",
       "    </tr>\n",
       "    <tr>\n",
       "      <th>14</th>\n",
       "      <td>LassoCV</td>\n",
       "      <td>0.04</td>\n",
       "      <td>0.843397</td>\n",
       "      <td>0.395731</td>\n",
       "      <td>0.913193</td>\n",
       "      <td>5</td>\n",
       "    </tr>\n",
       "    <tr>\n",
       "      <th>15</th>\n",
       "      <td>LassoCV</td>\n",
       "      <td>0.05</td>\n",
       "      <td>0.840581</td>\n",
       "      <td>0.399273</td>\n",
       "      <td>0.908485</td>\n",
       "      <td>4</td>\n",
       "    </tr>\n",
       "    <tr>\n",
       "      <th>16</th>\n",
       "      <td>LassoCV</td>\n",
       "      <td>0.06</td>\n",
       "      <td>0.843760</td>\n",
       "      <td>0.395272</td>\n",
       "      <td>0.883353</td>\n",
       "      <td>1</td>\n",
       "    </tr>\n",
       "    <tr>\n",
       "      <th>17</th>\n",
       "      <td>LassoCV</td>\n",
       "      <td>0.07</td>\n",
       "      <td>0.843760</td>\n",
       "      <td>0.395272</td>\n",
       "      <td>0.883353</td>\n",
       "      <td>1</td>\n",
       "    </tr>\n",
       "    <tr>\n",
       "      <th>18</th>\n",
       "      <td>LassoCV</td>\n",
       "      <td>0.1</td>\n",
       "      <td>0.843760</td>\n",
       "      <td>0.395272</td>\n",
       "      <td>0.883353</td>\n",
       "      <td>1</td>\n",
       "    </tr>\n",
       "    <tr>\n",
       "      <th>19</th>\n",
       "      <td>LassoCV</td>\n",
       "      <td>mean</td>\n",
       "      <td>0.849258</td>\n",
       "      <td>0.388256</td>\n",
       "      <td>0.924111</td>\n",
       "      <td>32</td>\n",
       "    </tr>\n",
       "    <tr>\n",
       "      <th>20</th>\n",
       "      <td>ExtraTreesClassifier</td>\n",
       "      <td>1e-05</td>\n",
       "      <td>0.850334</td>\n",
       "      <td>0.386867</td>\n",
       "      <td>0.926106</td>\n",
       "      <td>130</td>\n",
       "    </tr>\n",
       "    <tr>\n",
       "      <th>21</th>\n",
       "      <td>ExtraTreesClassifier</td>\n",
       "      <td>0.01</td>\n",
       "      <td>0.842890</td>\n",
       "      <td>0.396371</td>\n",
       "      <td>0.917497</td>\n",
       "      <td>19</td>\n",
       "    </tr>\n",
       "    <tr>\n",
       "      <th>22</th>\n",
       "      <td>ExtraTreesClassifier</td>\n",
       "      <td>0.02</td>\n",
       "      <td>0.841899</td>\n",
       "      <td>0.397619</td>\n",
       "      <td>0.913030</td>\n",
       "      <td>13</td>\n",
       "    </tr>\n",
       "    <tr>\n",
       "      <th>23</th>\n",
       "      <td>ExtraTreesClassifier</td>\n",
       "      <td>0.03</td>\n",
       "      <td>0.840408</td>\n",
       "      <td>0.399490</td>\n",
       "      <td>0.912062</td>\n",
       "      <td>8</td>\n",
       "    </tr>\n",
       "    <tr>\n",
       "      <th>24</th>\n",
       "      <td>ExtraTreesClassifier</td>\n",
       "      <td>0.04</td>\n",
       "      <td>0.844833</td>\n",
       "      <td>0.393913</td>\n",
       "      <td>0.895398</td>\n",
       "      <td>5</td>\n",
       "    </tr>\n",
       "    <tr>\n",
       "      <th>25</th>\n",
       "      <td>ExtraTreesClassifier</td>\n",
       "      <td>0.05</td>\n",
       "      <td>0.845565</td>\n",
       "      <td>0.392982</td>\n",
       "      <td>0.899287</td>\n",
       "      <td>3</td>\n",
       "    </tr>\n",
       "    <tr>\n",
       "      <th>26</th>\n",
       "      <td>ExtraTreesClassifier</td>\n",
       "      <td>0.06</td>\n",
       "      <td>0.844597</td>\n",
       "      <td>0.394212</td>\n",
       "      <td>0.883353</td>\n",
       "      <td>2</td>\n",
       "    </tr>\n",
       "    <tr>\n",
       "      <th>27</th>\n",
       "      <td>ExtraTreesClassifier</td>\n",
       "      <td>0.07</td>\n",
       "      <td>0.844597</td>\n",
       "      <td>0.394212</td>\n",
       "      <td>0.883353</td>\n",
       "      <td>2</td>\n",
       "    </tr>\n",
       "    <tr>\n",
       "      <th>28</th>\n",
       "      <td>ExtraTreesClassifier</td>\n",
       "      <td>0.1</td>\n",
       "      <td>0.843760</td>\n",
       "      <td>0.395272</td>\n",
       "      <td>0.883353</td>\n",
       "      <td>1</td>\n",
       "    </tr>\n",
       "    <tr>\n",
       "      <th>29</th>\n",
       "      <td>ExtraTreesClassifier</td>\n",
       "      <td>mean</td>\n",
       "      <td>0.846085</td>\n",
       "      <td>0.392320</td>\n",
       "      <td>0.920468</td>\n",
       "      <td>25</td>\n",
       "    </tr>\n",
       "  </tbody>\n",
       "</table>\n",
       "</div>"
      ],
      "text/plain": [
       "           feat_selector threshold  accuracy       mse   roc_auc  \\\n",
       "0              LinearSVC     1e-05  0.850285  0.386931  0.926070   \n",
       "1              LinearSVC      0.01  0.850003  0.387294  0.925649   \n",
       "2              LinearSVC      0.02  0.849506  0.387935  0.924649   \n",
       "3              LinearSVC      0.03  0.847544  0.390456  0.923186   \n",
       "4              LinearSVC      0.04  0.846429  0.391882  0.921805   \n",
       "5              LinearSVC      0.05  0.844564  0.394253  0.920755   \n",
       "6              LinearSVC      0.06  0.843315  0.395835  0.918701   \n",
       "7              LinearSVC      0.07  0.843315  0.395835  0.918701   \n",
       "8              LinearSVC       0.1  0.842285  0.397134  0.907700   \n",
       "9              LinearSVC      mean  0.844597  0.394212  0.883353   \n",
       "10               LassoCV     1e-05  0.850291  0.386922  0.926064   \n",
       "11               LassoCV      0.01  0.848764  0.388891  0.923865   \n",
       "12               LassoCV      0.02  0.846736  0.391489  0.917153   \n",
       "13               LassoCV      0.03  0.844456  0.394390  0.914499   \n",
       "14               LassoCV      0.04  0.843397  0.395731  0.913193   \n",
       "15               LassoCV      0.05  0.840581  0.399273  0.908485   \n",
       "16               LassoCV      0.06  0.843760  0.395272  0.883353   \n",
       "17               LassoCV      0.07  0.843760  0.395272  0.883353   \n",
       "18               LassoCV       0.1  0.843760  0.395272  0.883353   \n",
       "19               LassoCV      mean  0.849258  0.388256  0.924111   \n",
       "20  ExtraTreesClassifier     1e-05  0.850334  0.386867  0.926106   \n",
       "21  ExtraTreesClassifier      0.01  0.842890  0.396371  0.917497   \n",
       "22  ExtraTreesClassifier      0.02  0.841899  0.397619  0.913030   \n",
       "23  ExtraTreesClassifier      0.03  0.840408  0.399490  0.912062   \n",
       "24  ExtraTreesClassifier      0.04  0.844833  0.393913  0.895398   \n",
       "25  ExtraTreesClassifier      0.05  0.845565  0.392982  0.899287   \n",
       "26  ExtraTreesClassifier      0.06  0.844597  0.394212  0.883353   \n",
       "27  ExtraTreesClassifier      0.07  0.844597  0.394212  0.883353   \n",
       "28  ExtraTreesClassifier       0.1  0.843760  0.395272  0.883353   \n",
       "29  ExtraTreesClassifier      mean  0.846085  0.392320  0.920468   \n",
       "\n",
       "    features_selected  \n",
       "0                 123  \n",
       "1                  54  \n",
       "2                  34  \n",
       "3                  21  \n",
       "4                  14  \n",
       "5                  12  \n",
       "6                   8  \n",
       "7                   8  \n",
       "8                   5  \n",
       "9                   2  \n",
       "10                113  \n",
       "11                 29  \n",
       "12                 14  \n",
       "13                  8  \n",
       "14                  5  \n",
       "15                  4  \n",
       "16                  1  \n",
       "17                  1  \n",
       "18                  1  \n",
       "19                 32  \n",
       "20                130  \n",
       "21                 19  \n",
       "22                 13  \n",
       "23                  8  \n",
       "24                  5  \n",
       "25                  3  \n",
       "26                  2  \n",
       "27                  2  \n",
       "28                  1  \n",
       "29                 25  "
      ]
     },
     "execution_count": 141,
     "metadata": {},
     "output_type": "execute_result"
    }
   ],
   "source": [
    "pd.DataFrame(results, columns=column_names)"
   ]
  },
  {
   "cell_type": "markdown",
   "metadata": {},
   "source": [
    "We are going to choose LinearSVC with a threshold of 0.03.  We've reduced features down to 21, while keeping the a high AUC and lose MSE score.\n",
    "\n"
   ]
  },
  {
   "cell_type": "code",
   "execution_count": 105,
   "metadata": {
    "collapsed": false
   },
   "outputs": [],
   "source": [
    "#pipe.named_steps['feature_selection'].estimator_.coef_"
   ]
  },
  {
   "cell_type": "code",
   "execution_count": 106,
   "metadata": {
    "collapsed": false
   },
   "outputs": [],
   "source": [
    "#X.columns[pipe.named_steps['feature_selection'].get_support()]"
   ]
  },
  {
   "cell_type": "markdown",
   "metadata": {
    "collapsed": false
   },
   "source": [
    "Let's look at PCA.  Can it perform a better job of dimensionality reduction that the SelectFromModel?"
   ]
  },
  {
   "cell_type": "code",
   "execution_count": 146,
   "metadata": {
    "collapsed": false
   },
   "outputs": [
    {
     "data": {
      "image/png": "[encoded data removed]",
      "text/plain": [
       "<matplotlib.figure.Figure at 0x1082d68d0>"
      ]
     },
     "metadata": {},
     "output_type": "display_data"
    }
   ],
   "source": [
    "# create PCA\n",
    "pca = PCA()\n",
    "\n",
    "# fit the PCA\n",
    "pca.fit(X_train)\n",
    "features = range(pca.n_components_)\n",
    "\n",
    "# Create plot\n",
    "plt.figure(figsize=(17,8))\n",
    "plt.bar(features, pca.explained_variance_, align='edge', width=0.5)\n",
    "plt.xticks(features, rotation=75)\n",
    "plt.ylabel('varaince')\n",
    "plt.xlabel('PCA Feature')\n",
    "\n",
    "ax = plt.gca()\n",
    "ax.ticklabel_format(style='plain', axis='y')\n",
    "# -- For future reference --\n",
    "# You need to specify axis if you want it to apply to only x or y\n",
    "#\n",
    "# disable scientific notation\n",
    "## ax.ticklabel_format(style='plain')\n",
    "#\n",
    "# disable offset notation\n",
    "## ax.ticklabel_format(useOffset=False)\n",
    "#\n",
    "# disable both offset & scientific\n",
    "## ax.ticklabel_format(useOffset=False, style='plain')\n",
    "\n",
    "plt.show()"
   ]
  },
  {
   "cell_type": "code",
   "execution_count": 158,
   "metadata": {
    "collapsed": false
   },
   "outputs": [
    {
     "ename": "AttributeError",
     "evalue": "'numpy.ndarray' object has no attribute 'apply'",
     "output_type": "error",
     "traceback": [
      "\u001b[0;31m---------------------------------------------------------------------------\u001b[0m",
      "\u001b[0;31mAttributeError\u001b[0m                            Traceback (most recent call last)",
      "\u001b[0;32m<ipython-input-158-889c4bfcfe47>\u001b[0m in \u001b[0;36m<module>\u001b[0;34m()\u001b[0m\n\u001b[0;32m----> 1\u001b[0;31m \u001b[0mpca\u001b[0m\u001b[0;34m.\u001b[0m\u001b[0mexplained_variance_\u001b[0m\u001b[0;34m.\u001b[0m\u001b[0mapply\u001b[0m\u001b[0;34m(\u001b[0m\u001b[0;32mlambda\u001b[0m \u001b[0mx\u001b[0m\u001b[0;34m:\u001b[0m \u001b[0;34m'%.3f'\u001b[0m \u001b[0;34m%\u001b[0m \u001b[0mx\u001b[0m\u001b[0;34m)\u001b[0m\u001b[0;34m\u001b[0m\u001b[0m\n\u001b[0m",
      "\u001b[0;31mAttributeError\u001b[0m: 'numpy.ndarray' object has no attribute 'apply'"
     ]
    }
   ],
   "source": [
    "pca.explained_variance_.apply(lambda x: '%.3f' % x)"
   ]
  },
  {
   "cell_type": "code",
   "execution_count": 162,
   "metadata": {
    "collapsed": false
   },
   "outputs": [
    {
     "data": {
      "text/html": [
       "<div>\n",
       "<style scoped>\n",
       "    .dataframe tbody tr th:only-of-type {\n",
       "        vertical-align: middle;\n",
       "    }\n",
       "\n",
       "    .dataframe tbody tr th {\n",
       "        vertical-align: top;\n",
       "    }\n",
       "\n",
       "    .dataframe thead th {\n",
       "        text-align: right;\n",
       "    }\n",
       "</style>\n",
       "<table border=\"1\" class=\"dataframe\">\n",
       "  <thead>\n",
       "    <tr style=\"text-align: right;\">\n",
       "      <th></th>\n",
       "      <th>var</th>\n",
       "    </tr>\n",
       "  </thead>\n",
       "  <tbody>\n",
       "    <tr>\n",
       "      <th>loan_amnt</th>\n",
       "      <td>4.831610e+10</td>\n",
       "    </tr>\n",
       "    <tr>\n",
       "      <th>term</th>\n",
       "      <td>4.236291e+09</td>\n",
       "    </tr>\n",
       "    <tr>\n",
       "      <th>int_rate</th>\n",
       "      <td>2.319037e+09</td>\n",
       "    </tr>\n",
       "    <tr>\n",
       "      <th>installment</th>\n",
       "      <td>1.288328e+09</td>\n",
       "    </tr>\n",
       "    <tr>\n",
       "      <th>emp_length</th>\n",
       "      <td>5.269071e+08</td>\n",
       "    </tr>\n",
       "    <tr>\n",
       "      <th>annual_inc</th>\n",
       "      <td>2.071719e+08</td>\n",
       "    </tr>\n",
       "    <tr>\n",
       "      <th>dti</th>\n",
       "      <td>7.827779e+07</td>\n",
       "    </tr>\n",
       "    <tr>\n",
       "      <th>delinq_2yrs</th>\n",
       "      <td>5.976081e+07</td>\n",
       "    </tr>\n",
       "    <tr>\n",
       "      <th>open_acc</th>\n",
       "      <td>5.232328e+07</td>\n",
       "    </tr>\n",
       "    <tr>\n",
       "      <th>revol_bal</th>\n",
       "      <td>5.177151e+07</td>\n",
       "    </tr>\n",
       "    <tr>\n",
       "      <th>revol_util</th>\n",
       "      <td>2.702118e+06</td>\n",
       "    </tr>\n",
       "    <tr>\n",
       "      <th>total_acc</th>\n",
       "      <td>6.725823e+05</td>\n",
       "    </tr>\n",
       "    <tr>\n",
       "      <th>recoveries</th>\n",
       "      <td>6.096639e+05</td>\n",
       "    </tr>\n",
       "    <tr>\n",
       "      <th>collection_recovery_fee</th>\n",
       "      <td>1.270247e+04</td>\n",
       "    </tr>\n",
       "    <tr>\n",
       "      <th>collections_12_mths_ex_med</th>\n",
       "      <td>6.198693e+03</td>\n",
       "    </tr>\n",
       "    <tr>\n",
       "      <th>acc_now_delinq</th>\n",
       "      <td>3.224439e+03</td>\n",
       "    </tr>\n",
       "    <tr>\n",
       "      <th>tot_coll_amt</th>\n",
       "      <td>1.174311e+03</td>\n",
       "    </tr>\n",
       "    <tr>\n",
       "      <th>tot_cur_bal</th>\n",
       "      <td>4.461307e+02</td>\n",
       "    </tr>\n",
       "    <tr>\n",
       "      <th>total_rev_hi_lim</th>\n",
       "      <td>2.222689e+02</td>\n",
       "    </tr>\n",
       "    <tr>\n",
       "      <th>acc_open_past_24mths</th>\n",
       "      <td>1.432310e+02</td>\n",
       "    </tr>\n",
       "    <tr>\n",
       "      <th>avg_cur_bal</th>\n",
       "      <td>6.942640e+01</td>\n",
       "    </tr>\n",
       "    <tr>\n",
       "      <th>chargeoff_within_12_mths</th>\n",
       "      <td>4.281200e+01</td>\n",
       "    </tr>\n",
       "    <tr>\n",
       "      <th>delinq_amnt</th>\n",
       "      <td>4.092276e+01</td>\n",
       "    </tr>\n",
       "    <tr>\n",
       "      <th>mo_sin_old_rev_tl_op</th>\n",
       "      <td>3.026653e+01</td>\n",
       "    </tr>\n",
       "    <tr>\n",
       "      <th>mo_sin_rcnt_rev_tl_op</th>\n",
       "      <td>2.104078e+01</td>\n",
       "    </tr>\n",
       "    <tr>\n",
       "      <th>mo_sin_rcnt_tl</th>\n",
       "      <td>1.218170e+01</td>\n",
       "    </tr>\n",
       "    <tr>\n",
       "      <th>mort_acc</th>\n",
       "      <td>1.012829e+01</td>\n",
       "    </tr>\n",
       "    <tr>\n",
       "      <th>num_accts_ever_120_pd</th>\n",
       "      <td>8.496096e+00</td>\n",
       "    </tr>\n",
       "    <tr>\n",
       "      <th>num_actv_bc_tl</th>\n",
       "      <td>8.162591e+00</td>\n",
       "    </tr>\n",
       "    <tr>\n",
       "      <th>num_actv_rev_tl</th>\n",
       "      <td>6.095011e+00</td>\n",
       "    </tr>\n",
       "    <tr>\n",
       "      <th>...</th>\n",
       "      <td>...</td>\n",
       "    </tr>\n",
       "    <tr>\n",
       "      <th>addr_state_NC</th>\n",
       "      <td>4.647158e-03</td>\n",
       "    </tr>\n",
       "    <tr>\n",
       "      <th>addr_state_ND</th>\n",
       "      <td>4.155065e-03</td>\n",
       "    </tr>\n",
       "    <tr>\n",
       "      <th>addr_state_NE</th>\n",
       "      <td>3.786395e-03</td>\n",
       "    </tr>\n",
       "    <tr>\n",
       "      <th>addr_state_NH</th>\n",
       "      <td>3.542940e-03</td>\n",
       "    </tr>\n",
       "    <tr>\n",
       "      <th>addr_state_NJ</th>\n",
       "      <td>3.130161e-03</td>\n",
       "    </tr>\n",
       "    <tr>\n",
       "      <th>addr_state_NM</th>\n",
       "      <td>2.946308e-03</td>\n",
       "    </tr>\n",
       "    <tr>\n",
       "      <th>addr_state_NV</th>\n",
       "      <td>2.869425e-03</td>\n",
       "    </tr>\n",
       "    <tr>\n",
       "      <th>addr_state_NY</th>\n",
       "      <td>2.401280e-03</td>\n",
       "    </tr>\n",
       "    <tr>\n",
       "      <th>addr_state_OH</th>\n",
       "      <td>2.162715e-03</td>\n",
       "    </tr>\n",
       "    <tr>\n",
       "      <th>addr_state_OK</th>\n",
       "      <td>1.988742e-03</td>\n",
       "    </tr>\n",
       "    <tr>\n",
       "      <th>addr_state_OR</th>\n",
       "      <td>1.921221e-03</td>\n",
       "    </tr>\n",
       "    <tr>\n",
       "      <th>addr_state_PA</th>\n",
       "      <td>1.822916e-03</td>\n",
       "    </tr>\n",
       "    <tr>\n",
       "      <th>addr_state_RI</th>\n",
       "      <td>1.574353e-03</td>\n",
       "    </tr>\n",
       "    <tr>\n",
       "      <th>addr_state_SC</th>\n",
       "      <td>1.298242e-03</td>\n",
       "    </tr>\n",
       "    <tr>\n",
       "      <th>addr_state_SD</th>\n",
       "      <td>1.117589e-03</td>\n",
       "    </tr>\n",
       "    <tr>\n",
       "      <th>addr_state_TN</th>\n",
       "      <td>9.772520e-04</td>\n",
       "    </tr>\n",
       "    <tr>\n",
       "      <th>addr_state_TX</th>\n",
       "      <td>9.560744e-04</td>\n",
       "    </tr>\n",
       "    <tr>\n",
       "      <th>addr_state_UT</th>\n",
       "      <td>7.371061e-04</td>\n",
       "    </tr>\n",
       "    <tr>\n",
       "      <th>addr_state_VA</th>\n",
       "      <td>6.634992e-04</td>\n",
       "    </tr>\n",
       "    <tr>\n",
       "      <th>addr_state_VT</th>\n",
       "      <td>7.844615e-05</td>\n",
       "    </tr>\n",
       "    <tr>\n",
       "      <th>addr_state_WA</th>\n",
       "      <td>4.838397e-05</td>\n",
       "    </tr>\n",
       "    <tr>\n",
       "      <th>addr_state_WI</th>\n",
       "      <td>4.119461e-22</td>\n",
       "    </tr>\n",
       "    <tr>\n",
       "      <th>addr_state_WV</th>\n",
       "      <td>4.119461e-22</td>\n",
       "    </tr>\n",
       "    <tr>\n",
       "      <th>addr_state_WY</th>\n",
       "      <td>4.119461e-22</td>\n",
       "    </tr>\n",
       "    <tr>\n",
       "      <th>initial_list_status_f</th>\n",
       "      <td>4.119461e-22</td>\n",
       "    </tr>\n",
       "    <tr>\n",
       "      <th>initial_list_status_w</th>\n",
       "      <td>4.119461e-22</td>\n",
       "    </tr>\n",
       "    <tr>\n",
       "      <th>application_type_Individual</th>\n",
       "      <td>4.119461e-22</td>\n",
       "    </tr>\n",
       "    <tr>\n",
       "      <th>application_type_Joint App</th>\n",
       "      <td>4.119461e-22</td>\n",
       "    </tr>\n",
       "    <tr>\n",
       "      <th>hardship_flag_N</th>\n",
       "      <td>4.119461e-22</td>\n",
       "    </tr>\n",
       "    <tr>\n",
       "      <th>hardship_flag_Y</th>\n",
       "      <td>4.119460e-22</td>\n",
       "    </tr>\n",
       "  </tbody>\n",
       "</table>\n",
       "<p>133 rows × 1 columns</p>\n",
       "</div>"
      ],
      "text/plain": [
       "                                      var\n",
       "loan_amnt                    4.831610e+10\n",
       "term                         4.236291e+09\n",
       "int_rate                     2.319037e+09\n",
       "installment                  1.288328e+09\n",
       "emp_length                   5.269071e+08\n",
       "annual_inc                   2.071719e+08\n",
       "dti                          7.827779e+07\n",
       "delinq_2yrs                  5.976081e+07\n",
       "open_acc                     5.232328e+07\n",
       "revol_bal                    5.177151e+07\n",
       "revol_util                   2.702118e+06\n",
       "total_acc                    6.725823e+05\n",
       "recoveries                   6.096639e+05\n",
       "collection_recovery_fee      1.270247e+04\n",
       "collections_12_mths_ex_med   6.198693e+03\n",
       "acc_now_delinq               3.224439e+03\n",
       "tot_coll_amt                 1.174311e+03\n",
       "tot_cur_bal                  4.461307e+02\n",
       "total_rev_hi_lim             2.222689e+02\n",
       "acc_open_past_24mths         1.432310e+02\n",
       "avg_cur_bal                  6.942640e+01\n",
       "chargeoff_within_12_mths     4.281200e+01\n",
       "delinq_amnt                  4.092276e+01\n",
       "mo_sin_old_rev_tl_op         3.026653e+01\n",
       "mo_sin_rcnt_rev_tl_op        2.104078e+01\n",
       "mo_sin_rcnt_tl               1.218170e+01\n",
       "mort_acc                     1.012829e+01\n",
       "num_accts_ever_120_pd        8.496096e+00\n",
       "num_actv_bc_tl               8.162591e+00\n",
       "num_actv_rev_tl              6.095011e+00\n",
       "...                                   ...\n",
       "addr_state_NC                4.647158e-03\n",
       "addr_state_ND                4.155065e-03\n",
       "addr_state_NE                3.786395e-03\n",
       "addr_state_NH                3.542940e-03\n",
       "addr_state_NJ                3.130161e-03\n",
       "addr_state_NM                2.946308e-03\n",
       "addr_state_NV                2.869425e-03\n",
       "addr_state_NY                2.401280e-03\n",
       "addr_state_OH                2.162715e-03\n",
       "addr_state_OK                1.988742e-03\n",
       "addr_state_OR                1.921221e-03\n",
       "addr_state_PA                1.822916e-03\n",
       "addr_state_RI                1.574353e-03\n",
       "addr_state_SC                1.298242e-03\n",
       "addr_state_SD                1.117589e-03\n",
       "addr_state_TN                9.772520e-04\n",
       "addr_state_TX                9.560744e-04\n",
       "addr_state_UT                7.371061e-04\n",
       "addr_state_VA                6.634992e-04\n",
       "addr_state_VT                7.844615e-05\n",
       "addr_state_WA                4.838397e-05\n",
       "addr_state_WI                4.119461e-22\n",
       "addr_state_WV                4.119461e-22\n",
       "addr_state_WY                4.119461e-22\n",
       "initial_list_status_f        4.119461e-22\n",
       "initial_list_status_w        4.119461e-22\n",
       "application_type_Individual  4.119461e-22\n",
       "application_type_Joint App   4.119461e-22\n",
       "hardship_flag_N              4.119461e-22\n",
       "hardship_flag_Y              4.119460e-22\n",
       "\n",
       "[133 rows x 1 columns]"
      ]
     },
     "execution_count": 162,
     "metadata": {},
     "output_type": "execute_result"
    }
   ],
   "source": [
    "#pd.DataFrame(pca.explained_variance_, index=X_train.columns)\n",
    "t = pd.DataFrame(pca.explained_variance_, index=X_train.columns, columns=['var'])\n",
    "t"
   ]
  },
  {
   "cell_type": "code",
   "execution_count": 163,
   "metadata": {
    "collapsed": false
   },
   "outputs": [
    {
     "ename": "TypeError",
     "evalue": "'method' object is not iterable",
     "output_type": "error",
     "traceback": [
      "\u001b[0;31m---------------------------------------------------------------------------\u001b[0m",
      "\u001b[0;31mTypeError\u001b[0m                                 Traceback (most recent call last)",
      "\u001b[0;32m<ipython-input-163-fe75b88a8556>\u001b[0m in \u001b[0;36m<module>\u001b[0;34m()\u001b[0m\n\u001b[0;32m----> 1\u001b[0;31m \u001b[0;34m[\u001b[0m\u001b[0;34m'{.3f}'\u001b[0m\u001b[0;34m.\u001b[0m\u001b[0mformat\u001b[0m\u001b[0;34m(\u001b[0m\u001b[0mv\u001b[0m\u001b[0;34m)\u001b[0m \u001b[0;32mfor\u001b[0m \u001b[0mv\u001b[0m \u001b[0;32min\u001b[0m \u001b[0mt\u001b[0m\u001b[0;34m.\u001b[0m\u001b[0mvar\u001b[0m\u001b[0;34m]\u001b[0m\u001b[0;34m\u001b[0m\u001b[0m\n\u001b[0m",
      "\u001b[0;31mTypeError\u001b[0m: 'method' object is not iterable"
     ]
    }
   ],
   "source": [
    "['{.3f}'.format(v) for v in t.var]"
   ]
  },
  {
   "cell_type": "code",
   "execution_count": 298,
   "metadata": {
    "collapsed": false
   },
   "outputs": [
    {
     "name": "stdout",
     "output_type": "stream",
     "text": [
      "R2: 0.886188265492054\n",
      "RSE: 0.33735994799019353\n",
      "ROC AUC: 0.8297000428744795\n"
     ]
    }
   ],
   "source": [
    "from sklearn.pipeline import Pipeline\n",
    "from sklearn.svm import LinearSVC\n",
    "\n",
    "pipe = Pipeline([\n",
    "    ('feature_selection', PCA(n_components=40)),\n",
    "    ('logistic_regression', LogisticRegression())\n",
    "])\n",
    "\n",
    "pipe.fit(X_train_scaled, y_train)\n",
    "\n",
    "# predict X\n",
    "y_pred = pipe.predict(X_train_scaled)\n",
    "\n",
    "# find the assigned scores for the y predictions (which is the second column in predicitions)\n",
    "y_score = pipe.predict_proba(X_train_scaled)[:,1]\n",
    "\n",
    "# find the scores\n",
    "r2_score = pipe.score(X_train_scaled, y_train)\n",
    "mse = mean_squared_error(y_train,y_pred)\n",
    "roc_auc = roc_auc_score(y_train, y_score)\n",
    "\n",
    "# print scores\n",
    "print('R2: {}'.format(r2_score))\n",
    "print('RSE: {}'.format(np.sqrt(mse)))\n",
    "print('ROC AUC: {}'.format(roc_auc))"
   ]
  },
  {
   "cell_type": "code",
   "execution_count": 301,
   "metadata": {
    "collapsed": false
   },
   "outputs": [
    {
     "name": "stdout",
     "output_type": "stream",
     "text": [
      "R2: 0.9881746497023857\n",
      "RSE: 0.1087444265128762\n",
      "ROC AUC: 0.9999235665916292\n"
     ]
    }
   ],
   "source": [
    "from sklearn.ensemble import RandomForestClassifier\n",
    "\n",
    "# create our X and y datasets\n",
    "X = df.drop(drop_cols, axis=1)\n",
    "y = df.is_bad\n",
    "\n",
    "# create the dummies for our category columns & scale\n",
    "X = pd.get_dummies(X)\n",
    "\n",
    "# split our data\n",
    "X_train, X_test, y_train, y_test = train_test_split(X, y, test_size=0.25, random_state=42)\n",
    "\n",
    "# scale the data\n",
    "sc = StandardScaler()\n",
    "X_train_scaled = sc.fit_transform(X_train)\n",
    "X_test_scaled = sc.transform(X_test)\n",
    "\n",
    "# fit the classifier\n",
    "clf = RandomForestClassifier()\n",
    "clf.fit(X_train_scaled, y_train)\n",
    "\n",
    "# predict X\n",
    "y_pred = clf.predict(X_train_scaled)\n",
    "\n",
    "# find the assigned scores for the y predictions (which is the second column in predicitions)\n",
    "y_score = clf.predict_proba(X_train_scaled)[:,1]\n",
    "\n",
    "# find the scores\n",
    "r2_score = clf.score(X_train_scaled, y_train)\n",
    "mse = mean_squared_error(y_train,y_pred)\n",
    "roc_auc = roc_auc_score(y_train, y_score)\n",
    "\n",
    "# print scores\n",
    "print('R2: {}'.format(r2_score))\n",
    "print('RSE: {}'.format(np.sqrt(mse)))\n",
    "print('ROC AUC: {}'.format(roc_auc))"
   ]
  },
  {
   "cell_type": "code",
   "execution_count": 307,
   "metadata": {
    "collapsed": false
   },
   "outputs": [
    {
     "data": {
      "text/plain": [
       "[DecisionTreeClassifier(class_weight=None, criterion='gini', max_depth=None,\n",
       "             max_features='auto', max_leaf_nodes=None,\n",
       "             min_impurity_split=1e-07, min_samples_leaf=1,\n",
       "             min_samples_split=2, min_weight_fraction_leaf=0.0,\n",
       "             presort=False, random_state=13177440, splitter='best'),\n",
       " DecisionTreeClassifier(class_weight=None, criterion='gini', max_depth=None,\n",
       "             max_features='auto', max_leaf_nodes=None,\n",
       "             min_impurity_split=1e-07, min_samples_leaf=1,\n",
       "             min_samples_split=2, min_weight_fraction_leaf=0.0,\n",
       "             presort=False, random_state=1362446633, splitter='best'),\n",
       " DecisionTreeClassifier(class_weight=None, criterion='gini', max_depth=None,\n",
       "             max_features='auto', max_leaf_nodes=None,\n",
       "             min_impurity_split=1e-07, min_samples_leaf=1,\n",
       "             min_samples_split=2, min_weight_fraction_leaf=0.0,\n",
       "             presort=False, random_state=1824592876, splitter='best'),\n",
       " DecisionTreeClassifier(class_weight=None, criterion='gini', max_depth=None,\n",
       "             max_features='auto', max_leaf_nodes=None,\n",
       "             min_impurity_split=1e-07, min_samples_leaf=1,\n",
       "             min_samples_split=2, min_weight_fraction_leaf=0.0,\n",
       "             presort=False, random_state=9556544, splitter='best'),\n",
       " DecisionTreeClassifier(class_weight=None, criterion='gini', max_depth=None,\n",
       "             max_features='auto', max_leaf_nodes=None,\n",
       "             min_impurity_split=1e-07, min_samples_leaf=1,\n",
       "             min_samples_split=2, min_weight_fraction_leaf=0.0,\n",
       "             presort=False, random_state=1000884036, splitter='best'),\n",
       " DecisionTreeClassifier(class_weight=None, criterion='gini', max_depth=None,\n",
       "             max_features='auto', max_leaf_nodes=None,\n",
       "             min_impurity_split=1e-07, min_samples_leaf=1,\n",
       "             min_samples_split=2, min_weight_fraction_leaf=0.0,\n",
       "             presort=False, random_state=1523082324, splitter='best'),\n",
       " DecisionTreeClassifier(class_weight=None, criterion='gini', max_depth=None,\n",
       "             max_features='auto', max_leaf_nodes=None,\n",
       "             min_impurity_split=1e-07, min_samples_leaf=1,\n",
       "             min_samples_split=2, min_weight_fraction_leaf=0.0,\n",
       "             presort=False, random_state=1076679427, splitter='best'),\n",
       " DecisionTreeClassifier(class_weight=None, criterion='gini', max_depth=None,\n",
       "             max_features='auto', max_leaf_nodes=None,\n",
       "             min_impurity_split=1e-07, min_samples_leaf=1,\n",
       "             min_samples_split=2, min_weight_fraction_leaf=0.0,\n",
       "             presort=False, random_state=1471403768, splitter='best'),\n",
       " DecisionTreeClassifier(class_weight=None, criterion='gini', max_depth=None,\n",
       "             max_features='auto', max_leaf_nodes=None,\n",
       "             min_impurity_split=1e-07, min_samples_leaf=1,\n",
       "             min_samples_split=2, min_weight_fraction_leaf=0.0,\n",
       "             presort=False, random_state=1159748563, splitter='best'),\n",
       " DecisionTreeClassifier(class_weight=None, criterion='gini', max_depth=None,\n",
       "             max_features='auto', max_leaf_nodes=None,\n",
       "             min_impurity_split=1e-07, min_samples_leaf=1,\n",
       "             min_samples_split=2, min_weight_fraction_leaf=0.0,\n",
       "             presort=False, random_state=936759640, splitter='best')]"
      ]
     },
     "execution_count": 307,
     "metadata": {},
     "output_type": "execute_result"
    }
   ],
   "source": [
    "clf.estimators_"
   ]
  },
  {
   "cell_type": "code",
   "execution_count": 303,
   "metadata": {
    "collapsed": false
   },
   "outputs": [
    {
     "name": "stdout",
     "output_type": "stream",
     "text": [
      "R2: 0.9886130168639319\n",
      "RSE: 0.10670980805937245\n",
      "ROC AUC: 0.9999116096001345\n"
     ]
    }
   ],
   "source": [
    "from sklearn.pipeline import Pipeline\n",
    "from sklearn.svm import LinearSVC\n",
    "from sklearn.ensemble import ExtraTreesClassifier\n",
    "\n",
    "svc = LinearSVC(C=0.01, penalty='l1', dual=False)\n",
    "\n",
    "pipe = Pipeline([\n",
    "    ('feature_selection', SelectFromModel(ExtraTreesClassifier())),\n",
    "    ('rfc', RandomForestClassifier())\n",
    "])\n",
    "\n",
    "pipe.fit(X_train_scaled, y_train)\n",
    "\n",
    "# predict X\n",
    "y_pred = pipe.predict(X_train_scaled)\n",
    "\n",
    "# find the assigned scores for the y predictions (which is the second column in predicitions)\n",
    "y_score = pipe.predict_proba(X_train_scaled)[:,1]\n",
    "\n",
    "# find the scores\n",
    "r2_score = pipe.score(X_train_scaled, y_train)\n",
    "mse = mean_squared_error(y_train,y_pred)\n",
    "roc_auc = roc_auc_score(y_train, y_score)\n",
    "\n",
    "# print scores\n",
    "print('R2: {}'.format(r2_score))\n",
    "print('RSE: {}'.format(np.sqrt(mse)))\n",
    "print('ROC AUC: {}'.format(roc_auc))"
   ]
  },
  {
   "cell_type": "code",
   "execution_count": null,
   "metadata": {
    "collapsed": true
   },
   "outputs": [],
   "source": []
  },
  {
   "cell_type": "code",
   "execution_count": 271,
   "metadata": {
    "collapsed": false
   },
   "outputs": [
    {
     "data": {
      "text/plain": [
       "<matplotlib.figure.Figure at 0x11197a6d8>"
      ]
     },
     "metadata": {},
     "output_type": "display_data"
    },
    {
     "data": {
      "image/png": "[encoded data removed]",
      "text/plain": [
       "<matplotlib.figure.Figure at 0x111e090f0>"
      ]
     },
     "metadata": {},
     "output_type": "display_data"
    }
   ],
   "source": [
    "# plot the ROC curve\n",
    "plt.figure(figsize=(6,6))\n",
    "\n",
    "# calculate false positives & true positives\n",
    "fpr, tpr, thresholds = roc_curve(y_train, y_score)\n",
    "\n",
    "# plot ROC curve & 50% line\n",
    "plt.plot(fpr, tpr)\n",
    "plt.plot([0,1], [0,1], color='black')\n",
    "\n",
    "# set labels\n",
    "plt.xlabel('false positive rate')\n",
    "plt.ylabel('true positive rate')\n",
    "plt.title('ROC curve - Logistic Regression')\n",
    "\n",
    "plt.show()"
   ]
  },
  {
   "cell_type": "code",
   "execution_count": 264,
   "metadata": {
    "collapsed": false
   },
   "outputs": [
    {
     "name": "stdout",
     "output_type": "stream",
     "text": [
      "             precision    recall  f1-score   support\n",
      "\n",
      "          0       1.00      1.00      1.00     52302\n",
      "          1       1.00      0.98      0.99     11845\n",
      "\n",
      "avg / total       1.00      1.00      1.00     64147\n",
      "\n"
     ]
    }
   ],
   "source": [
    "# create target_names\n",
    "t_names = ['0', '1']\n",
    "\n",
    "print(classification_report(y_test, y_pred, target_names=t_names))"
   ]
  },
  {
   "cell_type": "markdown",
   "metadata": {},
   "source": [
    "# ISSUES\n",
    "\n",
    "* Within Question #1 - I'm not sure how to approach the following question: **How does this accuracy compare to the benchmark of just predicting the majority class in the training set?**\n",
    "    * Is this suppose to be done using LogisticRegression?  If so, I don't understand how the parameters would be setup to create the model.\n",
    "    \n",
    "* Within Question #2 - I receive a fantastic score using logistic regression on the lending data classificaiton - however I believe this is incorrect and I don't know why.  I would expect to receive a score somewhere in the 80% range, which could be improved using feature selection and hyperparameter tuning.  But this is not the case.  \n",
    "\n",
    "Am I approaching these questions incorrectly? "
   ]
  },
  {
   "cell_type": "code",
   "execution_count": null,
   "metadata": {
    "collapsed": false
   },
   "outputs": [],
   "source": [
    "– The columns loan_status, total_pymnt, loan_amnt, and out_prncp_inv will be of particular\n",
    "interest. For example, for “Fully Paid” loans, total_pyment will always be greater than loan_amnt because\n",
    "of interest and out_prncp_inv will be 0. You will not want to include fully paid loans and current loans in\n",
    "your regression analysis. "
   ]
  },
  {
   "cell_type": "code",
   "execution_count": null,
   "metadata": {
    "collapsed": true
   },
   "outputs": [],
   "source": [
    "\n",
    "): Repeat the process of question 1 & 2, but do a regression on remaining\n",
    "outstanding principal for total amount funded for defaulted loans. "
   ]
  },
  {
   "cell_type": "code",
   "execution_count": 273,
   "metadata": {
    "collapsed": false
   },
   "outputs": [
    {
     "name": "stdout",
     "output_type": "stream",
     "text": [
      "<class 'pandas.core.frame.DataFrame'>\n",
      "Int64Index: 256586 entries, 0 to 887371\n",
      "Data columns (total 41 columns):\n",
      "loan_amnt                     256586 non-null float64\n",
      "funded_amnt                   256586 non-null float64\n",
      "funded_amnt_inv               256586 non-null float64\n",
      "term                          256586 non-null int64\n",
      "int_rate                      256586 non-null float64\n",
      "installment                   256586 non-null float64\n",
      "grade                         256586 non-null category\n",
      "sub_grade                     256586 non-null category\n",
      "emp_length                    256586 non-null int64\n",
      "home_ownership                256586 non-null category\n",
      "annual_inc                    256586 non-null float64\n",
      "verification_status           256586 non-null category\n",
      "loan_status                   256586 non-null category\n",
      "purpose                       256586 non-null category\n",
      "addr_state                    256586 non-null category\n",
      "dti                           256586 non-null float64\n",
      "delinq_2yrs                   256586 non-null float64\n",
      "open_acc                      256586 non-null float64\n",
      "revol_bal                     256586 non-null float64\n",
      "revol_util                    256586 non-null float64\n",
      "total_acc                     256586 non-null float64\n",
      "initial_list_status           256586 non-null category\n",
      "out_prncp                     256586 non-null float64\n",
      "out_prncp_inv                 256586 non-null float64\n",
      "total_pymnt                   256586 non-null float64\n",
      "total_pymnt_inv               256586 non-null float64\n",
      "total_rec_prncp               256586 non-null float64\n",
      "total_rec_int                 256586 non-null float64\n",
      "total_rec_late_fee            256586 non-null float64\n",
      "recoveries                    256586 non-null float64\n",
      "collection_recovery_fee       256586 non-null float64\n",
      "last_pymnt_amnt               256586 non-null float64\n",
      "collections_12_mths_ex_med    256586 non-null float64\n",
      "acc_now_delinq                256586 non-null float64\n",
      "low_deliquences_jobs          256586 non-null int64\n",
      "default_status                256586 non-null int64\n",
      "issue_month                   256586 non-null int64\n",
      "issue_year                    256586 non-null int64\n",
      "inq_last_6mths_cat            256586 non-null category\n",
      "pub_rec_cat                   256586 non-null category\n",
      "fully_funded                  256586 non-null category\n",
      "dtypes: category(11), float64(24), int64(6)\n",
      "memory usage: 63.4 MB\n"
     ]
    }
   ],
   "source": [
    "df.info()"
   ]
  },
  {
   "cell_type": "code",
   "execution_count": 275,
   "metadata": {
    "collapsed": false
   },
   "outputs": [],
   "source": [
    "df_default = df[df.loan_status == 'Default']"
   ]
  },
  {
   "cell_type": "code",
   "execution_count": null,
   "metadata": {
    "collapsed": false
   },
   "outputs": [],
   "source": []
  },
  {
   "cell_type": "code",
   "execution_count": 281,
   "metadata": {
    "collapsed": true
   },
   "outputs": [],
   "source": [
    "cols = [\n",
    "    'loan_amnt',\n",
    "    'funded_amnt',\n",
    "    'term',\n",
    "    'int_rate',\n",
    "    'installment',\n",
    "    'grade',\n",
    "    'sub_grade',\n",
    "    'emp_length',\n",
    "    'home_ownership',\n",
    "    'annual_inc',\n",
    "    'verification_status',\n",
    "    'purpose',\n",
    "    'addr_state',\n",
    "    'recoveries',\n",
    "    'low_deliquences_jobs',\n",
    "    'issue_month',\n",
    "    'issue_year',\n",
    "    'inq_last_6mths_cat',\n",
    "    'pub_rec_cat',\n",
    "    'fully_funded'\n",
    "]"
   ]
  },
  {
   "cell_type": "code",
   "execution_count": null,
   "metadata": {
    "collapsed": true
   },
   "outputs": [],
   "source": [
    "    "
   ]
  },
  {
   "cell_type": "code",
   "execution_count": 289,
   "metadata": {
    "collapsed": false
   },
   "outputs": [
    {
     "data": {
      "text/plain": [
       "SVR(C=1.0, cache_size=200, coef0=0.0, degree=3, epsilon=0.1, gamma='auto',\n",
       "  kernel='rbf', max_iter=-1, shrinking=True, tol=0.001, verbose=False)"
      ]
     },
     "execution_count": 289,
     "metadata": {},
     "output_type": "execute_result"
    }
   ],
   "source": [
    "from sklearn.svm import SVR\n",
    "from sklearn.tree import DecisionTreeRegressor\n",
    "\n",
    "# create our X and y datasets\n",
    "X = df_default.drop('out_prncp', axis=1)\n",
    "y = df_default['out_prncp']\n",
    "\n",
    "# create the dummies for our category columns & scale\n",
    "X = pd.get_dummies(X)\n",
    "X = sc.fit_transform(X)\n",
    "\n",
    "# split our data\n",
    "X_train, X_test, y_train, y_test = train_test_split(X, y, test_size=0.25, random_state=42)\n",
    "\n",
    "# fit the classifier\n",
    "clf = SVR()\n",
    "clf.fit(X_train, y_train)\n",
    "\n"
   ]
  },
  {
   "cell_type": "code",
   "execution_count": 290,
   "metadata": {
    "collapsed": false
   },
   "outputs": [
    {
     "name": "stdout",
     "output_type": "stream",
     "text": [
      "r2 test: -0.03015126917065181\n",
      "mse: 62050138.00747325\n"
     ]
    }
   ],
   "source": [
    "# predict X\n",
    "y_pred = clf.predict(X_test)\n",
    "\n",
    "# find the scores\n",
    "r2_score_test = clf.score(X_test, y_test)\n",
    "mse_test = mean_squared_error(y_test,y_pred)\n",
    "#roc_test = roc_auc_score(y_test, y_score)\n",
    "\n",
    "# print scores\n",
    "print('r2 test: {}'.format(r2_score_test))\n",
    "print('mse: {}'.format(mse_test))\n"
   ]
  },
  {
   "cell_type": "code",
   "execution_count": 291,
   "metadata": {
    "collapsed": false
   },
   "outputs": [
    {
     "name": "stdout",
     "output_type": "stream",
     "text": [
      "r2 test: 0.9998426985508958\n",
      "mse: 9474.896471803242\n"
     ]
    }
   ],
   "source": [
    "reg = DecisionTreeRegressor()\n",
    "reg.fit(X_train, y_train)\n",
    "# how is our class order defined? \n",
    "\n",
    "# predict X\n",
    "y_pred = reg.predict(X_test)\n",
    "\n",
    "# find the scores\n",
    "r2_score_test = reg.score(X_test, y_test)\n",
    "mse_test = mean_squared_error(y_test,y_pred)\n",
    "\n",
    "\n",
    "# print scores\n",
    "print('r2 test: {}'.format(r2_score_test))\n",
    "print('mse: {}'.format(mse_test))"
   ]
  },
  {
   "cell_type": "code",
   "execution_count": null,
   "metadata": {
    "collapsed": true
   },
   "outputs": [],
   "source": [
    "dummy_classifier\n",
    "prediction of y values - mean values\n",
    "\n",
    "continuous (standard scaler)\n"
   ]
  }
 ],
 "metadata": {
  "kernelspec": {
   "display_name": "Python 3",
   "language": "python",
   "name": "python3"
  },
  "language_info": {
   "codemirror_mode": {
    "name": "ipython",
    "version": 3
   },
   "file_extension": ".py",
   "mimetype": "text/x-python",
   "name": "python",
   "nbconvert_exporter": "python",
   "pygments_lexer": "ipython3",
   "version": "3.6.0"
  }
 },
 "nbformat": 4,
 "nbformat_minor": 2
}
