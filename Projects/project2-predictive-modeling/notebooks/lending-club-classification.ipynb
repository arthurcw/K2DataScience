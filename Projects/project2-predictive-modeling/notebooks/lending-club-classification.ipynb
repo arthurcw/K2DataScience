{
 "cells": [
  {
   "cell_type": "code",
   "execution_count": 235,
   "metadata": {
    "collapsed": false
   },
   "outputs": [],
   "source": [
    "import pandas as pd\n",
    "import numpy as np\n",
    "import matplotlib.pyplot as plt\n",
    "\n",
    "# preprocessing\n",
    "from sklearn.model_selection import train_test_split\n",
    "from sklearn.preprocessing import StandardScaler\n",
    "from sklearn.pipeline import Pipeline\n",
    "\n",
    "# models\n",
    "from sklearn.linear_model import LogisticRegression\n",
    "from sklearn.ensemble import RandomForestClassifier, GradientBoostingClassifier\n",
    "\n",
    "# scores\n",
    "from sklearn.metrics import mean_squared_error\n",
    "from sklearn.metrics import precision_score\n",
    "from sklearn.metrics import recall_score\n",
    "from sklearn.metrics import f1_score\n",
    "from sklearn.metrics import roc_auc_score\n",
    "from sklearn.metrics import roc_curve\n",
    "from sklearn.model_selection import cross_val_score\n",
    "from sklearn.metrics import classification_report\n",
    "from sklearn.metrics import confusion_matrix\n",
    "\n"
   ]
  },
  {
   "cell_type": "code",
   "execution_count": 236,
   "metadata": {
    "collapsed": false
   },
   "outputs": [],
   "source": [
    "#define category columns\n",
    "cat_cols = {\n",
    "    'grade': 'category',\n",
    "    'sub_grade': 'category',\n",
    "    'home_ownership': 'category',\n",
    "    'verification_status': 'category',\n",
    "    'loan_status': 'category',\n",
    "    'purpose':'category',\n",
    "    'addr_state':'category',\n",
    "    'initial_list_status':'category',\n",
    "    'inq_last_6mths_cat': 'category',\n",
    "    'pub_rec_cat':'category',\n",
    "    'fully_funded':'category'\n",
    "}\n",
    "\n",
    "# import data\n",
    "df_raw = pd.read_csv('../data/processed/LCData_processed.csv', dtype=cat_cols, index_col=0)\n"
   ]
  },
  {
   "cell_type": "markdown",
   "metadata": {},
   "source": [
    "## Question 1 (Classification)\n",
    "\n",
    "If you perform a simple multivariate logistic regression of “loan defaults” on all your engineered features how well does your model explain the data? \n",
    "\n",
    "* What is your R2, RSE, or other measure of model fit? \n",
    "* What about your validation or cross validation accuracy? \n",
    "* How does this accuracy compare to the benchmark of just predicting the majority class in the training set? \n",
    "* How does this accuracy compare to the benchmark of using lending club’s loan grade to predict defaults?"
   ]
  },
  {
   "cell_type": "markdown",
   "metadata": {},
   "source": [
    "I still have null data contained in the dataframe.  I've left null data in order to view results of removing rows vs imputing missing data. \n",
    "\n",
    "As a first test - let's simply remove the null data to get a model up and running. "
   ]
  },
  {
   "cell_type": "code",
   "execution_count": 237,
   "metadata": {
    "collapsed": false
   },
   "outputs": [
    {
     "name": "stdout",
     "output_type": "stream",
     "text": [
      "<class 'pandas.core.frame.DataFrame'>\n",
      "Int64Index: 887379 entries, 0 to 887378\n",
      "Data columns (total 44 columns):\n",
      "loan_amnt                     887379 non-null float64\n",
      "funded_amnt                   887379 non-null float64\n",
      "funded_amnt_inv               887379 non-null float64\n",
      "term                          887379 non-null int64\n",
      "int_rate                      887379 non-null float64\n",
      "installment                   887379 non-null float64\n",
      "grade                         887379 non-null category\n",
      "sub_grade                     887379 non-null category\n",
      "emp_length                    887379 non-null int64\n",
      "home_ownership                887379 non-null category\n",
      "annual_inc                    887375 non-null float64\n",
      "verification_status           887379 non-null category\n",
      "loan_status                   887379 non-null category\n",
      "purpose                       887379 non-null category\n",
      "addr_state                    887379 non-null category\n",
      "dti                           887379 non-null float64\n",
      "delinq_2yrs                   887350 non-null float64\n",
      "open_acc                      887350 non-null float64\n",
      "revol_bal                     887379 non-null float64\n",
      "revol_util                    886877 non-null float64\n",
      "total_acc                     887350 non-null float64\n",
      "initial_list_status           887379 non-null category\n",
      "out_prncp                     887379 non-null float64\n",
      "out_prncp_inv                 887379 non-null float64\n",
      "total_pymnt                   887379 non-null float64\n",
      "total_pymnt_inv               887379 non-null float64\n",
      "total_rec_prncp               887379 non-null float64\n",
      "total_rec_int                 887379 non-null float64\n",
      "total_rec_late_fee            887379 non-null float64\n",
      "recoveries                    887379 non-null float64\n",
      "collection_recovery_fee       887379 non-null float64\n",
      "last_pymnt_amnt               887379 non-null float64\n",
      "collections_12_mths_ex_med    887234 non-null float64\n",
      "acc_now_delinq                887350 non-null float64\n",
      "tot_coll_amt                  817103 non-null float64\n",
      "tot_cur_bal                   817103 non-null float64\n",
      "total_rev_hi_lim              817103 non-null float64\n",
      "low_deliquences_jobs          887379 non-null int64\n",
      "default_status                887379 non-null int64\n",
      "issue_month                   887379 non-null int64\n",
      "issue_year                    887379 non-null int64\n",
      "inq_last_6mths_cat            887379 non-null category\n",
      "pub_rec_cat                   887379 non-null category\n",
      "fully_funded                  887379 non-null category\n",
      "dtypes: category(11), float64(27), int64(6)\n",
      "memory usage: 239.5 MB\n"
     ]
    }
   ],
   "source": [
    "# have a look at columns with missing data\n",
    "df_raw.info()"
   ]
  },
  {
   "cell_type": "markdown",
   "metadata": {},
   "source": [
    "The column **revol_util** relates to the amount of credit the borrower is using relative to all available revolving credit.  Imputing data for this column could negatively represent the amount of credit used by a borrower.  Let's drop the data."
   ]
  },
  {
   "cell_type": "code",
   "execution_count": 238,
   "metadata": {
    "collapsed": true
   },
   "outputs": [],
   "source": [
    "# drop null data\n",
    "df_processed = df_raw[pd.notnull(df_raw.revol_util)]"
   ]
  },
  {
   "cell_type": "markdown",
   "metadata": {},
   "source": [
    "The column **collections_12_mths_ex_med** relates to the number of collections in 12 months excluding medical collections.  Imputing this data could negatively impact a borrower's attributes (since we may state they have more collections than they actualy do).  Let's simply remove the rows with this data missing.  "
   ]
  },
  {
   "cell_type": "code",
   "execution_count": 239,
   "metadata": {
    "collapsed": false
   },
   "outputs": [],
   "source": [
    "# drop null data\n",
    "df_processed = df_processed[pd.notnull(df_processed.collections_12_mths_ex_med)]"
   ]
  },
  {
   "cell_type": "markdown",
   "metadata": {},
   "source": [
    "Finally, we have 3 columns that are missing ~70,000 records:\n",
    "\n",
    "* tot_coll_amt                  \n",
    "* tot_cur_bal  \n",
    "* total_rev_hi_lim\n",
    "\n",
    "I do not want to lose 70,000 records, so I am going to remove the columns for this classification process"
   ]
  },
  {
   "cell_type": "code",
   "execution_count": 240,
   "metadata": {
    "collapsed": false
   },
   "outputs": [],
   "source": [
    "# remove 3 columns\n",
    "df_processed = df_processed.drop(['tot_coll_amt', 'tot_cur_bal', 'total_rev_hi_lim'], axis=1)"
   ]
  },
  {
   "cell_type": "code",
   "execution_count": 241,
   "metadata": {
    "collapsed": false
   },
   "outputs": [
    {
     "name": "stdout",
     "output_type": "stream",
     "text": [
      "<class 'pandas.core.frame.DataFrame'>\n",
      "Int64Index: 886764 entries, 0 to 887378\n",
      "Data columns (total 41 columns):\n",
      "loan_amnt                     886764 non-null float64\n",
      "funded_amnt                   886764 non-null float64\n",
      "funded_amnt_inv               886764 non-null float64\n",
      "term                          886764 non-null int64\n",
      "int_rate                      886764 non-null float64\n",
      "installment                   886764 non-null float64\n",
      "grade                         886764 non-null category\n",
      "sub_grade                     886764 non-null category\n",
      "emp_length                    886764 non-null int64\n",
      "home_ownership                886764 non-null category\n",
      "annual_inc                    886764 non-null float64\n",
      "verification_status           886764 non-null category\n",
      "loan_status                   886764 non-null category\n",
      "purpose                       886764 non-null category\n",
      "addr_state                    886764 non-null category\n",
      "dti                           886764 non-null float64\n",
      "delinq_2yrs                   886764 non-null float64\n",
      "open_acc                      886764 non-null float64\n",
      "revol_bal                     886764 non-null float64\n",
      "revol_util                    886764 non-null float64\n",
      "total_acc                     886764 non-null float64\n",
      "initial_list_status           886764 non-null category\n",
      "out_prncp                     886764 non-null float64\n",
      "out_prncp_inv                 886764 non-null float64\n",
      "total_pymnt                   886764 non-null float64\n",
      "total_pymnt_inv               886764 non-null float64\n",
      "total_rec_prncp               886764 non-null float64\n",
      "total_rec_int                 886764 non-null float64\n",
      "total_rec_late_fee            886764 non-null float64\n",
      "recoveries                    886764 non-null float64\n",
      "collection_recovery_fee       886764 non-null float64\n",
      "last_pymnt_amnt               886764 non-null float64\n",
      "collections_12_mths_ex_med    886764 non-null float64\n",
      "acc_now_delinq                886764 non-null float64\n",
      "low_deliquences_jobs          886764 non-null int64\n",
      "default_status                886764 non-null int64\n",
      "issue_month                   886764 non-null int64\n",
      "issue_year                    886764 non-null int64\n",
      "inq_last_6mths_cat            886764 non-null category\n",
      "pub_rec_cat                   886764 non-null category\n",
      "fully_funded                  886764 non-null category\n",
      "dtypes: category(11), float64(24), int64(6)\n",
      "memory usage: 219.0 MB\n"
     ]
    }
   ],
   "source": [
    "df_processed.info()"
   ]
  },
  {
   "cell_type": "markdown",
   "metadata": {},
   "source": [
    "We are now good to go on building a model.  Let's begin by performing a simple multivariate logistic regression of “loan defaults” on all engineered features."
   ]
  },
  {
   "cell_type": "code",
   "execution_count": 242,
   "metadata": {
    "collapsed": true
   },
   "outputs": [],
   "source": [
    "# create a list of my engineered feature names\n",
    "feat_eng_cols = ['low_deliquences_jobs',\n",
    "                 'issue_month', \n",
    "                 'issue_year', \n",
    "                 'inq_last_6mths_cat',\n",
    "                 'pub_rec_cat',\n",
    "                 'fully_funded'\n",
    "                 ]"
   ]
  },
  {
   "cell_type": "code",
   "execution_count": 243,
   "metadata": {
    "collapsed": true
   },
   "outputs": [],
   "source": [
    "# We are trying to determine whether or not a loan has 'defaulted'.  \n",
    "# As a result, we only want to look at loans that are complete, meaning \n",
    "# we drop loans that are current, or haven't defaulted fully.  We only look at loans within the below status'\n",
    "status = ['Fully Paid', \n",
    "          'Charged Off', \n",
    "          'Default', \n",
    "          'Does not meet the credit policy. Status:Fully Paid',\n",
    "          'Does not meet the credit policy. Status:Charged Off']\n",
    "\n",
    "# filter out loans\n",
    "df = df_processed[df_processed.loan_status.str.contains('|'.join(status))]"
   ]
  },
  {
   "cell_type": "code",
   "execution_count": 244,
   "metadata": {
    "collapsed": false
   },
   "outputs": [
    {
     "data": {
      "text/plain": [
       "array([0, 1])"
      ]
     },
     "execution_count": 244,
     "metadata": {},
     "output_type": "execute_result"
    }
   ],
   "source": [
    "sc = StandardScaler()\n",
    "\n",
    "# create our X and y datasets\n",
    "X = df[feat_eng_cols]\n",
    "y = df.default_status\n",
    "\n",
    "# create the dummies for our category columns\n",
    "X = pd.get_dummies(X)\n",
    "X = sc.fit_transform(X)\n",
    "\n",
    "# split our data\n",
    "X_train, X_test, y_train, y_test = train_test_split(X, y, test_size=0.25, random_state=42)\n",
    "\n",
    "# fit the classifier\n",
    "clf = LogisticRegression()\n",
    "clf.fit(X_train, y_train)\n",
    "\n",
    "# how is our class order defined? \n",
    "clf.classes_"
   ]
  },
  {
   "cell_type": "code",
   "execution_count": 245,
   "metadata": {
    "collapsed": false
   },
   "outputs": [
    {
     "name": "stdout",
     "output_type": "stream",
     "text": [
      "r2 test: 0.8153460021513087\n",
      "mse: 0.1846539978486913\n",
      "roc: 0.5430065556373019\n"
     ]
    }
   ],
   "source": [
    "# predict X\n",
    "y_pred = clf.predict(X_test)\n",
    "\n",
    "# find the assigned scores for the y predictions (which is the second column in predicitions)\n",
    "y_score = clf.predict_proba(X_test)[:,1]\n",
    "\n",
    "# find the scores\n",
    "r2_score_test = clf.score(X_test, y_test)\n",
    "mse_test = mean_squared_error(y_test,y_pred)\n",
    "roc_test = roc_auc_score(y_test, y_score)\n",
    "\n",
    "# print scores\n",
    "print('r2 test: {}'.format(r2_score_test))\n",
    "print('mse: {}'.format(mse_test))\n",
    "print('roc: {}'.format(roc_test))"
   ]
  },
  {
   "cell_type": "code",
   "execution_count": 246,
   "metadata": {
    "collapsed": false
   },
   "outputs": [
    {
     "data": {
      "image/png": "[encoded data removed]",
      "text/plain": [
       "<matplotlib.figure.Figure at 0x125db8ba8>"
      ]
     },
     "metadata": {},
     "output_type": "display_data"
    }
   ],
   "source": [
    "# plot the ROC curve\n",
    "plt.figure(figsize=(6,6))\n",
    "\n",
    "# calculate false positives & true positives\n",
    "fpr, tpr, thresholds = roc_curve(y_test, y_score)\n",
    "\n",
    "# plot ROC curve & 50% line\n",
    "plt.plot(fpr, tpr)\n",
    "plt.plot([0,1], [0,1], color='black')\n",
    "\n",
    "# set labels\n",
    "plt.xlabel('false positive rate')\n",
    "plt.ylabel('true positive rate')\n",
    "plt.title('ROC curve - Logistic Regression')\n",
    "\n",
    "plt.show()"
   ]
  },
  {
   "cell_type": "code",
   "execution_count": 247,
   "metadata": {
    "collapsed": false
   },
   "outputs": [
    {
     "name": "stdout",
     "output_type": "stream",
     "text": [
      "             precision    recall  f1-score   support\n",
      "\n",
      "          0       0.82      1.00      0.90     52302\n",
      "          1       0.00      0.00      0.00     11845\n",
      "\n",
      "avg / total       0.66      0.82      0.73     64147\n",
      "\n"
     ]
    },
    {
     "name": "stderr",
     "output_type": "stream",
     "text": [
      "//anaconda/lib/python3.6/site-packages/sklearn/metrics/classification.py:1113: UndefinedMetricWarning: Precision and F-score are ill-defined and being set to 0.0 in labels with no predicted samples.\n",
      "  'precision', 'predicted', average, warn_for)\n"
     ]
    }
   ],
   "source": [
    "# create target_names\n",
    "t_names = ['0', '1']\n",
    "\n",
    "print(classification_report(y_test, y_pred, target_names=t_names))"
   ]
  },
  {
   "cell_type": "code",
   "execution_count": 249,
   "metadata": {
    "collapsed": false
   },
   "outputs": [
    {
     "data": {
      "text/plain": [
       "array([[52302,     0],\n",
       "       [11845,     0]])"
      ]
     },
     "execution_count": 249,
     "metadata": {},
     "output_type": "execute_result"
    }
   ],
   "source": [
    "# create confusion matrix\n",
    "confusion_matrix(y_test, y_pred)"
   ]
  },
  {
   "cell_type": "code",
   "execution_count": 250,
   "metadata": {
    "collapsed": false
   },
   "outputs": [
    {
     "data": {
      "text/plain": [
       "array([ 0.81622433,  0.81624023,  0.81624023,  0.81624023,  0.81624023])"
      ]
     },
     "execution_count": 250,
     "metadata": {},
     "output_type": "execute_result"
    }
   ],
   "source": [
    "# let's find the cross validation score\n",
    "scores = cross_val_score(clf, X, y, cv=5)\n",
    "scores"
   ]
  },
  {
   "cell_type": "code",
   "execution_count": 251,
   "metadata": {
    "collapsed": false
   },
   "outputs": [
    {
     "name": "stdout",
     "output_type": "stream",
     "text": [
      "Accuracy: 0.82 (+/- 0.00001)\n"
     ]
    }
   ],
   "source": [
    "print(\"Accuracy: {0:.2f} (+/- {1:.5f})\".format(scores.mean(), scores.std() * 2))"
   ]
  },
  {
   "cell_type": "markdown",
   "metadata": {},
   "source": [
    "It's not looking good.  With a ROC score of 54%, we have the accuracy equivalent to that of randomly guessing the class.  \n",
    "\n",
    "As you can see by the classificaiton report, precision and recall for the positive class is 0, meaning we cannot accurate predict the outcomes. "
   ]
  },
  {
   "cell_type": "markdown",
   "metadata": {},
   "source": [
    "**How does this accuracy compare to the benchmark of just predicting the majority class in the training set?**"
   ]
  },
  {
   "cell_type": "code",
   "execution_count": null,
   "metadata": {
    "collapsed": true
   },
   "outputs": [],
   "source": []
  },
  {
   "cell_type": "code",
   "execution_count": null,
   "metadata": {
    "collapsed": true
   },
   "outputs": [],
   "source": []
  },
  {
   "cell_type": "markdown",
   "metadata": {},
   "source": [
    "**How does this accuracy compare to the benchmark of using lending club’s loan grade to predict defaults?**\n"
   ]
  },
  {
   "cell_type": "code",
   "execution_count": 254,
   "metadata": {
    "collapsed": false
   },
   "outputs": [
    {
     "name": "stdout",
     "output_type": "stream",
     "text": [
      "A: 0.063\n",
      "B: 0.128\n",
      "C: 0.198\n",
      "D: 0.265\n",
      "E: 0.332\n",
      "F: 0.389\n",
      "G: 0.410\n"
     ]
    }
   ],
   "source": [
    "# Lets calculate the default rates for loans based on lending club's grades\n",
    "for g in sorted(df.grade.unique()):\n",
    "    \n",
    "    #calculate default rate\n",
    "    default_rate = df[(df.default_status ==1) & (df.grade==g)].loan_amnt.count() / df[df.grade==g].loan_amnt.count() \n",
    "\n",
    "    print('{0}: {1:.3f}'.format(g, default_rate))"
   ]
  },
  {
   "cell_type": "code",
   "execution_count": 257,
   "metadata": {
    "collapsed": false,
    "scrolled": true
   },
   "outputs": [
    {
     "name": "stdout",
     "output_type": "stream",
     "text": [
      "A: 0.063\n",
      "B: 0.127\n",
      "C: 0.199\n",
      "D: 0.267\n",
      "E: 0.331\n",
      "F: 0.389\n",
      "G: 0.407\n"
     ]
    }
   ],
   "source": [
    "# Lets calculate the expected default rates for loans by grade using our classifier \n",
    "\n",
    "grade_scores = {}\n",
    "\n",
    "# loop through each grade\n",
    "for g in sorted(df.grade.unique()):\n",
    "    df_grades = df[df.grade==g]\n",
    "\n",
    "    # create our X and y datasets\n",
    "    X = df_grades[feat_eng_cols]\n",
    "    y = df_grades.default_status\n",
    "\n",
    "    # create the dummies for our category columns & scale\n",
    "    X = pd.get_dummies(X)\n",
    "    X = sc.fit_transform(X)\n",
    "\n",
    "    # split our data\n",
    "    X_train, X_test, y_train, y_test = train_test_split(X, y, test_size=0.25, random_state=42)\n",
    "\n",
    "    # fit the classifier\n",
    "    clf = LogisticRegression()\n",
    "    clf.fit(X_train, y_train)\n",
    "\n",
    "    # find the scores\n",
    "    print('{0}: {1:.3f}'.format(g, np.mean(clf.predict_proba(X_train)[:, 1])))"
   ]
  },
  {
   "cell_type": "markdown",
   "metadata": {},
   "source": [
    "Our classifier returns expected default rates per grade very close to what we see calculated by Lending Clubs loan grades. "
   ]
  },
  {
   "cell_type": "markdown",
   "metadata": {},
   "source": [
    "## Question 2 (Classification)\n",
    "\n",
    "In the last question you used all your engineered features in making your model.\n",
    "* Was this a good idea? \n",
    "* Are some of your features correlated and did you discover this during preprocessing? \n",
    "* Is your model suffering from the curse of dimensionality with many features, some of which don’t provide additional value potentially due to correlation? \n",
    "* Do feature selection by hand, through stepwise regression, or do dimension reduction. What is your R2, RSE, or other measure of your new model fit with feature selection? \n",
    "* Now, Pick another model type entirely such as knn, decision trees, or random forest. Consider that certain algorithms such as decision trees do feature selection for you while knn does not. Can you improve upon the performance compared to your previous models using this new model type?\n",
    "* Which algorithm performed best? How do you define best? \n",
    "* Why did this algorithm perform best? \n",
    "* Now compare all the different models you made on your test set. "
   ]
  },
  {
   "cell_type": "code",
   "execution_count": 260,
   "metadata": {
    "collapsed": true
   },
   "outputs": [],
   "source": [
    "# Using only the engineered features did not go very well - our precision and recall scores \n",
    "# for the positive class were zero. We need additional features to help us improve our model \n",
    "# performance.  Let's consider using ALL features for a model this time around.\n",
    "\n",
    "# I know that there are several columns which are heavily correlated with the default status - so I will \n",
    "# remove these columns to see how the model does without them.  In particular, we will drop:\n",
    "    \n",
    "drop_cols = ['grade',\n",
    "            'sub_grade',\n",
    "            'loan_status',\n",
    "            'int_rate',\n",
    "            'default_status']"
   ]
  },
  {
   "cell_type": "code",
   "execution_count": 261,
   "metadata": {
    "collapsed": false
   },
   "outputs": [
    {
     "data": {
      "text/plain": [
       "array([0, 1])"
      ]
     },
     "execution_count": 261,
     "metadata": {},
     "output_type": "execute_result"
    }
   ],
   "source": [
    "# create our X and y datasets\n",
    "X = df.drop(drop_cols, axis=1)\n",
    "y = df.default_status\n",
    "\n",
    "# create the dummies for our category columns & scale\n",
    "X = pd.get_dummies(X)\n",
    "X = sc.fit_transform(X)\n",
    "\n",
    "# split our data\n",
    "X_train, X_test, y_train, y_test = train_test_split(X, y, test_size=0.25, random_state=42)\n",
    "\n",
    "# fit the classifier\n",
    "clf = LogisticRegression()\n",
    "clf.fit(X_train, y_train)\n",
    "\n",
    "# how is our class order defined? \n",
    "clf.classes_"
   ]
  },
  {
   "cell_type": "code",
   "execution_count": 262,
   "metadata": {
    "collapsed": false
   },
   "outputs": [
    {
     "name": "stdout",
     "output_type": "stream",
     "text": [
      "r2 test: 0.9966639125758024\n",
      "mse: 0.003336087424197546\n",
      "roc: 0.9990867581898735\n"
     ]
    }
   ],
   "source": [
    "# predict X\n",
    "y_pred = clf.predict(X_test)\n",
    "\n",
    "# find the assigned scores for the y predictions (which is the second column in predicitions)\n",
    "y_score = clf.predict_proba(X_test)[:,1]\n",
    "\n",
    "# find the scores\n",
    "r2_score_test = clf.score(X_test, y_test)\n",
    "mse_test = mean_squared_error(y_test,y_pred)\n",
    "roc_test = roc_auc_score(y_test, y_score)\n",
    "\n",
    "# print scores\n",
    "print('r2 test: {}'.format(r2_score_test))\n",
    "print('mse: {}'.format(mse_test))\n",
    "print('roc: {}'.format(roc_test))"
   ]
  },
  {
   "cell_type": "code",
   "execution_count": 263,
   "metadata": {
    "collapsed": false
   },
   "outputs": [
    {
     "data": {
      "image/png": "[encoded data removed]",
      "text/plain": [
       "<matplotlib.figure.Figure at 0x12d79a710>"
      ]
     },
     "metadata": {},
     "output_type": "display_data"
    }
   ],
   "source": [
    "# plot the ROC curve\n",
    "plt.figure(figsize=(6,6))\n",
    "\n",
    "# calculate false positives & true positives\n",
    "fpr, tpr, thresholds = roc_curve(y_test, y_score)\n",
    "\n",
    "# plot ROC curve & 50% line\n",
    "plt.plot(fpr, tpr)\n",
    "plt.plot([0,1], [0,1], color='black')\n",
    "\n",
    "# set labels\n",
    "plt.xlabel('false positive rate')\n",
    "plt.ylabel('true positive rate')\n",
    "plt.title('ROC curve - Logistic Regression')\n",
    "\n",
    "plt.show()"
   ]
  },
  {
   "cell_type": "code",
   "execution_count": 264,
   "metadata": {
    "collapsed": false
   },
   "outputs": [
    {
     "name": "stdout",
     "output_type": "stream",
     "text": [
      "             precision    recall  f1-score   support\n",
      "\n",
      "          0       1.00      1.00      1.00     52302\n",
      "          1       1.00      0.98      0.99     11845\n",
      "\n",
      "avg / total       1.00      1.00      1.00     64147\n",
      "\n"
     ]
    }
   ],
   "source": [
    "# create target_names\n",
    "t_names = ['0', '1']\n",
    "\n",
    "print(classification_report(y_test, y_pred, target_names=t_names))"
   ]
  },
  {
   "cell_type": "markdown",
   "metadata": {},
   "source": [
    "# ISSUES\n",
    "\n",
    "* Within Question #1 - I'm not sure how to approach the following question: **How does this accuracy compare to the benchmark of just predicting the majority class in the training set?**\n",
    "    * Is this suppose to be done using LogisticRegression?  If so, I don't understand how the parameters would be setup to create the model.\n",
    "    \n",
    "* Within Question #2 - I receive a fantastic score using logistic regression on the lending data classificaiton - however I believe this is incorrect and I don't know why.  I would expect to receive a score somewhere in the 80% range, which could be improved using feature selection and hyperparameter tuning.  But this is not the case.  \n",
    "\n",
    "Am I approaching these questions incorrectly? "
   ]
  },
  {
   "cell_type": "code",
   "execution_count": null,
   "metadata": {
    "collapsed": false
   },
   "outputs": [],
   "source": []
  },
  {
   "cell_type": "code",
   "execution_count": null,
   "metadata": {
    "collapsed": true
   },
   "outputs": [],
   "source": []
  }
 ],
 "metadata": {
  "kernelspec": {
   "display_name": "Python 3",
   "language": "python",
   "name": "python3"
  },
  "language_info": {
   "codemirror_mode": {
    "name": "ipython",
    "version": 3
   },
   "file_extension": ".py",
   "mimetype": "text/x-python",
   "name": "python",
   "nbconvert_exporter": "python",
   "pygments_lexer": "ipython3",
   "version": "3.6.0"
  }
 },
 "nbformat": 4,
 "nbformat_minor": 2
}
