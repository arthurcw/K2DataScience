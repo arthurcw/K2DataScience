{
 "cells": [
  {
   "cell_type": "markdown",
   "metadata": {},
   "source": [
    "# Project 2\n",
    "## Lending Club Classification\n",
    "Our goal for the Lending Club classification exercise is to create a model that determines whether or not a loanee will default.  \n",
    "\n",
    "A loan enters default status once it is overdue by 120 days.  For the purpose of our classification exercise we will assume loans in a late status will convert into a default status.   As such, late statuses will be considered in our model as defaulted loans.\n",
    "\n",
    "We will begin by looking at a simple Logistic Regression on features that have been created (feature engineered) during our EDA of the data. \n",
    "\n",
    "We will then move to performing a Logistic Regression on all features before fine tuning feature selection & hyperparamters for the Logistic Regression model. \n",
    "\n",
    "Finally, we will have a look at Random Forests to see if they can out perform a Logistic Regression in this case.  "
   ]
  },
  {
   "cell_type": "code",
   "execution_count": 334,
   "metadata": {
    "collapsed": false
   },
   "outputs": [],
   "source": [
    "# Import all our varaibles\n",
    "import pandas as pd\n",
    "import numpy as np\n",
    "import matplotlib.pyplot as plt\n",
    "import seaborn as sns\n",
    "sns.set_context('poster')\n",
    "sns.set(style='whitegrid', color_codes=True)\n",
    "\n",
    "# preprocessing\n",
    "from sklearn.model_selection import train_test_split\n",
    "from sklearn.preprocessing import StandardScaler\n",
    "from sklearn.pipeline import Pipeline\n",
    "from sklearn.decomposition import PCA\n",
    "from sklearn.feature_selection import SelectFromModel\n",
    "\n",
    "# models\n",
    "from sklearn.linear_model import LogisticRegression\n",
    "from sklearn.ensemble import RandomForestClassifier\n",
    "from sklearn.svm import LinearSVC\n",
    "from sklearn.ensemble import ExtraTreesClassifier\n",
    "\n",
    "# scores\n",
    "from sklearn.metrics import mean_squared_error\n",
    "from sklearn.metrics import roc_auc_score\n",
    "from sklearn.metrics import roc_curve\n",
    "from sklearn.metrics import accuracy_score\n",
    "from sklearn.model_selection import cross_val_score\n",
    "from sklearn.metrics import classification_report\n",
    "from sklearn.metrics import confusion_matrix\n",
    "from sklearn.model_selection import GridSearchCV\n",
    "from sklearn.model_selection import RandomizedSearchCV\n",
    "\n",
    "\n"
   ]
  },
  {
   "cell_type": "markdown",
   "metadata": {},
   "source": [
    "To begin, we will import our pre-processed data.  We've identified several category columns and will ensure these are set with the appropriate datatype before moving forward. "
   ]
  },
  {
   "cell_type": "code",
   "execution_count": 272,
   "metadata": {
    "collapsed": false
   },
   "outputs": [],
   "source": [
    "#define category columns\n",
    "cat_cols = ['grade', \n",
    "            'sub_grade',\n",
    "            'home_ownership',\n",
    "            'verification_status',\n",
    "            'loan_status',\n",
    "            'purpose',\n",
    "            'addr_state',\n",
    "            'initial_list_status',\n",
    "            'application_type',\n",
    "            'hardship_flag'\n",
    "           ]\n",
    "\n",
    "# import data\n",
    "df_raw = pd.read_csv('../data/processed/LCData_processed.csv', index_col=0)\n",
    "\n",
    "# convert category columns\n",
    "for c in cat_cols:\n",
    "    df_raw[c] = pd.Categorical(df_raw[c])"
   ]
  },
  {
   "cell_type": "markdown",
   "metadata": {},
   "source": [
    "As mentioned above, we want to build a model based on completed loans - meaning loans that have been fully repaid or defaulted.  Any loan that is currently on-going will be removed from our dataset. "
   ]
  },
  {
   "cell_type": "code",
   "execution_count": 273,
   "metadata": {
    "collapsed": false
   },
   "outputs": [
    {
     "name": "stderr",
     "output_type": "stream",
     "text": [
      "//anaconda/lib/python3.6/site-packages/ipykernel/__main__.py:9: UserWarning: This pattern has match groups. To actually get the groups, use str.extract.\n"
     ]
    }
   ],
   "source": [
    "completed_loan_status = ['Fully Paid', \n",
    "                         'Charged Off', \n",
    "                         'Default',\n",
    "                         'Late (16-30 days)',\n",
    "                         'Late (31-120 days)'\n",
    "                        ]\n",
    "\n",
    "# filter our loan data\n",
    "df = df_raw[df_raw.loan_status.str.contains('|'.join(completed_loan_status))]"
   ]
  },
  {
   "cell_type": "markdown",
   "metadata": {},
   "source": [
    "## Logistic Regression - Feature Engineered Columns\n",
    "As a starting point, we will build a model using only our engineered columns.  Our engineered columns are as follows:"
   ]
  },
  {
   "cell_type": "code",
   "execution_count": 274,
   "metadata": {
    "collapsed": true
   },
   "outputs": [],
   "source": [
    "feat_eng_cols = ['low_deliquent_job',\n",
    "                 'credit_line_length_mnths',\n",
    "                 'inq_last_6mths_cat',\n",
    "                 'pub_rec_cat',\n",
    "                 'fully_funded',\n",
    "                 'issue_d_month', \n",
    "                 'issue_d_year'\n",
    "                 ]"
   ]
  },
  {
   "cell_type": "markdown",
   "metadata": {},
   "source": [
    "With our columns defined, we can create a simple logistic regression to see how well our data performs."
   ]
  },
  {
   "cell_type": "code",
   "execution_count": 275,
   "metadata": {
    "collapsed": false
   },
   "outputs": [
    {
     "name": "stdout",
     "output_type": "stream",
     "text": [
      "R2: 0.8074194962474714\n",
      "RSE: 0.43883995232035167\n",
      "ROC AUC: 0.5659423551308429\n"
     ]
    }
   ],
   "source": [
    "# create our X and y datasets\n",
    "X = df[feat_eng_cols]\n",
    "y = df.is_bad\n",
    "\n",
    "# create the dummies for our category columns\n",
    "X = pd.get_dummies(X)\n",
    "\n",
    "# split our data.  Here we use the stratify option to ensure our split datasets contain the same distribution between\n",
    "# majority & minority class\n",
    "X_train, X_test, y_train, y_test = train_test_split(X, y, test_size=0.25, random_state=42, stratify=y)\n",
    "\n",
    "# scale the data\n",
    "sc = StandardScaler()\n",
    "X_train_scaled = sc.fit_transform(X_train)\n",
    "\n",
    "# fit the classifier\n",
    "clf = LogisticRegression()\n",
    "clf.fit(X_train_scaled, y_train)\n",
    "\n",
    "# predict using the training dataset\n",
    "y_pred = clf.predict(X_train_scaled)\n",
    "\n",
    "# find the prediction precentage for the 'default' class (which is the second column)\n",
    "y_score = clf.predict_proba(X_train_scaled)[:,1]\n",
    "\n",
    "# find the scores\n",
    "r2_score = clf.score(X_train_scaled, y_train)\n",
    "mse = mean_squared_error(y_train,y_pred)\n",
    "roc_auc = roc_auc_score(y_train, y_score)\n",
    "\n",
    "# print scores\n",
    "print('R2: {}'.format(r2_score))\n",
    "print('RSE: {}'.format(np.sqrt(mse)))\n",
    "print('ROC AUC: {}'.format(roc_auc))"
   ]
  },
  {
   "cell_type": "markdown",
   "metadata": {},
   "source": [
    "The accuracy score states that we are ~81%.  One would assume this is great.  Looking at the ROC AUC score, we find out that the accuracy score is not good at all. \n",
    "\n",
    "A roc auc score of ~57% is slightly better than randomly guessing the outcome.  I believe we see this bad score due to unbalanced classes.  Let's take a look at the confusion matrix and classification report."
   ]
  },
  {
   "cell_type": "code",
   "execution_count": 276,
   "metadata": {
    "collapsed": false
   },
   "outputs": [
    {
     "name": "stdout",
     "output_type": "stream",
     "text": [
      "[[152876      0]\n",
      " [ 36463      0]]\n"
     ]
    }
   ],
   "source": [
    "print(confusion_matrix(y_train, y_pred))"
   ]
  },
  {
   "cell_type": "code",
   "execution_count": 277,
   "metadata": {
    "collapsed": false
   },
   "outputs": [
    {
     "name": "stdout",
     "output_type": "stream",
     "text": [
      "             precision    recall  f1-score   support\n",
      "\n",
      "          0       0.81      1.00      0.89    152876\n",
      "          1       0.00      0.00      0.00     36463\n",
      "\n",
      "avg / total       0.65      0.81      0.72    189339\n",
      "\n"
     ]
    },
    {
     "name": "stderr",
     "output_type": "stream",
     "text": [
      "//anaconda/lib/python3.6/site-packages/sklearn/metrics/classification.py:1135: UndefinedMetricWarning: Precision and F-score are ill-defined and being set to 0.0 in labels with no predicted samples.\n",
      "  'precision', 'predicted', average, warn_for)\n"
     ]
    }
   ],
   "source": [
    "print(classification_report(y_train, y_pred, target_names=['0', '1']))"
   ]
  },
  {
   "cell_type": "markdown",
   "metadata": {
    "collapsed": false
   },
   "source": [
    "The results look even worse now.  We predict 'non-default' for everything.  At the moment, our model is not able to predict when a loanee will default.  It could be due to class imbalance.  \n",
    "\n",
    "Let's try balancing our classes and re-running the model."
   ]
  },
  {
   "cell_type": "markdown",
   "metadata": {},
   "source": [
    "### SMOTE  Class Balancing\n",
    "Using SMOTE, we are able to bring balance to our minority class, which will hopefully improve our accuracy score. "
   ]
  },
  {
   "cell_type": "code",
   "execution_count": 278,
   "metadata": {
    "collapsed": false
   },
   "outputs": [
    {
     "name": "stdout",
     "output_type": "stream",
     "text": [
      "Resampled dataset shape Counter({0: 203835, 1: 203835})\n"
     ]
    }
   ],
   "source": [
    "from imblearn.over_sampling import SMOTE\n",
    "from collections import Counter\n",
    "\n",
    "X = pd.get_dummies(df[feat_eng_cols])\n",
    "y = df.is_bad\n",
    "\n",
    "# balance our class\n",
    "sm = SMOTE(random_state=42)\n",
    "X_res, y_res = sm.fit_sample(X, y)\n",
    "\n",
    "# display the sampled classes\n",
    "print('Resampled dataset shape {}'.format(Counter(y_res)))"
   ]
  },
  {
   "cell_type": "markdown",
   "metadata": {},
   "source": [
    "We now have balanced classes and are ready to perform a logisitc regression to see how well our model predicts the outcome."
   ]
  },
  {
   "cell_type": "code",
   "execution_count": 279,
   "metadata": {
    "collapsed": false,
    "scrolled": true
   },
   "outputs": [
    {
     "name": "stdout",
     "output_type": "stream",
     "text": [
      "R2: 0.5504559250634501\n",
      "RSE: 0.6704804806529046\n",
      "ROC AUC: 0.5619283740232979\n"
     ]
    }
   ],
   "source": [
    "# split our data\n",
    "X_train_bal, X_test_bal, y_train_bal, y_test_bal = train_test_split(X_res, y_res, test_size=0.25, random_state=42)\n",
    "\n",
    "# scale the data\n",
    "sc = StandardScaler()\n",
    "X_train_scaled_bal = sc.fit_transform(X_train_bal)\n",
    "X_test_scaled_bal = sc.transform(X_test_bal)\n",
    "\n",
    "# fit the classifier\n",
    "clf = LogisticRegression()\n",
    "clf.fit(X_train_scaled_bal, y_train_bal)\n",
    "\n",
    "# predict using the training dataset\n",
    "y_pred_fe = clf.predict(X_train_scaled_bal)\n",
    "\n",
    "# find the prediction precentage for the 'default' class (which is the second column)\n",
    "y_score_fe = clf.predict_proba(X_train_scaled_bal)[:,1]\n",
    "\n",
    "# find the scores\n",
    "r2_score_bal = clf.score(X_train_scaled_bal, y_train_bal)\n",
    "mse_bal = mean_squared_error(y_train_bal, y_pred_fe)\n",
    "roc_auc_bal = roc_auc_score(y_train_bal, y_score_fe)\n",
    "\n",
    "# print scores\n",
    "print('R2: {}'.format(r2_score_bal))\n",
    "print('RSE: {}'.format(np.sqrt(mse_bal)))\n",
    "print('ROC AUC: {}'.format(roc_auc_bal))\n"
   ]
  },
  {
   "cell_type": "markdown",
   "metadata": {},
   "source": [
    "The ROC AUC score appears to be the same as we saw in our initial tests, however we can see that the accuracy score mirrors our ROC AUC score.  This should mean that we are successfully predicting loan defaults now.  Let's look at our confusion matrix and classification report to confirm. "
   ]
  },
  {
   "cell_type": "code",
   "execution_count": 280,
   "metadata": {
    "collapsed": false
   },
   "outputs": [
    {
     "data": {
      "text/plain": [
       "array([[ 64397,  88376],\n",
       "       [ 49073, 103906]])"
      ]
     },
     "execution_count": 280,
     "metadata": {},
     "output_type": "execute_result"
    }
   ],
   "source": [
    "confusion_matrix(y_train_bal, y_pred_bal)"
   ]
  },
  {
   "cell_type": "code",
   "execution_count": 281,
   "metadata": {
    "collapsed": false
   },
   "outputs": [
    {
     "name": "stdout",
     "output_type": "stream",
     "text": [
      "             precision    recall  f1-score   support\n",
      "\n",
      "          0       0.57      0.42      0.48    152773\n",
      "          1       0.54      0.68      0.60    152979\n",
      "\n",
      "avg / total       0.55      0.55      0.54    305752\n",
      "\n"
     ]
    }
   ],
   "source": [
    "print(classification_report(y_train_bal, y_pred_bal, target_names=['0', '1']))"
   ]
  },
  {
   "cell_type": "markdown",
   "metadata": {},
   "source": [
    "Although the balanced class allows us to predict the default class, we still have a model that predicts just slight better than randomly guessing the outcome.  \n",
    "\n",
    "This is most likley due to the few number of features used in the current model.  We can improve the model by adding additional features."
   ]
  },
  {
   "cell_type": "markdown",
   "metadata": {},
   "source": [
    "## Predicting based on the majority class\n",
    "We've seen that our current model performs poorly.  If we were to create a model that always predicts the majority class, how well would our model perform? \n",
    "\n",
    "We already know that the majority class is 'non-default' (represented by the 0 class).  Let's calcluate the prediction accuracy of the majority class. "
   ]
  },
  {
   "cell_type": "code",
   "execution_count": 282,
   "metadata": {
    "collapsed": false
   },
   "outputs": [
    {
     "name": "stdout",
     "output_type": "stream",
     "text": [
      "Majority benchmark: 0.8074176183289563\n"
     ]
    }
   ],
   "source": [
    "# find the counts for majority and minority classes\n",
    "majority = len(df[df.is_bad == 0])\n",
    "minority = len(df[df.is_bad == 1])\n",
    "\n",
    "# calculate the accuracy\n",
    "print('Majority benchmark: {}'.format(majority / (majority + minority)))"
   ]
  },
  {
   "cell_type": "markdown",
   "metadata": {},
   "source": [
    "If we were to always predict the majority class of 'non-default', we would be accurate about 81% of the time.  \n",
    "\n",
    "Our current model is only accurate ~51% of the time.  Our goal should be to create a model that can predict better than 81% accuracy. "
   ]
  },
  {
   "cell_type": "markdown",
   "metadata": {},
   "source": [
    "## Predicting based on loan grade\n",
    "We now know that we can achieve about 81% accuracy by simply predicting 'non-default' for every loan.  This doesn't provide a truly accurate model - but it provides us a benchmark.  \n",
    "\n",
    "We can produce another benchmark by looking at predicting loan default by loan grades.  We will take a look at default rates per loan grades below: "
   ]
  },
  {
   "cell_type": "code",
   "execution_count": 283,
   "metadata": {
    "collapsed": false
   },
   "outputs": [
    {
     "name": "stdout",
     "output_type": "stream",
     "text": [
      "A: 0.062\n",
      "B: 0.128\n",
      "C: 0.210\n",
      "D: 0.289\n",
      "E: 0.360\n",
      "F: 0.411\n",
      "G: 0.438\n"
     ]
    }
   ],
   "source": [
    "# Lets calculate the default rates for loans based on lending club's grades\n",
    "for g in sorted(df.grade.unique()):\n",
    "    \n",
    "    #calculate default rate\n",
    "    default_rate = df[(df.is_bad ==1) & (df.grade==g)].loan_amnt.count() / df[df.grade==g].loan_amnt.count() \n",
    "\n",
    "    print('{0}: {1:.3f}'.format(g, default_rate))"
   ]
  },
  {
   "cell_type": "markdown",
   "metadata": {},
   "source": [
    "As one would expect, loans of grade 'A' have less likelihood of defaulting when compared to loans of grade 'G'.  Using this approach, we assume that if a loan has a grade of 'A', it will default only 6% of the time.  Our current model will only predict the correct response about 50% of the time, no matter what the loan grade is set to.  We can use the loan grade predictions here for our future tests once we settle on a final model. "
   ]
  },
  {
   "cell_type": "markdown",
   "metadata": {},
   "source": [
    "## Logistic Regression - All Columns\n",
    "We've investigated creating a model using only our engineered columns - which behaves poorly.  Our next step is to create a model using all features (columns).  \n",
    "\n",
    "We have several features that relate directly to the status of a loan. These features need to be removed from our dataset prior to building our model.\n",
    "\n",
    "Features will be removed from the dataset if they...\n",
    "* are related to a lending club defined status (e.g. grade, sub_grade, loan_status)\n",
    "* are related to the health status of a loan (e.g. current payments, interest collected, late fees etc) \n",
    "\n",
    "The features to be removed are as follows:"
   ]
  },
  {
   "cell_type": "code",
   "execution_count": 284,
   "metadata": {
    "collapsed": true
   },
   "outputs": [],
   "source": [
    "drop_cols = ['total_pymnt',\n",
    "             'total_pymnt_inv',\n",
    "             'total_rec_int',\n",
    "             'total_rec_late_fee',\n",
    "             'total_rec_prncp',\n",
    "             'funded_amnt',\n",
    "             'funded_amnt_inv',\n",
    "             'out_prncp',\n",
    "             'out_prncp_inv',\n",
    "             'last_pymnt_amnt',\n",
    "             'loan_status',\n",
    "             'grade',\n",
    "            'sub_grade']"
   ]
  },
  {
   "cell_type": "code",
   "execution_count": 285,
   "metadata": {
    "collapsed": false
   },
   "outputs": [],
   "source": [
    "# create a new dataset\n",
    "df_sub = df.drop(drop_cols, axis=1)\n",
    "\n",
    "# create our X & Y\n",
    "X = pd.get_dummies(df_sub.drop('is_bad', axis=1))\n",
    "y = df_sub.is_bad\n",
    "\n",
    "# split our data\n",
    "X_train, X_test, y_train, y_test = train_test_split(X, y, test_size=0.25, random_state=42)"
   ]
  },
  {
   "cell_type": "markdown",
   "metadata": {},
   "source": [
    "Now that we have a dataset, let's try performing a logisitic regression using all features.  Our prior model suffered from class imbalance due to the fact that we had so few features.  We will try the logistic regression without balancing the classes to see how we perform. "
   ]
  },
  {
   "cell_type": "code",
   "execution_count": 286,
   "metadata": {
    "collapsed": false,
    "scrolled": false
   },
   "outputs": [
    {
     "name": "stdout",
     "output_type": "stream",
     "text": [
      "Training Scores\n",
      "R2: 0.9054341683435531\n",
      "RSE: 0.3075155795345122\n",
      "ROC AUC: 0.8759851049290165\n"
     ]
    }
   ],
   "source": [
    "# Build a pipeline\n",
    "pipe_lr_af = Pipeline([\n",
    "        ('scaler', StandardScaler()),\n",
    "        ('clf', LogisticRegression())\n",
    "    ])\n",
    "\n",
    "# fit the data\n",
    "pipe_lr_af.fit(X_train, y_train)\n",
    "\n",
    "# predict X\n",
    "y_pred_lr_af = pipe_lr_af.predict(X_train)\n",
    "\n",
    "# find the assigned scores for the y predictions (which is the second column in predicitions)\n",
    "y_score_lr_af = pipe_lr_af.predict_proba(X_train)[:,1]\n",
    "\n",
    "# find the scores\n",
    "r2_score = pipe_lr_af.score(X_train, y_train)\n",
    "mse = mean_squared_error(y_train,y_pred_lr_af)\n",
    "roc_auc = roc_auc_score(y_train, y_score_lr_af)\n",
    "\n",
    "# print scores\n",
    "print('Training Scores')\n",
    "print('R2: {}'.format(r2_score))\n",
    "print('RSE: {}'.format(np.sqrt(mse)))\n",
    "print('ROC AUC: {}'.format(roc_auc))"
   ]
  },
  {
   "cell_type": "code",
   "execution_count": 287,
   "metadata": {
    "collapsed": false
   },
   "outputs": [
    {
     "name": "stdout",
     "output_type": "stream",
     "text": [
      "             precision    recall  f1-score   support\n",
      "\n",
      "          0       0.90      1.00      0.94    152880\n",
      "          1       0.99      0.52      0.68     36459\n",
      "\n",
      "avg / total       0.91      0.91      0.89    189339\n",
      "\n"
     ]
    }
   ],
   "source": [
    "#Let's have a look at the classification report\n",
    "print(classification_report(y_train, y_pred_lr_af, target_names=['0', '1']))"
   ]
  },
  {
   "cell_type": "markdown",
   "metadata": {},
   "source": [
    "Our scores look considerably better when using all features.  We are properly predicting the default class, which we saw was a problem when using few features for our model. \n",
    "\n",
    "Let's validate our scores against our test dataset to verify that we can accurately predict defaults."
   ]
  },
  {
   "cell_type": "code",
   "execution_count": 288,
   "metadata": {
    "collapsed": false
   },
   "outputs": [
    {
     "name": "stdout",
     "output_type": "stream",
     "text": [
      "Testing Scores\n",
      "R2: 0.9052508159837754\n",
      "RSE: 0.30781355398394106\n",
      "ROC AUC: 0.8737729370665167\n"
     ]
    }
   ],
   "source": [
    "# predict X\n",
    "y_pred_test = pipe_lr_af.predict(X_test)\n",
    "\n",
    "# find the assigned scores for the y predictions (which is the second column in predicitions)\n",
    "y_score_test = pipe_lr_af.predict_proba(X_test)[:,1]\n",
    "\n",
    "# find the scores\n",
    "r2_score = pipe_lr_af.score(X_test, y_test)\n",
    "mse = mean_squared_error(y_test,y_pred_test)\n",
    "roc_auc = roc_auc_score(y_test, y_score_test)\n",
    "\n",
    "# print scores\n",
    "print('Testing Scores')\n",
    "print('R2: {}'.format(r2_score))\n",
    "print('RSE: {}'.format(np.sqrt(mse)))\n",
    "print('ROC AUC: {}'.format(roc_auc))"
   ]
  },
  {
   "cell_type": "markdown",
   "metadata": {},
   "source": [
    "When looking at the test results, we find that the model ROC AUC score is algined with what we saw with our training dataset.  Let's validate this using cross validation:"
   ]
  },
  {
   "cell_type": "code",
   "execution_count": 289,
   "metadata": {
    "collapsed": false
   },
   "outputs": [
    {
     "data": {
      "text/plain": [
       "array([ 0.91547008,  0.93024499,  0.91620289,  0.88496732,  0.86434938])"
      ]
     },
     "execution_count": 289,
     "metadata": {},
     "output_type": "execute_result"
    }
   ],
   "source": [
    "# let's find the cross validation score\n",
    "scores = cross_val_score(pipe_lr_af, X, y, cv=5)\n",
    "scores"
   ]
  },
  {
   "cell_type": "code",
   "execution_count": 290,
   "metadata": {
    "collapsed": false
   },
   "outputs": [
    {
     "name": "stdout",
     "output_type": "stream",
     "text": [
      "Accuracy: 0.90 (+/- 0.04807)\n"
     ]
    }
   ],
   "source": [
    "print(\"Accuracy: {0:.2f} (+/- {1:.5f})\".format(scores.mean(), scores.std() * 2))"
   ]
  },
  {
   "cell_type": "markdown",
   "metadata": {},
   "source": [
    "Perfect. We've improved our accuracy considerably.  We have a great ROC AUC score of 87% and a cross validation score of 90%.  We can say that having more features allows us to predict outcomes more accurately.    "
   ]
  },
  {
   "cell_type": "markdown",
   "metadata": {},
   "source": [
    "## Logistic Regression - Feature Selection\n",
    "With a solid score using Logistic Regression, our next question is whether or not we can reduce the complexity of our model.  We can do this by limiting the number of features required to predict the outcome, but also want to retain a high roc auc score. \n",
    "\n",
    "We will try 3 different feature selection methods\n",
    "* SelectFromModel using LinearSVC\n",
    "* SelectFromModel using ExtraTreeClassifier\n",
    "* PCA\n",
    "\n",
    "Once we identify the best selection method & threshold, we will perform a final scoring.  We will try multiple thresholds in our SelectFromModel to find a balance between features and scoring. "
   ]
  },
  {
   "cell_type": "code",
   "execution_count": 291,
   "metadata": {
    "collapsed": false
   },
   "outputs": [
    {
     "name": "stdout",
     "output_type": "stream",
     "text": [
      "Processing LinearSVC using 1e-05\n",
      "Processing LinearSVC using 0.0001\n",
      "Processing LinearSVC using 0.01\n",
      "Processing LinearSVC using 0.02\n",
      "Processing LinearSVC using 0.03\n",
      "Processing LinearSVC using 0.04\n",
      "Processing LinearSVC using mean\n",
      "Processing ExtraTreesClassifier using 1e-05\n",
      "Processing ExtraTreesClassifier using 0.0001\n",
      "Processing ExtraTreesClassifier using 0.01\n",
      "Processing ExtraTreesClassifier using 0.02\n",
      "Processing ExtraTreesClassifier using 0.03\n",
      "Processing ExtraTreesClassifier using 0.04\n",
      "Processing ExtraTreesClassifier using mean\n"
     ]
    }
   ],
   "source": [
    "# define our classifiers\n",
    "clf_lsvc = LinearSVC(penalty='l1', dual=False, random_state=42)\n",
    "clf_etc = ExtraTreesClassifier(random_state=42)\n",
    "\n",
    "# create our parameters for testing\n",
    "feat_selectors = [clf_lsvc, clf_etc]\n",
    "feat_selector_names = ['LinearSVC', 'ExtraTreesClassifier']\n",
    "thresholds = [0.00001, 0.0001, 0.01, 0.02, 0.03, 0.04, 'mean']\n",
    "\n",
    "# create a place to store our results\n",
    "results_fs=[]\n",
    "column_names = ['feat_selector', 'threshold', 'accuracy', 'rmse', 'roc_auc', 'features_selected']\n",
    "\n",
    "# loop through each feat selector\n",
    "for i, fs in enumerate(feat_selectors):\n",
    "    \n",
    "    # loop through thresholds\n",
    "    for j, t in enumerate(thresholds):\n",
    "\n",
    "        print('Processing {} using {}'.format(feat_selector_names[i], t))\n",
    "\n",
    "        # create pipeline\n",
    "        pipe_fs = Pipeline([\n",
    "            ('scaler', StandardScaler()),\n",
    "            ('feature_selection', SelectFromModel(fs, threshold=t)),\n",
    "            ('clf', LogisticRegression())\n",
    "        ])\n",
    "\n",
    "        # fit the data\n",
    "        pipe_fs.fit(X_train, y_train)\n",
    "\n",
    "        # predict X\n",
    "        y_pred = pipe_fs.predict(X_train)\n",
    "\n",
    "        # find the assigned scores for the y predictions (which is the second column in predicitions)\n",
    "        y_score = pipe_fs.predict_proba(X_train)[:,1]\n",
    "\n",
    "        # find the scores\n",
    "        r2_score = pipe_fs.score(X_train, y_train)\n",
    "        mse = mean_squared_error(y_train,y_pred)\n",
    "        roc_auc = roc_auc_score(y_train, y_score)\n",
    "\n",
    "        # store the scores\n",
    "        result= (feat_selector_names[i], \n",
    "                 t, \n",
    "                 r2_score, \n",
    "                 np.sqrt(mse), \n",
    "                 roc_auc, \n",
    "                 np.sum(pipe_fs.named_steps['feature_selection'].get_support())\n",
    "                )\n",
    "\n",
    "        results_fs.append(result)"
   ]
  },
  {
   "cell_type": "markdown",
   "metadata": {},
   "source": [
    "Next we will create a PCA to determine how well our model performs using different principal components.  We will use a simliar technique used for SelectFromModel above. "
   ]
  },
  {
   "cell_type": "code",
   "execution_count": 292,
   "metadata": {
    "collapsed": false
   },
   "outputs": [
    {
     "name": "stdout",
     "output_type": "stream",
     "text": [
      "Processing PCA using 1 components\n",
      "Processing PCA using 5 components\n",
      "Processing PCA using 10 components\n",
      "Processing PCA using 50 components\n",
      "Processing PCA using 75 components\n",
      "Processing PCA using 100 components\n",
      "Processing PCA using 125 components\n"
     ]
    }
   ],
   "source": [
    "# create a list of components to test\n",
    "components = [1, 5, 10, 50, 75, 100, 125]\n",
    "\n",
    "for i, n in enumerate(components):\n",
    "\n",
    "    print('Processing PCA using {} components'.format(components[i]))\n",
    "    \n",
    "    # create pipeline\n",
    "    pipe_fs = Pipeline([\n",
    "        ('scaler', StandardScaler()),\n",
    "        ('feature_selection', PCA(n_components=n)),\n",
    "        ('clf', LogisticRegression())\n",
    "    ])\n",
    "\n",
    "    # fit the data\n",
    "    pipe_fs.fit(X_train, y_train)\n",
    "\n",
    "    # predict X\n",
    "    y_pred = pipe_fs.predict(X_train)\n",
    "\n",
    "    # find the assigned scores for the y predictions (which is the second column in predicitions)\n",
    "    y_score = pipe_fs.predict_proba(X_train)[:,1]\n",
    "\n",
    "    # find the scores\n",
    "    r2_score = pipe_fs.score(X_train, y_train)\n",
    "    mse = mean_squared_error(y_train,y_pred)\n",
    "    roc_auc = roc_auc_score(y_train, y_score)\n",
    "\n",
    "    # create the result\n",
    "    result= ('PCA',\n",
    "             '',\n",
    "             r2_score, \n",
    "             np.sqrt(mse), \n",
    "             roc_auc, \n",
    "             n\n",
    "            )\n",
    "\n",
    "    results_fs.append(result)"
   ]
  },
  {
   "cell_type": "markdown",
   "metadata": {},
   "source": [
    "With the analysis complete, we can visualize our results to get an idea of how each performed."
   ]
  },
  {
   "cell_type": "code",
   "execution_count": 293,
   "metadata": {
    "collapsed": false
   },
   "outputs": [
    {
     "data": {
      "image/png": "[encoded data removed]",
      "text/plain": [
       "<matplotlib.figure.Figure at 0x108f35f60>"
      ]
     },
     "metadata": {},
     "output_type": "display_data"
    }
   ],
   "source": [
    "# convert our results into a dataframe\n",
    "plt_results = pd.DataFrame(results_fs, columns=column_names)\n",
    "fig,ax = plt.subplots(figsize=(10,6))\n",
    "\n",
    "# loop through each classifier\n",
    "for fs, data in plt_results.sort_values('features_selected').groupby('feat_selector'):\n",
    "\n",
    "    # create the data\n",
    "    x_data = data.features_selected\n",
    "    y_data = data.roc_auc\n",
    "    \n",
    "    plt.plot(x_data, y_data, label=fs)\n",
    "\n",
    "# limit the y axis\n",
    "ax = plt.gca()\n",
    "ax.set_ylim([min(plt_results.roc_auc)-0.05 , max(plt_results.roc_auc)+0.05])\n",
    "\n",
    "# set titles\n",
    "plt.title('Logistic Regression ROC AUC Scores')\n",
    "plt.ylabel('ROC AUC Score')\n",
    "plt.xlabel('No. of Features/Components')\n",
    "plt.legend()\n",
    "\n",
    "plt.show()"
   ]
  },
  {
   "cell_type": "code",
   "execution_count": 296,
   "metadata": {
    "collapsed": false
   },
   "outputs": [
    {
     "data": {
      "text/html": [
       "<div>\n",
       "<style scoped>\n",
       "    .dataframe tbody tr th:only-of-type {\n",
       "        vertical-align: middle;\n",
       "    }\n",
       "\n",
       "    .dataframe tbody tr th {\n",
       "        vertical-align: top;\n",
       "    }\n",
       "\n",
       "    .dataframe thead th {\n",
       "        text-align: right;\n",
       "    }\n",
       "</style>\n",
       "<table border=\"1\" class=\"dataframe\">\n",
       "  <thead>\n",
       "    <tr style=\"text-align: right;\">\n",
       "      <th></th>\n",
       "      <th>feat_selector</th>\n",
       "      <th>threshold</th>\n",
       "      <th>accuracy</th>\n",
       "      <th>rmse</th>\n",
       "      <th>roc_auc</th>\n",
       "      <th>features_selected</th>\n",
       "    </tr>\n",
       "  </thead>\n",
       "  <tbody>\n",
       "    <tr>\n",
       "      <th>0</th>\n",
       "      <td>LinearSVC</td>\n",
       "      <td>1e-05</td>\n",
       "      <td>0.905429</td>\n",
       "      <td>0.307524</td>\n",
       "      <td>0.875977</td>\n",
       "      <td>125</td>\n",
       "    </tr>\n",
       "    <tr>\n",
       "      <th>1</th>\n",
       "      <td>LinearSVC</td>\n",
       "      <td>0.0001</td>\n",
       "      <td>0.905429</td>\n",
       "      <td>0.307524</td>\n",
       "      <td>0.875978</td>\n",
       "      <td>124</td>\n",
       "    </tr>\n",
       "    <tr>\n",
       "      <th>2</th>\n",
       "      <td>LinearSVC</td>\n",
       "      <td>0.01</td>\n",
       "      <td>0.905429</td>\n",
       "      <td>0.307524</td>\n",
       "      <td>0.873947</td>\n",
       "      <td>40</td>\n",
       "    </tr>\n",
       "    <tr>\n",
       "      <th>3</th>\n",
       "      <td>LinearSVC</td>\n",
       "      <td>0.02</td>\n",
       "      <td>0.905355</td>\n",
       "      <td>0.307644</td>\n",
       "      <td>0.869664</td>\n",
       "      <td>22</td>\n",
       "    </tr>\n",
       "    <tr>\n",
       "      <th>4</th>\n",
       "      <td>LinearSVC</td>\n",
       "      <td>0.03</td>\n",
       "      <td>0.905043</td>\n",
       "      <td>0.308150</td>\n",
       "      <td>0.865309</td>\n",
       "      <td>11</td>\n",
       "    </tr>\n",
       "    <tr>\n",
       "      <th>5</th>\n",
       "      <td>LinearSVC</td>\n",
       "      <td>0.04</td>\n",
       "      <td>0.905160</td>\n",
       "      <td>0.307962</td>\n",
       "      <td>0.864526</td>\n",
       "      <td>8</td>\n",
       "    </tr>\n",
       "    <tr>\n",
       "      <th>6</th>\n",
       "      <td>LinearSVC</td>\n",
       "      <td>mean</td>\n",
       "      <td>0.906015</td>\n",
       "      <td>0.306570</td>\n",
       "      <td>0.802449</td>\n",
       "      <td>2</td>\n",
       "    </tr>\n",
       "    <tr>\n",
       "      <th>7</th>\n",
       "      <td>ExtraTreesClassifier</td>\n",
       "      <td>1e-05</td>\n",
       "      <td>0.905434</td>\n",
       "      <td>0.307516</td>\n",
       "      <td>0.875986</td>\n",
       "      <td>130</td>\n",
       "    </tr>\n",
       "    <tr>\n",
       "      <th>8</th>\n",
       "      <td>ExtraTreesClassifier</td>\n",
       "      <td>0.0001</td>\n",
       "      <td>0.905434</td>\n",
       "      <td>0.307516</td>\n",
       "      <td>0.875984</td>\n",
       "      <td>127</td>\n",
       "    </tr>\n",
       "    <tr>\n",
       "      <th>9</th>\n",
       "      <td>ExtraTreesClassifier</td>\n",
       "      <td>0.01</td>\n",
       "      <td>0.905334</td>\n",
       "      <td>0.307679</td>\n",
       "      <td>0.871052</td>\n",
       "      <td>37</td>\n",
       "    </tr>\n",
       "    <tr>\n",
       "      <th>10</th>\n",
       "      <td>ExtraTreesClassifier</td>\n",
       "      <td>0.02</td>\n",
       "      <td>0.905957</td>\n",
       "      <td>0.306664</td>\n",
       "      <td>0.845638</td>\n",
       "      <td>3</td>\n",
       "    </tr>\n",
       "    <tr>\n",
       "      <th>11</th>\n",
       "      <td>ExtraTreesClassifier</td>\n",
       "      <td>0.03</td>\n",
       "      <td>0.906015</td>\n",
       "      <td>0.306570</td>\n",
       "      <td>0.802449</td>\n",
       "      <td>2</td>\n",
       "    </tr>\n",
       "    <tr>\n",
       "      <th>12</th>\n",
       "      <td>ExtraTreesClassifier</td>\n",
       "      <td>0.04</td>\n",
       "      <td>0.906015</td>\n",
       "      <td>0.306570</td>\n",
       "      <td>0.802449</td>\n",
       "      <td>2</td>\n",
       "    </tr>\n",
       "    <tr>\n",
       "      <th>13</th>\n",
       "      <td>ExtraTreesClassifier</td>\n",
       "      <td>mean</td>\n",
       "      <td>0.905307</td>\n",
       "      <td>0.307722</td>\n",
       "      <td>0.871640</td>\n",
       "      <td>40</td>\n",
       "    </tr>\n",
       "    <tr>\n",
       "      <th>14</th>\n",
       "      <td>PCA</td>\n",
       "      <td></td>\n",
       "      <td>0.807441</td>\n",
       "      <td>0.438816</td>\n",
       "      <td>0.515484</td>\n",
       "      <td>1</td>\n",
       "    </tr>\n",
       "    <tr>\n",
       "      <th>15</th>\n",
       "      <td>PCA</td>\n",
       "      <td></td>\n",
       "      <td>0.821764</td>\n",
       "      <td>0.422180</td>\n",
       "      <td>0.720258</td>\n",
       "      <td>5</td>\n",
       "    </tr>\n",
       "    <tr>\n",
       "      <th>16</th>\n",
       "      <td>PCA</td>\n",
       "      <td></td>\n",
       "      <td>0.838987</td>\n",
       "      <td>0.401264</td>\n",
       "      <td>0.749771</td>\n",
       "      <td>10</td>\n",
       "    </tr>\n",
       "    <tr>\n",
       "      <th>17</th>\n",
       "      <td>PCA</td>\n",
       "      <td></td>\n",
       "      <td>0.887033</td>\n",
       "      <td>0.336105</td>\n",
       "      <td>0.830933</td>\n",
       "      <td>50</td>\n",
       "    </tr>\n",
       "    <tr>\n",
       "      <th>18</th>\n",
       "      <td>PCA</td>\n",
       "      <td></td>\n",
       "      <td>0.894802</td>\n",
       "      <td>0.324342</td>\n",
       "      <td>0.842521</td>\n",
       "      <td>75</td>\n",
       "    </tr>\n",
       "    <tr>\n",
       "      <th>19</th>\n",
       "      <td>PCA</td>\n",
       "      <td></td>\n",
       "      <td>0.903844</td>\n",
       "      <td>0.310090</td>\n",
       "      <td>0.861248</td>\n",
       "      <td>100</td>\n",
       "    </tr>\n",
       "    <tr>\n",
       "      <th>20</th>\n",
       "      <td>PCA</td>\n",
       "      <td></td>\n",
       "      <td>0.905434</td>\n",
       "      <td>0.307516</td>\n",
       "      <td>0.875985</td>\n",
       "      <td>125</td>\n",
       "    </tr>\n",
       "  </tbody>\n",
       "</table>\n",
       "</div>"
      ],
      "text/plain": [
       "           feat_selector threshold  accuracy      rmse   roc_auc  \\\n",
       "0              LinearSVC     1e-05  0.905429  0.307524  0.875977   \n",
       "1              LinearSVC    0.0001  0.905429  0.307524  0.875978   \n",
       "2              LinearSVC      0.01  0.905429  0.307524  0.873947   \n",
       "3              LinearSVC      0.02  0.905355  0.307644  0.869664   \n",
       "4              LinearSVC      0.03  0.905043  0.308150  0.865309   \n",
       "5              LinearSVC      0.04  0.905160  0.307962  0.864526   \n",
       "6              LinearSVC      mean  0.906015  0.306570  0.802449   \n",
       "7   ExtraTreesClassifier     1e-05  0.905434  0.307516  0.875986   \n",
       "8   ExtraTreesClassifier    0.0001  0.905434  0.307516  0.875984   \n",
       "9   ExtraTreesClassifier      0.01  0.905334  0.307679  0.871052   \n",
       "10  ExtraTreesClassifier      0.02  0.905957  0.306664  0.845638   \n",
       "11  ExtraTreesClassifier      0.03  0.906015  0.306570  0.802449   \n",
       "12  ExtraTreesClassifier      0.04  0.906015  0.306570  0.802449   \n",
       "13  ExtraTreesClassifier      mean  0.905307  0.307722  0.871640   \n",
       "14                   PCA            0.807441  0.438816  0.515484   \n",
       "15                   PCA            0.821764  0.422180  0.720258   \n",
       "16                   PCA            0.838987  0.401264  0.749771   \n",
       "17                   PCA            0.887033  0.336105  0.830933   \n",
       "18                   PCA            0.894802  0.324342  0.842521   \n",
       "19                   PCA            0.903844  0.310090  0.861248   \n",
       "20                   PCA            0.905434  0.307516  0.875985   \n",
       "\n",
       "    features_selected  \n",
       "0                 125  \n",
       "1                 124  \n",
       "2                  40  \n",
       "3                  22  \n",
       "4                  11  \n",
       "5                   8  \n",
       "6                   2  \n",
       "7                 130  \n",
       "8                 127  \n",
       "9                  37  \n",
       "10                  3  \n",
       "11                  2  \n",
       "12                  2  \n",
       "13                 40  \n",
       "14                  1  \n",
       "15                  5  \n",
       "16                 10  \n",
       "17                 50  \n",
       "18                 75  \n",
       "19                100  \n",
       "20                125  "
      ]
     },
     "execution_count": 296,
     "metadata": {},
     "output_type": "execute_result"
    }
   ],
   "source": [
    "# View the detailed results\n",
    "plt_results"
   ]
  },
  {
   "cell_type": "markdown",
   "metadata": {},
   "source": [
    "It appears that LinearSVC has performed the best.  We can acheive a roc auc score of ~87% using only 40 features (a thrid of the total number of features).  The ExtraTreesClassifer can achieve a similar score, however there appears to be a sharp drop off between threshold levels which could create a less robust model.\n",
    "\n",
    "Although PCA doesn't select features (rather it selects components), we find that PCA would require over 120 components in order to match a score of 87%.  We are not reducing the complexity of our model in this case, and therefore we will not use PCA in this analysis. \n",
    "\n",
    "We will select LinearSVC as our feature selection technique, using a threshold of 0.01."
   ]
  },
  {
   "cell_type": "markdown",
   "metadata": {},
   "source": [
    "## Logistic Regression - Feature Selection - Hyperparameter Tuning\n",
    "We know that LinearSVC feature selection performs best.  We can now fine tune our Logistic Regression classifier to see if we can acheive an even better score while using fewer features.  We were able to acheive an ROC AUC score of 87% and a cross validation score of 90% using no feature selection or hyperparameter tuning.  Let's see if we can get near this score."
   ]
  },
  {
   "cell_type": "code",
   "execution_count": 298,
   "metadata": {
    "collapsed": false
   },
   "outputs": [
    {
     "data": {
      "text/plain": [
       "{'clf__C': 1000}"
      ]
     },
     "execution_count": 298,
     "metadata": {},
     "output_type": "execute_result"
    }
   ],
   "source": [
    "# we will do hyperparameter tuning on our logisitic regression\n",
    "param_grid = [{'clf__C':[0.001, 0.01, 1, 10, 100, 500, 1000]}]\n",
    "\n",
    "# create pipeline\n",
    "pipe_fs = Pipeline([\n",
    "    ('scaler', StandardScaler()),\n",
    "    ('feature_selection', SelectFromModel(LinearSVC(penalty='l1', dual=False), threshold=0.01)),\n",
    "    ('clf', LogisticRegression())\n",
    "])\n",
    "\n",
    "# create our grid search\n",
    "grid_search = GridSearchCV(pipe_fs, param_grid, n_jobs=-1, scoring=['accuracy', 'roc_auc'], refit='roc_auc', return_train_score=False)\n",
    "\n",
    "# perform the fit\n",
    "grid_search.fit(X_train, y_train)\n",
    "\n",
    "# print out our best params\n",
    "grid_search.best_params_"
   ]
  },
  {
   "cell_type": "markdown",
   "metadata": {},
   "source": [
    "With our parameters tuned, we bring it all together and perform one last test:"
   ]
  },
  {
   "cell_type": "code",
   "execution_count": 299,
   "metadata": {
    "collapsed": false
   },
   "outputs": [
    {
     "name": "stdout",
     "output_type": "stream",
     "text": [
      "Training Scores\n",
      "R2: 0.9147032571208256\n",
      "RSE: 0.2920560611923238\n",
      "ROC AUC: 0.9060403784462219\n",
      "\n",
      "Testing Scores\n",
      "R2: 0.9021453243337453\n",
      "RSE: 0.30781355398394106\n",
      "ROC AUC: 0.8737729370665167\n"
     ]
    }
   ],
   "source": [
    "# create pipeline\n",
    "pipe_lr_fs = Pipeline([\n",
    "    ('scaler', StandardScaler()),\n",
    "    ('feature_selection', SelectFromModel(LinearSVC(penalty='l1', dual=False), threshold=0.01)),\n",
    "    ('clf', LogisticRegression(C=1000))\n",
    "])\n",
    "\n",
    "# fit the data\n",
    "pipe_lr_fs.fit(X_train, y_train)\n",
    "\n",
    "# predict X\n",
    "y_pred_lr_fs = pipe_lr_fs.predict(X_train)\n",
    "y_pred_test_lr_fs = pipe_lr_fs.predict(X_test)\n",
    "\n",
    "# find the assigned scores for the y predictions (which is the second column in predicitions)\n",
    "y_score_lr_fs = pipe_lr_fs.predict_proba(X_train)[:,1]\n",
    "y_score_test_lr_fs = pipe_lr_fs.predict_proba(X_test)[:,1]\n",
    "\n",
    "# find the scores\n",
    "r2_score = pipe_lr_fs.score(X_train, y_train)\n",
    "mse = mean_squared_error(y_train, y_pred_lr_fs)\n",
    "roc_auc = roc_auc_score(y_train, y_score_lr_fs)\n",
    "\n",
    "r2_score_test = pipe_lr.score(X_test, y_test)\n",
    "mse_test = mean_squared_error(y_test,y_pred_test)\n",
    "roc_auc_test = roc_auc_score(y_test, y_score_test)\n",
    "\n",
    "# print scores\n",
    "print('Training Scores')\n",
    "print('R2: {}'.format(r2_score))\n",
    "print('RSE: {}'.format(np.sqrt(mse)))\n",
    "print('ROC AUC: {}'.format(roc_auc))\n",
    "print()\n",
    "print('Testing Scores')\n",
    "print('R2: {}'.format(r2_score_test))\n",
    "print('RSE: {}'.format(np.sqrt(mse_test)))\n",
    "print('ROC AUC: {}'.format(roc_auc_test))\n",
    "\n"
   ]
  },
  {
   "cell_type": "code",
   "execution_count": 300,
   "metadata": {
    "collapsed": false
   },
   "outputs": [
    {
     "data": {
      "text/plain": [
       "array([ 0.95656652,  0.94294033,  0.91644055,  0.88496732,  0.85323827])"
      ]
     },
     "execution_count": 300,
     "metadata": {},
     "output_type": "execute_result"
    }
   ],
   "source": [
    "# let's find the cross validation score\n",
    "scores = cross_val_score(pipe_lr_fs, X, y, cv=5)\n",
    "scores"
   ]
  },
  {
   "cell_type": "code",
   "execution_count": 301,
   "metadata": {
    "collapsed": false
   },
   "outputs": [
    {
     "name": "stdout",
     "output_type": "stream",
     "text": [
      "Accuracy: 0.91 (+/- 0.07558)\n"
     ]
    }
   ],
   "source": [
    "print(\"Accuracy: {0:.2f} (+/- {1:.5f})\".format(scores.mean(), scores.std() * 2))"
   ]
  },
  {
   "cell_type": "markdown",
   "metadata": {},
   "source": [
    "Using cross validation, we see that we have achieved a similar cross validation score.\n",
    "\n",
    "Out of curiosity - what are the top 5 rated features?"
   ]
  },
  {
   "cell_type": "code",
   "execution_count": 303,
   "metadata": {
    "collapsed": false
   },
   "outputs": [
    {
     "data": {
      "text/plain": [
       "[('recoveries', 13.557974955043633),\n",
       " ('collection_recovery_fee', 0.61039988547649449),\n",
       " ('installment', 0.079098494968777328),\n",
       " ('term', 0.072414814794623972),\n",
       " ('issue_d_year', 0.059802608989202165)]"
      ]
     },
     "execution_count": 303,
     "metadata": {},
     "output_type": "execute_result"
    }
   ],
   "source": [
    "from operator import itemgetter\n",
    "\n",
    "sorted(list(zip(list(X.columns), list(pipe_lr_fs.named_steps['feature_selection'].estimator_.coef_[0]))), key=itemgetter(1), reverse=True)[:5]"
   ]
  },
  {
   "cell_type": "markdown",
   "metadata": {},
   "source": [
    "Through hyperparamter tuning and feature selection, we can find a model that has a cross validation score near 91% and a ROC AUC score of 91 on our training dataset. \n",
    "\n",
    "The most important features appear to be recoveries, collection_recovery_fee, installment and term.  \n",
    "\n",
    "This is a great improvement from where we began using a model that only predicticed around 55%.  Can we improve on this score using a different model?"
   ]
  },
  {
   "cell_type": "markdown",
   "metadata": {},
   "source": [
    "## Random Forest Classifier\n",
    "We've performed feature selection & hyperparamter tuning on our logistic regression classifier to achieve a roc auc score of 91%.  Is it possible to improve this score by using a different classifier?  \n",
    "\n",
    "Let's have a look at the Random Forest Classifier to see.  We will first look at using only feature selection to find out how well we score."
   ]
  },
  {
   "cell_type": "code",
   "execution_count": 313,
   "metadata": {
    "collapsed": false
   },
   "outputs": [
    {
     "name": "stdout",
     "output_type": "stream",
     "text": [
      "Training\n",
      "R2: 0.9885073862225955\n",
      "RSE: 0.10720360897565226\n",
      "ROC AUC: 0.9999110399761032\n",
      "\n",
      "Testing\n",
      "R2: 0.9223943974395539\n",
      "RSE: 0.2785778213721368\n",
      "ROC AUC: 0.891335824593911\n"
     ]
    }
   ],
   "source": [
    "from sklearn.tree import DecisionTreeClassifier\n",
    "\n",
    "pipe_rf_fs = Pipeline([\n",
    "    ('scaler', StandardScaler()),\n",
    "    ('feature_selection', SelectFromModel(LinearSVC(penalty='l1', dual=False), threshold=0.01)),\n",
    "    ('rfc', RandomForestClassifier(random_state=42))\n",
    "])\n",
    "\n",
    "# fit the classifier\n",
    "pipe_rf_fs.fit(X_train, y_train)\n",
    "\n",
    "# predict \n",
    "y_pred_rf_fs = pipe_rf_fs.predict(X_train)\n",
    "y_pred_rf_fs_test = pipe_rf_fs.predict(X_test)\n",
    "\n",
    "# find the assigned scores for the y predictions (which is the second column in predicitions)\n",
    "y_score_rf_fs = pipe_rf_fs.predict_proba(X_train)[:,1]\n",
    "y_score_rf_fs_test = pipe_rf_fs.predict_proba(X_test)[:,1]\n",
    "\n",
    "# find the scores\n",
    "r2_score = pipe_rf_fs.score(X_train, y_train)\n",
    "mse = mean_squared_error(y_train,y_pred_rf_fs)\n",
    "roc_auc = roc_auc_score(y_train, y_score_rf_fs)\n",
    "\n",
    "# find the scores\n",
    "r2_score_test = pipe_rf_fs.score(X_test, y_test)\n",
    "mse_test = mean_squared_error(y_test,y_pred_rf_fs_test)\n",
    "roc_auc_test = roc_auc_score(y_test, y_score_rf_fs_test)\n",
    "\n",
    "# print scores\n",
    "print('Training')\n",
    "print('R2: {}'.format(r2_score))\n",
    "print('RSE: {}'.format(np.sqrt(mse)))\n",
    "print('ROC AUC: {}'.format(roc_auc))\n",
    "print()\n",
    "print('Testing')\n",
    "print('R2: {}'.format(r2_score_test))\n",
    "print('RSE: {}'.format(np.sqrt(mse_test)))\n",
    "print('ROC AUC: {}'.format(roc_auc_test))"
   ]
  },
  {
   "cell_type": "code",
   "execution_count": 314,
   "metadata": {
    "collapsed": false
   },
   "outputs": [
    {
     "name": "stdout",
     "output_type": "stream",
     "text": [
      "             precision    recall  f1-score   support\n",
      "\n",
      "          0       0.92      0.99      0.95     50955\n",
      "          1       0.97      0.62      0.75     12159\n",
      "\n",
      "avg / total       0.93      0.92      0.92     63114\n",
      "\n"
     ]
    }
   ],
   "source": [
    "print(classification_report(y_test, y_pred_rf_fs_test, target_names=['0', '1']))"
   ]
  },
  {
   "cell_type": "code",
   "execution_count": 315,
   "metadata": {
    "collapsed": false
   },
   "outputs": [
    {
     "data": {
      "text/plain": [
       "array([ 0.99027549,  0.95674477,  0.36856073,  0.7483066 ,  0.86399287])"
      ]
     },
     "execution_count": 315,
     "metadata": {},
     "output_type": "execute_result"
    }
   ],
   "source": [
    "# let's find the cross validation score\n",
    "scores = cross_val_score(pipe_rf_fs, X, y, cv=5)\n",
    "scores"
   ]
  },
  {
   "cell_type": "code",
   "execution_count": 316,
   "metadata": {
    "collapsed": false
   },
   "outputs": [
    {
     "name": "stdout",
     "output_type": "stream",
     "text": [
      "Accuracy: 0.79 (+/- 0.44957)\n"
     ]
    }
   ],
   "source": [
    "print(\"Accuracy: {0:.2f} (+/- {1:.5f})\".format(scores.mean(), scores.std() * 2))"
   ]
  },
  {
   "cell_type": "markdown",
   "metadata": {},
   "source": [
    "The random forest classifier performs well, but it appears to have a wide variance when scoring.  The cross validation score is only 79%, having a terrible prediction on the 3rd pass. \n",
    "\n",
    "We do have a good ROC AUC score on our testing data, so let's try tuning the parameters to find out if we can achieve a more consistent score."
   ]
  },
  {
   "cell_type": "markdown",
   "metadata": {},
   "source": [
    "## Random Forest Classifier - Feature Selection & Hyperparameter Tuning\n",
    "In order to tune our parameters, we will first look at each parameter individually, identifying a smaller range for each parameter which will then be used to tuning the final classifier. "
   ]
  },
  {
   "cell_type": "code",
   "execution_count": 317,
   "metadata": {
    "collapsed": true
   },
   "outputs": [],
   "source": [
    "def plot_results(clf, param_name, param_values, plot_index):\n",
    "    \"\"\"\n",
    "    Description\n",
    "    -----------\n",
    "        Allows us to test a parameter range and plot the results\n",
    "        \n",
    "    Parameters\n",
    "    -----------\n",
    "    clf: The classifier to be used for tuning\n",
    "    \n",
    "    param_name: name of the parameter to be tuned\n",
    "    \n",
    "    param_values: an array of values to be tested for the given parameter\n",
    "    \n",
    "    plot_index: identifies the index of the given subplot.  For this given setup, we \n",
    "        assume that we are using a 3 cols x 2 row setup\n",
    "\n",
    "    \n",
    "    \"\"\"\n",
    "\n",
    "    # create the grid search\n",
    "    grid_search = GridSearchCV(clf, \n",
    "                               param_grid = {param_name:param_values},\n",
    "                               return_train_score=True)\n",
    "    \n",
    "    # fit the estimator\n",
    "    grid_search.fit(X_train, y_train)\n",
    "    \n",
    "    # create a dictionary to store the scores\n",
    "    scores_dic = {}\n",
    "    \n",
    "    # loop through the parameter values tested\n",
    "    for i, param_dic in enumerate(grid_search.cv_results_['params']):\n",
    "        \n",
    "        # Store the parameter tested with the related mean training score\n",
    "        scores_dic[param_dic[param_name]] = grid_search.cv_results_['mean_train_score'][i]\n",
    "    \n",
    "    # create a dataframe from the parameter scores\n",
    "    scores_df = pd.DataFrame.from_dict(scores_dic, orient='index')\n",
    "    scores_df.reset_index(inplace=True)\n",
    "    scores_df.columns = ['param', 'score']\n",
    "    \n",
    "    # plot the result\n",
    "    plt.subplot(3, 2, plot_index)\n",
    "    \n",
    "    # if we are plotting max_features, we need to adjust the x values, as they are not\n",
    "    # numeric.  Otherwise, we can just use the parameter values\n",
    "    if param_name == 'max_features':\n",
    "        plt.plot(np.arange(len(scores_df)), scores_df.score)\n",
    "        plt.xticks(np.arange(len(scores_df)), scores_df.param.values)\n",
    "    else:\n",
    "        plt.plot(scores_df.param, scores_df.score)\n",
    "\n",
    "    # add a title\n",
    "    plt.title(param_name)\n"
   ]
  },
  {
   "cell_type": "code",
   "execution_count": 318,
   "metadata": {
    "collapsed": false
   },
   "outputs": [
    {
     "data": {
      "image/png": "[encoded data removed]",
      "text/plain": [
       "<matplotlib.figure.Figure at 0x10b7ed748>"
      ]
     },
     "metadata": {},
     "output_type": "display_data"
    }
   ],
   "source": [
    "# Create the param_grid for testing\n",
    "param_grid = {'max_features':['auto', 'sqrt', 'log2'],\n",
    "              'n_estimators':[10, 20, 30, 40, 50],\n",
    "              'min_samples_split': np.arange(2,10,1),\n",
    "              'min_samples_leaf': np.arange(1,30,1),\n",
    "              'max_leaf_nodes': np.arange(200,400,10),\n",
    "              'min_weight_fraction_leaf': np.arange(0.01,0.3, 0.1)\n",
    "             }\n",
    "\n",
    "# create figure area\n",
    "fig, ax = plt.subplots(nrows=3, ncols=2, figsize=(12, 10))\n",
    "fig.tight_layout()\n",
    "\n",
    "# loop through each parameter & value range, plotting the accuracy results\n",
    "for i, (k, v) in enumerate(param_grid.items()):\n",
    "\n",
    "    # call to display graph\n",
    "    plot_results(RandomForestClassifier(n_jobs=-1), k, v, i+1)\n",
    "\n",
    "plt.show()"
   ]
  },
  {
   "cell_type": "markdown",
   "metadata": {},
   "source": [
    "From the above plots, we now have a general idea of how well each parameter performs given a wide range of values.  \n",
    "\n",
    "We can use this plot to narrow the range for each paramter and perform a final test using RandomizedSearchCV. "
   ]
  },
  {
   "cell_type": "code",
   "execution_count": 330,
   "metadata": {
    "collapsed": false
   },
   "outputs": [
    {
     "data": {
      "text/plain": [
       "{'rfc__max_leaf_nodes': 385,\n",
       " 'rfc__min_samples_leaf': 2,\n",
       " 'rfc__min_samples_split': 4,\n",
       " 'rfc__min_weight_fraction_leaf': 0.01,\n",
       " 'rfc__n_estimators': 50}"
      ]
     },
     "execution_count": 330,
     "metadata": {},
     "output_type": "execute_result"
    }
   ],
   "source": [
    "# create the parameter grid\n",
    "param_grid = {'rfc__n_estimators':[10, 20, 30, 40, 50],\n",
    "              'rfc__min_samples_split': np.arange(2,5,1),\n",
    "              'rfc__min_samples_leaf': np.arange(1,5,1),\n",
    "              'rfc__max_leaf_nodes': np.arange(375,400,5),\n",
    "              'rfc__min_weight_fraction_leaf': np.arange(0.01,0.1, 0.01)\n",
    "             }\n",
    "\n",
    "pipe_rf_fs = Pipeline([\n",
    "    ('scaler', StandardScaler()),\n",
    "    ('feature_selection', SelectFromModel(LinearSVC(penalty='l1', dual=False), threshold=0.01)),\n",
    "    ('rfc', RandomForestClassifier(max_features='log2', random_state=42))\n",
    "])\n",
    "\n",
    "random_search = RandomizedSearchCV(pipe_rf_fs, param_grid, scoring=['accuracy', 'roc_auc'],\n",
    "                                  refit='roc_auc')\n",
    "\n",
    "# fit the classifier\n",
    "random_search.fit(X_train, y_train)\n",
    "\n",
    "# find best params\n",
    "random_search.best_params_"
   ]
  },
  {
   "cell_type": "markdown",
   "metadata": {},
   "source": [
    "The RandomizedSearchCV has provided us with the most optimal parameters.  We can use these in a classifer below to produce our final output."
   ]
  },
  {
   "cell_type": "code",
   "execution_count": 331,
   "metadata": {
    "collapsed": false
   },
   "outputs": [
    {
     "name": "stdout",
     "output_type": "stream",
     "text": [
      "Training\n",
      "R2: 0.9237716476795589\n",
      "RSE: 0.27609482487080617\n",
      "ROC AUC: 0.9214908538510296\n",
      "\n",
      "Testing\n",
      "R2: 0.923661945051811\n",
      "RSE: 0.27629342183300165\n",
      "ROC AUC: 0.9176376686011063\n"
     ]
    }
   ],
   "source": [
    "# define our final pipeline\n",
    "pipe_rf_fs = Pipeline([\n",
    "    ('scaler', StandardScaler()),\n",
    "    ('feature_selection', SelectFromModel(LinearSVC(penalty='l1', dual=False), threshold=0.01)),\n",
    "    ('rfc', RandomForestClassifier(random_state=42, max_leaf_nodes=385,\n",
    "                                  min_samples_leaf=2, min_samples_split=4,\n",
    "                                  min_weight_fraction_leaf=0.01, n_estimators=50))\n",
    "])\n",
    "\n",
    "# fit the classifier\n",
    "pipe_rf_fs.fit(X_train, y_train)\n",
    "\n",
    "# predict \n",
    "y_pred_rf_fs = pipe_rf_fs.predict(X_train)\n",
    "y_pred_rf_fs_test = pipe_rf_fs.predict(X_test)\n",
    "\n",
    "# find the assigned scores for the y predictions (which is the second column in predicitions)\n",
    "y_score_rf_fs = pipe_rf_fs.predict_proba(X_train)[:,1]\n",
    "y_score_rf_fs_test = pipe_rf_fs.predict_proba(X_test)[:,1]\n",
    "\n",
    "# find the scores\n",
    "r2_score = pipe_rf_fs.score(X_train, y_train)\n",
    "mse = mean_squared_error(y_train,y_pred_rf_fs)\n",
    "roc_auc = roc_auc_score(y_train, y_score_rf_fs)\n",
    "\n",
    "# find the scores\n",
    "r2_score_test = pipe_rf_fs.score(X_test, y_test)\n",
    "mse_test = mean_squared_error(y_test,y_pred_rf_fs_test)\n",
    "roc_auc_test = roc_auc_score(y_test, y_score_rf_fs_test)\n",
    "\n",
    "# print scores\n",
    "print('Training')\n",
    "print('R2: {}'.format(r2_score))\n",
    "print('RSE: {}'.format(np.sqrt(mse)))\n",
    "print('ROC AUC: {}'.format(roc_auc))\n",
    "print()\n",
    "print('Testing')\n",
    "print('R2: {}'.format(r2_score_test))\n",
    "print('RSE: {}'.format(np.sqrt(mse_test)))\n",
    "print('ROC AUC: {}'.format(roc_auc_test))"
   ]
  },
  {
   "cell_type": "code",
   "execution_count": 332,
   "metadata": {
    "collapsed": false
   },
   "outputs": [
    {
     "data": {
      "text/plain": [
       "array([ 0.96205264,  0.95547721,  0.91632172,  0.88546247,  0.86965736])"
      ]
     },
     "execution_count": 332,
     "metadata": {},
     "output_type": "execute_result"
    }
   ],
   "source": [
    "# let's find the cross validation score\n",
    "scores = cross_val_score(pipe_rf_fs, X, y, cv=5)\n",
    "scores"
   ]
  },
  {
   "cell_type": "code",
   "execution_count": 333,
   "metadata": {
    "collapsed": false
   },
   "outputs": [
    {
     "name": "stdout",
     "output_type": "stream",
     "text": [
      "Accuracy: 0.92 (+/- 0.07345)\n"
     ]
    }
   ],
   "source": [
    "print(\"Accuracy: {0:.2f} (+/- {1:.5f})\".format(scores.mean(), scores.std() * 2))"
   ]
  },
  {
   "cell_type": "markdown",
   "metadata": {},
   "source": [
    "Using feature selection and hyperparameter tuning, we were able to improve our roc auc score to ~92%.  Our cross validation score has also become more stable, producing a 92% cv score. \n",
    "\n",
    "Using this final classifier, we can compare the ROC curves of 4 different classifiers we expored in this notebook\n",
    "\n",
    "1. Logistic Regression using only engineered features\n",
    "2. Logistic Regression using all features\n",
    "3. Logistic Regression using select features\n",
    "4. Random Forest using select features"
   ]
  },
  {
   "cell_type": "code",
   "execution_count": 340,
   "metadata": {
    "collapsed": false
   },
   "outputs": [
    {
     "data": {
      "image/png": "[encoded data removed]",
      "text/plain": [
       "<matplotlib.figure.Figure at 0x1a0efffe10>"
      ]
     },
     "metadata": {},
     "output_type": "display_data"
    }
   ],
   "source": [
    "# create plot\n",
    "plt.figure(figsize=(6,6))\n",
    "\n",
    "# find roc curve for logisitic regression - Engineered Features\n",
    "fpr_lr_fe, tpr_lr_fe, thresholds = roc_curve(y_train_bal, y_score_fe)\n",
    "\n",
    "# find roc curve for logisitic regression - All Features\n",
    "fpr_lr_af, tpr_lr_af, thresholds = roc_curve(y_train, y_score_lr_af)\n",
    "\n",
    "# find roc curve for logisitic regression - Selected Features\n",
    "fpr_lr_fs, tpr_lr_fs, thresholds = roc_curve(y_train, y_score_lr_fs)\n",
    "\n",
    "# find roc curve for Random Forest - Selected Features\n",
    "fpr_rf_fs, tpr_rf_fs, thresholds = roc_curve(y_train, y_score_rf_fs)\n",
    "\n",
    "# plot ROC curve & 50% line\n",
    "plt.plot(fpr_lr_fe, tpr_lr_fe, label='(LR) Engineered Features')\n",
    "plt.plot(fpr_lr_af, tpr_lr_af, label='(LR) All Features')\n",
    "plt.plot(fpr_lr_fs, tpr_lr_fs, label='(LR) Selected Features')\n",
    "plt.plot(fpr_rf_fs, tpr_rf_fs, label='(RF) Selected Features')\n",
    "plt.plot([0,1], [0,1], color='black')\n",
    "\n",
    "# set labels\n",
    "plt.xlabel('False Positive Rate')\n",
    "plt.ylabel('True Positive Rate')\n",
    "plt.title('ROC Curve')\n",
    "plt.legend()\n",
    "\n",
    "plt.show()"
   ]
  },
  {
   "cell_type": "markdown",
   "metadata": {},
   "source": [
    "## Conclusion\n",
    "\n",
    "We've taken steps throughout this notebook to improve performance of our model to predict Lending Club defaults.\n",
    "\n",
    "We've seen how using too few features can causes poor performance in a model.  We've also seen how model tuning can be used to reduce complexity and improve model performance.\n",
    "\n",
    "Our Logistic Regression classifier has gone through interations to improve the roc auc score from 55% to 87%.  \n",
    "\n",
    "Ultimately, our Random Forest classifier has out performed our Logistic Regression model to produce a 91% roc auc score (as seen in the ROC Curve plot above).  A Logistic Regression searches for a single linear decision boudnary in our feature space, whereas the Random Forest produces non-linear decision boundaries.  The Random Forest has proven to be better suited for this particular case.  "
   ]
  },
  {
   "cell_type": "code",
   "execution_count": null,
   "metadata": {
    "collapsed": true
   },
   "outputs": [],
   "source": []
  }
 ],
 "metadata": {
  "kernelspec": {
   "display_name": "Python 3",
   "language": "python",
   "name": "python3"
  },
  "language_info": {
   "codemirror_mode": {
    "name": "ipython",
    "version": 3
   },
   "file_extension": ".py",
   "mimetype": "text/x-python",
   "name": "python",
   "nbconvert_exporter": "python",
   "pygments_lexer": "ipython3",
   "version": "3.6.0"
  }
 },
 "nbformat": 4,
 "nbformat_minor": 2
}
