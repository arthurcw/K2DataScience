{
 "cells": [
  {
   "cell_type": "markdown",
   "metadata": {},
   "source": [
    "# Project 2\n",
    "## Lending Club Classification\n",
    "Our goal for the Lending Club classification exercise is to create a model that determines whether or not a loanee will default.  \n",
    "\n",
    "A loan enters default status once it is overdue by 120 days.  For the purpose of our classification exercise we will assume loans in a late status will convert into a default status.  This assumption also increases the population size of our data that will be used for model training. As such, we will assume the following statuses are 'default'\n",
    "* Late (16 - 30 days)\n",
    "* Late (31 - 120 days)\n",
    "* Default\n",
    "* Charged Off\n",
    "\n",
    "We will define model success by looking at a model's ROC AUC score.  This will allow us to measure how well our model predicts default loans, taking into account true positives & false positives. "
   ]
  },
  {
   "cell_type": "code",
   "execution_count": 17,
   "metadata": {
    "collapsed": false
   },
   "outputs": [],
   "source": [
    "# Import all our varaibles\n",
    "import pandas as pd\n",
    "import numpy as np\n",
    "import matplotlib.pyplot as plt\n",
    "import seaborn as sns\n",
    "sns.set_context('poster')\n",
    "sns.set(style='whitegrid', color_codes=True)\n",
    "\n",
    "# preprocessing\n",
    "from sklearn.model_selection import train_test_split\n",
    "from sklearn.preprocessing import StandardScaler\n",
    "from sklearn.pipeline import Pipeline\n",
    "from sklearn.decomposition import PCA\n",
    "from sklearn.feature_selection import SelectFromModel\n",
    "from sklearn.feature_selection import SelectKBest\n",
    "\n",
    "# models\n",
    "from sklearn.linear_model import LogisticRegression\n",
    "from sklearn.ensemble import RandomForestClassifier\n",
    "from sklearn.svm import LinearSVC\n",
    "from sklearn.ensemble import ExtraTreesClassifier\n",
    "\n",
    "# scores\n",
    "from sklearn.metrics import mean_squared_error\n",
    "from sklearn.metrics import roc_auc_score\n",
    "from sklearn.metrics import roc_curve\n",
    "from sklearn.metrics import accuracy_score\n",
    "from sklearn.model_selection import cross_val_score\n",
    "from sklearn.metrics import classification_report\n",
    "from sklearn.metrics import confusion_matrix\n",
    "from sklearn.model_selection import GridSearchCV\n",
    "from sklearn.model_selection import RandomizedSearchCV\n",
    "\n",
    "# hide divide by 0/null warnings\n",
    "import numpy as np\n",
    "np.seterr(divide='ignore', invalid='ignore')\n",
    "\n",
    "# hide user warnings\n",
    "def warn(*args, **kwargs):\n",
    "    pass\n",
    "import warnings\n",
    "warnings.warn = warn"
   ]
  },
  {
   "cell_type": "markdown",
   "metadata": {},
   "source": [
    "We first import our pre-processed data.  We've identified several category columns and will ensure these are set with the appropriate datatype before moving forward. "
   ]
  },
  {
   "cell_type": "code",
   "execution_count": 18,
   "metadata": {
    "collapsed": false
   },
   "outputs": [],
   "source": [
    "#define category columns\n",
    "cat_cols = ['grade', \n",
    "            'sub_grade',\n",
    "            'home_ownership',\n",
    "            'verification_status',\n",
    "            'loan_status',\n",
    "            'purpose',\n",
    "            'addr_state',\n",
    "            'initial_list_status',\n",
    "            'application_type',\n",
    "            'hardship_flag'\n",
    "           ]\n",
    "\n",
    "# import data\n",
    "df_raw = pd.read_csv('../data/processed/LCData_processed.csv', index_col=0)\n",
    "\n",
    "# convert category columns\n",
    "for c in cat_cols:\n",
    "    df_raw[c] = pd.Categorical(df_raw[c])"
   ]
  },
  {
   "cell_type": "markdown",
   "metadata": {},
   "source": [
    "Our goal is to build a model based on completed loans - meaning loans that have been fully repaid or defaulted.  We will filter our dataset to remove any currently outstanding loans."
   ]
  },
  {
   "cell_type": "code",
   "execution_count": 19,
   "metadata": {
    "collapsed": false
   },
   "outputs": [],
   "source": [
    "completed_loan_status = ['Fully Paid', \n",
    "                         'Charged Off', \n",
    "                         'Default',\n",
    "                         'Late (16-30 days)',\n",
    "                         'Late (31-120 days)'\n",
    "                        ]\n",
    "\n",
    "# filter our loan data\n",
    "df = df_raw[df_raw.loan_status.str.contains('|'.join(completed_loan_status))]"
   ]
  },
  {
   "cell_type": "markdown",
   "metadata": {},
   "source": [
    "## Logistic Regression - Feature Engineered Columns\n",
    "As a starting point, we will build a model using only our engineered columns.  Our engineered columns are as follows:"
   ]
  },
  {
   "cell_type": "code",
   "execution_count": 20,
   "metadata": {
    "collapsed": true
   },
   "outputs": [],
   "source": [
    "feat_eng_cols = ['low_deliquent_job',\n",
    "                 'credit_line_length_mnths',\n",
    "                 'inq_last_6mths_cat',\n",
    "                 'pub_rec_cat',\n",
    "                 'fully_funded',\n",
    "                 'issue_d_month', \n",
    "                 'issue_d_year'\n",
    "                 ]"
   ]
  },
  {
   "cell_type": "markdown",
   "metadata": {},
   "source": [
    "With our columns defined, we can create a simple logistic regression to see how well our data performs."
   ]
  },
  {
   "cell_type": "code",
   "execution_count": 21,
   "metadata": {
    "collapsed": false
   },
   "outputs": [
    {
     "name": "stdout",
     "output_type": "stream",
     "text": [
      "Accuracy: 0.8074194962474714\n",
      "ROC AUC: 0.5659423551308429\n"
     ]
    }
   ],
   "source": [
    "# create our X and y datasets\n",
    "X = df[feat_eng_cols]\n",
    "y = df.is_bad\n",
    "\n",
    "# create the dummies for our category columns\n",
    "X = pd.get_dummies(X)\n",
    "\n",
    "# split our data.  Here we use the stratify option to ensure our split datasets contain the same distribution between\n",
    "# majority & minority class\n",
    "X_train, X_test, y_train, y_test = train_test_split(X, y, test_size=0.25, random_state=42, stratify=y)\n",
    "\n",
    "# scale the data\n",
    "sc = StandardScaler()\n",
    "X_train_scaled = sc.fit_transform(X_train)\n",
    "\n",
    "# fit the classifier\n",
    "clf = LogisticRegression()\n",
    "clf.fit(X_train_scaled, y_train)\n",
    "\n",
    "# predict using the training dataset\n",
    "y_pred = clf.predict(X_train_scaled)\n",
    "\n",
    "# find the prediction precentage for the 'default' class (which is the second column)\n",
    "y_score = clf.predict_proba(X_train_scaled)[:,1]\n",
    "\n",
    "# find the scores\n",
    "accuracy = clf.score(X_train_scaled, y_train)\n",
    "roc_auc = roc_auc_score(y_train, y_score)\n",
    "\n",
    "# print scores\n",
    "print('Accuracy: {}'.format(accuracy))\n",
    "print('ROC AUC: {}'.format(roc_auc))"
   ]
  },
  {
   "cell_type": "markdown",
   "metadata": {},
   "source": [
    "The accuracy score states that we are ~81%.  One would assume this is great.  Looking at the ROC AUC score, we find out that the accuracy score is not good at all. \n",
    "\n",
    "A roc auc score of ~57% is slightly better than randomly guessing the outcome.  I believe we see this bad score due to unbalanced classes.  Let's take a look at the confusion matrix and classification report."
   ]
  },
  {
   "cell_type": "code",
   "execution_count": 22,
   "metadata": {
    "collapsed": false
   },
   "outputs": [
    {
     "name": "stdout",
     "output_type": "stream",
     "text": [
      "[[152876      0]\n",
      " [ 36463      0]]\n"
     ]
    }
   ],
   "source": [
    "print(confusion_matrix(y_train, y_pred))"
   ]
  },
  {
   "cell_type": "code",
   "execution_count": 23,
   "metadata": {
    "collapsed": false
   },
   "outputs": [
    {
     "name": "stdout",
     "output_type": "stream",
     "text": [
      "             precision    recall  f1-score   support\n",
      "\n",
      "          0       0.81      1.00      0.89    152876\n",
      "          1       0.00      0.00      0.00     36463\n",
      "\n",
      "avg / total       0.65      0.81      0.72    189339\n",
      "\n"
     ]
    }
   ],
   "source": [
    "print(classification_report(y_train, y_pred, target_names=['0', '1']))"
   ]
  },
  {
   "cell_type": "markdown",
   "metadata": {
    "collapsed": false
   },
   "source": [
    "The results look even worse now.  We predict 'non-default' for everything.  At the moment, our model is not able to predict when a loanee will default.  It could be due to class imbalance.  \n",
    "\n",
    "Let's try balancing our classes and re-running the model."
   ]
  },
  {
   "cell_type": "markdown",
   "metadata": {},
   "source": [
    "### SMOTE  Class Balancing\n",
    "Using SMOTE, we are able to bring balance to our minority class, which will hopefully improve our accuracy score. "
   ]
  },
  {
   "cell_type": "code",
   "execution_count": 24,
   "metadata": {
    "collapsed": false
   },
   "outputs": [
    {
     "name": "stdout",
     "output_type": "stream",
     "text": [
      "Resampled dataset shape Counter({0: 203835, 1: 203835})\n"
     ]
    }
   ],
   "source": [
    "from imblearn.over_sampling import SMOTE\n",
    "from collections import Counter\n",
    "\n",
    "X = pd.get_dummies(df[feat_eng_cols])\n",
    "y = df.is_bad\n",
    "\n",
    "# balance our class\n",
    "sm = SMOTE(random_state=42)\n",
    "X_res, y_res = sm.fit_sample(X, y)\n",
    "\n",
    "# display the sampled classes\n",
    "print('Resampled dataset shape {}'.format(Counter(y_res)))"
   ]
  },
  {
   "cell_type": "markdown",
   "metadata": {},
   "source": [
    "We now have balanced classes and are ready to perform a logisitc regression to see how well our model predicts the outcome."
   ]
  },
  {
   "cell_type": "code",
   "execution_count": 25,
   "metadata": {
    "collapsed": false,
    "scrolled": true
   },
   "outputs": [
    {
     "name": "stdout",
     "output_type": "stream",
     "text": [
      "Accuracy: 0.5504559250634501\n",
      "ROC AUC: 0.5619283740232979\n"
     ]
    }
   ],
   "source": [
    "# split our data\n",
    "X_train_bal, X_test_bal, y_train_bal, y_test_bal = train_test_split(X_res, y_res, test_size=0.25, random_state=42)\n",
    "\n",
    "# scale the data\n",
    "sc = StandardScaler()\n",
    "X_train_scaled_bal = sc.fit_transform(X_train_bal)\n",
    "X_test_scaled_bal = sc.transform(X_test_bal)\n",
    "\n",
    "# fit the classifier\n",
    "clf = LogisticRegression()\n",
    "clf.fit(X_train_scaled_bal, y_train_bal)\n",
    "\n",
    "# predict using the training dataset\n",
    "y_pred_fe = clf.predict(X_train_scaled_bal)\n",
    "\n",
    "# find the prediction precentage for the 'default' class (which is the second column)\n",
    "y_score_fe = clf.predict_proba(X_train_scaled_bal)[:,1]\n",
    "\n",
    "# find the scores\n",
    "accuracy_bal = clf.score(X_train_scaled_bal, y_train_bal)\n",
    "mse_bal = mean_squared_error(y_train_bal, y_pred_fe)\n",
    "roc_auc_bal = roc_auc_score(y_train_bal, y_score_fe)\n",
    "\n",
    "# print scores\n",
    "print('Accuracy: {}'.format(accuracy_bal))\n",
    "print('ROC AUC: {}'.format(roc_auc_bal))\n"
   ]
  },
  {
   "cell_type": "markdown",
   "metadata": {},
   "source": [
    "The ROC AUC score appears to be the same as we saw in our initial tests, however we can see that the accuracy score mirrors our ROC AUC score.  This should mean that we are successfully predicting loan defaults now.  Let's look at our confusion matrix and classification report to confirm. "
   ]
  },
  {
   "cell_type": "code",
   "execution_count": 26,
   "metadata": {
    "collapsed": false
   },
   "outputs": [
    {
     "data": {
      "text/plain": [
       "array([[ 64397,  88376],\n",
       "       [ 49073, 103906]])"
      ]
     },
     "execution_count": 26,
     "metadata": {},
     "output_type": "execute_result"
    }
   ],
   "source": [
    "confusion_matrix(y_train_bal, y_pred_fe)"
   ]
  },
  {
   "cell_type": "code",
   "execution_count": 27,
   "metadata": {
    "collapsed": false
   },
   "outputs": [
    {
     "name": "stdout",
     "output_type": "stream",
     "text": [
      "             precision    recall  f1-score   support\n",
      "\n",
      "          0       0.57      0.42      0.48    152773\n",
      "          1       0.54      0.68      0.60    152979\n",
      "\n",
      "avg / total       0.55      0.55      0.54    305752\n",
      "\n"
     ]
    }
   ],
   "source": [
    "print(classification_report(y_train_bal, y_pred_fe, target_names=['0', '1']))"
   ]
  },
  {
   "cell_type": "code",
   "execution_count": 66,
   "metadata": {
    "collapsed": false
   },
   "outputs": [
    {
     "data": {
      "image/png": "[encoded data removed]",
      "text/plain": [
       "<matplotlib.figure.Figure at 0x1a0e8bcd68>"
      ]
     },
     "metadata": {},
     "output_type": "display_data"
    }
   ],
   "source": [
    "# create plot\n",
    "plt.figure(figsize=(6,6))\n",
    "\n",
    "# find roc curve for logisitic regression - Engineered Features\n",
    "fpr_lr_fe, tpr_lr_fe, thresholds = roc_curve(y_train_bal, y_score_fe)\n",
    "\n",
    "# plot ROC curve & 50% line\n",
    "plt.plot(fpr_lr_fe, tpr_lr_fe, label='(LR) Engineered Features')\n",
    "plt.plot([0,1], [0,1], color='black')\n",
    "\n",
    "# set labels\n",
    "plt.xlabel('False Positive Rate')\n",
    "plt.ylabel('True Positive Rate')\n",
    "plt.title('ROC Curve')\n",
    "plt.legend()\n",
    "\n",
    "plt.savefig('../reports/figures/class_lr_ef_results.png')\n",
    "\n",
    "plt.show()"
   ]
  },
  {
   "cell_type": "markdown",
   "metadata": {},
   "source": [
    "Although the balanced class allows us to predict the default class, we still have a model that predicts just slight better than randomly guessing the outcome.  \n",
    "\n",
    "This is most likley due to the few number of features used in the current model.  We can improve the model by adding additional features."
   ]
  },
  {
   "cell_type": "markdown",
   "metadata": {},
   "source": [
    "## Predicting based on the majority class\n",
    "We've seen that our current model performs poorly.  If we were to create a model that always predicts the majority class, how well would our model perform? \n",
    "\n",
    "We already know that the majority class is 'non-default' (represented by the 0 class).  Let's calcluate the prediction accuracy of the majority class. "
   ]
  },
  {
   "cell_type": "code",
   "execution_count": 28,
   "metadata": {
    "collapsed": false
   },
   "outputs": [
    {
     "name": "stdout",
     "output_type": "stream",
     "text": [
      "Majority benchmark: 0.8074176183289563\n"
     ]
    }
   ],
   "source": [
    "# find the counts for majority and minority classes\n",
    "majority = len(df[df.is_bad == 0])\n",
    "minority = len(df[df.is_bad == 1])\n",
    "\n",
    "# calculate the accuracy\n",
    "print('Majority benchmark: {}'.format(majority / (majority + minority)))"
   ]
  },
  {
   "cell_type": "markdown",
   "metadata": {},
   "source": [
    "If we were to always predict the majority class of 'non-default', we would be accurate about 81% of the time.  \n",
    "\n",
    "Our current model is only accurate ~55% of the time.  Our goal should be to create a model that can predict better than 81% accuracy. "
   ]
  },
  {
   "cell_type": "markdown",
   "metadata": {},
   "source": [
    "## Predicting based on loan grade\n",
    "We now know that we can achieve about 81% accuracy by simply predicting 'non-default' for every loan.  This doesn't provide a truly accurate model - but it provides us a benchmark.  \n",
    "\n",
    "We can produce another benchmark by looking at predicting loan default by loan grades.  We will take a look at default rates per loan grades below: "
   ]
  },
  {
   "cell_type": "code",
   "execution_count": 29,
   "metadata": {
    "collapsed": false
   },
   "outputs": [
    {
     "name": "stdout",
     "output_type": "stream",
     "text": [
      "A: 0.062\n",
      "B: 0.128\n",
      "C: 0.210\n",
      "D: 0.289\n",
      "E: 0.360\n",
      "F: 0.411\n",
      "G: 0.438\n"
     ]
    }
   ],
   "source": [
    "# Lets calculate the default rates for loans based on lending club's grades\n",
    "for g in sorted(df.grade.unique()):\n",
    "    \n",
    "    #calculate default rate\n",
    "    default_rate = df[(df.is_bad ==1) & (df.grade==g)].loan_amnt.count() / df[df.grade==g].loan_amnt.count() \n",
    "\n",
    "    print('{0}: {1:.3f}'.format(g, default_rate))"
   ]
  },
  {
   "cell_type": "markdown",
   "metadata": {},
   "source": [
    "As one would expect, loans of grade 'A' have less likelihood of defaulting when compared to loans of grade 'G'.  Using this approach, we assume that if a loan has a grade of 'A', it will default only 6% of the time.  Our current model will only predict the correct response about 55% of the time, no matter what the loan grade is set to.  We can use the loan grade predictions here for our future tests once we settle on a final model. "
   ]
  },
  {
   "cell_type": "markdown",
   "metadata": {},
   "source": [
    "## Logistic Regression - All Columns\n",
    "We've investigated creating a model using only our engineered columns only to find that our model behaves poorly.  Our next step is to create a model using all features (columns).  \n",
    "\n",
    "We have several features that relate directly to the status of a loan. These features need to be removed from our dataset prior to building our model.\n",
    "\n",
    "Features will be removed from the dataset if they...\n",
    "* are related to a lending club defined status (e.g. grade, sub_grade, loan_status)\n",
    "* are related to the health status of a loan (e.g. current payments, interest collected, late fees etc) \n",
    "\n",
    "The features to be removed are as follows:"
   ]
  },
  {
   "cell_type": "code",
   "execution_count": 30,
   "metadata": {
    "collapsed": true
   },
   "outputs": [],
   "source": [
    "drop_cols = ['total_pymnt',\n",
    "             'total_pymnt_inv',\n",
    "             'total_rec_int',\n",
    "             'total_rec_late_fee',\n",
    "             'total_rec_prncp',\n",
    "             'funded_amnt',\n",
    "             'funded_amnt_inv',\n",
    "             'out_prncp',\n",
    "             'out_prncp_inv',\n",
    "             'last_pymnt_amnt',\n",
    "             'loan_status',\n",
    "             'grade',\n",
    "            'sub_grade']"
   ]
  },
  {
   "cell_type": "code",
   "execution_count": 31,
   "metadata": {
    "collapsed": false
   },
   "outputs": [],
   "source": [
    "# create a new dataset\n",
    "df_sub = df.drop(drop_cols, axis=1)\n",
    "\n",
    "# create our X & Y\n",
    "X = pd.get_dummies(df_sub.drop('is_bad', axis=1))\n",
    "y = df_sub.is_bad\n",
    "\n",
    "# split our data\n",
    "X_train, X_test, y_train, y_test = train_test_split(X, y, test_size=0.25, random_state=42)"
   ]
  },
  {
   "cell_type": "markdown",
   "metadata": {},
   "source": [
    "Now that we have a dataset, let's try performing a logisitic regression using all features.  Our prior model suffered from class imbalance due to the fact that we had so few features.  We will try the logistic regression without balancing the classes to see how we perform. "
   ]
  },
  {
   "cell_type": "code",
   "execution_count": 32,
   "metadata": {
    "collapsed": false,
    "scrolled": false
   },
   "outputs": [
    {
     "name": "stdout",
     "output_type": "stream",
     "text": [
      "Training Scores\n",
      "Accuracy: 0.9054341683435531\n",
      "ROC AUC: 0.8759851049290165\n"
     ]
    }
   ],
   "source": [
    "# Build a pipeline\n",
    "pipe_lr_af = Pipeline([\n",
    "        ('scaler', StandardScaler()),\n",
    "        ('clf', LogisticRegression())\n",
    "    ])\n",
    "\n",
    "# fit the data\n",
    "pipe_lr_af.fit(X_train, y_train)\n",
    "\n",
    "# predict X\n",
    "y_pred_lr_af = pipe_lr_af.predict(X_train)\n",
    "\n",
    "# find the assigned scores for the y predictions (which is the second column in predicitions)\n",
    "y_score_lr_af = pipe_lr_af.predict_proba(X_train)[:,1]\n",
    "\n",
    "# find the scores\n",
    "accuracy_score = pipe_lr_af.score(X_train, y_train)\n",
    "mse = mean_squared_error(y_train,y_pred_lr_af)\n",
    "roc_auc = roc_auc_score(y_train, y_score_lr_af)\n",
    "\n",
    "# print scores\n",
    "print('Training Scores')\n",
    "print('Accuracy: {}'.format(accuracy_score))\n",
    "print('ROC AUC: {}'.format(roc_auc))"
   ]
  },
  {
   "cell_type": "code",
   "execution_count": 33,
   "metadata": {
    "collapsed": false
   },
   "outputs": [
    {
     "name": "stdout",
     "output_type": "stream",
     "text": [
      "             precision    recall  f1-score   support\n",
      "\n",
      "          0       0.90      1.00      0.94    152880\n",
      "          1       0.99      0.52      0.68     36459\n",
      "\n",
      "avg / total       0.91      0.91      0.89    189339\n",
      "\n"
     ]
    }
   ],
   "source": [
    "#Let's have a look at the classification report\n",
    "print(classification_report(y_train, y_pred_lr_af, target_names=['0', '1']))"
   ]
  },
  {
   "cell_type": "markdown",
   "metadata": {},
   "source": [
    "Our scores look considerably better when using all features.  We are predicting the default class, which we saw was a problem when using few features for our model. Our recall score for the default class is not great. \n",
    "\n",
    "Let's validate our scores against our test dataset to verify that we can accurately predict defaults."
   ]
  },
  {
   "cell_type": "code",
   "execution_count": 34,
   "metadata": {
    "collapsed": false
   },
   "outputs": [
    {
     "name": "stdout",
     "output_type": "stream",
     "text": [
      "Testing Scores\n",
      "Accuracy: 0.9052508159837754\n",
      "ROC AUC: 0.8737729370665167\n"
     ]
    }
   ],
   "source": [
    "# predict X\n",
    "y_pred_test = pipe_lr_af.predict(X_test)\n",
    "\n",
    "# find the assigned scores for the y predictions (which is the second column in predicitions)\n",
    "y_score_test = pipe_lr_af.predict_proba(X_test)[:,1]\n",
    "\n",
    "# find the scores\n",
    "accuracy_score = pipe_lr_af.score(X_test, y_test)\n",
    "roc_auc = roc_auc_score(y_test, y_score_test)\n",
    "\n",
    "# print scores\n",
    "print('Testing Scores')\n",
    "print('Accuracy: {}'.format(accuracy_score))\n",
    "print('ROC AUC: {}'.format(roc_auc))"
   ]
  },
  {
   "cell_type": "markdown",
   "metadata": {},
   "source": [
    "When looking at the test results, we find that the model ROC AUC score is algined with what we saw with our training dataset.  Let's validate this using cross validation:"
   ]
  },
  {
   "cell_type": "code",
   "execution_count": 35,
   "metadata": {
    "collapsed": false
   },
   "outputs": [
    {
     "data": {
      "text/plain": [
       "array([ 0.90477956,  0.90679215,  0.91289208,  0.89250252,  0.89875116,\n",
       "        0.8654038 ,  0.84693175,  0.83711605,  0.80597524,  0.74070669])"
      ]
     },
     "execution_count": 35,
     "metadata": {},
     "output_type": "execute_result"
    }
   ],
   "source": [
    "# let's find the cross validation score\n",
    "scores = cross_val_score(pipe_lr_af, X, y, scoring ='roc_auc', cv=10)\n",
    "scores"
   ]
  },
  {
   "cell_type": "code",
   "execution_count": 36,
   "metadata": {
    "collapsed": false
   },
   "outputs": [
    {
     "name": "stdout",
     "output_type": "stream",
     "text": [
      "Accuracy: 0.86 (+/- 0.10471)\n"
     ]
    }
   ],
   "source": [
    "print(\"Accuracy: {0:.2f} (+/- {1:.5f})\".format(scores.mean(), scores.std() * 2))"
   ]
  },
  {
   "cell_type": "code",
   "execution_count": 68,
   "metadata": {
    "collapsed": false
   },
   "outputs": [
    {
     "data": {
      "image/png": "[encoded data removed]",
      "text/plain": [
       "<matplotlib.figure.Figure at 0x1a104a20b8>"
      ]
     },
     "metadata": {},
     "output_type": "display_data"
    }
   ],
   "source": [
    "# create plot\n",
    "plt.figure(figsize=(6,6))\n",
    "\n",
    "# find roc curve for logisitic regression - Engineered Features\n",
    "fpr_lr_fe, tpr_lr_fe, thresholds = roc_curve(y_train_bal, y_score_fe)\n",
    "\n",
    "# find roc curve for logisitic regression - All Features\n",
    "fpr_lr_af, tpr_lr_af, thresholds = roc_curve(y_train, y_score_lr_af)\n",
    "\n",
    "# plot ROC curve & 50% line\n",
    "plt.plot(fpr_lr_fe, tpr_lr_fe, label='(LR) Engineered Features')\n",
    "plt.plot(fpr_lr_af, tpr_lr_af, label='(LR) All Features')\n",
    "\n",
    "plt.plot([0,1], [0,1], color='black')\n",
    "\n",
    "# set labels\n",
    "plt.xlabel('False Positive Rate')\n",
    "plt.ylabel('True Positive Rate')\n",
    "plt.title('ROC Curve')\n",
    "plt.legend()\n",
    "\n",
    "plt.savefig('../reports/figures/class_lr_af_results.png')\n",
    "\n",
    "plt.show()"
   ]
  },
  {
   "cell_type": "markdown",
   "metadata": {},
   "source": [
    "Perfect. We've improved our accuracy considerably.  We have a cross validatin ROC AUC score of 86%.  We can say that having more features allows us to predict outcomes much more accurately.  Our recall score for the 'default' class still is not great, but we will see if we can fine tune this later on in the notebook    "
   ]
  },
  {
   "cell_type": "markdown",
   "metadata": {},
   "source": [
    "## Logistic Regression - Feature Selection\n",
    "With a solid score using Logistic Regression, our next question is whether or not we can reduce the complexity of our model.  We can accomplish this by limiting the number of features required to predict the outcome.  \n",
    "\n",
    "We will try 3 different feature selection methods\n",
    "* SelectFromModel using LinearSVC & ExtraTreeClassifier\n",
    "* PCA\n",
    "* SelectKBest using f_classif\n",
    "\n",
    "Once we identify the best selection method & threshold, we will perform a final scoring.  We will try multiple thresholds in our SelectFromModel to find a balance between features and scoring. "
   ]
  },
  {
   "cell_type": "code",
   "execution_count": 37,
   "metadata": {
    "collapsed": false
   },
   "outputs": [
    {
     "name": "stdout",
     "output_type": "stream",
     "text": [
      "Processing LinearSVC using 1e-05\n",
      "Processing LinearSVC using 0.0001\n",
      "Processing LinearSVC using 0.01\n",
      "Processing LinearSVC using 0.02\n",
      "Processing LinearSVC using 0.03\n",
      "Processing LinearSVC using 0.04\n",
      "Processing LinearSVC using mean\n",
      "Processing ExtraTreesClassifier using 1e-05\n",
      "Processing ExtraTreesClassifier using 0.0001\n",
      "Processing ExtraTreesClassifier using 0.01\n",
      "Processing ExtraTreesClassifier using 0.02\n",
      "Processing ExtraTreesClassifier using 0.03\n",
      "Processing ExtraTreesClassifier using 0.04\n",
      "Processing ExtraTreesClassifier using mean\n"
     ]
    }
   ],
   "source": [
    "# define our classifiers\n",
    "clf_lsvc = LinearSVC(penalty='l1', dual=False, random_state=42)\n",
    "clf_etc = ExtraTreesClassifier(random_state=42)\n",
    "\n",
    "# create our parameters for testing\n",
    "feat_selectors = [clf_lsvc, clf_etc]\n",
    "feat_selector_names = ['LinearSVC', 'ExtraTreesClassifier']\n",
    "thresholds = [0.00001, 0.0001, 0.01, 0.02, 0.03, 0.04, 'mean']\n",
    "\n",
    "# create a place to store our results\n",
    "results_fs=[]\n",
    "column_names = ['feat_selector', 'threshold', 'accuracy', 'rmse', 'roc_auc', 'features_selected']\n",
    "\n",
    "# loop through each feat selector\n",
    "for i, fs in enumerate(feat_selectors):\n",
    "    \n",
    "    # loop through thresholds\n",
    "    for j, t in enumerate(thresholds):\n",
    "\n",
    "        print('Processing {} using {}'.format(feat_selector_names[i], t))\n",
    "\n",
    "        # create pipeline\n",
    "        pipe_fs = Pipeline([\n",
    "            ('scaler', StandardScaler()),\n",
    "            ('feature_selection', SelectFromModel(fs, threshold=t)),\n",
    "            ('clf', LogisticRegression())\n",
    "        ])\n",
    "\n",
    "        # fit the data\n",
    "        pipe_fs.fit(X_train, y_train)\n",
    "\n",
    "        # predict X\n",
    "        y_pred = pipe_fs.predict(X_train)\n",
    "\n",
    "        # find the assigned scores for the y predictions (which is the second column in predicitions)\n",
    "        y_score = pipe_fs.predict_proba(X_train)[:,1]\n",
    "\n",
    "        # find the scores\n",
    "        r2_score = pipe_fs.score(X_train, y_train)\n",
    "        mse = mean_squared_error(y_train,y_pred)\n",
    "        roc_auc = roc_auc_score(y_train, y_score)\n",
    "\n",
    "        # store the scores\n",
    "        result= (feat_selector_names[i], \n",
    "                 t, \n",
    "                 r2_score, \n",
    "                 np.sqrt(mse), \n",
    "                 roc_auc, \n",
    "                 np.sum(pipe_fs.named_steps['feature_selection'].get_support())\n",
    "                )\n",
    "\n",
    "        results_fs.append(result)"
   ]
  },
  {
   "cell_type": "markdown",
   "metadata": {},
   "source": [
    "Next we will create a PCA to determine how well our model performs using different principal components.  We will use a simliar technique used for SelectFromModel above. "
   ]
  },
  {
   "cell_type": "code",
   "execution_count": 38,
   "metadata": {
    "collapsed": false
   },
   "outputs": [
    {
     "name": "stdout",
     "output_type": "stream",
     "text": [
      "Processing PCA using 1 components\n",
      "Processing PCA using 5 components\n",
      "Processing PCA using 10 components\n",
      "Processing PCA using 50 components\n",
      "Processing PCA using 75 components\n",
      "Processing PCA using 100 components\n",
      "Processing PCA using 125 components\n"
     ]
    }
   ],
   "source": [
    "# create a list of components to test\n",
    "components = [1, 5, 10, 50, 75, 100, 125]\n",
    "\n",
    "for i, n in enumerate(components):\n",
    "\n",
    "    print('Processing PCA using {} components'.format(components[i]))\n",
    "    \n",
    "    # create pipeline\n",
    "    pipe_fs = Pipeline([\n",
    "        ('scaler', StandardScaler()),\n",
    "        ('feature_selection', PCA(n_components=n)),\n",
    "        ('clf', LogisticRegression())\n",
    "    ])\n",
    "\n",
    "    # fit the data\n",
    "    pipe_fs.fit(X_train, y_train)\n",
    "\n",
    "    # predict X\n",
    "    y_pred = pipe_fs.predict(X_train)\n",
    "\n",
    "    # find the assigned scores for the y predictions (which is the second column in predicitions)\n",
    "    y_score = pipe_fs.predict_proba(X_train)[:,1]\n",
    "\n",
    "    # find the scores\n",
    "    r2_score = pipe_fs.score(X_train, y_train)\n",
    "    mse = mean_squared_error(y_train,y_pred)\n",
    "    roc_auc = roc_auc_score(y_train, y_score)\n",
    "\n",
    "    # create the result\n",
    "    result= ('PCA',\n",
    "             '',\n",
    "             r2_score, \n",
    "             np.sqrt(mse), \n",
    "             roc_auc, \n",
    "             n\n",
    "            )\n",
    "\n",
    "    results_fs.append(result)"
   ]
  },
  {
   "cell_type": "markdown",
   "metadata": {},
   "source": [
    "Next, let's try SelectKBest"
   ]
  },
  {
   "cell_type": "code",
   "execution_count": 39,
   "metadata": {
    "collapsed": false
   },
   "outputs": [
    {
     "name": "stdout",
     "output_type": "stream",
     "text": [
      "Processing using 1 features\n",
      "Processing using 5 features\n",
      "Processing using 10 features\n",
      "Processing using 15 features\n",
      "Processing using 20 features\n",
      "Processing using 25 features\n",
      "Processing using 30 features\n",
      "Processing using 33 features\n",
      "Processing using 35 features\n",
      "Processing using 40 features\n",
      "Processing using 50 features\n",
      "Processing using 80 features\n",
      "Processing using 120 features\n"
     ]
    }
   ],
   "source": [
    "# create our parameters for testing\n",
    "k_features = [1, 5, 10, 15, 20, 25, 30, 33, 35, 40, 50, 80, 120]\n",
    "\n",
    "# loop through k_features\n",
    "for j, k in enumerate(k_features):\n",
    "\n",
    "    print('Processing using {} features'.format(k))\n",
    "\n",
    "    # create pipeline\n",
    "    pipe_fs = Pipeline([\n",
    "        ('scaler', StandardScaler()),\n",
    "        ('feature_selection', SelectKBest(k=k)),\n",
    "        ('clf', LogisticRegression())\n",
    "    ])\n",
    "\n",
    "    # fit the data\n",
    "    pipe_fs.fit(X_train, y_train)\n",
    "\n",
    "    # predict X\n",
    "    y_pred = pipe_fs.predict(X_train)\n",
    "\n",
    "    # find the assigned scores for the y predictions (which is the second column in predicitions)\n",
    "    y_score = pipe_fs.predict_proba(X_train)[:,1]\n",
    "\n",
    "    # find the scores\n",
    "    r2_score = pipe_fs.score(X_train, y_train)\n",
    "    mse = mean_squared_error(y_train,y_pred)\n",
    "    roc_auc = roc_auc_score(y_train, y_score)\n",
    "\n",
    "    # store the scores\n",
    "    result= ('SelectKBest', \n",
    "             k, \n",
    "             r2_score, \n",
    "             np.sqrt(mse), \n",
    "             roc_auc, \n",
    "             np.sum(pipe_fs.named_steps['feature_selection'].get_support())\n",
    "            )\n",
    "\n",
    "    results_fs.append(result)"
   ]
  },
  {
   "cell_type": "markdown",
   "metadata": {},
   "source": [
    "With the analysis complete, we can visualize our results to get an idea of how each performed."
   ]
  },
  {
   "cell_type": "code",
   "execution_count": 40,
   "metadata": {
    "collapsed": false
   },
   "outputs": [
    {
     "data": {
      "image/png": "[encoded data removed]",
      "text/plain": [
       "<matplotlib.figure.Figure at 0x1a0c381400>"
      ]
     },
     "metadata": {},
     "output_type": "display_data"
    }
   ],
   "source": [
    "# convert our results into a dataframe\n",
    "plt_results = pd.DataFrame(results_fs, columns=column_names)\n",
    "fig,ax = plt.subplots(figsize=(10,6))\n",
    "\n",
    "# loop through each classifier\n",
    "for fs, data in plt_results.sort_values('features_selected').groupby('feat_selector'):\n",
    "\n",
    "    # create the data\n",
    "    x_data = data.features_selected\n",
    "    y_data = data.roc_auc\n",
    "    \n",
    "    plt.plot(x_data, y_data, label=fs)\n",
    "\n",
    "# limit the y axis\n",
    "ax = plt.gca()\n",
    "ax.set_ylim([min(plt_results.roc_auc)-0.05 , max(plt_results.roc_auc)+0.05])\n",
    "\n",
    "# set titles\n",
    "plt.title('Logistic Regression ROC AUC Scores')\n",
    "plt.ylabel('ROC AUC Score')\n",
    "plt.xlabel('No. of Features/Components')\n",
    "plt.legend()\n",
    "\n",
    "plt.savefig('../reports/figures/class_lr_select_features.png')\n",
    "\n",
    "plt.show()"
   ]
  },
  {
   "cell_type": "code",
   "execution_count": 41,
   "metadata": {
    "collapsed": false
   },
   "outputs": [
    {
     "data": {
      "text/html": [
       "<div>\n",
       "<style scoped>\n",
       "    .dataframe tbody tr th:only-of-type {\n",
       "        vertical-align: middle;\n",
       "    }\n",
       "\n",
       "    .dataframe tbody tr th {\n",
       "        vertical-align: top;\n",
       "    }\n",
       "\n",
       "    .dataframe thead th {\n",
       "        text-align: right;\n",
       "    }\n",
       "</style>\n",
       "<table border=\"1\" class=\"dataframe\">\n",
       "  <thead>\n",
       "    <tr style=\"text-align: right;\">\n",
       "      <th></th>\n",
       "      <th>feat_selector</th>\n",
       "      <th>threshold</th>\n",
       "      <th>accuracy</th>\n",
       "      <th>rmse</th>\n",
       "      <th>roc_auc</th>\n",
       "      <th>features_selected</th>\n",
       "    </tr>\n",
       "  </thead>\n",
       "  <tbody>\n",
       "    <tr>\n",
       "      <th>0</th>\n",
       "      <td>LinearSVC</td>\n",
       "      <td>1e-05</td>\n",
       "      <td>0.905429</td>\n",
       "      <td>0.307524</td>\n",
       "      <td>0.875977</td>\n",
       "      <td>125</td>\n",
       "    </tr>\n",
       "    <tr>\n",
       "      <th>1</th>\n",
       "      <td>LinearSVC</td>\n",
       "      <td>0.0001</td>\n",
       "      <td>0.905429</td>\n",
       "      <td>0.307524</td>\n",
       "      <td>0.875978</td>\n",
       "      <td>124</td>\n",
       "    </tr>\n",
       "    <tr>\n",
       "      <th>2</th>\n",
       "      <td>LinearSVC</td>\n",
       "      <td>0.01</td>\n",
       "      <td>0.905429</td>\n",
       "      <td>0.307524</td>\n",
       "      <td>0.873947</td>\n",
       "      <td>40</td>\n",
       "    </tr>\n",
       "    <tr>\n",
       "      <th>3</th>\n",
       "      <td>LinearSVC</td>\n",
       "      <td>0.02</td>\n",
       "      <td>0.905355</td>\n",
       "      <td>0.307644</td>\n",
       "      <td>0.869664</td>\n",
       "      <td>22</td>\n",
       "    </tr>\n",
       "    <tr>\n",
       "      <th>4</th>\n",
       "      <td>LinearSVC</td>\n",
       "      <td>0.03</td>\n",
       "      <td>0.905043</td>\n",
       "      <td>0.308150</td>\n",
       "      <td>0.865309</td>\n",
       "      <td>11</td>\n",
       "    </tr>\n",
       "    <tr>\n",
       "      <th>5</th>\n",
       "      <td>LinearSVC</td>\n",
       "      <td>0.04</td>\n",
       "      <td>0.905160</td>\n",
       "      <td>0.307962</td>\n",
       "      <td>0.864526</td>\n",
       "      <td>8</td>\n",
       "    </tr>\n",
       "    <tr>\n",
       "      <th>6</th>\n",
       "      <td>LinearSVC</td>\n",
       "      <td>mean</td>\n",
       "      <td>0.906015</td>\n",
       "      <td>0.306570</td>\n",
       "      <td>0.802449</td>\n",
       "      <td>2</td>\n",
       "    </tr>\n",
       "    <tr>\n",
       "      <th>7</th>\n",
       "      <td>ExtraTreesClassifier</td>\n",
       "      <td>1e-05</td>\n",
       "      <td>0.905434</td>\n",
       "      <td>0.307516</td>\n",
       "      <td>0.875986</td>\n",
       "      <td>130</td>\n",
       "    </tr>\n",
       "    <tr>\n",
       "      <th>8</th>\n",
       "      <td>ExtraTreesClassifier</td>\n",
       "      <td>0.0001</td>\n",
       "      <td>0.905434</td>\n",
       "      <td>0.307516</td>\n",
       "      <td>0.875984</td>\n",
       "      <td>127</td>\n",
       "    </tr>\n",
       "    <tr>\n",
       "      <th>9</th>\n",
       "      <td>ExtraTreesClassifier</td>\n",
       "      <td>0.01</td>\n",
       "      <td>0.905334</td>\n",
       "      <td>0.307679</td>\n",
       "      <td>0.871052</td>\n",
       "      <td>37</td>\n",
       "    </tr>\n",
       "    <tr>\n",
       "      <th>10</th>\n",
       "      <td>ExtraTreesClassifier</td>\n",
       "      <td>0.02</td>\n",
       "      <td>0.905957</td>\n",
       "      <td>0.306664</td>\n",
       "      <td>0.845638</td>\n",
       "      <td>3</td>\n",
       "    </tr>\n",
       "    <tr>\n",
       "      <th>11</th>\n",
       "      <td>ExtraTreesClassifier</td>\n",
       "      <td>0.03</td>\n",
       "      <td>0.906015</td>\n",
       "      <td>0.306570</td>\n",
       "      <td>0.802449</td>\n",
       "      <td>2</td>\n",
       "    </tr>\n",
       "    <tr>\n",
       "      <th>12</th>\n",
       "      <td>ExtraTreesClassifier</td>\n",
       "      <td>0.04</td>\n",
       "      <td>0.906015</td>\n",
       "      <td>0.306570</td>\n",
       "      <td>0.802449</td>\n",
       "      <td>2</td>\n",
       "    </tr>\n",
       "    <tr>\n",
       "      <th>13</th>\n",
       "      <td>ExtraTreesClassifier</td>\n",
       "      <td>mean</td>\n",
       "      <td>0.905307</td>\n",
       "      <td>0.307722</td>\n",
       "      <td>0.871640</td>\n",
       "      <td>40</td>\n",
       "    </tr>\n",
       "    <tr>\n",
       "      <th>14</th>\n",
       "      <td>PCA</td>\n",
       "      <td></td>\n",
       "      <td>0.807441</td>\n",
       "      <td>0.438816</td>\n",
       "      <td>0.515484</td>\n",
       "      <td>1</td>\n",
       "    </tr>\n",
       "    <tr>\n",
       "      <th>15</th>\n",
       "      <td>PCA</td>\n",
       "      <td></td>\n",
       "      <td>0.821775</td>\n",
       "      <td>0.422167</td>\n",
       "      <td>0.720227</td>\n",
       "      <td>5</td>\n",
       "    </tr>\n",
       "    <tr>\n",
       "      <th>16</th>\n",
       "      <td>PCA</td>\n",
       "      <td></td>\n",
       "      <td>0.841274</td>\n",
       "      <td>0.398404</td>\n",
       "      <td>0.753255</td>\n",
       "      <td>10</td>\n",
       "    </tr>\n",
       "    <tr>\n",
       "      <th>17</th>\n",
       "      <td>PCA</td>\n",
       "      <td></td>\n",
       "      <td>0.889452</td>\n",
       "      <td>0.332487</td>\n",
       "      <td>0.835914</td>\n",
       "      <td>50</td>\n",
       "    </tr>\n",
       "    <tr>\n",
       "      <th>18</th>\n",
       "      <td>PCA</td>\n",
       "      <td></td>\n",
       "      <td>0.893324</td>\n",
       "      <td>0.326614</td>\n",
       "      <td>0.841671</td>\n",
       "      <td>75</td>\n",
       "    </tr>\n",
       "    <tr>\n",
       "      <th>19</th>\n",
       "      <td>PCA</td>\n",
       "      <td></td>\n",
       "      <td>0.903844</td>\n",
       "      <td>0.310090</td>\n",
       "      <td>0.861260</td>\n",
       "      <td>100</td>\n",
       "    </tr>\n",
       "    <tr>\n",
       "      <th>20</th>\n",
       "      <td>PCA</td>\n",
       "      <td></td>\n",
       "      <td>0.905434</td>\n",
       "      <td>0.307516</td>\n",
       "      <td>0.875985</td>\n",
       "      <td>125</td>\n",
       "    </tr>\n",
       "    <tr>\n",
       "      <th>21</th>\n",
       "      <td>SelectKBest</td>\n",
       "      <td>1</td>\n",
       "      <td>0.905968</td>\n",
       "      <td>0.306647</td>\n",
       "      <td>0.802449</td>\n",
       "      <td>1</td>\n",
       "    </tr>\n",
       "    <tr>\n",
       "      <th>22</th>\n",
       "      <td>SelectKBest</td>\n",
       "      <td>5</td>\n",
       "      <td>0.905645</td>\n",
       "      <td>0.307172</td>\n",
       "      <td>0.855484</td>\n",
       "      <td>5</td>\n",
       "    </tr>\n",
       "    <tr>\n",
       "      <th>23</th>\n",
       "      <td>SelectKBest</td>\n",
       "      <td>10</td>\n",
       "      <td>0.905661</td>\n",
       "      <td>0.307146</td>\n",
       "      <td>0.860968</td>\n",
       "      <td>10</td>\n",
       "    </tr>\n",
       "    <tr>\n",
       "      <th>24</th>\n",
       "      <td>SelectKBest</td>\n",
       "      <td>15</td>\n",
       "      <td>0.905667</td>\n",
       "      <td>0.307138</td>\n",
       "      <td>0.862157</td>\n",
       "      <td>15</td>\n",
       "    </tr>\n",
       "    <tr>\n",
       "      <th>25</th>\n",
       "      <td>SelectKBest</td>\n",
       "      <td>20</td>\n",
       "      <td>0.905672</td>\n",
       "      <td>0.307129</td>\n",
       "      <td>0.862939</td>\n",
       "      <td>20</td>\n",
       "    </tr>\n",
       "    <tr>\n",
       "      <th>26</th>\n",
       "      <td>SelectKBest</td>\n",
       "      <td>25</td>\n",
       "      <td>0.905371</td>\n",
       "      <td>0.307619</td>\n",
       "      <td>0.869740</td>\n",
       "      <td>25</td>\n",
       "    </tr>\n",
       "    <tr>\n",
       "      <th>27</th>\n",
       "      <td>SelectKBest</td>\n",
       "      <td>30</td>\n",
       "      <td>0.905366</td>\n",
       "      <td>0.307627</td>\n",
       "      <td>0.871631</td>\n",
       "      <td>30</td>\n",
       "    </tr>\n",
       "    <tr>\n",
       "      <th>28</th>\n",
       "      <td>SelectKBest</td>\n",
       "      <td>33</td>\n",
       "      <td>0.905366</td>\n",
       "      <td>0.307627</td>\n",
       "      <td>0.871924</td>\n",
       "      <td>33</td>\n",
       "    </tr>\n",
       "    <tr>\n",
       "      <th>29</th>\n",
       "      <td>SelectKBest</td>\n",
       "      <td>35</td>\n",
       "      <td>0.905387</td>\n",
       "      <td>0.307593</td>\n",
       "      <td>0.872395</td>\n",
       "      <td>35</td>\n",
       "    </tr>\n",
       "    <tr>\n",
       "      <th>30</th>\n",
       "      <td>SelectKBest</td>\n",
       "      <td>40</td>\n",
       "      <td>0.905371</td>\n",
       "      <td>0.307619</td>\n",
       "      <td>0.872704</td>\n",
       "      <td>40</td>\n",
       "    </tr>\n",
       "    <tr>\n",
       "      <th>31</th>\n",
       "      <td>SelectKBest</td>\n",
       "      <td>50</td>\n",
       "      <td>0.905265</td>\n",
       "      <td>0.307790</td>\n",
       "      <td>0.873559</td>\n",
       "      <td>50</td>\n",
       "    </tr>\n",
       "    <tr>\n",
       "      <th>32</th>\n",
       "      <td>SelectKBest</td>\n",
       "      <td>80</td>\n",
       "      <td>0.905344</td>\n",
       "      <td>0.307662</td>\n",
       "      <td>0.874731</td>\n",
       "      <td>80</td>\n",
       "    </tr>\n",
       "    <tr>\n",
       "      <th>33</th>\n",
       "      <td>SelectKBest</td>\n",
       "      <td>120</td>\n",
       "      <td>0.905418</td>\n",
       "      <td>0.307541</td>\n",
       "      <td>0.875772</td>\n",
       "      <td>120</td>\n",
       "    </tr>\n",
       "  </tbody>\n",
       "</table>\n",
       "</div>"
      ],
      "text/plain": [
       "           feat_selector threshold  accuracy      rmse   roc_auc  \\\n",
       "0              LinearSVC     1e-05  0.905429  0.307524  0.875977   \n",
       "1              LinearSVC    0.0001  0.905429  0.307524  0.875978   \n",
       "2              LinearSVC      0.01  0.905429  0.307524  0.873947   \n",
       "3              LinearSVC      0.02  0.905355  0.307644  0.869664   \n",
       "4              LinearSVC      0.03  0.905043  0.308150  0.865309   \n",
       "5              LinearSVC      0.04  0.905160  0.307962  0.864526   \n",
       "6              LinearSVC      mean  0.906015  0.306570  0.802449   \n",
       "7   ExtraTreesClassifier     1e-05  0.905434  0.307516  0.875986   \n",
       "8   ExtraTreesClassifier    0.0001  0.905434  0.307516  0.875984   \n",
       "9   ExtraTreesClassifier      0.01  0.905334  0.307679  0.871052   \n",
       "10  ExtraTreesClassifier      0.02  0.905957  0.306664  0.845638   \n",
       "11  ExtraTreesClassifier      0.03  0.906015  0.306570  0.802449   \n",
       "12  ExtraTreesClassifier      0.04  0.906015  0.306570  0.802449   \n",
       "13  ExtraTreesClassifier      mean  0.905307  0.307722  0.871640   \n",
       "14                   PCA            0.807441  0.438816  0.515484   \n",
       "15                   PCA            0.821775  0.422167  0.720227   \n",
       "16                   PCA            0.841274  0.398404  0.753255   \n",
       "17                   PCA            0.889452  0.332487  0.835914   \n",
       "18                   PCA            0.893324  0.326614  0.841671   \n",
       "19                   PCA            0.903844  0.310090  0.861260   \n",
       "20                   PCA            0.905434  0.307516  0.875985   \n",
       "21           SelectKBest         1  0.905968  0.306647  0.802449   \n",
       "22           SelectKBest         5  0.905645  0.307172  0.855484   \n",
       "23           SelectKBest        10  0.905661  0.307146  0.860968   \n",
       "24           SelectKBest        15  0.905667  0.307138  0.862157   \n",
       "25           SelectKBest        20  0.905672  0.307129  0.862939   \n",
       "26           SelectKBest        25  0.905371  0.307619  0.869740   \n",
       "27           SelectKBest        30  0.905366  0.307627  0.871631   \n",
       "28           SelectKBest        33  0.905366  0.307627  0.871924   \n",
       "29           SelectKBest        35  0.905387  0.307593  0.872395   \n",
       "30           SelectKBest        40  0.905371  0.307619  0.872704   \n",
       "31           SelectKBest        50  0.905265  0.307790  0.873559   \n",
       "32           SelectKBest        80  0.905344  0.307662  0.874731   \n",
       "33           SelectKBest       120  0.905418  0.307541  0.875772   \n",
       "\n",
       "    features_selected  \n",
       "0                 125  \n",
       "1                 124  \n",
       "2                  40  \n",
       "3                  22  \n",
       "4                  11  \n",
       "5                   8  \n",
       "6                   2  \n",
       "7                 130  \n",
       "8                 127  \n",
       "9                  37  \n",
       "10                  3  \n",
       "11                  2  \n",
       "12                  2  \n",
       "13                 40  \n",
       "14                  1  \n",
       "15                  5  \n",
       "16                 10  \n",
       "17                 50  \n",
       "18                 75  \n",
       "19                100  \n",
       "20                125  \n",
       "21                  1  \n",
       "22                  5  \n",
       "23                 10  \n",
       "24                 15  \n",
       "25                 20  \n",
       "26                 25  \n",
       "27                 30  \n",
       "28                 33  \n",
       "29                 35  \n",
       "30                 40  \n",
       "31                 50  \n",
       "32                 80  \n",
       "33                120  "
      ]
     },
     "execution_count": 41,
     "metadata": {},
     "output_type": "execute_result"
    }
   ],
   "source": [
    "# View the detailed results\n",
    "plt_results"
   ]
  },
  {
   "cell_type": "markdown",
   "metadata": {},
   "source": [
    "It appears that LinearSVC has performed the best.  We can acheive a roc auc score of ~87% using only 40 features (a thrid of the total number of features).  The ExtraTreesClassifer can achieve a similar score, however there appears to be a sharp drop off between threshold levels which could create a less robust model.\n",
    "\n",
    "Although PCA doesn't select features (rather it selects components), we find that PCA would require over 120 components in order to match a score of 87%.  We are not reducing the complexity of our model in this case, and therefore we will not use PCA in this analysis. \n",
    "\n",
    "Finally, SelectKBest appears to have performed almost as good as LinearSVC.  The difference here is that SelectKBest achieves results in a fraction of time over LinearSVC.  As a result, we are going to choose SelectKBest as our feature selection, using only 35 features. "
   ]
  },
  {
   "cell_type": "markdown",
   "metadata": {},
   "source": [
    "## Logistic Regression - Feature Selection - Hyperparameter Tuning\n",
    "Knowing SelectKBest performs well in feature selection, we now move to fine tuning our Logistic Regression classifier to see if we can acheive an even better score while using fewer features.  We were able to acheive an ROC AUC score of 87% using no feature selection or hyperparameter tuning.  Let's see if we can get near this score."
   ]
  },
  {
   "cell_type": "code",
   "execution_count": 42,
   "metadata": {
    "collapsed": false
   },
   "outputs": [
    {
     "data": {
      "text/plain": [
       "{'clf__C': 500}"
      ]
     },
     "execution_count": 42,
     "metadata": {},
     "output_type": "execute_result"
    }
   ],
   "source": [
    "# we will do hyperparameter tuning on our logisitic regression\n",
    "param_grid = [{'clf__C':[0.001, 0.01, 1, 10, 100, 500, 1000]}]\n",
    "\n",
    "# create pipeline\n",
    "pipe_fs = Pipeline([\n",
    "    ('scaler', StandardScaler()),\n",
    "    ('feature_selection', SelectKBest(k=35)),\n",
    "    ('clf', LogisticRegression())\n",
    "])\n",
    "\n",
    "# create our grid search\n",
    "grid_search = GridSearchCV(pipe_fs, param_grid, n_jobs=-1, scoring=['accuracy', 'roc_auc'], refit='roc_auc', return_train_score=False)\n",
    "\n",
    "# perform the fit\n",
    "grid_search.fit(X_train, y_train)\n",
    "\n",
    "# print out our best params\n",
    "grid_search.best_params_"
   ]
  },
  {
   "cell_type": "markdown",
   "metadata": {},
   "source": [
    "With our parameters tuned, we bring it all together and perform one last test:"
   ]
  },
  {
   "cell_type": "code",
   "execution_count": 43,
   "metadata": {
    "collapsed": false
   },
   "outputs": [
    {
     "name": "stdout",
     "output_type": "stream",
     "text": [
      "Training Scores\n",
      "Accuracy: 0.9136997660281294\n",
      "ROC AUC: 0.902343919104331\n",
      "\n",
      "Testing Scores\n",
      "Accuracy: 0.9133314320119149\n",
      "ROC AUC: 0.9012992383351174\n"
     ]
    }
   ],
   "source": [
    "# create pipeline\n",
    "pipe_lr_fs = Pipeline([\n",
    "    ('scaler', StandardScaler()),\n",
    "    ('feature_selection', SelectKBest(k=35)),\n",
    "    ('clf', LogisticRegression(C=500))\n",
    "])\n",
    "\n",
    "# fit the data\n",
    "pipe_lr_fs.fit(X_train, y_train)\n",
    "\n",
    "# predict X\n",
    "y_pred_lr_fs = pipe_lr_fs.predict(X_train)\n",
    "y_pred_test_lr_fs = pipe_lr_fs.predict(X_test)\n",
    "\n",
    "# find the assigned scores for the y predictions (which is the second column in predicitions)\n",
    "y_score_lr_fs = pipe_lr_fs.predict_proba(X_train)[:,1]\n",
    "y_score_test_lr_fs = pipe_lr_fs.predict_proba(X_test)[:,1]\n",
    "\n",
    "# find the scores\n",
    "accuracy_score = pipe_lr_fs.score(X_train, y_train)\n",
    "roc_auc = roc_auc_score(y_train, y_score_lr_fs)\n",
    "\n",
    "accuracy_score_test = pipe_lr_fs.score(X_test, y_test)\n",
    "roc_auc_test = roc_auc_score(y_test, y_score_test_lr_fs)\n",
    "\n",
    "# print scores\n",
    "print('Training Scores')\n",
    "print('Accuracy: {}'.format(accuracy_score))\n",
    "print('ROC AUC: {}'.format(roc_auc))\n",
    "print()\n",
    "print('Testing Scores')\n",
    "print('Accuracy: {}'.format(accuracy_score_test))\n",
    "print('ROC AUC: {}'.format(roc_auc_test))\n",
    "\n"
   ]
  },
  {
   "cell_type": "code",
   "execution_count": 44,
   "metadata": {
    "collapsed": false
   },
   "outputs": [
    {
     "data": {
      "text/plain": [
       "array([ 0.98580905,  0.96562069,  0.95446419,  0.91968962,  0.90117016,\n",
       "        0.88829307,  0.83582749,  0.8329485 ,  0.80148727,  0.72957784])"
      ]
     },
     "execution_count": 44,
     "metadata": {},
     "output_type": "execute_result"
    }
   ],
   "source": [
    "# let's find the cross validation score\n",
    "scores = cross_val_score(pipe_lr_fs, X, y, scoring='roc_auc', cv=10)\n",
    "scores"
   ]
  },
  {
   "cell_type": "code",
   "execution_count": 45,
   "metadata": {
    "collapsed": false
   },
   "outputs": [
    {
     "name": "stdout",
     "output_type": "stream",
     "text": [
      "Accuracy: 0.88 (+/- 0.15375)\n"
     ]
    }
   ],
   "source": [
    "print(\"Accuracy: {0:.2f} (+/- {1:.5f})\".format(scores.mean(), scores.std() * 2))"
   ]
  },
  {
   "cell_type": "code",
   "execution_count": 46,
   "metadata": {
    "collapsed": false
   },
   "outputs": [
    {
     "data": {
      "text/plain": [
       "array([[152578,    302],\n",
       "       [ 16038,  20421]])"
      ]
     },
     "execution_count": 46,
     "metadata": {},
     "output_type": "execute_result"
    }
   ],
   "source": [
    "confusion_matrix(y_train, y_pred_lr_fs)"
   ]
  },
  {
   "cell_type": "code",
   "execution_count": 47,
   "metadata": {
    "collapsed": false,
    "scrolled": false
   },
   "outputs": [
    {
     "name": "stdout",
     "output_type": "stream",
     "text": [
      "             precision    recall  f1-score   support\n",
      "\n",
      "          0       0.90      1.00      0.95    152880\n",
      "          1       0.99      0.56      0.71     36459\n",
      "\n",
      "avg / total       0.92      0.91      0.90    189339\n",
      "\n"
     ]
    }
   ],
   "source": [
    "print(classification_report(y_train, y_pred_lr_fs, target_names=['0', '1']))"
   ]
  },
  {
   "cell_type": "code",
   "execution_count": 70,
   "metadata": {
    "collapsed": false
   },
   "outputs": [
    {
     "data": {
      "image/png": "[encoded data removed]",
      "text/plain": [
       "<matplotlib.figure.Figure at 0x1a10d57c88>"
      ]
     },
     "metadata": {},
     "output_type": "display_data"
    }
   ],
   "source": [
    "# create plot\n",
    "plt.figure(figsize=(6,6))\n",
    "\n",
    "# find roc curve for logisitic regression - Engineered Features\n",
    "fpr_lr_fe, tpr_lr_fe, thresholds = roc_curve(y_train_bal, y_score_fe)\n",
    "\n",
    "# find roc curve for logisitic regression - All Features\n",
    "fpr_lr_af, tpr_lr_af, thresholds = roc_curve(y_train, y_score_lr_af)\n",
    "\n",
    "# find roc curve for logisitic regression - Selected Features\n",
    "fpr_lr_fs, tpr_lr_fs, thresholds = roc_curve(y_train, y_score_lr_fs)\n",
    "\n",
    "# plot ROC curve & 50% line\n",
    "plt.plot(fpr_lr_fe, tpr_lr_fe, label='(LR) Engineered Features')\n",
    "plt.plot(fpr_lr_af, tpr_lr_af, label='(LR) All Features')\n",
    "plt.plot(fpr_lr_fs, tpr_lr_fs, label='(LR) Selected Features')\n",
    "\n",
    "plt.plot([0,1], [0,1], color='black')\n",
    "\n",
    "# set labels\n",
    "plt.xlabel('False Positive Rate')\n",
    "plt.ylabel('True Positive Rate')\n",
    "plt.title('ROC Curve')\n",
    "plt.legend()\n",
    "\n",
    "plt.savefig('../reports/figures/class_lr_fs_results.png')\n",
    "\n",
    "plt.show()"
   ]
  },
  {
   "cell_type": "markdown",
   "metadata": {},
   "source": [
    "Using cross validation, we see that we have achieved a roc auc score of 88% using only 35 features.  We successfully reduced the complexity of our model while maintaining a high roc auc score.  \n",
    "\n",
    "We do notice that the recall score on the default class (1) is fairly bad (56%).  We have trouble correclty identifying default loans.  We are reporting 44% of default loans will not default.  This is an increase when compared to our model using all features; However, we still have room for improvement. \n",
    "\n",
    "Out of curiosity - what are the top 5 most important features?"
   ]
  },
  {
   "cell_type": "code",
   "execution_count": 48,
   "metadata": {
    "collapsed": false,
    "scrolled": true
   },
   "outputs": [
    {
     "data": {
      "text/plain": [
       "[('delinq_2yrs', 931.47066295062564),\n",
       " ('mort_acc', 0.57405514278690672),\n",
       " ('term', 0.23765308586650682),\n",
       " ('int_rate', 0.23609001172482241),\n",
       " ('revol_bal', 0.22490877183248059)]"
      ]
     },
     "execution_count": 48,
     "metadata": {},
     "output_type": "execute_result"
    }
   ],
   "source": [
    "from operator import itemgetter\n",
    "\n",
    "sorted(list(zip(list(X.columns), list(pipe_lr_fs.named_steps['clf'].coef_[0]))), key=itemgetter(1), reverse=True)[:5]"
   ]
  },
  {
   "cell_type": "markdown",
   "metadata": {},
   "source": [
    "The most important features appear to be delinq_2yrs, mort_acc, term, int_rate, and revol_bal.  \n",
    "\n",
    "Can we improve on this score using a different model?"
   ]
  },
  {
   "cell_type": "markdown",
   "metadata": {},
   "source": [
    "## Random Forest Classifier\n",
    "We've performed feature selection & hyperparamter tuning on our logistic regression classifier to achieve a roc auc score of 88%.  Is it possible to improve this score by using a different classifier?  \n",
    "\n",
    "Let's have a look at the Random Forest Classifier to see.  We will first look at using only feature selection to find out how well we score."
   ]
  },
  {
   "cell_type": "code",
   "execution_count": 49,
   "metadata": {
    "collapsed": false
   },
   "outputs": [
    {
     "name": "stdout",
     "output_type": "stream",
     "text": [
      "Training\n",
      "Accuracy: 0.9888982195955403\n",
      "ROC AUC: 0.9999057683075298\n",
      "\n",
      "Testing\n",
      "Accuracy: 0.9220141331558767\n",
      "ROC AUC: 0.8912982956527932\n"
     ]
    }
   ],
   "source": [
    "from sklearn.tree import DecisionTreeClassifier\n",
    "\n",
    "pipe_rf_fs = Pipeline([\n",
    "    ('scaler', StandardScaler()),\n",
    "    ('feature_selection', SelectKBest(k=35)),\n",
    "    ('rfc', RandomForestClassifier())\n",
    "])\n",
    "\n",
    "# fit the classifier\n",
    "pipe_rf_fs.fit(X_train, y_train)\n",
    "\n",
    "# predict \n",
    "y_pred_rf_fs = pipe_rf_fs.predict(X_train)\n",
    "y_pred_rf_fs_test = pipe_rf_fs.predict(X_test)\n",
    "\n",
    "# find the assigned scores for the y predictions (which is the second column in predicitions)\n",
    "y_score_rf_fs = pipe_rf_fs.predict_proba(X_train)[:,1]\n",
    "y_score_rf_fs_test = pipe_rf_fs.predict_proba(X_test)[:,1]\n",
    "\n",
    "# find the scores\n",
    "accuracy_score = pipe_rf_fs.score(X_train, y_train)\n",
    "roc_auc = roc_auc_score(y_train, y_score_rf_fs)\n",
    "\n",
    "# find the scores\n",
    "accuracy_score_test = pipe_rf_fs.score(X_test, y_test)\n",
    "roc_auc_test = roc_auc_score(y_test, y_score_rf_fs_test)\n",
    "\n",
    "# print scores\n",
    "print('Training')\n",
    "print('Accuracy: {}'.format(accuracy_score))\n",
    "print('ROC AUC: {}'.format(roc_auc))\n",
    "print()\n",
    "print('Testing')\n",
    "print('Accuracy: {}'.format(accuracy_score_test))\n",
    "print('ROC AUC: {}'.format(roc_auc_test))"
   ]
  },
  {
   "cell_type": "code",
   "execution_count": 50,
   "metadata": {
    "collapsed": false
   },
   "outputs": [
    {
     "data": {
      "text/plain": [
       "array([ 0.99502716,  0.96157513,  0.95792237,  0.88542054,  0.85840504,\n",
       "        0.80822389,  0.69762514,  0.78219946,  0.76892563,  0.71405971])"
      ]
     },
     "execution_count": 50,
     "metadata": {},
     "output_type": "execute_result"
    }
   ],
   "source": [
    "# let's find the cross validation score\n",
    "scores = cross_val_score(pipe_rf_fs, X, y, scoring='roc_auc', cv=10)\n",
    "scores"
   ]
  },
  {
   "cell_type": "code",
   "execution_count": 51,
   "metadata": {
    "collapsed": false
   },
   "outputs": [
    {
     "name": "stdout",
     "output_type": "stream",
     "text": [
      "Accuracy: 0.84 (+/- 0.20057)\n"
     ]
    }
   ],
   "source": [
    "print(\"Accuracy: {0:.2f} (+/- {1:.5f})\".format(scores.mean(), scores.std() * 2))"
   ]
  },
  {
   "cell_type": "markdown",
   "metadata": {},
   "source": [
    "The random forest classifier performs well, but it appears to have a wide variance when scoring.  The cross validation score is only 84%, slightly lower than our tuned Logistic Regression model. \n",
    "\n",
    "We do have a good ROC AUC score on our testing data, so let's try tuning the parameters to find out if we can achieve a more consistent score."
   ]
  },
  {
   "cell_type": "markdown",
   "metadata": {},
   "source": [
    "## Random Forest Classifier - Feature Selection & Hyperparameter Tuning\n",
    "In order to tune our parameters, we will first look at each parameter individually, identifying a smaller range for each parameter which will then be used to tuning the final classifier. "
   ]
  },
  {
   "cell_type": "code",
   "execution_count": 52,
   "metadata": {
    "collapsed": true
   },
   "outputs": [],
   "source": [
    "def plot_results(clf, param_name, param_values, plot_index):\n",
    "    \"\"\"\n",
    "    Description\n",
    "    -----------\n",
    "        Allows us to test a parameter range and plot the results\n",
    "        \n",
    "    Parameters\n",
    "    -----------\n",
    "    clf: The classifier to be used for tuning\n",
    "    \n",
    "    param_name: name of the parameter to be tuned\n",
    "    \n",
    "    param_values: an array of values to be tested for the given parameter\n",
    "    \n",
    "    plot_index: identifies the index of the given subplot.  For this given setup, we \n",
    "        assume that we are using a 3 cols x 2 row setup\n",
    "\n",
    "    \n",
    "    \"\"\"\n",
    "\n",
    "    # create the grid search\n",
    "    grid_search = GridSearchCV(clf, \n",
    "                               param_grid = {param_name:param_values},\n",
    "                               return_train_score=True)\n",
    "    \n",
    "    # fit the estimator\n",
    "    grid_search.fit(X_train, y_train)\n",
    "    \n",
    "    # create a dictionary to store the scores\n",
    "    scores_dic = {}\n",
    "    \n",
    "    # loop through the parameter values tested\n",
    "    for i, param_dic in enumerate(grid_search.cv_results_['params']):\n",
    "        \n",
    "        # Store the parameter tested with the related mean training score\n",
    "        scores_dic[param_dic[param_name]] = grid_search.cv_results_['mean_train_score'][i]\n",
    "    \n",
    "    # create a dataframe from the parameter scores\n",
    "    scores_df = pd.DataFrame.from_dict(scores_dic, orient='index')\n",
    "    scores_df.reset_index(inplace=True)\n",
    "    scores_df.columns = ['param', 'score']\n",
    "    \n",
    "    # plot the result\n",
    "    plt.subplot(3, 2, plot_index)\n",
    "    \n",
    "    # if we are plotting max_features, we need to adjust the x values, as they are not\n",
    "    # numeric.  Otherwise, we can just use the parameter values\n",
    "    if param_name == 'max_features':\n",
    "        plt.plot(np.arange(len(scores_df)), scores_df.score)\n",
    "        plt.xticks(np.arange(len(scores_df)), scores_df.param.values)\n",
    "    else:\n",
    "        plt.plot(scores_df.param, scores_df.score)\n",
    "\n",
    "    # add a title\n",
    "    plt.title(param_name)\n"
   ]
  },
  {
   "cell_type": "code",
   "execution_count": 53,
   "metadata": {
    "collapsed": false
   },
   "outputs": [
    {
     "data": {
      "image/png": "[encoded data removed]",
      "text/plain": [
       "<matplotlib.figure.Figure at 0x1a0c06d198>"
      ]
     },
     "metadata": {},
     "output_type": "display_data"
    }
   ],
   "source": [
    "# Create the param_grid for testing\n",
    "param_grid = {'max_features':['auto', 'sqrt', 'log2'],\n",
    "              'n_estimators':[10, 20, 30, 40, 50],\n",
    "              'min_samples_split': np.arange(2,10,1),\n",
    "              'min_samples_leaf': np.arange(1,30,1),\n",
    "              'max_leaf_nodes': np.arange(200,400,10),\n",
    "              'min_weight_fraction_leaf': np.arange(0.01,0.3, 0.1)\n",
    "             }\n",
    "\n",
    "# create figure area\n",
    "fig, ax = plt.subplots(nrows=3, ncols=2, figsize=(12, 10))\n",
    "fig.tight_layout()\n",
    "\n",
    "# loop through each parameter & value range, plotting the accuracy results\n",
    "for i, (k, v) in enumerate(param_grid.items()):\n",
    "\n",
    "    # call to display graph\n",
    "    plot_results(RandomForestClassifier(n_jobs=-1), k, v, i+1)\n",
    "\n",
    "plt.savefig('../reports/figures/class_rfc_params.png')\n",
    "\n",
    "plt.show()"
   ]
  },
  {
   "cell_type": "markdown",
   "metadata": {},
   "source": [
    "From the above plots, we now have a general idea of how well each parameter performs given a wide range of values.  \n",
    "\n",
    "We can use this plot to narrow the range for each paramter and perform a final test using RandomizedSearchCV. "
   ]
  },
  {
   "cell_type": "code",
   "execution_count": 54,
   "metadata": {
    "collapsed": false
   },
   "outputs": [
    {
     "data": {
      "text/plain": [
       "{'rfc__max_leaf_nodes': 315,\n",
       " 'rfc__min_samples_leaf': 3,\n",
       " 'rfc__min_samples_split': 3,\n",
       " 'rfc__min_weight_fraction_leaf': 0.02,\n",
       " 'rfc__n_estimators': 50}"
      ]
     },
     "execution_count": 54,
     "metadata": {},
     "output_type": "execute_result"
    }
   ],
   "source": [
    "# create the parameter grid\n",
    "param_grid = {'rfc__n_estimators':[10, 20, 30, 40, 50],\n",
    "              'rfc__min_samples_split': np.arange(2,5,1),\n",
    "              'rfc__min_samples_leaf': np.arange(1,5,1),\n",
    "              'rfc__max_leaf_nodes': np.arange(300,400,5),\n",
    "              'rfc__min_weight_fraction_leaf': np.arange(0.01,0.1, 0.01)\n",
    "             }\n",
    "\n",
    "pipe_rf_fs = Pipeline([\n",
    "    ('scaler', StandardScaler()),\n",
    "    ('feature_selection', SelectKBest(k=35)),\n",
    "    ('rfc', RandomForestClassifier(max_features='log2', random_state=42))\n",
    "])\n",
    "\n",
    "random_search = RandomizedSearchCV(pipe_rf_fs, param_grid, scoring=['accuracy', 'roc_auc'],\n",
    "                                  refit='roc_auc')\n",
    "\n",
    "# fit the classifier\n",
    "random_search.fit(X_train, y_train)\n",
    "\n",
    "# find best params\n",
    "random_search.best_params_"
   ]
  },
  {
   "cell_type": "markdown",
   "metadata": {},
   "source": [
    "The RandomizedSearchCV has provided us with the most optimal parameters.  We can use these in a classifer below to produce our final output."
   ]
  },
  {
   "cell_type": "code",
   "execution_count": 55,
   "metadata": {
    "collapsed": false
   },
   "outputs": [
    {
     "name": "stdout",
     "output_type": "stream",
     "text": [
      "Training\n",
      "Accuracy: 0.9173809938787043\n",
      "ROC AUC: 0.9209046460459249\n",
      "\n",
      "Testing\n",
      "Accuracy: 0.9174826504420572\n",
      "ROC AUC: 0.9171230791334479\n"
     ]
    }
   ],
   "source": [
    "# define our final pipeline\n",
    "pipe_rf_fs = Pipeline([\n",
    "    ('scaler', StandardScaler()),\n",
    "    ('feature_selection', SelectKBest(k=35)),\n",
    "    ('rfc', RandomForestClassifier(random_state=42, max_leaf_nodes=335,\n",
    "                                  min_samples_leaf=1, min_samples_split=3,\n",
    "                                  min_weight_fraction_leaf=0.01, n_estimators=40))\n",
    "])\n",
    "\n",
    "# fit the classifier\n",
    "pipe_rf_fs.fit(X_train, y_train)\n",
    "\n",
    "# predict \n",
    "y_pred_rf_fs = pipe_rf_fs.predict(X_train)\n",
    "y_pred_rf_fs_test = pipe_rf_fs.predict(X_test)\n",
    "\n",
    "# find the assigned scores for the y predictions (which is the second column in predicitions)\n",
    "y_score_rf_fs = pipe_rf_fs.predict_proba(X_train)[:,1]\n",
    "y_score_rf_fs_test = pipe_rf_fs.predict_proba(X_test)[:,1]\n",
    "\n",
    "# find the scores\n",
    "accuracy_score = pipe_rf_fs.score(X_train, y_train)\n",
    "roc_auc = roc_auc_score(y_train, y_score_rf_fs)\n",
    "\n",
    "# find the scores\n",
    "accuracy_score_test = pipe_rf_fs.score(X_test, y_test)\n",
    "roc_auc_test = roc_auc_score(y_test, y_score_rf_fs_test)\n",
    "\n",
    "# print scores\n",
    "print('Training')\n",
    "print('Accuracy: {}'.format(accuracy_score))\n",
    "print('ROC AUC: {}'.format(roc_auc))\n",
    "print()\n",
    "print('Testing')\n",
    "print('Accuracy: {}'.format(accuracy_score_test))\n",
    "print('ROC AUC: {}'.format(roc_auc_test))"
   ]
  },
  {
   "cell_type": "code",
   "execution_count": 56,
   "metadata": {
    "collapsed": false
   },
   "outputs": [
    {
     "data": {
      "text/plain": [
       "array([ 0.99685146,  0.9794288 ,  0.97339026,  0.89855601,  0.89783958,\n",
       "        0.84842263,  0.8235717 ,  0.8324134 ,  0.79837614,  0.75663773])"
      ]
     },
     "execution_count": 56,
     "metadata": {},
     "output_type": "execute_result"
    }
   ],
   "source": [
    "# let's find the cross validation score\n",
    "scores = cross_val_score(pipe_rf_fs, X, y, scoring='roc_auc', cv=10)\n",
    "scores"
   ]
  },
  {
   "cell_type": "code",
   "execution_count": 57,
   "metadata": {
    "collapsed": false
   },
   "outputs": [
    {
     "name": "stdout",
     "output_type": "stream",
     "text": [
      "Accuracy: 0.88 (+/- 0.15652)\n"
     ]
    }
   ],
   "source": [
    "print(\"Accuracy: {0:.2f} (+/- {1:.5f})\".format(scores.mean(), scores.std() * 2))"
   ]
  },
  {
   "cell_type": "code",
   "execution_count": 58,
   "metadata": {
    "collapsed": false
   },
   "outputs": [
    {
     "name": "stdout",
     "output_type": "stream",
     "text": [
      "             precision    recall  f1-score   support\n",
      "\n",
      "          0       0.91      1.00      0.95    152880\n",
      "          1       1.00      0.57      0.73     36459\n",
      "\n",
      "avg / total       0.93      0.92      0.91    189339\n",
      "\n"
     ]
    }
   ],
   "source": [
    "print(classification_report(y_train, y_pred_rf_fs, target_names=['0', '1']))"
   ]
  },
  {
   "cell_type": "code",
   "execution_count": 72,
   "metadata": {
    "collapsed": false
   },
   "outputs": [
    {
     "data": {
      "image/png": "[encoded data removed]",
      "text/plain": [
       "<matplotlib.figure.Figure at 0x1a154eb860>"
      ]
     },
     "metadata": {},
     "output_type": "display_data"
    }
   ],
   "source": [
    "# create plot\n",
    "plt.figure(figsize=(6,6))\n",
    "\n",
    "# find roc curve for logisitic regression - Engineered Features\n",
    "fpr_lr_fe, tpr_lr_fe, thresholds = roc_curve(y_train_bal, y_score_fe)\n",
    "\n",
    "# find roc curve for logisitic regression - All Features\n",
    "fpr_lr_af, tpr_lr_af, thresholds = roc_curve(y_train, y_score_lr_af)\n",
    "\n",
    "# find roc curve for logisitic regression - Selected Features\n",
    "fpr_lr_fs, tpr_lr_fs, thresholds = roc_curve(y_train, y_score_lr_fs)\n",
    "\n",
    "# find roc curve for Random Forest - Selected Features\n",
    "fpr_rf_fs, tpr_rf_fs, thresholds = roc_curve(y_train, y_score_rf_fs)\n",
    "\n",
    "# plot ROC curve & 50% line\n",
    "plt.plot(fpr_lr_fe, tpr_lr_fe, label='(LR) Engineered Features')\n",
    "plt.plot(fpr_lr_af, tpr_lr_af, label='(LR) All Features')\n",
    "plt.plot(fpr_lr_fs, tpr_lr_fs, label='(LR) Selected Features')\n",
    "plt.plot(fpr_rf_fs, tpr_rf_fs, label='(RF) Selected Features')\n",
    "\n",
    "plt.plot([0,1], [0,1], color='black')\n",
    "\n",
    "# set labels\n",
    "plt.xlabel('False Positive Rate')\n",
    "plt.ylabel('True Positive Rate')\n",
    "plt.title('ROC Curve')\n",
    "plt.legend()\n",
    "\n",
    "plt.savefig('../reports/figures/class_rf_fs_results.png')\n",
    "\n",
    "plt.show()"
   ]
  },
  {
   "cell_type": "markdown",
   "metadata": {},
   "source": [
    "Using feature selection and hyperparameter tuning, we were able to improve our cross validated roc auc score to 88%.  We might assume that this metric is great, but our 'default' class recall score is 57%.  This means that we will incorrectly classify a default loan 43% of the time.\n",
    "\n",
    "If we were to deploy this model to production, we would likely not last in the business world.  As we saw previously in logistic regression, this recall error this may be due to class imbalance.  Let's try balancing our data and attempting this random forest classification one more time. "
   ]
  },
  {
   "cell_type": "markdown",
   "metadata": {},
   "source": [
    "## Random Forest Classifier - SMOTE testing"
   ]
  },
  {
   "cell_type": "markdown",
   "metadata": {},
   "source": [
    "We will balance our classes using the SMOTE technique prior to performing our classification."
   ]
  },
  {
   "cell_type": "code",
   "execution_count": 59,
   "metadata": {
    "collapsed": false
   },
   "outputs": [
    {
     "name": "stdout",
     "output_type": "stream",
     "text": [
      "Resampled dataset shape Counter({0: 203835, 1: 203835})\n"
     ]
    }
   ],
   "source": [
    "from imblearn.over_sampling import SMOTE\n",
    "from collections import Counter\n",
    "\n",
    "# balance our class\n",
    "sm = SMOTE(random_state=42)\n",
    "X_res, y_res = sm.fit_sample(X, y)\n",
    "\n",
    "# display the sampled classes\n",
    "print('Resampled dataset shape {}'.format(Counter(y_res)))\n",
    "\n",
    "# split our data\n",
    "X_train_rf_bal, X_test_rf_bal, y_train_rf_bal, y_test_rf_bal = train_test_split(X_res, y_res, \n",
    "                                                                                test_size=0.25, \n",
    "                                                                                random_state=42)"
   ]
  },
  {
   "cell_type": "markdown",
   "metadata": {},
   "source": [
    "With the classes balanced, we recreate our classifier using the same tuned parameters as above."
   ]
  },
  {
   "cell_type": "code",
   "execution_count": 60,
   "metadata": {
    "collapsed": false
   },
   "outputs": [
    {
     "name": "stdout",
     "output_type": "stream",
     "text": [
      "Training\n",
      "Accuracy: 0.9241934639838824\n",
      "ROC AUC: 0.9764534311477622\n",
      "\n",
      "Testing\n",
      "Accuracy: 0.9236052512804411\n",
      "ROC AUC: 0.9753993121062232\n"
     ]
    }
   ],
   "source": [
    "# define our final pipeline\n",
    "pipe_rf_fs = Pipeline([\n",
    "    ('scaler', StandardScaler()),\n",
    "    ('feature_selection', SelectKBest(k=35)),\n",
    "    ('rfc', RandomForestClassifier(random_state=42, max_leaf_nodes=335,\n",
    "                                  min_samples_leaf=1, min_samples_split=3,\n",
    "                                  min_weight_fraction_leaf=0.01, n_estimators=40))\n",
    "])\n",
    "\n",
    "# fit the classifier\n",
    "pipe_rf_fs.fit(X_train_rf_bal, y_train_rf_bal)\n",
    "\n",
    "# predict \n",
    "y_pred_rf_fs_bal = pipe_rf_fs.predict(X_train_rf_bal)\n",
    "y_pred_rf_fs_test_bal = pipe_rf_fs.predict(X_test_rf_bal)\n",
    "\n",
    "# find the assigned scores for the y predictions (which is the second column in predicitions)\n",
    "y_score_rf_fs_bal = pipe_rf_fs.predict_proba(X_train_rf_bal)[:,1]\n",
    "y_score_rf_fs_test_bal = pipe_rf_fs.predict_proba(X_test_rf_bal)[:,1]\n",
    "\n",
    "# find the scores\n",
    "accuracy_score = pipe_rf_fs.score(X_train_rf_bal, y_train_rf_bal)\n",
    "roc_auc = roc_auc_score(y_train_rf_bal, y_score_rf_fs_bal)\n",
    "\n",
    "# find the scores\n",
    "accuracy_score_test = pipe_rf_fs.score(X_test_rf_bal, y_test_rf_bal)\n",
    "roc_auc_test = roc_auc_score(y_test_rf_bal, y_score_rf_fs_test_bal)\n",
    "\n",
    "# print scores\n",
    "print('Training')\n",
    "print('Accuracy: {}'.format(accuracy_score))\n",
    "print('ROC AUC: {}'.format(roc_auc))\n",
    "print()\n",
    "print('Testing')\n",
    "print('Accuracy: {}'.format(accuracy_score_test))\n",
    "print('ROC AUC: {}'.format(roc_auc_test))"
   ]
  },
  {
   "cell_type": "code",
   "execution_count": 61,
   "metadata": {
    "collapsed": false
   },
   "outputs": [
    {
     "data": {
      "text/plain": [
       "array([ 0.9738133 ,  0.90898089,  0.90628387,  0.99624774,  0.99123435,\n",
       "        0.98920879,  0.97963776,  0.9831017 ,  0.98958559,  0.98700325])"
      ]
     },
     "execution_count": 61,
     "metadata": {},
     "output_type": "execute_result"
    }
   ],
   "source": [
    "# let's find the cross validation score\n",
    "scores = cross_val_score(pipe_rf_fs, X_res, y_res, scoring='roc_auc', cv=10)\n",
    "scores"
   ]
  },
  {
   "cell_type": "code",
   "execution_count": 62,
   "metadata": {
    "collapsed": false
   },
   "outputs": [
    {
     "name": "stdout",
     "output_type": "stream",
     "text": [
      "Accuracy: 0.97 (+/- 0.06400)\n"
     ]
    }
   ],
   "source": [
    "print(\"Accuracy: {0:.2f} (+/- {1:.5f})\".format(scores.mean(), scores.std() * 2))"
   ]
  },
  {
   "cell_type": "code",
   "execution_count": 63,
   "metadata": {
    "collapsed": false
   },
   "outputs": [
    {
     "name": "stdout",
     "output_type": "stream",
     "text": [
      "             precision    recall  f1-score   support\n",
      "\n",
      "          0       0.87      1.00      0.93    152773\n",
      "          1       1.00      0.85      0.92    152979\n",
      "\n",
      "avg / total       0.93      0.92      0.92    305752\n",
      "\n"
     ]
    }
   ],
   "source": [
    "print(classification_report(y_train_rf_bal, y_pred_rf_fs_bal, target_names=['0', '1']))"
   ]
  },
  {
   "cell_type": "markdown",
   "metadata": {},
   "source": [
    "Using SMOTE, we've improved our scores across the board.  The cross validation produces a 97% roc auc score.  Our recall in the default class has also increased to 85%, meaning we are predicting default loans much better with the newly balanced data. \n",
    "\n",
    "Our recall score for the default class has also improved versus our logistic regression model.  Let's look at our top 5 features used for classifying:  "
   ]
  },
  {
   "cell_type": "code",
   "execution_count": 64,
   "metadata": {
    "collapsed": false,
    "scrolled": true
   },
   "outputs": [
    {
     "data": {
      "text/plain": [
       "[('open_acc', 0.35878723929712641),\n",
       " ('delinq_2yrs', 0.34613612723040121),\n",
       " ('term', 0.065140013398434463),\n",
       " ('int_rate', 0.034471941570914023),\n",
       " ('num_accts_ever_120_pd', 0.028428368177461048)]"
      ]
     },
     "execution_count": 64,
     "metadata": {},
     "output_type": "execute_result"
    }
   ],
   "source": [
    "from operator import itemgetter\n",
    "\n",
    "sorted(list(zip(list(X.columns), list(pipe_rf_fs.named_steps['rfc'].feature_importances_))), key=itemgetter(1), reverse=True)[:5]"
   ]
  },
  {
   "cell_type": "markdown",
   "metadata": {},
   "source": [
    "Similarily to our Logistic Regression model, we find that the top 5 features used for the random forest model include:\n",
    "delinq_2yrs, open_acc, int_rate, term, mort_acc.\n",
    "\n",
    "Using this final classifier, we can compare the ROC curves of 4 different classifiers we expored in this notebook\n",
    "\n",
    "1. Logistic Regression using only engineered features\n",
    "2. Logistic Regression using all features\n",
    "3. Logistic Regression using select features\n",
    "4. Random Forest using select features"
   ]
  },
  {
   "cell_type": "code",
   "execution_count": 73,
   "metadata": {
    "collapsed": false
   },
   "outputs": [
    {
     "data": {
      "image/png": "[encoded data removed]",
      "text/plain": [
       "<matplotlib.figure.Figure at 0x1a169ac748>"
      ]
     },
     "metadata": {},
     "output_type": "display_data"
    }
   ],
   "source": [
    "# create plot\n",
    "plt.figure(figsize=(6,6))\n",
    "\n",
    "# find roc curve for logisitic regression - Engineered Features\n",
    "fpr_lr_fe, tpr_lr_fe, thresholds = roc_curve(y_train_bal, y_score_fe)\n",
    "\n",
    "# find roc curve for logisitic regression - All Features\n",
    "fpr_lr_af, tpr_lr_af, thresholds = roc_curve(y_train, y_score_lr_af)\n",
    "\n",
    "# find roc curve for logisitic regression - Selected Features\n",
    "fpr_lr_fs, tpr_lr_fs, thresholds = roc_curve(y_train, y_score_lr_fs)\n",
    "\n",
    "# find roc curve for Random Forest - Selected Features\n",
    "fpr_rf_fs, tpr_rf_fs, thresholds = roc_curve(y_train, y_score_rf_fs)\n",
    "\n",
    "# find roc curve for Random Forest - Selected Features, balanced\n",
    "fpr_rf_fs_bal, tpr_rf_fs_bal, thresholds = roc_curve(y_train_rf_bal, y_score_rf_fs_bal)\n",
    "\n",
    "# plot ROC curve & 50% line\n",
    "plt.plot(fpr_lr_fe, tpr_lr_fe, label='(LR) Engineered Features')\n",
    "plt.plot(fpr_lr_af, tpr_lr_af, label='(LR) All Features')\n",
    "plt.plot(fpr_lr_fs, tpr_lr_fs, label='(LR) Selected Features')\n",
    "plt.plot(fpr_rf_fs, tpr_rf_fs, label='(RF) Selected Features')\n",
    "plt.plot(fpr_rf_fs_bal, tpr_rf_fs_bal, label='(RF) Selected Features - Bal')\n",
    "\n",
    "plt.plot([0,1], [0,1], color='black')\n",
    "\n",
    "# set labels\n",
    "plt.xlabel('False Positive Rate')\n",
    "plt.ylabel('True Positive Rate')\n",
    "plt.title('ROC Curve')\n",
    "plt.legend()\n",
    "\n",
    "plt.savefig('../reports/figures/class_final_results.png')\n",
    "\n",
    "plt.show()"
   ]
  },
  {
   "cell_type": "markdown",
   "metadata": {},
   "source": [
    "## Conclusion\n",
    "\n",
    "We've taken steps throughout this notebook to improve performance of our model to predict Lending Club defaults.\n",
    "\n",
    "We've seen how using too few features can causes poor performance in a model.  We've also seen how model tuning can be used to reduce complexity and improve model performance.\n",
    "\n",
    "The roc auc score has been used as the benchmark score to evaluate model performance throughout this notebook.  Ultimately, our Random Forest classifier has out performed our Logistic Regression model - as displayed in the ROC curve above. \n",
    "\n",
    "This is likley due to the fact that Random Forests produces non-linear decision boundaries, whereas Logistic Regression produces a single linear decision boundary.  We also must note that balancing our class greatly improved our classification success, improving our Random Forest model to 97% during our last cross validation test. \n",
    "\n",
    "When investigating feature importances, we find the following information is most important when predicting defaults:\n",
    "* **delinq_2yrs**: The number of of 30+ days past-due incidences of delinquency in the borrower's credit in the past 2 years.\n",
    "* **open_acc**: The number of open credit lines in the borrower's credit file\n",
    "* **int_rate**: Interest rate on the loan\n",
    "* **term**: The number of payments on the loan (in months)\n",
    "* **mort_acc**: Number of mortgage accounts\n",
    "\n"
   ]
  },
  {
   "cell_type": "code",
   "execution_count": null,
   "metadata": {
    "collapsed": true
   },
   "outputs": [],
   "source": [
    " "
   ]
  }
 ],
 "metadata": {
  "kernelspec": {
   "display_name": "Python 3",
   "language": "python",
   "name": "python3"
  },
  "language_info": {
   "codemirror_mode": {
    "name": "ipython",
    "version": 3
   },
   "file_extension": ".py",
   "mimetype": "text/x-python",
   "name": "python",
   "nbconvert_exporter": "python",
   "pygments_lexer": "ipython3",
   "version": "3.6.0"
  }
 },
 "nbformat": 4,
 "nbformat_minor": 2
}
