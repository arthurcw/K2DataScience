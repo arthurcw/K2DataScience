{
 "cells": [
  {
   "cell_type": "markdown",
   "metadata": {},
   "source": [
    "# NYC MTA & Weather Data Analysis\n",
    "___"
   ]
  },
  {
   "cell_type": "markdown",
   "metadata": {},
   "source": [
    "With a cleaned MTA & weather dataset - let's bring them together to see what pleasant busy days look like in NYC."
   ]
  },
  {
   "cell_type": "code",
   "execution_count": 80,
   "metadata": {
    "collapsed": true
   },
   "outputs": [],
   "source": [
    "import pandas as pd\n",
    "import numpy as np\n",
    "import seaborn as sns\n",
    "import matplotlib.pyplot as plt\n",
    "import matplotlib.ticker as ticker\n",
    "from dateutil.parser import parse\n",
    "from matplotlib import dates"
   ]
  },
  {
   "cell_type": "markdown",
   "metadata": {},
   "source": [
    "## 1. Import our nyc_mta dataset"
   ]
  },
  {
   "cell_type": "code",
   "execution_count": 126,
   "metadata": {
    "collapsed": false
   },
   "outputs": [],
   "source": [
    "# import our nyc_mta data\n",
    "nyc_mta = pd.read_csv('./data/nyc_mta_pleasant_days.csv', parse_dates=['date'])"
   ]
  },
  {
   "cell_type": "code",
   "execution_count": 127,
   "metadata": {
    "collapsed": false
   },
   "outputs": [
    {
     "name": "stdout",
     "output_type": "stream",
     "text": [
      "<class 'pandas.core.frame.DataFrame'>\n",
      "RangeIndex: 42880 entries, 0 to 42879\n",
      "Data columns (total 7 columns):\n",
      "date               42880 non-null datetime64[ns]\n",
      "station            42880 non-null object\n",
      "line               42880 non-null object\n",
      "division           42880 non-null object\n",
      "index              42880 non-null int64\n",
      "daily_ridership    42880 non-null int64\n",
      "pleasant_day       42880 non-null bool\n",
      "dtypes: bool(1), datetime64[ns](1), int64(2), object(3)\n",
      "memory usage: 2.0+ MB\n"
     ]
    }
   ],
   "source": [
    "nyc_mta.info()"
   ]
  },
  {
   "cell_type": "markdown",
   "metadata": {},
   "source": [
    "We want to have a summarized ridership per day - let's group the dataframe to achieve this"
   ]
  },
  {
   "cell_type": "code",
   "execution_count": 128,
   "metadata": {
    "collapsed": false
   },
   "outputs": [],
   "source": [
    "# summarize by ridership\n",
    "nyc_mta_ridership = nyc_mta.groupby('date').daily_ridership.sum()\n",
    "nyc_mta_ridership = nyc_mta_ridership.to_frame('ridership')\n",
    "\n",
    "# summarize by pleasant day\n",
    "nyc_mta_pleasant_days = nyc_mta.groupby('date').pleasant_day.first()"
   ]
  },
  {
   "cell_type": "markdown",
   "metadata": {},
   "source": [
    "## 2. Import our pleasant day nyc_weather data"
   ]
  },
  {
   "cell_type": "code",
   "execution_count": 129,
   "metadata": {
    "collapsed": false
   },
   "outputs": [],
   "source": [
    "# import our weather data\n",
    "nyc_weather = pd.read_csv('./data/nyc_weather_pleasant_days.csv', index_col=[0,1])"
   ]
  },
  {
   "cell_type": "code",
   "execution_count": 130,
   "metadata": {
    "collapsed": false
   },
   "outputs": [
    {
     "name": "stdout",
     "output_type": "stream",
     "text": [
      "<class 'pandas.core.frame.DataFrame'>\n",
      "MultiIndex: 92 entries, (8, 1) to (10, 31)\n",
      "Data columns (total 6 columns):\n",
      "temp_max         92 non-null float64\n",
      "temp_min         92 non-null float64\n",
      "temp_avg         92 non-null float64\n",
      "precipitation    92 non-null float64\n",
      "month_day        92 non-null object\n",
      "pleasant_day     92 non-null bool\n",
      "dtypes: bool(1), float64(4), object(1)\n",
      "memory usage: 4.2+ KB\n"
     ]
    }
   ],
   "source": [
    "nyc_weather.info()"
   ]
  },
  {
   "cell_type": "code",
   "execution_count": 131,
   "metadata": {
    "collapsed": false
   },
   "outputs": [
    {
     "data": {
      "text/html": [
       "<div>\n",
       "<table border=\"1\" class=\"dataframe\">\n",
       "  <thead>\n",
       "    <tr style=\"text-align: right;\">\n",
       "      <th></th>\n",
       "      <th></th>\n",
       "      <th>temp_max</th>\n",
       "      <th>temp_min</th>\n",
       "      <th>temp_avg</th>\n",
       "      <th>precipitation</th>\n",
       "      <th>month_day</th>\n",
       "      <th>pleasant_day</th>\n",
       "    </tr>\n",
       "    <tr>\n",
       "      <th>month</th>\n",
       "      <th>day</th>\n",
       "      <th></th>\n",
       "      <th></th>\n",
       "      <th></th>\n",
       "      <th></th>\n",
       "      <th></th>\n",
       "      <th></th>\n",
       "    </tr>\n",
       "  </thead>\n",
       "  <tbody>\n",
       "    <tr>\n",
       "      <th rowspan=\"5\" valign=\"top\">8</th>\n",
       "      <th>1</th>\n",
       "      <td>84.333333</td>\n",
       "      <td>71.666667</td>\n",
       "      <td>78.000000</td>\n",
       "      <td>0.000000</td>\n",
       "      <td>Aug 01</td>\n",
       "      <td>True</td>\n",
       "    </tr>\n",
       "    <tr>\n",
       "      <th>2</th>\n",
       "      <td>80.666667</td>\n",
       "      <td>67.333333</td>\n",
       "      <td>74.000000</td>\n",
       "      <td>0.136667</td>\n",
       "      <td>Aug 02</td>\n",
       "      <td>False</td>\n",
       "    </tr>\n",
       "    <tr>\n",
       "      <th>3</th>\n",
       "      <td>82.000000</td>\n",
       "      <td>69.000000</td>\n",
       "      <td>75.500000</td>\n",
       "      <td>0.023333</td>\n",
       "      <td>Aug 03</td>\n",
       "      <td>True</td>\n",
       "    </tr>\n",
       "    <tr>\n",
       "      <th>4</th>\n",
       "      <td>84.666667</td>\n",
       "      <td>68.666667</td>\n",
       "      <td>76.666667</td>\n",
       "      <td>0.143333</td>\n",
       "      <td>Aug 04</td>\n",
       "      <td>False</td>\n",
       "    </tr>\n",
       "    <tr>\n",
       "      <th>5</th>\n",
       "      <td>86.666667</td>\n",
       "      <td>70.666667</td>\n",
       "      <td>78.666667</td>\n",
       "      <td>0.000000</td>\n",
       "      <td>Aug 05</td>\n",
       "      <td>True</td>\n",
       "    </tr>\n",
       "  </tbody>\n",
       "</table>\n",
       "</div>"
      ],
      "text/plain": [
       "            temp_max   temp_min   temp_avg  precipitation month_day  \\\n",
       "month day                                                             \n",
       "8     1    84.333333  71.666667  78.000000       0.000000    Aug 01   \n",
       "      2    80.666667  67.333333  74.000000       0.136667    Aug 02   \n",
       "      3    82.000000  69.000000  75.500000       0.023333    Aug 03   \n",
       "      4    84.666667  68.666667  76.666667       0.143333    Aug 04   \n",
       "      5    86.666667  70.666667  78.666667       0.000000    Aug 05   \n",
       "\n",
       "          pleasant_day  \n",
       "month day               \n",
       "8     1           True  \n",
       "      2          False  \n",
       "      3           True  \n",
       "      4          False  \n",
       "      5           True  "
      ]
     },
     "execution_count": 131,
     "metadata": {},
     "output_type": "execute_result"
    }
   ],
   "source": [
    "nyc_weather.head()"
   ]
  },
  {
   "cell_type": "markdown",
   "metadata": {},
   "source": [
    "We currently have the month/date within the nyc_weather dataframe.  Let's convert that to an actual datetime value"
   ]
  },
  {
   "cell_type": "code",
   "execution_count": 132,
   "metadata": {
    "collapsed": false
   },
   "outputs": [
    {
     "name": "stdout",
     "output_type": "stream",
     "text": [
      "<class 'pandas.core.frame.DataFrame'>\n",
      "DatetimeIndex: 92 entries, 2016-08-01 to 2016-10-31\n",
      "Data columns (total 6 columns):\n",
      "temp_max         92 non-null float64\n",
      "temp_min         92 non-null float64\n",
      "temp_avg         92 non-null float64\n",
      "precipitation    92 non-null float64\n",
      "month_day        92 non-null object\n",
      "pleasant_day     92 non-null bool\n",
      "dtypes: bool(1), float64(4), object(1)\n",
      "memory usage: 4.4+ KB\n"
     ]
    }
   ],
   "source": [
    "# let's convert the date into an acutal datetime \n",
    "nyc_weather['date'] = [parse(date + ' 2016') for date in nyc_weather['month_day']]\n",
    "nyc_weather.set_index('date', inplace=True)\n",
    "nyc_weather.info()"
   ]
  },
  {
   "cell_type": "code",
   "execution_count": 133,
   "metadata": {
    "collapsed": false
   },
   "outputs": [
    {
     "data": {
      "text/html": [
       "<div>\n",
       "<table border=\"1\" class=\"dataframe\">\n",
       "  <thead>\n",
       "    <tr style=\"text-align: right;\">\n",
       "      <th></th>\n",
       "      <th>temp_max</th>\n",
       "      <th>temp_min</th>\n",
       "      <th>temp_avg</th>\n",
       "      <th>precipitation</th>\n",
       "      <th>month_day</th>\n",
       "      <th>pleasant_day</th>\n",
       "    </tr>\n",
       "    <tr>\n",
       "      <th>date</th>\n",
       "      <th></th>\n",
       "      <th></th>\n",
       "      <th></th>\n",
       "      <th></th>\n",
       "      <th></th>\n",
       "      <th></th>\n",
       "    </tr>\n",
       "  </thead>\n",
       "  <tbody>\n",
       "    <tr>\n",
       "      <th>2016-08-01</th>\n",
       "      <td>84.333333</td>\n",
       "      <td>71.666667</td>\n",
       "      <td>78.000000</td>\n",
       "      <td>0.000000</td>\n",
       "      <td>Aug 01</td>\n",
       "      <td>True</td>\n",
       "    </tr>\n",
       "    <tr>\n",
       "      <th>2016-08-02</th>\n",
       "      <td>80.666667</td>\n",
       "      <td>67.333333</td>\n",
       "      <td>74.000000</td>\n",
       "      <td>0.136667</td>\n",
       "      <td>Aug 02</td>\n",
       "      <td>False</td>\n",
       "    </tr>\n",
       "    <tr>\n",
       "      <th>2016-08-03</th>\n",
       "      <td>82.000000</td>\n",
       "      <td>69.000000</td>\n",
       "      <td>75.500000</td>\n",
       "      <td>0.023333</td>\n",
       "      <td>Aug 03</td>\n",
       "      <td>True</td>\n",
       "    </tr>\n",
       "    <tr>\n",
       "      <th>2016-08-04</th>\n",
       "      <td>84.666667</td>\n",
       "      <td>68.666667</td>\n",
       "      <td>76.666667</td>\n",
       "      <td>0.143333</td>\n",
       "      <td>Aug 04</td>\n",
       "      <td>False</td>\n",
       "    </tr>\n",
       "    <tr>\n",
       "      <th>2016-08-05</th>\n",
       "      <td>86.666667</td>\n",
       "      <td>70.666667</td>\n",
       "      <td>78.666667</td>\n",
       "      <td>0.000000</td>\n",
       "      <td>Aug 05</td>\n",
       "      <td>True</td>\n",
       "    </tr>\n",
       "  </tbody>\n",
       "</table>\n",
       "</div>"
      ],
      "text/plain": [
       "             temp_max   temp_min   temp_avg  precipitation month_day  \\\n",
       "date                                                                   \n",
       "2016-08-01  84.333333  71.666667  78.000000       0.000000    Aug 01   \n",
       "2016-08-02  80.666667  67.333333  74.000000       0.136667    Aug 02   \n",
       "2016-08-03  82.000000  69.000000  75.500000       0.023333    Aug 03   \n",
       "2016-08-04  84.666667  68.666667  76.666667       0.143333    Aug 04   \n",
       "2016-08-05  86.666667  70.666667  78.666667       0.000000    Aug 05   \n",
       "\n",
       "           pleasant_day  \n",
       "date                     \n",
       "2016-08-01         True  \n",
       "2016-08-02        False  \n",
       "2016-08-03         True  \n",
       "2016-08-04        False  \n",
       "2016-08-05         True  "
      ]
     },
     "execution_count": 133,
     "metadata": {},
     "output_type": "execute_result"
    }
   ],
   "source": [
    "nyc_weather.head()"
   ]
  },
  {
   "cell_type": "code",
   "execution_count": 135,
   "metadata": {
    "collapsed": true
   },
   "outputs": [],
   "source": [
    "# Summarize by pleasant days\n",
    "nyc_weather_pleasant_days = nyc_weather[nyc_weather.pleasant_day == True]"
   ]
  },
  {
   "cell_type": "markdown",
   "metadata": {},
   "source": [
    "## 3. Explore MTA vs Weather datasets"
   ]
  },
  {
   "cell_type": "code",
   "execution_count": 136,
   "metadata": {
    "collapsed": true
   },
   "outputs": [],
   "source": [
    "# merge the datasets together\n",
    "nyc_mta_weather = pd.merge(nyc_weather, nyc_mta_ridership, left_index=True, right_index=True, how='left')\n",
    "\n",
    "# select only the columns we need\n",
    "nyc_mta_weather = nyc_mta_weather[['temp_avg', 'precipitation', 'ridership', 'month_day']]"
   ]
  },
  {
   "cell_type": "code",
   "execution_count": 137,
   "metadata": {
    "collapsed": false
   },
   "outputs": [
    {
     "data": {
      "text/html": [
       "<div>\n",
       "<table border=\"1\" class=\"dataframe\">\n",
       "  <thead>\n",
       "    <tr style=\"text-align: right;\">\n",
       "      <th></th>\n",
       "      <th>temp_avg</th>\n",
       "      <th>precipitation</th>\n",
       "      <th>ridership</th>\n",
       "      <th>month_day</th>\n",
       "    </tr>\n",
       "    <tr>\n",
       "      <th>date</th>\n",
       "      <th></th>\n",
       "      <th></th>\n",
       "      <th></th>\n",
       "      <th></th>\n",
       "    </tr>\n",
       "  </thead>\n",
       "  <tbody>\n",
       "    <tr>\n",
       "      <th>2016-08-01</th>\n",
       "      <td>78.000000</td>\n",
       "      <td>0.000000</td>\n",
       "      <td>5172413.0</td>\n",
       "      <td>Aug 01</td>\n",
       "    </tr>\n",
       "    <tr>\n",
       "      <th>2016-08-02</th>\n",
       "      <td>74.000000</td>\n",
       "      <td>0.136667</td>\n",
       "      <td>5542629.0</td>\n",
       "      <td>Aug 02</td>\n",
       "    </tr>\n",
       "    <tr>\n",
       "      <th>2016-08-03</th>\n",
       "      <td>75.500000</td>\n",
       "      <td>0.023333</td>\n",
       "      <td>5687754.0</td>\n",
       "      <td>Aug 03</td>\n",
       "    </tr>\n",
       "    <tr>\n",
       "      <th>2016-08-04</th>\n",
       "      <td>76.666667</td>\n",
       "      <td>0.143333</td>\n",
       "      <td>5673306.0</td>\n",
       "      <td>Aug 04</td>\n",
       "    </tr>\n",
       "    <tr>\n",
       "      <th>2016-08-05</th>\n",
       "      <td>78.666667</td>\n",
       "      <td>0.000000</td>\n",
       "      <td>5456328.0</td>\n",
       "      <td>Aug 05</td>\n",
       "    </tr>\n",
       "  </tbody>\n",
       "</table>\n",
       "</div>"
      ],
      "text/plain": [
       "             temp_avg  precipitation  ridership month_day\n",
       "date                                                     \n",
       "2016-08-01  78.000000       0.000000  5172413.0    Aug 01\n",
       "2016-08-02  74.000000       0.136667  5542629.0    Aug 02\n",
       "2016-08-03  75.500000       0.023333  5687754.0    Aug 03\n",
       "2016-08-04  76.666667       0.143333  5673306.0    Aug 04\n",
       "2016-08-05  78.666667       0.000000  5456328.0    Aug 05"
      ]
     },
     "execution_count": 137,
     "metadata": {},
     "output_type": "execute_result"
    }
   ],
   "source": [
    "nyc_mta_weather.head()"
   ]
  },
  {
   "cell_type": "code",
   "execution_count": 139,
   "metadata": {
    "collapsed": true
   },
   "outputs": [],
   "source": [
    "# let's build a correlation to see if we have any data related\n",
    "nyc_mta_weather.dropna(axis=0, how='any', inplace=True)\n",
    "\n",
    "# drop the 'month_day' column as we don't need it\n",
    "c=nyc_mta_weather[['temp_avg', 'precipitation', 'ridership']]"
   ]
  },
  {
   "cell_type": "code",
   "execution_count": 236,
   "metadata": {
    "collapsed": false
   },
   "outputs": [
    {
     "data": {
      "image/png": "[encoded data removed]",
      "text/plain": [
       "<matplotlib.figure.Figure at 0x11c027550>"
      ]
     },
     "metadata": {},
     "output_type": "display_data"
    }
   ],
   "source": [
    "# builder the correlation\n",
    "corr = c.corr()\n",
    "\n",
    "# Set up the matplotlib figure\n",
    "fig, ax = plt.subplots(figsize=(8, 6))\n",
    "\n",
    "# Generate a custom diverging colormap\n",
    "cmap = sns.diverging_palette(220, 10, as_cmap=True)\n",
    "\n",
    "# Draw the heatmap\n",
    "sns.heatmap(corr, cmap=cmap, vmax=.5, center=0,\n",
    "            square=True, linewidths=.5)\n",
    "\n",
    "fig.savefig('./figures/nyc_weather_corr')\n",
    "plt.show()"
   ]
  },
  {
   "cell_type": "markdown",
   "metadata": {},
   "source": [
    "Based on the correlation, we can see that \n",
    "* Ridership is slightly negatively correlated to temperature (meaning as temperature decreases, ridership increases)\n",
    "* Ridership is also slightly negatively correlated to precipitation (meaning as precipitation descreases, ridership increases - we shouldn't read into this too deeply - I believe the large number of days with no precipitation impacts this correlation.  We also see that precipitation can happen on warm days as well - which drives down ridership.)\n",
    "\n",
    "To recap - we've identified pleasant days as being\n",
    "* Tuesday, Wednesday, Thrusday, Friday\n",
    "* Average temperature >= 60F\n",
    "* Precipitation < 0.5 mm\n",
    "\n",
    "Combining all of this data together - we can see a graph below summarizing pleasant days and the ridership associated to those days.  In total, we have 29 days of pleasant weather.  "
   ]
  },
  {
   "cell_type": "code",
   "execution_count": 173,
   "metadata": {
    "collapsed": false
   },
   "outputs": [],
   "source": [
    "# find the pleasant days in our MTA dataset\n",
    "mta_pleasant_days_list = list(nyc_mta_pleasant_days[nyc_mta_pleasant_days == True].index)\n",
    "\n",
    "# find the pleasant days in our weather dataset that overlap with the mta pleasant days\n",
    "mta_weather_pleasant_days = nyc_weather_pleasant_days[nyc_weather_pleasant_days.index.isin(mta_pleasant_days_list)]\n",
    "\n",
    "# find the unpleasant days in our weather dataset\n",
    "mta_weather_unpleasant_days = nyc_mta_weather[~nyc_mta_weather.index.isin(list(mta_weather_pleasant_days.index))]"
   ]
  },
  {
   "cell_type": "code",
   "execution_count": 183,
   "metadata": {
    "collapsed": false
   },
   "outputs": [
    {
     "data": {
      "image/png": "[encoded data removed]",
      "text/plain": [
       "<matplotlib.figure.Figure at 0x11bd067f0>"
      ]
     },
     "metadata": {},
     "output_type": "display_data"
    }
   ],
   "source": [
    "# setup the plot\n",
    "fig, ax = plt.subplots(figsize=(15,6)) \n",
    "\n",
    "# find the plot for ridership\n",
    "x_r = dates.date2num([datetime.strptime(d, '%b %d') for d in nyc_mta_weather.month_day])\n",
    "y_r = nyc_mta_weather.ridership\n",
    "\n",
    "# find the pleasant days\n",
    "x_p = dates.date2num([datetime.strptime(d, '%b %d') for d in mta_weather_pleasant_days.month_day])\n",
    "y_p = mta_weather_pleasant_days.temp_avg\n",
    "\n",
    "# find the unpleasant days\n",
    "x_up = dates.date2num([datetime.strptime(d, '%b %d') for d in mta_weather_unpleasant_days.month_day])\n",
    "y_up = mta_weather_unpleasant_days.temp_avg\n",
    "\n",
    "# find the temp data\n",
    "x_t = dates.date2num([datetime.strptime(d, '%b %d') for d in nyc_mta_weather.month_day])\n",
    "y_t = nyc_mta_weather.temp_avg\n",
    "\n",
    "# plot ridership\n",
    "ax.bar(x_r, y_r, alpha=0.8, label='Ridership', width=1, color='y')\n",
    "\n",
    "# create 2nd axis and plot avg temperature\n",
    "ax2 = ax.twinx()\n",
    "ax2.plot(x_t, y_t, alpha=0.8, label='Avg Temperature')\n",
    "ax2.grid(False)\n",
    "\n",
    "# add our pleasant/unpleasant days to the 2nd axis\n",
    "ax2.scatter(x_p, y_p, alpha=0.7, label='Pleasant Days', color='g')\n",
    "ax2.scatter(x_up, y_up, alpha=0.7, label='Unpleasant Days', color='r')\n",
    "\n",
    "# setup our xaxis labels\n",
    "date_formatter = dates.DateFormatter('%b %d')\n",
    "ax.xaxis.set_major_formatter(date_formatter)\n",
    "ax.xaxis.set_major_locator(ticker.LinearLocator())\n",
    "\n",
    "# set the y axis ticks\n",
    "start, end = ax.get_ylim()\n",
    "ax.yaxis.set_major_formatter(ticker.FuncFormatter(lambda x, p: format(int(x), ',')))\n",
    "\n",
    "# set the labels\n",
    "plt.title('NYC Ridership vs Temperature')\n",
    "ax.set_ylabel('Ridership')\n",
    "ax.set_xlabel('Date')\n",
    "ax2.set_ylabel('Temperature (F)', rotation=270, labelpad=15)\n",
    "\n",
    "ax.legend(loc=2)\n",
    "ax2.legend(loc=1)\n",
    "\n",
    "fig.savefig('./figures/nyc_weather_mta_pleasant_days')\n",
    "plt.show()"
   ]
  },
  {
   "cell_type": "markdown",
   "metadata": {},
   "source": [
    "## 4. Conclusions"
   ]
  },
  {
   "cell_type": "markdown",
   "metadata": {},
   "source": [
    "Knowing this, how can we apply this to predicting days for 2017?\n",
    "\n",
    "* For busy days - we know that we want to keep only Tuesdays, Wednesdays, Thursdays, Fridays.  \n",
    "* For pleasant days - we can compare to our list of historically pleasant days.\n",
    "\n",
    "This should give us our list of pleasant busy days in 2017"
   ]
  },
  {
   "cell_type": "code",
   "execution_count": 212,
   "metadata": {
    "collapsed": false
   },
   "outputs": [],
   "source": [
    "# create days in 2017 Aug - October\n",
    "datelist = pd.date_range('2017-8-1', periods=92)\n",
    "\n",
    "# filter out Saturday, Sunday, Monday\n",
    "days = [d for d in datelist if d.dayofweek in [1,2,3,4]]\n",
    "\n",
    "# find the historically pleasant days\n",
    "historically_pleasant_days = list(nyc_weather_pleasant_days.index)\n",
    "\n",
    "# compare 2017 days to see if they were pleasant in our historically pleasant days\n",
    "pleasant_days_2017 = [d for d in days if d.replace(year=2016) in historically_pleasant_days]\n"
   ]
  },
  {
   "cell_type": "markdown",
   "metadata": {},
   "source": [
    "**How many pleasant days do we have in 2017?**"
   ]
  },
  {
   "cell_type": "code",
   "execution_count": 214,
   "metadata": {
    "collapsed": false
   },
   "outputs": [
    {
     "data": {
      "text/plain": [
       "30"
      ]
     },
     "execution_count": 214,
     "metadata": {},
     "output_type": "execute_result"
    }
   ],
   "source": [
    "len(pleasant_days_2017)"
   ]
  },
  {
   "cell_type": "markdown",
   "metadata": {},
   "source": [
    "**What days should be pleasant and busy in 2017?**"
   ]
  },
  {
   "cell_type": "code",
   "execution_count": 219,
   "metadata": {
    "collapsed": false
   },
   "outputs": [
    {
     "name": "stdout",
     "output_type": "stream",
     "text": [
      "Tue Aug 01 2017\n",
      "Thu Aug 03 2017\n",
      "Tue Aug 08 2017\n",
      "Wed Aug 09 2017\n",
      "Thu Aug 10 2017\n",
      "Tue Aug 15 2017\n",
      "Wed Aug 16 2017\n",
      "Thu Aug 17 2017\n",
      "Tue Aug 22 2017\n",
      "Wed Aug 23 2017\n",
      "Thu Aug 24 2017\n",
      "Fri Aug 25 2017\n",
      "Tue Aug 29 2017\n",
      "Wed Aug 30 2017\n",
      "Tue Sep 05 2017\n",
      "Wed Sep 06 2017\n",
      "Thu Sep 07 2017\n",
      "Fri Sep 08 2017\n",
      "Fri Sep 15 2017\n",
      "Wed Sep 20 2017\n",
      "Thu Sep 21 2017\n",
      "Fri Sep 22 2017\n",
      "Tue Sep 26 2017\n",
      "Thu Sep 28 2017\n",
      "Fri Sep 29 2017\n",
      "Fri Oct 06 2017\n",
      "Thu Oct 12 2017\n",
      "Fri Oct 13 2017\n",
      "Tue Oct 17 2017\n",
      "Wed Oct 18 2017\n"
     ]
    }
   ],
   "source": [
    "for d in pleasant_days_2017:\n",
    "    print(d.strftime('%a %b %d %Y'))"
   ]
  },
  {
   "cell_type": "code",
   "execution_count": null,
   "metadata": {
    "collapsed": true
   },
   "outputs": [],
   "source": []
  }
 ],
 "metadata": {
  "kernelspec": {
   "display_name": "Python 3",
   "language": "python",
   "name": "python3"
  },
  "language_info": {
   "codemirror_mode": {
    "name": "ipython",
    "version": 3
   },
   "file_extension": ".py",
   "mimetype": "text/x-python",
   "name": "python",
   "nbconvert_exporter": "python",
   "pygments_lexer": "ipython3",
   "version": "3.6.0"
  }
 },
 "nbformat": 4,
 "nbformat_minor": 2
}
